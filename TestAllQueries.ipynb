{
 "cells": [
  {
   "cell_type": "code",
   "execution_count": 1,
   "metadata": {
    "collapsed": false,
    "deletable": true,
    "editable": true
   },
   "outputs": [],
   "source": [
    "import json\n",
    "import os\n",
    "import itertools\n",
    "import requests\n",
    "import sqlparse\n",
    "import re\n",
    "from IPython.display import HTML, display\n",
    "import tabulate\n",
    "import urllib.parse"
   ]
  },
  {
   "cell_type": "code",
   "execution_count": 2,
   "metadata": {
    "collapsed": true,
    "deletable": true,
    "editable": true
   },
   "outputs": [],
   "source": [
    "def get_doc_id(doc_id):\n",
    "    doc_id = urllib.parse.quote(doc_id)\n",
    "    url = 'https://next.obudget.org/get/'+doc_id\n",
    "    print('Getting', url)\n",
    "    ret = requests.get(url).json()['value']\n",
    "    assert 'page_title' in ret, repr(ret)\n",
    "    return ret"
   ]
  },
  {
   "cell_type": "code",
   "execution_count": 3,
   "metadata": {
    "collapsed": false,
    "deletable": true,
    "editable": true
   },
   "outputs": [],
   "source": [
    "def get_table(query, headers, formatters):\n",
    "    resp = requests.get('https://next.obudget.org/api/query', params={'query': query})\n",
    "    if resp.status_code != 200:\n",
    "        raise ValueError(resp.content)\n",
    "    table = resp.json()\n",
    "    rows = table['rows']\n",
    "    ret = []\n",
    "    if len(rows)>0:\n",
    "        ret.append(headers)\n",
    "        ret.extend([[f(x) for f in formatters] for x in rows][:3])\n",
    "    return ret + [['Total', table['total']]]"
   ]
  },
  {
   "cell_type": "code",
   "execution_count": 4,
   "metadata": {
    "collapsed": false,
    "deletable": true,
    "editable": true
   },
   "outputs": [],
   "source": [
    "def questions():\n",
    "    base = 'app/descriptors'\n",
    "    tgt = re.compile('questions.*\\.json')\n",
    "    for root, dirs, fnames in os.walk(base):\n",
    "        for f in fnames:\n",
    "            if tgt.match(f):\n",
    "                yield root.replace(base + '/', ''), os.path.join(root, f)"
   ]
  },
  {
   "cell_type": "code",
   "execution_count": 5,
   "metadata": {
    "collapsed": false,
    "deletable": true,
    "editable": true
   },
   "outputs": [],
   "source": [
    "def parsed_questions():\n",
    "    for q in questions():\n",
    "        print(q)\n",
    "        qq = json.load(open(q[1]))\n",
    "        for qqq in qq:\n",
    "            yield q[0], qqq"
   ]
  },
  {
   "cell_type": "code",
   "execution_count": 6,
   "metadata": {
    "collapsed": false,
    "deletable": true,
    "editable": true
   },
   "outputs": [],
   "source": [
    "def parameters(q):\n",
    "    p = q.get('parameters', {})\n",
    "    keys = p.keys()\n",
    "    values = [list(p[k].items()) for k in keys]\n",
    "    return (zip(keys, prod) for prod in itertools.product(*values))"
   ]
  },
  {
   "cell_type": "code",
   "execution_count": 22,
   "metadata": {
    "collapsed": false,
    "deletable": true,
    "editable": true
   },
   "outputs": [],
   "source": [
    "DOC_IDS = [\n",
    "    ('budget', [\n",
    "        'budget/C1/2019',\n",
    "        'budget/C222/2019',        \n",
    "        'budget/0020/2019',\n",
    "        'budget/0000/2019',\n",
    "        'budget/002043/2019',\n",
    "        'budget/00204301/2019',\n",
    "        'budget/0020430101/2019',\n",
    "    ]),\n",
    "    ('supports', [\n",
    "        'supports/0020460604/2016/עירית רחובות/הקצבות'\n",
    "    ]),\n",
    "    ('org', [\n",
    "        'org/company/520039710'\n",
    "    ]),\n",
    "    ('contract-spending', [\n",
    "        'contract-spending/משרד האוצר/4501287236/0083050502',\n",
    "        'contract-spending/שירות בתי הסוהר/4501041809/0052400102',\n",
    "    ]),\n",
    "    ('budget-changes', [\n",
    "        'national-budget-changes/2015/26-004'\n",
    "    ]),\n",
    "    ('tenders/exemptions', [\n",
    "        'tenders/exemptions/31252/none'\n",
    "    ])\n",
    "]"
   ]
  },
  {
   "cell_type": "code",
   "execution_count": 23,
   "metadata": {
    "collapsed": true,
    "deletable": true,
    "editable": true
   },
   "outputs": [],
   "source": [
    "def formatter(mod, h):\n",
    "    def _f(x, row):\n",
    "        return str(x) + ' + ' + mod\n",
    "    return _f"
   ]
  },
  {
   "cell_type": "code",
   "execution_count": 24,
   "metadata": {
    "collapsed": true,
    "deletable": true,
    "editable": true
   },
   "outputs": [],
   "source": [
    "def compose(f, g):\n",
    "    def _f(x, row):\n",
    "        return g(f(x, row), row)\n",
    "    return _f"
   ]
  },
  {
   "cell_type": "code",
   "execution_count": 25,
   "metadata": {
    "collapsed": true,
    "deletable": true,
    "editable": true
   },
   "outputs": [],
   "source": [
    "def getter(h):\n",
    "    hdr = h\n",
    "    def _f(x, row):\n",
    "        return row[hdr]\n",
    "    return _f"
   ]
  },
  {
   "cell_type": "code",
   "execution_count": 26,
   "metadata": {
    "collapsed": true,
    "deletable": true,
    "editable": true
   },
   "outputs": [],
   "source": [
    "def wrapper(f):\n",
    "    def _f(row):\n",
    "        return f('', row)\n",
    "    return _f"
   ]
  },
  {
   "cell_type": "code",
   "execution_count": 31,
   "metadata": {
    "collapsed": false,
    "deletable": true,
    "editable": true
   },
   "outputs": [],
   "source": [
    "PARAM = re.compile(':([a-z()_]+)$')\n",
    "\n",
    "def parse_headers(headers):\n",
    "    _headers = []\n",
    "    _formatters = []\n",
    "    for h in headers:\n",
    "        matches = PARAM.findall(h)\n",
    "        funcs = []\n",
    "        while len(matches)>0:\n",
    "            mod = matches[0]\n",
    "            h = h[:-(len(mod)+1)]\n",
    "            funcs.append(formatter(mod, h))\n",
    "            matches = PARAM.findall(h)\n",
    "        f = getter(h)\n",
    "        for g in funcs:\n",
    "            f = compose(f, g)\n",
    "        k = wrapper(f)\n",
    "        _formatters.append(k)\n",
    "        _headers.append(h)\n",
    "    return _headers, _formatters\n",
    "        \n",
    "    "
   ]
  },
  {
   "cell_type": "code",
   "execution_count": 33,
   "metadata": {
    "collapsed": false,
    "deletable": true,
    "editable": true,
    "scrolled": false
   },
   "outputs": [
    {
     "name": "stdout",
     "output_type": "stream",
     "text": [
      "('budget', 'app/descriptors/budget/questions.json')\n",
      "('budget', 'app/descriptors/budget/questions.spending.json')\n",
      "('budget-changes', 'app/descriptors/budget-changes/questions.json')\n",
      "('contract-spending', 'app/descriptors/contract-spending/questions.json')\n",
      "('org', 'app/descriptors/org/questions.json')\n",
      "('people', 'app/descriptors/people/questions.json')\n",
      "('reports/ngo-activity-report', 'app/descriptors/reports/ngo-activity-report/questions.json')\n",
      "('reports/ngo-district-report', 'app/descriptors/reports/ngo-district-report/questions.json')\n",
      "('supports', 'app/descriptors/supports/questions.json')\n",
      "('tenders/central', 'app/descriptors/tenders/central/questions.json')\n",
      "('tenders/exemptions', 'app/descriptors/tenders/exemptions/questions.json')\n",
      "('tenders/office', 'app/descriptors/tenders/office/questions.json')\n",
      "('tenders.old/central', 'app/descriptors/tenders.old/central/questions.json')\n",
      "('tenders.old/exemptions', 'app/descriptors/tenders.old/exemptions/questions.json')\n",
      "('tenders.old/office', 'app/descriptors/tenders.old/office/questions.json')\n",
      "---------------------\n",
      "('budget', 'app/descriptors/budget/questions.json')\n",
      "('budget', 'app/descriptors/budget/questions.spending.json')\n",
      "('budget-changes', 'app/descriptors/budget-changes/questions.json')\n",
      "('contract-spending', 'app/descriptors/contract-spending/questions.json')\n",
      "Getting https://next.obudget.org/get/contract-spending/%D7%9E%D7%A9%D7%A8%D7%93%20%D7%94%D7%90%D7%95%D7%A6%D7%A8/4501287236/0083050502\n"
     ]
    },
    {
     "data": {
      "text/html": [
       "<h3>(contract-spending) שירותי אירוח שרתים: כל ההתקשרויות במצב פעיל עם אותו הספק מ-2015</h3>"
      ],
      "text/plain": [
       "<IPython.core.display.HTML object>"
      ]
     },
     "metadata": {},
     "output_type": "display_data"
    },
    {
     "data": {
      "text/html": [
       "<pre>SELECT coalesce(entity_name, supplier_name->>0) AS \"שם הספק\",\n",
       "       entity_id,\n",
       "       purpose AS \"כותרת התקשרות\",\n",
       "       publisher_name AS \"הגורם המזמין\",\n",
       "       purchase_method->>0 AS \"סוג הרכש\",\n",
       "                         contract_is_active AS \"סטטוס התקשרות\",\n",
       "                         volume AS \"סכום שאושר\",\n",
       "                         executed AS \"סכום ששולם\",\n",
       "                         currency AS \"מטבע\",\n",
       "                         order_date AS \"תאריך הזמנה\",\n",
       "                         payments->-1->>'date' AS \"תאריך עדכון\"\n",
       "FROM contract_spending\n",
       "WHERE (entity_id = '513049759')\n",
       "  AND contract_is_active\n",
       "  AND min_year = 2015</pre>"
      ],
      "text/plain": [
       "<IPython.core.display.HTML object>"
      ]
     },
     "metadata": {},
     "output_type": "display_data"
    },
    {
     "data": {
      "text/html": [
       "<table>\n",
       "<tbody>\n",
       "<tr><td>שם הספק          </td><td>כותרת התקשרות                           </td><td>הגורם המזמין                             </td><td>סוג הרכש             </td><td>סטטוס התקשרות</td><td>סכום שאושר        </td><td>סכום ששולם        </td><td>מטבע</td><td>תאריך הזמנה</td><td>תאריך עדכון</td></tr>\n",
       "<tr><td>אינטרנט בינת בע\"מ</td><td>התקנה ותחזוקה של כלובים  אתר כלים שלובים</td><td>רשות האכיפה והגבייה                      </td><td>תקנה 14ב - מכרז מרכזי</td><td>True         </td><td>720883.78 + number</td><td>635242.2 + number </td><td>ILS </td><td>2015-04-21 </td><td>2018-07-11 </td></tr>\n",
       "<tr><td>אינטרנט בינת בע\"מ</td><td>תשלום חשמל                              </td><td>רשות האוכלוסין וההגירה                   </td><td>תקנה 14ב - מכרז מרכזי</td><td>True         </td><td>339300.0 + number </td><td>0.0 + number      </td><td>ILS </td><td>2015-11-11 </td><td>2018-07-23 </td></tr>\n",
       "<tr><td>אינטרנט בינת בע\"מ</td><td>אירוח DRP                               </td><td>החטיבה להתיישבות בהסתדרות הציונית העולמית</td><td>תקנה 14ב - מכרז מרכזי</td><td>True         </td><td>195290.88 + number</td><td>175933.42 + number</td><td>ILS </td><td>2015-11-30 </td><td>2018-02-19 </td></tr>\n",
       "<tr><td>Total            </td><td>8                                       </td><td>                                         </td><td>                     </td><td>             </td><td>                  </td><td>                  </td><td>    </td><td>           </td><td>           </td></tr>\n",
       "</tbody>\n",
       "</table>"
      ],
      "text/plain": [
       "<IPython.core.display.HTML object>"
      ]
     },
     "metadata": {},
     "output_type": "display_data"
    },
    {
     "data": {
      "text/html": [
       "<h3>(contract-spending) שירותי אירוח שרתים: כל ההתקשרויות במצב פעיל עם אותו הספק מ-2016</h3>"
      ],
      "text/plain": [
       "<IPython.core.display.HTML object>"
      ]
     },
     "metadata": {},
     "output_type": "display_data"
    },
    {
     "data": {
      "text/html": [
       "<pre>SELECT coalesce(entity_name, supplier_name->>0) AS \"שם הספק\",\n",
       "       entity_id,\n",
       "       purpose AS \"כותרת התקשרות\",\n",
       "       publisher_name AS \"הגורם המזמין\",\n",
       "       purchase_method->>0 AS \"סוג הרכש\",\n",
       "                         contract_is_active AS \"סטטוס התקשרות\",\n",
       "                         volume AS \"סכום שאושר\",\n",
       "                         executed AS \"סכום ששולם\",\n",
       "                         currency AS \"מטבע\",\n",
       "                         order_date AS \"תאריך הזמנה\",\n",
       "                         payments->-1->>'date' AS \"תאריך עדכון\"\n",
       "FROM contract_spending\n",
       "WHERE (entity_id = '513049759')\n",
       "  AND contract_is_active\n",
       "  AND min_year = 2016</pre>"
      ],
      "text/plain": [
       "<IPython.core.display.HTML object>"
      ]
     },
     "metadata": {},
     "output_type": "display_data"
    },
    {
     "data": {
      "text/html": [
       "<table>\n",
       "<tbody>\n",
       "<tr><td>שם הספק          </td><td>כותרת התקשרות     </td><td>הגורם המזמין         </td><td>סוג הרכש             </td><td>סטטוס התקשרות</td><td>סכום שאושר        </td><td>סכום ששולם       </td><td>מטבע</td><td>תאריך הזמנה</td><td>תאריך עדכון</td></tr>\n",
       "<tr><td>אינטרנט בינת בע\"מ</td><td>לשימוש המשרד לבט\"פ</td><td>המשרד לביטחון הפנים  </td><td>תקנה 14ב - מכרז מרכזי</td><td>True         </td><td>507247.69 + number</td><td>333174.4 + number</td><td>ILS </td><td>2016-03-16 </td><td>2018-06-07 </td></tr>\n",
       "<tr><td>אינטרנט בינת בע\"מ</td><td>שירות תחזוקה      </td><td>רשות המים והביוב     </td><td>תקנה 14ב - מכרז מרכזי</td><td>True         </td><td>208241.28 + number</td><td>55184.14 + number</td><td>ILS </td><td>2016-11-21 </td><td>2018-01-23 </td></tr>\n",
       "<tr><td>אינטרנט בינת בע\"מ</td><td>שוטף              </td><td>משרד המדע והטכנולוגיה</td><td>תקנה 14ב - מכרז מרכזי</td><td>True         </td><td>73168.92 + number </td><td>68187.04 + number</td><td>ILS </td><td>2016-11-28 </td><td>2018-07-16 </td></tr>\n",
       "<tr><td>Total            </td><td>9                 </td><td>                     </td><td>                     </td><td>             </td><td>                  </td><td>                 </td><td>    </td><td>           </td><td>           </td></tr>\n",
       "</tbody>\n",
       "</table>"
      ],
      "text/plain": [
       "<IPython.core.display.HTML object>"
      ]
     },
     "metadata": {},
     "output_type": "display_data"
    },
    {
     "data": {
      "text/html": [
       "<h3>(contract-spending) שירותי אירוח שרתים: כל ההתקשרויות במצב פעיל עם אותו הספק מ-2017</h3>"
      ],
      "text/plain": [
       "<IPython.core.display.HTML object>"
      ]
     },
     "metadata": {},
     "output_type": "display_data"
    },
    {
     "data": {
      "text/html": [
       "<pre>SELECT coalesce(entity_name, supplier_name->>0) AS \"שם הספק\",\n",
       "       entity_id,\n",
       "       purpose AS \"כותרת התקשרות\",\n",
       "       publisher_name AS \"הגורם המזמין\",\n",
       "       purchase_method->>0 AS \"סוג הרכש\",\n",
       "                         contract_is_active AS \"סטטוס התקשרות\",\n",
       "                         volume AS \"סכום שאושר\",\n",
       "                         executed AS \"סכום ששולם\",\n",
       "                         currency AS \"מטבע\",\n",
       "                         order_date AS \"תאריך הזמנה\",\n",
       "                         payments->-1->>'date' AS \"תאריך עדכון\"\n",
       "FROM contract_spending\n",
       "WHERE (entity_id = '513049759')\n",
       "  AND contract_is_active\n",
       "  AND min_year = 2017</pre>"
      ],
      "text/plain": [
       "<IPython.core.display.HTML object>"
      ]
     },
     "metadata": {},
     "output_type": "display_data"
    },
    {
     "data": {
      "text/html": [
       "<table>\n",
       "<tbody>\n",
       "<tr><td>שם הספק          </td><td>כותרת התקשרות                                     </td><td>הגורם המזמין             </td><td>סוג הרכש             </td><td>סטטוס התקשרות</td><td>סכום שאושר        </td><td>סכום ששולם        </td><td>מטבע</td><td>תאריך הזמנה</td><td>תאריך עדכון</td></tr>\n",
       "<tr><td>אינטרנט בינת בע\"מ</td><td>ארונות שרתים לחדר שרתים                           </td><td>שירות התעסוקה הישראלי    </td><td>תקנה 14ב - מכרז מרכזי</td><td>True         </td><td>362459.45 + number</td><td>260566.19 + number</td><td>ILS </td><td>2017-01-30 </td><td>2018-01-03 </td></tr>\n",
       "<tr><td>אינטרנט בינת בע\"מ</td><td>תשלום חצי שנתי עבור ארונות                        </td><td>הרשות הארצית לכבאות והצלה</td><td>תקנה 14ב - מכרז מרכזי</td><td>True         </td><td>55373.76 + number </td><td>0.0 + number      </td><td>ILS </td><td>2017-12-13 </td><td>2018-07-10 </td></tr>\n",
       "<tr><td>אינטרנט בינת בע\"מ</td><td>אירוח לתשתיות DATA CENTER  המרכזי של המשרד לשוויון</td><td>המשרד לשוויון חברתי      </td><td>תקנה 14ב - מכרז מרכזי</td><td>True         </td><td>134747.5 + number </td><td>9228.96 + number  </td><td>ILS </td><td>2017-05-15 </td><td>2017-09-19 </td></tr>\n",
       "<tr><td>Total            </td><td>26                                                </td><td>                         </td><td>                     </td><td>             </td><td>                  </td><td>                  </td><td>    </td><td>           </td><td>           </td></tr>\n",
       "</tbody>\n",
       "</table>"
      ],
      "text/plain": [
       "<IPython.core.display.HTML object>"
      ]
     },
     "metadata": {},
     "output_type": "display_data"
    },
    {
     "data": {
      "text/html": [
       "<h3>(contract-spending) שירותי אירוח שרתים: כל ההתקשרויות במצב פעיל עם אותו הספק מ-2018</h3>"
      ],
      "text/plain": [
       "<IPython.core.display.HTML object>"
      ]
     },
     "metadata": {},
     "output_type": "display_data"
    },
    {
     "data": {
      "text/html": [
       "<pre>SELECT coalesce(entity_name, supplier_name->>0) AS \"שם הספק\",\n",
       "       entity_id,\n",
       "       purpose AS \"כותרת התקשרות\",\n",
       "       publisher_name AS \"הגורם המזמין\",\n",
       "       purchase_method->>0 AS \"סוג הרכש\",\n",
       "                         contract_is_active AS \"סטטוס התקשרות\",\n",
       "                         volume AS \"סכום שאושר\",\n",
       "                         executed AS \"סכום ששולם\",\n",
       "                         currency AS \"מטבע\",\n",
       "                         order_date AS \"תאריך הזמנה\",\n",
       "                         payments->-1->>'date' AS \"תאריך עדכון\"\n",
       "FROM contract_spending\n",
       "WHERE (entity_id = '513049759')\n",
       "  AND contract_is_active\n",
       "  AND min_year = 2018</pre>"
      ],
      "text/plain": [
       "<IPython.core.display.HTML object>"
      ]
     },
     "metadata": {},
     "output_type": "display_data"
    },
    {
     "data": {
      "text/html": [
       "<table>\n",
       "<tbody>\n",
       "<tr><td>שם הספק          </td><td>כותרת התקשרות                                                            </td><td>הגורם המזמין       </td><td>סוג הרכש             </td><td>סטטוס התקשרות</td><td>סכום שאושר        </td><td>סכום ששולם        </td><td>מטבע</td><td>תאריך הזמנה</td><td>תאריך עדכון</td></tr>\n",
       "<tr><td>אינטרנט בינת בע\"מ</td><td>שרותיאבטחחה למערכות מיחשוב                                               </td><td>משרד התרבות והספורט</td><td>תקנה 14ב - מכרז מרכזי</td><td>True         </td><td>92720.16 + number </td><td>44727.17 + number </td><td>ILS </td><td>2018-01-28 </td><td>2018-07-23 </td></tr>\n",
       "<tr><td>אינטרנט בינת בע\"מ</td><td>רכישת שטחי DC לטובת אירוח מערך המחשוב שישמש להתקנת אתר ה DR שישרת את רשל\"</td><td>משרד המשפטים       </td><td>תקנה 14ב - מכרז מרכזי</td><td>True         </td><td>303835.66 + number</td><td>103824.04 + number</td><td>ILS </td><td>2018-02-22 </td><td>2018-07-23 </td></tr>\n",
       "<tr><td>אינטרנט בינת בע\"מ</td><td>שרותי פרסום                                                              </td><td>משרד התרבות והספורט</td><td>פטור ממכרז           </td><td>True         </td><td>292.5 + number    </td><td>292.5 + number    </td><td>ILS </td><td>2018-04-15 </td><td>2018-07-23 </td></tr>\n",
       "<tr><td>Total            </td><td>10                                                                       </td><td>                   </td><td>                     </td><td>             </td><td>                  </td><td>                  </td><td>    </td><td>           </td><td>           </td></tr>\n",
       "</tbody>\n",
       "</table>"
      ],
      "text/plain": [
       "<IPython.core.display.HTML object>"
      ]
     },
     "metadata": {},
     "output_type": "display_data"
    },
    {
     "data": {
      "text/html": [
       "<h3>(contract-spending) שירותי אירוח שרתים: כל ההתקשרויות במצב פעיל עם אותו הספק מ-כל השנים</h3>"
      ],
      "text/plain": [
       "<IPython.core.display.HTML object>"
      ]
     },
     "metadata": {},
     "output_type": "display_data"
    },
    {
     "data": {
      "text/html": [
       "<pre>SELECT coalesce(entity_name, supplier_name->>0) AS \"שם הספק\",\n",
       "       entity_id,\n",
       "       purpose AS \"כותרת התקשרות\",\n",
       "       publisher_name AS \"הגורם המזמין\",\n",
       "       purchase_method->>0 AS \"סוג הרכש\",\n",
       "                         contract_is_active AS \"סטטוס התקשרות\",\n",
       "                         volume AS \"סכום שאושר\",\n",
       "                         executed AS \"סכום ששולם\",\n",
       "                         currency AS \"מטבע\",\n",
       "                         order_date AS \"תאריך הזמנה\",\n",
       "                         payments->-1->>'date' AS \"תאריך עדכון\"\n",
       "FROM contract_spending\n",
       "WHERE (entity_id = '513049759')\n",
       "  AND contract_is_active\n",
       "  AND min_year > 0</pre>"
      ],
      "text/plain": [
       "<IPython.core.display.HTML object>"
      ]
     },
     "metadata": {},
     "output_type": "display_data"
    },
    {
     "data": {
      "text/html": [
       "<table>\n",
       "<tbody>\n",
       "<tr><td>שם הספק          </td><td>כותרת התקשרות             </td><td>הגורם המזמין             </td><td>סוג הרכש             </td><td>סטטוס התקשרות</td><td>סכום שאושר        </td><td>סכום ששולם        </td><td>מטבע</td><td>תאריך הזמנה</td><td>תאריך עדכון</td></tr>\n",
       "<tr><td>אינטרנט בינת בע\"מ</td><td>ארונות שרתים לחדר שרתים   </td><td>שירות התעסוקה הישראלי    </td><td>תקנה 14ב - מכרז מרכזי</td><td>True         </td><td>362459.45 + number</td><td>260566.19 + number</td><td>ILS </td><td>2017-01-30 </td><td>2018-01-03 </td></tr>\n",
       "<tr><td>אינטרנט בינת בע\"מ</td><td>תשלום חצי שנתי עבור ארונות</td><td>הרשות הארצית לכבאות והצלה</td><td>תקנה 14ב - מכרז מרכזי</td><td>True         </td><td>55373.76 + number </td><td>0.0 + number      </td><td>ILS </td><td>2017-12-13 </td><td>2018-07-10 </td></tr>\n",
       "<tr><td>אינטרנט בינת בע\"מ</td><td>שרותיאבטחחה למערכות מיחשוב</td><td>משרד התרבות והספורט      </td><td>תקנה 14ב - מכרז מרכזי</td><td>True         </td><td>92720.16 + number </td><td>44727.17 + number </td><td>ILS </td><td>2018-01-28 </td><td>2018-07-23 </td></tr>\n",
       "<tr><td>Total            </td><td>53                        </td><td>                         </td><td>                     </td><td>             </td><td>                  </td><td>                  </td><td>    </td><td>           </td><td>           </td></tr>\n",
       "</tbody>\n",
       "</table>"
      ],
      "text/plain": [
       "<IPython.core.display.HTML object>"
      ]
     },
     "metadata": {},
     "output_type": "display_data"
    },
    {
     "data": {
      "text/html": [
       "<h3>(contract-spending) שירותי אירוח שרתים: כל ההתקשרויות במצב פעיל עם אותו המפרסם מ-2015</h3>"
      ],
      "text/plain": [
       "<IPython.core.display.HTML object>"
      ]
     },
     "metadata": {},
     "output_type": "display_data"
    },
    {
     "data": {
      "text/html": [
       "<pre>SELECT coalesce(entity_name, supplier_name->>0) AS \"שם הספק\",\n",
       "       entity_id,\n",
       "       purpose AS \"כותרת התקשרות\",\n",
       "       publisher_name AS \"הגורם המזמין\",\n",
       "       purchase_method->>0 AS \"סוג הרכש\",\n",
       "                         contract_is_active AS \"סטטוס התקשרות\",\n",
       "                         volume AS \"סכום שאושר\",\n",
       "                         executed AS \"סכום ששולם\",\n",
       "                         currency AS \"מטבע\",\n",
       "                         order_date AS \"תאריך הזמנה\",\n",
       "                         payments->-1->>'date' AS \"תאריך עדכון\"\n",
       "FROM contract_spending\n",
       "WHERE (publisher_name = 'משרד האוצר')\n",
       "  AND contract_is_active\n",
       "  AND min_year = 2015</pre>"
      ],
      "text/plain": [
       "<IPython.core.display.HTML object>"
      ]
     },
     "metadata": {},
     "output_type": "display_data"
    },
    {
     "data": {
      "text/html": [
       "<table>\n",
       "<tbody>\n",
       "<tr><td>שם הספק                     </td><td>כותרת התקשרות                                                                        </td><td>הגורם המזמין</td><td>סוג הרכש            </td><td>סטטוס התקשרות</td><td>סכום שאושר      </td><td>סכום ששולם      </td><td>מטבע</td><td>תאריך הזמנה</td><td>תאריך עדכון</td></tr>\n",
       "<tr><td>Trains                      </td><td>TRAVELING EXPENSES (GROUND TRANSPORTATION) FOR MOF (WASHINTON, D.C.) OFFICE EMPLOYEES</td><td>משרד האוצר  </td><td>פטור ממכרז          </td><td>True         </td><td>562.0 + number  </td><td>2174.38 + number</td><td>USD </td><td>2015-01-07 </td><td>2018-02-12 </td></tr>\n",
       "<tr><td>חשבים  ה.פ.ס. מידע עסקי בע\"מ</td><td>מינוי לאתר דינים לשופטים לשנת 2015 - מכח החלטות נושאי משרה                           </td><td>משרד האוצר  </td><td>מכרז הנהלת בתי המשפט</td><td>True         </td><td>22873.5 + number</td><td>19057.0 + number</td><td>ILS </td><td>2015-01-08 </td><td>2018-01-18 </td></tr>\n",
       "<tr><td>חשבים  ה.פ.ס. מידע עסקי בע\"מ</td><td>מינוי לאתר תקדין לשופטים לשנת 2015 - מכח החלטות נושאי משרה                           </td><td>משרד האוצר  </td><td>מכרז הנהלת בתי המשפט</td><td>True         </td><td>23868.0 + number</td><td>22454.0 + number</td><td>ILS </td><td>2015-01-08 </td><td>2018-01-18 </td></tr>\n",
       "<tr><td>Total                       </td><td>619                                                                                  </td><td>            </td><td>                    </td><td>             </td><td>                </td><td>                </td><td>    </td><td>           </td><td>           </td></tr>\n",
       "</tbody>\n",
       "</table>"
      ],
      "text/plain": [
       "<IPython.core.display.HTML object>"
      ]
     },
     "metadata": {},
     "output_type": "display_data"
    },
    {
     "data": {
      "text/html": [
       "<h3>(contract-spending) שירותי אירוח שרתים: כל ההתקשרויות במצב פעיל עם אותו המפרסם מ-2016</h3>"
      ],
      "text/plain": [
       "<IPython.core.display.HTML object>"
      ]
     },
     "metadata": {},
     "output_type": "display_data"
    },
    {
     "data": {
      "text/html": [
       "<pre>SELECT coalesce(entity_name, supplier_name->>0) AS \"שם הספק\",\n",
       "       entity_id,\n",
       "       purpose AS \"כותרת התקשרות\",\n",
       "       publisher_name AS \"הגורם המזמין\",\n",
       "       purchase_method->>0 AS \"סוג הרכש\",\n",
       "                         contract_is_active AS \"סטטוס התקשרות\",\n",
       "                         volume AS \"סכום שאושר\",\n",
       "                         executed AS \"סכום ששולם\",\n",
       "                         currency AS \"מטבע\",\n",
       "                         order_date AS \"תאריך הזמנה\",\n",
       "                         payments->-1->>'date' AS \"תאריך עדכון\"\n",
       "FROM contract_spending\n",
       "WHERE (publisher_name = 'משרד האוצר')\n",
       "  AND contract_is_active\n",
       "  AND min_year = 2016</pre>"
      ],
      "text/plain": [
       "<IPython.core.display.HTML object>"
      ]
     },
     "metadata": {},
     "output_type": "display_data"
    },
    {
     "data": {
      "text/html": [
       "<table>\n",
       "<tbody>\n",
       "<tr><td>שם הספק                       </td><td>כותרת התקשרות                        </td><td>הגורם המזמין</td><td>סוג הרכש                 </td><td>סטטוס התקשרות</td><td>סכום שאושר       </td><td>סכום ששולם       </td><td>מטבע</td><td>תאריך הזמנה</td><td>תאריך עדכון</td></tr>\n",
       "<tr><td>בצלאל שירותי הסעדה - אוצר בע\"מ</td><td>שירותי אירוח                         </td><td>משרד האוצר  </td><td>פטור ממכרז               </td><td>True         </td><td>2991.46 + number </td><td>200.0 + number   </td><td>ILS </td><td>2016-01-04 </td><td>2018-05-15 </td></tr>\n",
       "<tr><td>כנפי  משק תור בע\"מ            </td><td>קורס לממוני תגמול תמרוץ במשרדי הממשלה</td><td>משרד האוצר  </td><td>פטור ממכרז               </td><td>True         </td><td>48778.47 + number</td><td>25265.02 + number</td><td>ILS </td><td>2016-01-04 </td><td>2018-05-15 </td></tr>\n",
       "<tr><td>אדון שוקו שיווק 2008 בע\"מ     </td><td>שירותי כיבוד                         </td><td>משרד האוצר  </td><td>תקנה 1ב - מכרז פומבי רגיל</td><td>True         </td><td>1240.21 + number </td><td>0.0 + number     </td><td>ILS </td><td>2016-01-04 </td><td>2018-05-15 </td></tr>\n",
       "<tr><td>Total                         </td><td>850                                  </td><td>            </td><td>                         </td><td>             </td><td>                 </td><td>                 </td><td>    </td><td>           </td><td>           </td></tr>\n",
       "</tbody>\n",
       "</table>"
      ],
      "text/plain": [
       "<IPython.core.display.HTML object>"
      ]
     },
     "metadata": {},
     "output_type": "display_data"
    },
    {
     "data": {
      "text/html": [
       "<h3>(contract-spending) שירותי אירוח שרתים: כל ההתקשרויות במצב פעיל עם אותו המפרסם מ-2017</h3>"
      ],
      "text/plain": [
       "<IPython.core.display.HTML object>"
      ]
     },
     "metadata": {},
     "output_type": "display_data"
    },
    {
     "data": {
      "text/html": [
       "<pre>SELECT coalesce(entity_name, supplier_name->>0) AS \"שם הספק\",\n",
       "       entity_id,\n",
       "       purpose AS \"כותרת התקשרות\",\n",
       "       publisher_name AS \"הגורם המזמין\",\n",
       "       purchase_method->>0 AS \"סוג הרכש\",\n",
       "                         contract_is_active AS \"סטטוס התקשרות\",\n",
       "                         volume AS \"סכום שאושר\",\n",
       "                         executed AS \"סכום ששולם\",\n",
       "                         currency AS \"מטבע\",\n",
       "                         order_date AS \"תאריך הזמנה\",\n",
       "                         payments->-1->>'date' AS \"תאריך עדכון\"\n",
       "FROM contract_spending\n",
       "WHERE (publisher_name = 'משרד האוצר')\n",
       "  AND contract_is_active\n",
       "  AND min_year = 2017</pre>"
      ],
      "text/plain": [
       "<IPython.core.display.HTML object>"
      ]
     },
     "metadata": {},
     "output_type": "display_data"
    },
    {
     "data": {
      "text/html": [
       "<table>\n",
       "<tbody>\n",
       "<tr><td>שם הספק              </td><td>כותרת התקשרות                   </td><td>הגורם המזמין</td><td>סוג הרכש                 </td><td>סטטוס התקשרות</td><td>סכום שאושר        </td><td>סכום ששולם       </td><td>מטבע</td><td>תאריך הזמנה</td><td>תאריך עדכון</td></tr>\n",
       "<tr><td>EASY TALK. INC       </td><td>EDUCATION EXPENSES FOR DELEGATES</td><td>משרד האוצר  </td><td>פטור ממכרז               </td><td>True         </td><td>3152.5 + number   </td><td>4610.11 + number </td><td>USD </td><td>2017-01-12 </td><td>2018-02-12 </td></tr>\n",
       "<tr><td>EASY TALK. INC       </td><td>EDUCATION EXPENSES FOR DELEGATES</td><td>משרד האוצר  </td><td>פטור ממכרז               </td><td>True         </td><td>26975.0 + number  </td><td>52306.66 + number</td><td>USD </td><td>2017-01-12 </td><td>2018-02-12 </td></tr>\n",
       "<tr><td>תפנית ניהול בניה בע\"מ</td><td>שכ\"\"ט חברת ניהול פרוייקט נגישות </td><td>משרד האוצר  </td><td>תקנה 1ב - מכרז פומבי רגיל</td><td>True         </td><td>105615.28 + number</td><td>0.0 + number     </td><td>ILS </td><td>2017-01-01 </td><td>2018-05-15 </td></tr>\n",
       "<tr><td>Total                </td><td>2379                            </td><td>            </td><td>                         </td><td>             </td><td>                  </td><td>                 </td><td>    </td><td>           </td><td>           </td></tr>\n",
       "</tbody>\n",
       "</table>"
      ],
      "text/plain": [
       "<IPython.core.display.HTML object>"
      ]
     },
     "metadata": {},
     "output_type": "display_data"
    },
    {
     "data": {
      "text/html": [
       "<h3>(contract-spending) שירותי אירוח שרתים: כל ההתקשרויות במצב פעיל עם אותו המפרסם מ-2018</h3>"
      ],
      "text/plain": [
       "<IPython.core.display.HTML object>"
      ]
     },
     "metadata": {},
     "output_type": "display_data"
    },
    {
     "data": {
      "text/html": [
       "<pre>SELECT coalesce(entity_name, supplier_name->>0) AS \"שם הספק\",\n",
       "       entity_id,\n",
       "       purpose AS \"כותרת התקשרות\",\n",
       "       publisher_name AS \"הגורם המזמין\",\n",
       "       purchase_method->>0 AS \"סוג הרכש\",\n",
       "                         contract_is_active AS \"סטטוס התקשרות\",\n",
       "                         volume AS \"סכום שאושר\",\n",
       "                         executed AS \"סכום ששולם\",\n",
       "                         currency AS \"מטבע\",\n",
       "                         order_date AS \"תאריך הזמנה\",\n",
       "                         payments->-1->>'date' AS \"תאריך עדכון\"\n",
       "FROM contract_spending\n",
       "WHERE (publisher_name = 'משרד האוצר')\n",
       "  AND contract_is_active\n",
       "  AND min_year = 2018</pre>"
      ],
      "text/plain": [
       "<IPython.core.display.HTML object>"
      ]
     },
     "metadata": {},
     "output_type": "display_data"
    },
    {
     "data": {
      "text/html": [
       "<table>\n",
       "<tbody>\n",
       "<tr><td>שם הספק                                        </td><td>כותרת התקשרות                                   </td><td>הגורם המזמין</td><td>סוג הרכש                 </td><td>סטטוס התקשרות</td><td>סכום שאושר         </td><td>סכום ששולם         </td><td>מטבע</td><td>תאריך הזמנה</td><td>תאריך עדכון</td></tr>\n",
       "<tr><td>תפוז ייזום ופיתוח תחנות בע\"מ                   </td><td>שירותי חניה עבור יחידת הפיקוח על הבניה מחוז רמלה</td><td>משרד האוצר  </td><td>פטור ממכרז               </td><td>True         </td><td>72692.1 + number   </td><td>11569.0 + number   </td><td>ILS </td><td>2018-02-21 </td><td>2018-05-15 </td></tr>\n",
       "<tr><td>דירה להשכיר - החברה הממשלתית לדיור ולהשכרה בע\"מ</td><td>ליווי פרויקט מחיר למשתכן                        </td><td>משרד האוצר  </td><td>פטור ממכרז               </td><td>True         </td><td>1187202.51 + number</td><td>1187202.51 + number</td><td>ILS </td><td>2018-01-01 </td><td>2018-05-15 </td></tr>\n",
       "<tr><td>משרד האוצר/הדיור הממשלתי/חשבות                 </td><td>שכירויות 2018                                   </td><td>משרד האוצר  </td><td>התקשרות עם גופים ממשלתיים</td><td>True         </td><td>5559066.9 + number </td><td>0.0 + number       </td><td>ILS </td><td>2018-03-20 </td><td>2018-05-15 </td></tr>\n",
       "<tr><td>Total                                          </td><td>1341                                            </td><td>            </td><td>                         </td><td>             </td><td>                   </td><td>                   </td><td>    </td><td>           </td><td>           </td></tr>\n",
       "</tbody>\n",
       "</table>"
      ],
      "text/plain": [
       "<IPython.core.display.HTML object>"
      ]
     },
     "metadata": {},
     "output_type": "display_data"
    },
    {
     "data": {
      "text/html": [
       "<h3>(contract-spending) שירותי אירוח שרתים: כל ההתקשרויות במצב פעיל עם אותו המפרסם מ-כל השנים</h3>"
      ],
      "text/plain": [
       "<IPython.core.display.HTML object>"
      ]
     },
     "metadata": {},
     "output_type": "display_data"
    },
    {
     "data": {
      "text/html": [
       "<pre>SELECT coalesce(entity_name, supplier_name->>0) AS \"שם הספק\",\n",
       "       entity_id,\n",
       "       purpose AS \"כותרת התקשרות\",\n",
       "       publisher_name AS \"הגורם המזמין\",\n",
       "       purchase_method->>0 AS \"סוג הרכש\",\n",
       "                         contract_is_active AS \"סטטוס התקשרות\",\n",
       "                         volume AS \"סכום שאושר\",\n",
       "                         executed AS \"סכום ששולם\",\n",
       "                         currency AS \"מטבע\",\n",
       "                         order_date AS \"תאריך הזמנה\",\n",
       "                         payments->-1->>'date' AS \"תאריך עדכון\"\n",
       "FROM contract_spending\n",
       "WHERE (publisher_name = 'משרד האוצר')\n",
       "  AND contract_is_active\n",
       "  AND min_year > 0</pre>"
      ],
      "text/plain": [
       "<IPython.core.display.HTML object>"
      ]
     },
     "metadata": {},
     "output_type": "display_data"
    },
    {
     "data": {
      "text/html": [
       "<table>\n",
       "<tbody>\n",
       "<tr><td>שם הספק                     </td><td>כותרת התקשרות                                                                        </td><td>הגורם המזמין</td><td>סוג הרכש            </td><td>סטטוס התקשרות</td><td>סכום שאושר      </td><td>סכום ששולם      </td><td>מטבע</td><td>תאריך הזמנה</td><td>תאריך עדכון</td></tr>\n",
       "<tr><td>Trains                      </td><td>TRAVELING EXPENSES (GROUND TRANSPORTATION) FOR MOF (WASHINTON, D.C.) OFFICE EMPLOYEES</td><td>משרד האוצר  </td><td>פטור ממכרז          </td><td>True         </td><td>562.0 + number  </td><td>2174.38 + number</td><td>USD </td><td>2015-01-07 </td><td>2018-02-12 </td></tr>\n",
       "<tr><td>חשבים  ה.פ.ס. מידע עסקי בע\"מ</td><td>מינוי לאתר דינים לשופטים לשנת 2015 - מכח החלטות נושאי משרה                           </td><td>משרד האוצר  </td><td>מכרז הנהלת בתי המשפט</td><td>True         </td><td>22873.5 + number</td><td>19057.0 + number</td><td>ILS </td><td>2015-01-08 </td><td>2018-01-18 </td></tr>\n",
       "<tr><td>חשבים  ה.פ.ס. מידע עסקי בע\"מ</td><td>מינוי לאתר תקדין לשופטים לשנת 2015 - מכח החלטות נושאי משרה                           </td><td>משרד האוצר  </td><td>מכרז הנהלת בתי המשפט</td><td>True         </td><td>23868.0 + number</td><td>22454.0 + number</td><td>ILS </td><td>2015-01-08 </td><td>2018-01-18 </td></tr>\n",
       "<tr><td>Total                       </td><td>5189                                                                                 </td><td>            </td><td>                    </td><td>             </td><td>                </td><td>                </td><td>    </td><td>           </td><td>           </td></tr>\n",
       "</tbody>\n",
       "</table>"
      ],
      "text/plain": [
       "<IPython.core.display.HTML object>"
      ]
     },
     "metadata": {},
     "output_type": "display_data"
    },
    {
     "data": {
      "text/html": [
       "<h3>(contract-spending) שירותי אירוח שרתים: כל ההתקשרויות במצב פעיל מאותה תקנה תקציבית מ-2015</h3>"
      ],
      "text/plain": [
       "<IPython.core.display.HTML object>"
      ]
     },
     "metadata": {},
     "output_type": "display_data"
    },
    {
     "data": {
      "text/html": [
       "<pre>SELECT coalesce(entity_name, supplier_name->>0) AS \"שם הספק\",\n",
       "       entity_id,\n",
       "       purpose AS \"כותרת התקשרות\",\n",
       "       publisher_name AS \"הגורם המזמין\",\n",
       "       purchase_method->>0 AS \"סוג הרכש\",\n",
       "                         contract_is_active AS \"סטטוס התקשרות\",\n",
       "                         volume AS \"סכום שאושר\",\n",
       "                         executed AS \"סכום ששולם\",\n",
       "                         currency AS \"מטבע\",\n",
       "                         order_date AS \"תאריך הזמנה\",\n",
       "                         payments->-1->>'date' AS \"תאריך עדכון\"\n",
       "FROM contract_spending\n",
       "WHERE (budget_code = '0083050502')\n",
       "  AND contract_is_active\n",
       "  AND min_year = 2015</pre>"
      ],
      "text/plain": [
       "<IPython.core.display.HTML object>"
      ]
     },
     "metadata": {},
     "output_type": "display_data"
    },
    {
     "data": {
      "text/html": [
       "<table>\n",
       "<tbody>\n",
       "<tr><td>שם הספק          </td><td>כותרת התקשרות                              </td><td>הגורם המזמין</td><td>סוג הרכש  </td><td>סטטוס התקשרות</td><td>סכום שאושר      </td><td>סכום ששולם      </td><td>מטבע</td><td>תאריך הזמנה</td><td>תאריך עדכון</td></tr>\n",
       "<tr><td>טלדור תקשורת בע\"מ</td><td>תחזוקה לציוד לשליטה על הרשת האלחוטית במרכבה</td><td>משרד האוצר  </td><td>פטור ממכרז</td><td>True         </td><td>9849.06 + number</td><td>9933.24 + number</td><td>ILS </td><td>2015-04-19 </td><td>2018-02-12 </td></tr>\n",
       "<tr><td>Total            </td><td>1                                          </td><td>            </td><td>          </td><td>             </td><td>                </td><td>                </td><td>    </td><td>           </td><td>           </td></tr>\n",
       "</tbody>\n",
       "</table>"
      ],
      "text/plain": [
       "<IPython.core.display.HTML object>"
      ]
     },
     "metadata": {},
     "output_type": "display_data"
    },
    {
     "data": {
      "text/html": [
       "<h3>(contract-spending) שירותי אירוח שרתים: כל ההתקשרויות במצב פעיל מאותה תקנה תקציבית מ-2016</h3>"
      ],
      "text/plain": [
       "<IPython.core.display.HTML object>"
      ]
     },
     "metadata": {},
     "output_type": "display_data"
    },
    {
     "data": {
      "text/html": [
       "<pre>SELECT coalesce(entity_name, supplier_name->>0) AS \"שם הספק\",\n",
       "       entity_id,\n",
       "       purpose AS \"כותרת התקשרות\",\n",
       "       publisher_name AS \"הגורם המזמין\",\n",
       "       purchase_method->>0 AS \"סוג הרכש\",\n",
       "                         contract_is_active AS \"סטטוס התקשרות\",\n",
       "                         volume AS \"סכום שאושר\",\n",
       "                         executed AS \"סכום ששולם\",\n",
       "                         currency AS \"מטבע\",\n",
       "                         order_date AS \"תאריך הזמנה\",\n",
       "                         payments->-1->>'date' AS \"תאריך עדכון\"\n",
       "FROM contract_spending\n",
       "WHERE (budget_code = '0083050502')\n",
       "  AND contract_is_active\n",
       "  AND min_year = 2016</pre>"
      ],
      "text/plain": [
       "<IPython.core.display.HTML object>"
      ]
     },
     "metadata": {},
     "output_type": "display_data"
    },
    {
     "data": {
      "text/html": [
       "<table>\n",
       "<tbody>\n",
       "<tr><td>שם הספק       </td><td>כותרת התקשרות                           </td><td>הגורם המזמין</td><td>סוג הרכש             </td><td>סטטוס התקשרות</td><td>סכום שאושר        </td><td>סכום ששולם         </td><td>מטבע</td><td>תאריך הזמנה</td><td>תאריך עדכון</td></tr>\n",
       "<tr><td>תים נטקום בע\"מ</td><td>בנק שעותעבודה-תחזוקה                    </td><td>משרד האוצר  </td><td>פטור ממכרז           </td><td>True         </td><td>2925.0 + number   </td><td>0.0 + number       </td><td>ILS </td><td>2016-01-24 </td><td>2018-02-12 </td></tr>\n",
       "<tr><td>נס א.ט.  בע\"מ </td><td>שירותי רישוי ותחזוקה של מוצרי  מיקרוסופט</td><td>משרד האוצר  </td><td>תקנה 14ב - מכרז מרכזי</td><td>True         </td><td>2022227.1 + number</td><td>1892143.35 + number</td><td>ILS </td><td>2016-02-18 </td><td>2018-05-15 </td></tr>\n",
       "<tr><td>נס א.ט.  בע\"מ </td><td>רישוי למוצרי מיקרוסופט                  </td><td>משרד האוצר  </td><td>תקנה 14ב - מכרז מרכזי</td><td>True         </td><td>39590.93 + number </td><td>37671.73 + number  </td><td>ILS </td><td>2016-03-28 </td><td>2018-05-15 </td></tr>\n",
       "<tr><td>Total         </td><td>19                                      </td><td>            </td><td>                     </td><td>             </td><td>                  </td><td>                   </td><td>    </td><td>           </td><td>           </td></tr>\n",
       "</tbody>\n",
       "</table>"
      ],
      "text/plain": [
       "<IPython.core.display.HTML object>"
      ]
     },
     "metadata": {},
     "output_type": "display_data"
    },
    {
     "data": {
      "text/html": [
       "<h3>(contract-spending) שירותי אירוח שרתים: כל ההתקשרויות במצב פעיל מאותה תקנה תקציבית מ-2017</h3>"
      ],
      "text/plain": [
       "<IPython.core.display.HTML object>"
      ]
     },
     "metadata": {},
     "output_type": "display_data"
    },
    {
     "data": {
      "text/html": [
       "<pre>SELECT coalesce(entity_name, supplier_name->>0) AS \"שם הספק\",\n",
       "       entity_id,\n",
       "       purpose AS \"כותרת התקשרות\",\n",
       "       publisher_name AS \"הגורם המזמין\",\n",
       "       purchase_method->>0 AS \"סוג הרכש\",\n",
       "                         contract_is_active AS \"סטטוס התקשרות\",\n",
       "                         volume AS \"סכום שאושר\",\n",
       "                         executed AS \"סכום ששולם\",\n",
       "                         currency AS \"מטבע\",\n",
       "                         order_date AS \"תאריך הזמנה\",\n",
       "                         payments->-1->>'date' AS \"תאריך עדכון\"\n",
       "FROM contract_spending\n",
       "WHERE (budget_code = '0083050502')\n",
       "  AND contract_is_active\n",
       "  AND min_year = 2017</pre>"
      ],
      "text/plain": [
       "<IPython.core.display.HTML object>"
      ]
     },
     "metadata": {},
     "output_type": "display_data"
    },
    {
     "data": {
      "text/html": [
       "<table>\n",
       "<tbody>\n",
       "<tr><td>שם הספק                  </td><td>כותרת התקשרות                     </td><td>הגורם המזמין</td><td>סוג הרכש                 </td><td>סטטוס התקשרות</td><td>סכום שאושר       </td><td>סכום ששולם       </td><td>מטבע</td><td>תאריך הזמנה</td><td>תאריך עדכון</td></tr>\n",
       "<tr><td>הראל טכנולוגיות מידע בע\"מ</td><td>ציוד תקשורת                       </td><td>משרד האוצר  </td><td>תקנה 14ב - מכרז מרכזי    </td><td>True         </td><td>11725.93 + number</td><td>11257.51 + number</td><td>ILS </td><td>2017-01-30 </td><td>2018-05-15 </td></tr>\n",
       "<tr><td>קרביץ בעמ                </td><td>נייר צילום בעל תו ירוק לתפעול שוטף</td><td>משרד האוצר  </td><td>מכרז מרכזי ממוכן         </td><td>True         </td><td>10277.28 + number</td><td>5138.64 + number </td><td>ILS </td><td>2017-02-01 </td><td>2018-05-15 </td></tr>\n",
       "<tr><td>משרד האוצר/המדפיס הממשלתי</td><td>הדפסת חוברות לשנת 2017            </td><td>משרד האוצר  </td><td>התקשרות עם גופים ממשלתיים</td><td>True         </td><td>160000.0 + number</td><td>75550.0 + number </td><td>ILS </td><td>2017-02-05 </td><td>2018-05-15 </td></tr>\n",
       "<tr><td>Total                    </td><td>34                                </td><td>            </td><td>                         </td><td>             </td><td>                 </td><td>                 </td><td>    </td><td>           </td><td>           </td></tr>\n",
       "</tbody>\n",
       "</table>"
      ],
      "text/plain": [
       "<IPython.core.display.HTML object>"
      ]
     },
     "metadata": {},
     "output_type": "display_data"
    },
    {
     "data": {
      "text/html": [
       "<h3>(contract-spending) שירותי אירוח שרתים: כל ההתקשרויות במצב פעיל מאותה תקנה תקציבית מ-2018</h3>"
      ],
      "text/plain": [
       "<IPython.core.display.HTML object>"
      ]
     },
     "metadata": {},
     "output_type": "display_data"
    },
    {
     "data": {
      "text/html": [
       "<pre>SELECT coalesce(entity_name, supplier_name->>0) AS \"שם הספק\",\n",
       "       entity_id,\n",
       "       purpose AS \"כותרת התקשרות\",\n",
       "       publisher_name AS \"הגורם המזמין\",\n",
       "       purchase_method->>0 AS \"סוג הרכש\",\n",
       "                         contract_is_active AS \"סטטוס התקשרות\",\n",
       "                         volume AS \"סכום שאושר\",\n",
       "                         executed AS \"סכום ששולם\",\n",
       "                         currency AS \"מטבע\",\n",
       "                         order_date AS \"תאריך הזמנה\",\n",
       "                         payments->-1->>'date' AS \"תאריך עדכון\"\n",
       "FROM contract_spending\n",
       "WHERE (budget_code = '0083050502')\n",
       "  AND contract_is_active\n",
       "  AND min_year = 2018</pre>"
      ],
      "text/plain": [
       "<IPython.core.display.HTML object>"
      ]
     },
     "metadata": {},
     "output_type": "display_data"
    },
    {
     "data": {
      "text/html": [
       "<table>\n",
       "<tbody>\n",
       "<tr><td>שם הספק                         </td><td>כותרת התקשרות                                                         </td><td>הגורם המזמין</td><td>סוג הרכש                 </td><td>סטטוס התקשרות</td><td>סכום שאושר       </td><td>סכום ששולם       </td><td>מטבע</td><td>תאריך הזמנה</td><td>תאריך עדכון</td></tr>\n",
       "<tr><td>משרד רוה\"מ/לשכת הפרסום הממשלתית </td><td>פרסום בעיתונות בגין מכרז פומבי 12/2016 לאספקת תוכנת השתלטות ליח' מרכבה</td><td>משרד האוצר  </td><td>התקשרות עם גופים ממשלתיים</td><td>True         </td><td>8327.5 + number  </td><td>0.0 + number     </td><td>ILS </td><td>2018-01-07 </td><td>2018-05-15 </td></tr>\n",
       "<tr><td>טופ-ליין יבוא ושיווק רהיטים בע\"מ</td><td>כסאות                                                                 </td><td>משרד האוצר  </td><td>תקנה 14ב - מכרז מרכזי    </td><td>True         </td><td>19324.31 + number</td><td>19324.31 + number</td><td>ILS </td><td>2018-01-07 </td><td>2018-05-15 </td></tr>\n",
       "<tr><td>אופטימייז מחשבים בע\"מ           </td><td>קופסאת מיתוג ATEN                                                     </td><td>משרד האוצר  </td><td>פטור ממכרז               </td><td>True         </td><td>2979.99 + number </td><td>0.0 + number     </td><td>ILS </td><td>2018-01-08 </td><td>2018-05-15 </td></tr>\n",
       "<tr><td>Total                           </td><td>16                                                                    </td><td>            </td><td>                         </td><td>             </td><td>                 </td><td>                 </td><td>    </td><td>           </td><td>           </td></tr>\n",
       "</tbody>\n",
       "</table>"
      ],
      "text/plain": [
       "<IPython.core.display.HTML object>"
      ]
     },
     "metadata": {},
     "output_type": "display_data"
    },
    {
     "data": {
      "text/html": [
       "<h3>(contract-spending) שירותי אירוח שרתים: כל ההתקשרויות במצב פעיל מאותה תקנה תקציבית מ-כל השנים</h3>"
      ],
      "text/plain": [
       "<IPython.core.display.HTML object>"
      ]
     },
     "metadata": {},
     "output_type": "display_data"
    },
    {
     "data": {
      "text/html": [
       "<pre>SELECT coalesce(entity_name, supplier_name->>0) AS \"שם הספק\",\n",
       "       entity_id,\n",
       "       purpose AS \"כותרת התקשרות\",\n",
       "       publisher_name AS \"הגורם המזמין\",\n",
       "       purchase_method->>0 AS \"סוג הרכש\",\n",
       "                         contract_is_active AS \"סטטוס התקשרות\",\n",
       "                         volume AS \"סכום שאושר\",\n",
       "                         executed AS \"סכום ששולם\",\n",
       "                         currency AS \"מטבע\",\n",
       "                         order_date AS \"תאריך הזמנה\",\n",
       "                         payments->-1->>'date' AS \"תאריך עדכון\"\n",
       "FROM contract_spending\n",
       "WHERE (budget_code = '0083050502')\n",
       "  AND contract_is_active\n",
       "  AND min_year > 0</pre>"
      ],
      "text/plain": [
       "<IPython.core.display.HTML object>"
      ]
     },
     "metadata": {},
     "output_type": "display_data"
    },
    {
     "data": {
      "text/html": [
       "<table>\n",
       "<tbody>\n",
       "<tr><td>שם הספק          </td><td>כותרת התקשרות                              </td><td>הגורם המזמין</td><td>סוג הרכש             </td><td>סטטוס התקשרות</td><td>סכום שאושר        </td><td>סכום ששולם         </td><td>מטבע</td><td>תאריך הזמנה</td><td>תאריך עדכון</td></tr>\n",
       "<tr><td>טלדור תקשורת בע\"מ</td><td>תחזוקה לציוד לשליטה על הרשת האלחוטית במרכבה</td><td>משרד האוצר  </td><td>פטור ממכרז           </td><td>True         </td><td>9849.06 + number  </td><td>9933.24 + number   </td><td>ILS </td><td>2015-04-19 </td><td>2018-02-12 </td></tr>\n",
       "<tr><td>תים נטקום בע\"מ   </td><td>בנק שעותעבודה-תחזוקה                       </td><td>משרד האוצר  </td><td>פטור ממכרז           </td><td>True         </td><td>2925.0 + number   </td><td>0.0 + number       </td><td>ILS </td><td>2016-01-24 </td><td>2018-02-12 </td></tr>\n",
       "<tr><td>נס א.ט.  בע\"מ    </td><td>שירותי רישוי ותחזוקה של מוצרי  מיקרוסופט   </td><td>משרד האוצר  </td><td>תקנה 14ב - מכרז מרכזי</td><td>True         </td><td>2022227.1 + number</td><td>1892143.35 + number</td><td>ILS </td><td>2016-02-18 </td><td>2018-05-15 </td></tr>\n",
       "<tr><td>Total            </td><td>70                                         </td><td>            </td><td>                     </td><td>             </td><td>                  </td><td>                   </td><td>    </td><td>           </td><td>           </td></tr>\n",
       "</tbody>\n",
       "</table>"
      ],
      "text/plain": [
       "<IPython.core.display.HTML object>"
      ]
     },
     "metadata": {},
     "output_type": "display_data"
    },
    {
     "data": {
      "text/html": [
       "<h3>(contract-spending) שירותי אירוח שרתים: כל ההתקשרויות במצב הסתיים עם אותו הספק מ-2015</h3>"
      ],
      "text/plain": [
       "<IPython.core.display.HTML object>"
      ]
     },
     "metadata": {},
     "output_type": "display_data"
    },
    {
     "data": {
      "text/html": [
       "<pre>SELECT coalesce(entity_name, supplier_name->>0) AS \"שם הספק\",\n",
       "       entity_id,\n",
       "       purpose AS \"כותרת התקשרות\",\n",
       "       publisher_name AS \"הגורם המזמין\",\n",
       "       purchase_method->>0 AS \"סוג הרכש\",\n",
       "                         contract_is_active AS \"סטטוס התקשרות\",\n",
       "                         volume AS \"סכום שאושר\",\n",
       "                         executed AS \"סכום ששולם\",\n",
       "                         currency AS \"מטבע\",\n",
       "                         order_date AS \"תאריך הזמנה\",\n",
       "                         payments->-1->>'date' AS \"תאריך עדכון\"\n",
       "FROM contract_spending\n",
       "WHERE (entity_id = '513049759')\n",
       "  AND (NOT contract_is_active)\n",
       "  AND min_year = 2015</pre>"
      ],
      "text/plain": [
       "<IPython.core.display.HTML object>"
      ]
     },
     "metadata": {},
     "output_type": "display_data"
    },
    {
     "data": {
      "text/html": [
       "<table>\n",
       "<tbody>\n",
       "<tr><td>שם הספק          </td><td>כותרת התקשרות      </td><td>הגורם המזמין       </td><td>סוג הרכש             </td><td>סטטוס התקשרות</td><td>סכום שאושר       </td><td>סכום ששולם        </td><td>מטבע</td><td>תאריך הזמנה</td><td>תאריך עדכון</td></tr>\n",
       "<tr><td>אינטרנט בינת בע\"מ</td><td>אירוח מתקן נט המשפט</td><td>הנהלת בתי המשפט    </td><td>תקנה 14ב - מכרז מרכזי</td><td>False        </td><td>226067.4 + number</td><td>135438.69 + number</td><td>ILS </td><td>2015-02-08 </td><td>2017-08-09 </td></tr>\n",
       "<tr><td>אינטרנט בינת בע\"מ</td><td>חיבור VPN          </td><td>משרד התרבות והספורט</td><td>פטור ממכרז           </td><td>False        </td><td>327.6 + number   </td><td>329.35 + number   </td><td>ILS </td><td>2015-04-21 </td><td>2016-11-09 </td></tr>\n",
       "<tr><td>אינטרנט בינת בע\"מ</td><td>הקמת אתר DR        </td><td>הנהלת בתי המשפט    </td><td>תקנה 14ב - מכרז מרכזי</td><td>False        </td><td>113033.7 + number</td><td>93035.17 + number </td><td>ILS </td><td>2015-06-28 </td><td>2017-08-09 </td></tr>\n",
       "<tr><td>Total            </td><td>17                 </td><td>                   </td><td>                     </td><td>             </td><td>                 </td><td>                  </td><td>    </td><td>           </td><td>           </td></tr>\n",
       "</tbody>\n",
       "</table>"
      ],
      "text/plain": [
       "<IPython.core.display.HTML object>"
      ]
     },
     "metadata": {},
     "output_type": "display_data"
    },
    {
     "data": {
      "text/html": [
       "<h3>(contract-spending) שירותי אירוח שרתים: כל ההתקשרויות במצב הסתיים עם אותו הספק מ-2016</h3>"
      ],
      "text/plain": [
       "<IPython.core.display.HTML object>"
      ]
     },
     "metadata": {},
     "output_type": "display_data"
    },
    {
     "data": {
      "text/html": [
       "<pre>SELECT coalesce(entity_name, supplier_name->>0) AS \"שם הספק\",\n",
       "       entity_id,\n",
       "       purpose AS \"כותרת התקשרות\",\n",
       "       publisher_name AS \"הגורם המזמין\",\n",
       "       purchase_method->>0 AS \"סוג הרכש\",\n",
       "                         contract_is_active AS \"סטטוס התקשרות\",\n",
       "                         volume AS \"סכום שאושר\",\n",
       "                         executed AS \"סכום ששולם\",\n",
       "                         currency AS \"מטבע\",\n",
       "                         order_date AS \"תאריך הזמנה\",\n",
       "                         payments->-1->>'date' AS \"תאריך עדכון\"\n",
       "FROM contract_spending\n",
       "WHERE (entity_id = '513049759')\n",
       "  AND (NOT contract_is_active)\n",
       "  AND min_year = 2016</pre>"
      ],
      "text/plain": [
       "<IPython.core.display.HTML object>"
      ]
     },
     "metadata": {},
     "output_type": "display_data"
    },
    {
     "data": {
      "text/html": [
       "<table>\n",
       "<tbody>\n",
       "<tr><td>שם הספק          </td><td>כותרת התקשרות                  </td><td>הגורם המזמין       </td><td>סוג הרכש             </td><td>סטטוס התקשרות</td><td>סכום שאושר         </td><td>סכום ששולם        </td><td>מטבע</td><td>תאריך הזמנה</td><td>תאריך עדכון</td></tr>\n",
       "<tr><td>אינטרנט בינת בע\"מ</td><td>שירותי אירוח למערכות מידע      </td><td>משרד החינוך        </td><td>תקנה 14ב - מכרז מרכזי</td><td>False        </td><td>1341786.04 + number</td><td>750585.31 + number</td><td>ILS </td><td>2016-10-26 </td><td>2018-03-13 </td></tr>\n",
       "<tr><td>אינטרנט בינת בע\"מ</td><td>שרותי מיחשוב                   </td><td>משרד התרבות והספורט</td><td>תקנה 14ב - מכרז מרכזי</td><td>False        </td><td>79475.76 + number  </td><td>77762.85 + number </td><td>ILS </td><td>2016-01-26 </td><td>2018-01-09 </td></tr>\n",
       "<tr><td>אינטרנט בינת בע\"מ</td><td>רכישת שירות אירוח תשתיות המחשוב</td><td>נציבות שירות המדינה</td><td>מכרז מרכזי ממוכן     </td><td>False        </td><td>90473.76 + number  </td><td>45251.68 + number </td><td>ILS </td><td>2016-04-07 </td><td>2017-05-10 </td></tr>\n",
       "<tr><td>Total            </td><td>23                             </td><td>                   </td><td>                     </td><td>             </td><td>                   </td><td>                  </td><td>    </td><td>           </td><td>           </td></tr>\n",
       "</tbody>\n",
       "</table>"
      ],
      "text/plain": [
       "<IPython.core.display.HTML object>"
      ]
     },
     "metadata": {},
     "output_type": "display_data"
    },
    {
     "data": {
      "text/html": [
       "<h3>(contract-spending) שירותי אירוח שרתים: כל ההתקשרויות במצב הסתיים עם אותו הספק מ-2017</h3>"
      ],
      "text/plain": [
       "<IPython.core.display.HTML object>"
      ]
     },
     "metadata": {},
     "output_type": "display_data"
    },
    {
     "data": {
      "text/html": [
       "<pre>SELECT coalesce(entity_name, supplier_name->>0) AS \"שם הספק\",\n",
       "       entity_id,\n",
       "       purpose AS \"כותרת התקשרות\",\n",
       "       publisher_name AS \"הגורם המזמין\",\n",
       "       purchase_method->>0 AS \"סוג הרכש\",\n",
       "                         contract_is_active AS \"סטטוס התקשרות\",\n",
       "                         volume AS \"סכום שאושר\",\n",
       "                         executed AS \"סכום ששולם\",\n",
       "                         currency AS \"מטבע\",\n",
       "                         order_date AS \"תאריך הזמנה\",\n",
       "                         payments->-1->>'date' AS \"תאריך עדכון\"\n",
       "FROM contract_spending\n",
       "WHERE (entity_id = '513049759')\n",
       "  AND (NOT contract_is_active)\n",
       "  AND min_year = 2017</pre>"
      ],
      "text/plain": [
       "<IPython.core.display.HTML object>"
      ]
     },
     "metadata": {},
     "output_type": "display_data"
    },
    {
     "data": {
      "text/html": [
       "<table>\n",
       "<tbody>\n",
       "<tr><td>שם הספק          </td><td>כותרת התקשרות            </td><td>הגורם המזמין         </td><td>סוג הרכש             </td><td>סטטוס התקשרות</td><td>סכום שאושר       </td><td>סכום ששולם       </td><td>מטבע</td><td>תאריך הזמנה</td><td>תאריך עדכון</td></tr>\n",
       "<tr><td>אינטרנט בינת בע\"מ</td><td>שירותי תחזוקה ויעוץ תוכנה</td><td>המשרד לביטחון הפנים  </td><td>פטור ממכרז           </td><td>False        </td><td>2106.0 + number  </td><td>2106.0 + number  </td><td>ILS </td><td>2017-04-04 </td><td>2017-11-14 </td></tr>\n",
       "<tr><td>אינטרנט בינת בע\"מ</td><td>מחלקת שרתים              </td><td>המשרד לביטחון הפנים  </td><td>תקנה 14ב - מכרז מרכזי</td><td>False        </td><td>127062.0 + number</td><td>56081.75 + number</td><td>ILS </td><td>2017-06-06 </td><td>2017-11-14 </td></tr>\n",
       "<tr><td>אינטרנט בינת בע\"מ</td><td>ארון חשמל בחוות שרתים    </td><td>שירות התעסוקה הישראלי</td><td>תקנה 14ב - מכרז מרכזי</td><td>False        </td><td>61819.98 + number</td><td>0.0 + number     </td><td>ILS </td><td>2017-04-04 </td><td>2017-07-27 </td></tr>\n",
       "<tr><td>Total            </td><td>8                        </td><td>                     </td><td>                     </td><td>             </td><td>                 </td><td>                 </td><td>    </td><td>           </td><td>           </td></tr>\n",
       "</tbody>\n",
       "</table>"
      ],
      "text/plain": [
       "<IPython.core.display.HTML object>"
      ]
     },
     "metadata": {},
     "output_type": "display_data"
    },
    {
     "data": {
      "text/html": [
       "<h3>(contract-spending) שירותי אירוח שרתים: כל ההתקשרויות במצב הסתיים עם אותו הספק מ-2018</h3>"
      ],
      "text/plain": [
       "<IPython.core.display.HTML object>"
      ]
     },
     "metadata": {},
     "output_type": "display_data"
    },
    {
     "data": {
      "text/html": [
       "<pre>SELECT coalesce(entity_name, supplier_name->>0) AS \"שם הספק\",\n",
       "       entity_id,\n",
       "       purpose AS \"כותרת התקשרות\",\n",
       "       publisher_name AS \"הגורם המזמין\",\n",
       "       purchase_method->>0 AS \"סוג הרכש\",\n",
       "                         contract_is_active AS \"סטטוס התקשרות\",\n",
       "                         volume AS \"סכום שאושר\",\n",
       "                         executed AS \"סכום ששולם\",\n",
       "                         currency AS \"מטבע\",\n",
       "                         order_date AS \"תאריך הזמנה\",\n",
       "                         payments->-1->>'date' AS \"תאריך עדכון\"\n",
       "FROM contract_spending\n",
       "WHERE (entity_id = '513049759')\n",
       "  AND (NOT contract_is_active)\n",
       "  AND min_year = 2018</pre>"
      ],
      "text/plain": [
       "<IPython.core.display.HTML object>"
      ]
     },
     "metadata": {},
     "output_type": "display_data"
    },
    {
     "data": {
      "text/html": [
       "<table>\n",
       "<tbody>\n",
       "<tr><td>Total</td><td style=\"text-align: right;\">0</td></tr>\n",
       "</tbody>\n",
       "</table>"
      ],
      "text/plain": [
       "<IPython.core.display.HTML object>"
      ]
     },
     "metadata": {},
     "output_type": "display_data"
    },
    {
     "data": {
      "text/html": [
       "<h3>(contract-spending) שירותי אירוח שרתים: כל ההתקשרויות במצב הסתיים עם אותו הספק מ-כל השנים</h3>"
      ],
      "text/plain": [
       "<IPython.core.display.HTML object>"
      ]
     },
     "metadata": {},
     "output_type": "display_data"
    },
    {
     "data": {
      "text/html": [
       "<pre>SELECT coalesce(entity_name, supplier_name->>0) AS \"שם הספק\",\n",
       "       entity_id,\n",
       "       purpose AS \"כותרת התקשרות\",\n",
       "       publisher_name AS \"הגורם המזמין\",\n",
       "       purchase_method->>0 AS \"סוג הרכש\",\n",
       "                         contract_is_active AS \"סטטוס התקשרות\",\n",
       "                         volume AS \"סכום שאושר\",\n",
       "                         executed AS \"סכום ששולם\",\n",
       "                         currency AS \"מטבע\",\n",
       "                         order_date AS \"תאריך הזמנה\",\n",
       "                         payments->-1->>'date' AS \"תאריך עדכון\"\n",
       "FROM contract_spending\n",
       "WHERE (entity_id = '513049759')\n",
       "  AND (NOT contract_is_active)\n",
       "  AND min_year > 0</pre>"
      ],
      "text/plain": [
       "<IPython.core.display.HTML object>"
      ]
     },
     "metadata": {},
     "output_type": "display_data"
    },
    {
     "data": {
      "text/html": [
       "<table>\n",
       "<tbody>\n",
       "<tr><td>שם הספק          </td><td>כותרת התקשרות            </td><td>הגורם המזמין       </td><td>סוג הרכש             </td><td>סטטוס התקשרות</td><td>סכום שאושר         </td><td>סכום ששולם        </td><td>מטבע</td><td>תאריך הזמנה</td><td>תאריך עדכון</td></tr>\n",
       "<tr><td>אינטרנט בינת בע\"מ</td><td>אירוח מתקן נט המשפט      </td><td>הנהלת בתי המשפט    </td><td>תקנה 14ב - מכרז מרכזי</td><td>False        </td><td>226067.4 + number  </td><td>135438.69 + number</td><td>ILS </td><td>2015-02-08 </td><td>2017-08-09 </td></tr>\n",
       "<tr><td>אינטרנט בינת בע\"מ</td><td>שירותי אירוח למערכות מידע</td><td>משרד החינוך        </td><td>תקנה 14ב - מכרז מרכזי</td><td>False        </td><td>1341786.04 + number</td><td>750585.31 + number</td><td>ILS </td><td>2016-10-26 </td><td>2018-03-13 </td></tr>\n",
       "<tr><td>אינטרנט בינת בע\"מ</td><td>חיבור VPN                </td><td>משרד התרבות והספורט</td><td>פטור ממכרז           </td><td>False        </td><td>327.6 + number     </td><td>329.35 + number   </td><td>ILS </td><td>2015-04-21 </td><td>2016-11-09 </td></tr>\n",
       "<tr><td>Total            </td><td>48                       </td><td>                   </td><td>                     </td><td>             </td><td>                   </td><td>                  </td><td>    </td><td>           </td><td>           </td></tr>\n",
       "</tbody>\n",
       "</table>"
      ],
      "text/plain": [
       "<IPython.core.display.HTML object>"
      ]
     },
     "metadata": {},
     "output_type": "display_data"
    },
    {
     "data": {
      "text/html": [
       "<h3>(contract-spending) שירותי אירוח שרתים: כל ההתקשרויות במצב הסתיים עם אותו המפרסם מ-2015</h3>"
      ],
      "text/plain": [
       "<IPython.core.display.HTML object>"
      ]
     },
     "metadata": {},
     "output_type": "display_data"
    },
    {
     "data": {
      "text/html": [
       "<pre>SELECT coalesce(entity_name, supplier_name->>0) AS \"שם הספק\",\n",
       "       entity_id,\n",
       "       purpose AS \"כותרת התקשרות\",\n",
       "       publisher_name AS \"הגורם המזמין\",\n",
       "       purchase_method->>0 AS \"סוג הרכש\",\n",
       "                         contract_is_active AS \"סטטוס התקשרות\",\n",
       "                         volume AS \"סכום שאושר\",\n",
       "                         executed AS \"סכום ששולם\",\n",
       "                         currency AS \"מטבע\",\n",
       "                         order_date AS \"תאריך הזמנה\",\n",
       "                         payments->-1->>'date' AS \"תאריך עדכון\"\n",
       "FROM contract_spending\n",
       "WHERE (publisher_name = 'משרד האוצר')\n",
       "  AND (NOT contract_is_active)\n",
       "  AND min_year = 2015</pre>"
      ],
      "text/plain": [
       "<IPython.core.display.HTML object>"
      ]
     },
     "metadata": {},
     "output_type": "display_data"
    },
    {
     "data": {
      "text/html": [
       "<table>\n",
       "<tbody>\n",
       "<tr><td>שם הספק                     </td><td>כותרת התקשרות   </td><td>הגורם המזמין</td><td>סוג הרכש                 </td><td>סטטוס התקשרות</td><td>סכום שאושר       </td><td>סכום ששולם       </td><td>מטבע</td><td>תאריך הזמנה</td><td>תאריך עדכון</td></tr>\n",
       "<tr><td>שפיר הנדסה אזרחית וימית בע\"מ</td><td>חניות-מינהל הרכש</td><td>משרד האוצר  </td><td>תקנה 1ב - מכרז פומבי רגיל</td><td>False        </td><td>92355.12 + number</td><td>98735.27 + number</td><td>ILS </td><td>2015-02-01 </td><td>2017-11-14 </td></tr>\n",
       "<tr><td>שפיר הנדסה אזרחית וימית בע\"מ</td><td>שירותי חניה     </td><td>משרד האוצר  </td><td>תקנה 1ב - מכרז פומבי רגיל</td><td>False        </td><td>232713.0 + number</td><td>21329.43 + number</td><td>ILS </td><td>2015-02-01 </td><td>2016-11-15 </td></tr>\n",
       "<tr><td>שפיר הנדסה אזרחית וימית בע\"מ</td><td>חניון הלאום     </td><td>משרד האוצר  </td><td>תקנה 1ב - מכרז פומבי רגיל</td><td>False        </td><td>91260.0 + number </td><td>0.0 + number     </td><td>ILS </td><td>2015-02-01 </td><td>2016-11-15 </td></tr>\n",
       "<tr><td>Total                       </td><td>3120            </td><td>            </td><td>                         </td><td>             </td><td>                 </td><td>                 </td><td>    </td><td>           </td><td>           </td></tr>\n",
       "</tbody>\n",
       "</table>"
      ],
      "text/plain": [
       "<IPython.core.display.HTML object>"
      ]
     },
     "metadata": {},
     "output_type": "display_data"
    },
    {
     "data": {
      "text/html": [
       "<h3>(contract-spending) שירותי אירוח שרתים: כל ההתקשרויות במצב הסתיים עם אותו המפרסם מ-2016</h3>"
      ],
      "text/plain": [
       "<IPython.core.display.HTML object>"
      ]
     },
     "metadata": {},
     "output_type": "display_data"
    },
    {
     "data": {
      "text/html": [
       "<pre>SELECT coalesce(entity_name, supplier_name->>0) AS \"שם הספק\",\n",
       "       entity_id,\n",
       "       purpose AS \"כותרת התקשרות\",\n",
       "       publisher_name AS \"הגורם המזמין\",\n",
       "       purchase_method->>0 AS \"סוג הרכש\",\n",
       "                         contract_is_active AS \"סטטוס התקשרות\",\n",
       "                         volume AS \"סכום שאושר\",\n",
       "                         executed AS \"סכום ששולם\",\n",
       "                         currency AS \"מטבע\",\n",
       "                         order_date AS \"תאריך הזמנה\",\n",
       "                         payments->-1->>'date' AS \"תאריך עדכון\"\n",
       "FROM contract_spending\n",
       "WHERE (publisher_name = 'משרד האוצר')\n",
       "  AND (NOT contract_is_active)\n",
       "  AND min_year = 2016</pre>"
      ],
      "text/plain": [
       "<IPython.core.display.HTML object>"
      ]
     },
     "metadata": {},
     "output_type": "display_data"
    },
    {
     "data": {
      "text/html": [
       "<table>\n",
       "<tbody>\n",
       "<tr><td>שם הספק                         </td><td>כותרת התקשרות                      </td><td>הגורם המזמין</td><td>סוג הרכש                 </td><td>סטטוס התקשרות</td><td>סכום שאושר        </td><td>סכום ששולם        </td><td>מטבע</td><td>תאריך הזמנה</td><td>תאריך עדכון</td></tr>\n",
       "<tr><td>הבניין ברח' יפו 21. ירושלים בע\"מ</td><td>נקיון-גמלאות, מיכון, ב.חשכ\"ל       </td><td>משרד האוצר  </td><td>תקנה 1ב - מכרז פומבי רגיל</td><td>False        </td><td>162486.32 + number</td><td>165227.31 + number</td><td>ILS </td><td>2016-01-12 </td><td>2017-05-16 </td></tr>\n",
       "<tr><td>הבניין ברח' יפו 21. ירושלים בע\"מ</td><td>נקיון-גמלאות, מיכון, ב.חשכ\"ל       </td><td>משרד האוצר  </td><td>תקנה 1ב - מכרז פומבי רגיל</td><td>False        </td><td>18054.04 + number </td><td>18368.76 + number </td><td>ILS </td><td>2016-01-12 </td><td>2017-05-16 </td></tr>\n",
       "<tr><td>עדיף תקשורת בע\"מ                </td><td>רכישת מנוי לאתר אינטרנט ומגזין עדיף</td><td>משרד האוצר  </td><td>פטור ממכרז               </td><td>False        </td><td>14040.0 + number  </td><td>14040.0 + number  </td><td>ILS </td><td>2016-01-11 </td><td>2016-08-11 </td></tr>\n",
       "<tr><td>Total                           </td><td>3642                               </td><td>            </td><td>                         </td><td>             </td><td>                  </td><td>                  </td><td>    </td><td>           </td><td>           </td></tr>\n",
       "</tbody>\n",
       "</table>"
      ],
      "text/plain": [
       "<IPython.core.display.HTML object>"
      ]
     },
     "metadata": {},
     "output_type": "display_data"
    },
    {
     "data": {
      "text/html": [
       "<h3>(contract-spending) שירותי אירוח שרתים: כל ההתקשרויות במצב הסתיים עם אותו המפרסם מ-2017</h3>"
      ],
      "text/plain": [
       "<IPython.core.display.HTML object>"
      ]
     },
     "metadata": {},
     "output_type": "display_data"
    },
    {
     "data": {
      "text/html": [
       "<pre>SELECT coalesce(entity_name, supplier_name->>0) AS \"שם הספק\",\n",
       "       entity_id,\n",
       "       purpose AS \"כותרת התקשרות\",\n",
       "       publisher_name AS \"הגורם המזמין\",\n",
       "       purchase_method->>0 AS \"סוג הרכש\",\n",
       "                         contract_is_active AS \"סטטוס התקשרות\",\n",
       "                         volume AS \"סכום שאושר\",\n",
       "                         executed AS \"סכום ששולם\",\n",
       "                         currency AS \"מטבע\",\n",
       "                         order_date AS \"תאריך הזמנה\",\n",
       "                         payments->-1->>'date' AS \"תאריך עדכון\"\n",
       "FROM contract_spending\n",
       "WHERE (publisher_name = 'משרד האוצר')\n",
       "  AND (NOT contract_is_active)\n",
       "  AND min_year = 2017</pre>"
      ],
      "text/plain": [
       "<IPython.core.display.HTML object>"
      ]
     },
     "metadata": {},
     "output_type": "display_data"
    },
    {
     "data": {
      "text/html": [
       "<table>\n",
       "<tbody>\n",
       "<tr><td>שם הספק                       </td><td>כותרת התקשרות                  </td><td>הגורם המזמין</td><td>סוג הרכש                 </td><td>סטטוס התקשרות</td><td>סכום שאושר        </td><td>סכום ששולם        </td><td>מטבע</td><td>תאריך הזמנה</td><td>תאריך עדכון</td></tr>\n",
       "<tr><td>משרד האוצר/הדיור הממשלתי/חשבות</td><td>עלויות שכ\"ד                    </td><td>משרד האוצר  </td><td>התקשרות עם גופים ממשלתיים</td><td>False        </td><td>167310.76 + number</td><td>195945.77 + number</td><td>ILS </td><td>2017-01-02 </td><td>2018-02-12 </td></tr>\n",
       "<tr><td>בית הבטיחות הירושלמי בע\"מ     </td><td>רכישת כספות                    </td><td>משרד האוצר  </td><td>פטור ממכרז               </td><td>False        </td><td>9301.5 + number   </td><td>9301.5 + number   </td><td>ILS </td><td>2017-01-04 </td><td>2017-05-16 </td></tr>\n",
       "<tr><td>תפנית ניהול בניה בע\"מ         </td><td>שכ\"\"ט חברת ניהול פרוייקט נגישות</td><td>משרד האוצר  </td><td>תקנה 1ב - מכרז פומבי רגיל</td><td>False        </td><td>15899.89 + number </td><td>0.0 + number      </td><td>ILS </td><td>2017-01-01 </td><td>2017-08-22 </td></tr>\n",
       "<tr><td>Total                         </td><td>2565                           </td><td>            </td><td>                         </td><td>             </td><td>                  </td><td>                  </td><td>    </td><td>           </td><td>           </td></tr>\n",
       "</tbody>\n",
       "</table>"
      ],
      "text/plain": [
       "<IPython.core.display.HTML object>"
      ]
     },
     "metadata": {},
     "output_type": "display_data"
    },
    {
     "data": {
      "text/html": [
       "<h3>(contract-spending) שירותי אירוח שרתים: כל ההתקשרויות במצב הסתיים עם אותו המפרסם מ-2018</h3>"
      ],
      "text/plain": [
       "<IPython.core.display.HTML object>"
      ]
     },
     "metadata": {},
     "output_type": "display_data"
    },
    {
     "data": {
      "text/html": [
       "<pre>SELECT coalesce(entity_name, supplier_name->>0) AS \"שם הספק\",\n",
       "       entity_id,\n",
       "       purpose AS \"כותרת התקשרות\",\n",
       "       publisher_name AS \"הגורם המזמין\",\n",
       "       purchase_method->>0 AS \"סוג הרכש\",\n",
       "                         contract_is_active AS \"סטטוס התקשרות\",\n",
       "                         volume AS \"סכום שאושר\",\n",
       "                         executed AS \"סכום ששולם\",\n",
       "                         currency AS \"מטבע\",\n",
       "                         order_date AS \"תאריך הזמנה\",\n",
       "                         payments->-1->>'date' AS \"תאריך עדכון\"\n",
       "FROM contract_spending\n",
       "WHERE (publisher_name = 'משרד האוצר')\n",
       "  AND (NOT contract_is_active)\n",
       "  AND min_year = 2018</pre>"
      ],
      "text/plain": [
       "<IPython.core.display.HTML object>"
      ]
     },
     "metadata": {},
     "output_type": "display_data"
    },
    {
     "data": {
      "text/html": [
       "<table>\n",
       "<tbody>\n",
       "<tr><td>שם הספק               </td><td>כותרת התקשרות </td><td>הגורם המזמין</td><td>סוג הרכש             </td><td>סטטוס התקשרות</td><td>סכום שאושר        </td><td>סכום ששולם  </td><td>מטבע</td><td>תאריך הזמנה</td><td>תאריך עדכון</td></tr>\n",
       "<tr><td>בזק בינלאומי בע\"מ     </td><td>קו תקשורת     </td><td>משרד האוצר  </td><td>פטור ממכרז           </td><td>False        </td><td>2011.23 + number  </td><td>0.0 + number</td><td>ILS </td><td>2018-02-18 </td><td>2018-05-15 </td></tr>\n",
       "<tr><td>ד.מ. (3000) הנדסה בע\"מ</td><td>ציוד מולטימדיה</td><td>משרד האוצר  </td><td>תקנה 14ב - מכרז מרכזי</td><td>False        </td><td>242023.64 + number</td><td>0.0 + number</td><td>ILS </td><td>2018-01-07 </td><td>2018-05-15 </td></tr>\n",
       "<tr><td>ד.מ. (3000) הנדסה בע\"מ</td><td>ציוד מולטימדיה</td><td>משרד האוצר  </td><td>תקנה 14ב - מכרז מרכזי</td><td>False        </td><td>323700.21 + number</td><td>0.0 + number</td><td>ILS </td><td>2018-01-07 </td><td>2018-05-15 </td></tr>\n",
       "<tr><td>Total                 </td><td>204           </td><td>            </td><td>                     </td><td>             </td><td>                  </td><td>            </td><td>    </td><td>           </td><td>           </td></tr>\n",
       "</tbody>\n",
       "</table>"
      ],
      "text/plain": [
       "<IPython.core.display.HTML object>"
      ]
     },
     "metadata": {},
     "output_type": "display_data"
    },
    {
     "data": {
      "text/html": [
       "<h3>(contract-spending) שירותי אירוח שרתים: כל ההתקשרויות במצב הסתיים עם אותו המפרסם מ-כל השנים</h3>"
      ],
      "text/plain": [
       "<IPython.core.display.HTML object>"
      ]
     },
     "metadata": {},
     "output_type": "display_data"
    },
    {
     "data": {
      "text/html": [
       "<pre>SELECT coalesce(entity_name, supplier_name->>0) AS \"שם הספק\",\n",
       "       entity_id,\n",
       "       purpose AS \"כותרת התקשרות\",\n",
       "       publisher_name AS \"הגורם המזמין\",\n",
       "       purchase_method->>0 AS \"סוג הרכש\",\n",
       "                         contract_is_active AS \"סטטוס התקשרות\",\n",
       "                         volume AS \"סכום שאושר\",\n",
       "                         executed AS \"סכום ששולם\",\n",
       "                         currency AS \"מטבע\",\n",
       "                         order_date AS \"תאריך הזמנה\",\n",
       "                         payments->-1->>'date' AS \"תאריך עדכון\"\n",
       "FROM contract_spending\n",
       "WHERE (publisher_name = 'משרד האוצר')\n",
       "  AND (NOT contract_is_active)\n",
       "  AND min_year > 0</pre>"
      ],
      "text/plain": [
       "<IPython.core.display.HTML object>"
      ]
     },
     "metadata": {},
     "output_type": "display_data"
    },
    {
     "data": {
      "text/html": [
       "<table>\n",
       "<tbody>\n",
       "<tr><td>שם הספק                     </td><td>כותרת התקשרות   </td><td>הגורם המזמין</td><td>סוג הרכש                 </td><td>סטטוס התקשרות</td><td>סכום שאושר       </td><td>סכום ששולם       </td><td>מטבע</td><td>תאריך הזמנה</td><td>תאריך עדכון</td></tr>\n",
       "<tr><td>שפיר הנדסה אזרחית וימית בע\"מ</td><td>חניות-מינהל הרכש</td><td>משרד האוצר  </td><td>תקנה 1ב - מכרז פומבי רגיל</td><td>False        </td><td>92355.12 + number</td><td>98735.27 + number</td><td>ILS </td><td>2015-02-01 </td><td>2017-11-14 </td></tr>\n",
       "<tr><td>שפיר הנדסה אזרחית וימית בע\"מ</td><td>שירותי חניה     </td><td>משרד האוצר  </td><td>תקנה 1ב - מכרז פומבי רגיל</td><td>False        </td><td>232713.0 + number</td><td>21329.43 + number</td><td>ILS </td><td>2015-02-01 </td><td>2016-11-15 </td></tr>\n",
       "<tr><td>שפיר הנדסה אזרחית וימית בע\"מ</td><td>חניון הלאום     </td><td>משרד האוצר  </td><td>תקנה 1ב - מכרז פומבי רגיל</td><td>False        </td><td>91260.0 + number </td><td>0.0 + number     </td><td>ILS </td><td>2015-02-01 </td><td>2016-11-15 </td></tr>\n",
       "<tr><td>Total                       </td><td>9535            </td><td>            </td><td>                         </td><td>             </td><td>                 </td><td>                 </td><td>    </td><td>           </td><td>           </td></tr>\n",
       "</tbody>\n",
       "</table>"
      ],
      "text/plain": [
       "<IPython.core.display.HTML object>"
      ]
     },
     "metadata": {},
     "output_type": "display_data"
    },
    {
     "data": {
      "text/html": [
       "<h3>(contract-spending) שירותי אירוח שרתים: כל ההתקשרויות במצב הסתיים מאותה תקנה תקציבית מ-2015</h3>"
      ],
      "text/plain": [
       "<IPython.core.display.HTML object>"
      ]
     },
     "metadata": {},
     "output_type": "display_data"
    },
    {
     "data": {
      "text/html": [
       "<pre>SELECT coalesce(entity_name, supplier_name->>0) AS \"שם הספק\",\n",
       "       entity_id,\n",
       "       purpose AS \"כותרת התקשרות\",\n",
       "       publisher_name AS \"הגורם המזמין\",\n",
       "       purchase_method->>0 AS \"סוג הרכש\",\n",
       "                         contract_is_active AS \"סטטוס התקשרות\",\n",
       "                         volume AS \"סכום שאושר\",\n",
       "                         executed AS \"סכום ששולם\",\n",
       "                         currency AS \"מטבע\",\n",
       "                         order_date AS \"תאריך הזמנה\",\n",
       "                         payments->-1->>'date' AS \"תאריך עדכון\"\n",
       "FROM contract_spending\n",
       "WHERE (budget_code = '0083050502')\n",
       "  AND (NOT contract_is_active)\n",
       "  AND min_year = 2015</pre>"
      ],
      "text/plain": [
       "<IPython.core.display.HTML object>"
      ]
     },
     "metadata": {},
     "output_type": "display_data"
    },
    {
     "data": {
      "text/html": [
       "<table>\n",
       "<tbody>\n",
       "<tr><td>שם הספק                     </td><td>כותרת התקשרות                    </td><td>הגורם המזמין</td><td>סוג הרכש                 </td><td>סטטוס התקשרות</td><td>סכום שאושר        </td><td>סכום ששולם        </td><td>מטבע</td><td>תאריך הזמנה</td><td>תאריך עדכון</td></tr>\n",
       "<tr><td>שפיר הנדסה אזרחית וימית בע\"מ</td><td>חניון הלאום                      </td><td>משרד האוצר  </td><td>תקנה 1ב - מכרז פומבי רגיל</td><td>False        </td><td>6084.0 + number   </td><td>0.0 + number      </td><td>ILS </td><td>2015-02-01 </td><td>2016-11-15 </td></tr>\n",
       "<tr><td>בזק בינלאומי בע\"מ           </td><td>תחזוקת מרכזיה בנין חפציבה        </td><td>משרד האוצר  </td><td>תקנה 14ב - מכרז מרכזי    </td><td>False        </td><td>178691.29 + number</td><td>155981.26 + number</td><td>ILS </td><td>2015-01-14 </td><td>2017-05-16 </td></tr>\n",
       "<tr><td>היולט-פקרד (ישראל) בע\"מ     </td><td>שירות ותחזוקה לחדר מחשב לשנת 2015</td><td>משרד האוצר  </td><td>פטור ממכרז               </td><td>False        </td><td>396610.16 + number</td><td>399152.31 + number</td><td>ILS </td><td>2015-01-22 </td><td>2016-04-18 </td></tr>\n",
       "<tr><td>Total                       </td><td>96                               </td><td>            </td><td>                         </td><td>             </td><td>                  </td><td>                  </td><td>    </td><td>           </td><td>           </td></tr>\n",
       "</tbody>\n",
       "</table>"
      ],
      "text/plain": [
       "<IPython.core.display.HTML object>"
      ]
     },
     "metadata": {},
     "output_type": "display_data"
    },
    {
     "data": {
      "text/html": [
       "<h3>(contract-spending) שירותי אירוח שרתים: כל ההתקשרויות במצב הסתיים מאותה תקנה תקציבית מ-2016</h3>"
      ],
      "text/plain": [
       "<IPython.core.display.HTML object>"
      ]
     },
     "metadata": {},
     "output_type": "display_data"
    },
    {
     "data": {
      "text/html": [
       "<pre>SELECT coalesce(entity_name, supplier_name->>0) AS \"שם הספק\",\n",
       "       entity_id,\n",
       "       purpose AS \"כותרת התקשרות\",\n",
       "       publisher_name AS \"הגורם המזמין\",\n",
       "       purchase_method->>0 AS \"סוג הרכש\",\n",
       "                         contract_is_active AS \"סטטוס התקשרות\",\n",
       "                         volume AS \"סכום שאושר\",\n",
       "                         executed AS \"סכום ששולם\",\n",
       "                         currency AS \"מטבע\",\n",
       "                         order_date AS \"תאריך הזמנה\",\n",
       "                         payments->-1->>'date' AS \"תאריך עדכון\"\n",
       "FROM contract_spending\n",
       "WHERE (budget_code = '0083050502')\n",
       "  AND (NOT contract_is_active)\n",
       "  AND min_year = 2016</pre>"
      ],
      "text/plain": [
       "<IPython.core.display.HTML object>"
      ]
     },
     "metadata": {},
     "output_type": "display_data"
    },
    {
     "data": {
      "text/html": [
       "<table>\n",
       "<tbody>\n",
       "<tr><td>שם הספק                             </td><td>כותרת התקשרות                            </td><td>הגורם המזמין</td><td>סוג הרכש             </td><td>סטטוס התקשרות</td><td>סכום שאושר        </td><td>סכום ששולם        </td><td>מטבע</td><td>תאריך הזמנה</td><td>תאריך עדכון</td></tr>\n",
       "<tr><td>גרפיטי - שיווק ציוד משרדי ונייר בע\"מ</td><td>נייר צילום לתפעול שוטף יחידת מרכב\"ה באוצר</td><td>משרד האוצר  </td><td>מכרז מרכזי ממוכן     </td><td>False        </td><td>3498.77 + number  </td><td>3498.77 + number  </td><td>ILS </td><td>2016-01-05 </td><td>2016-07-26 </td></tr>\n",
       "<tr><td>אלעד מערכות תוכנה בע\"מ              </td><td>שירותי מיחשוב                            </td><td>משרד האוצר  </td><td>תקנה 14ב - מכרז מרכזי</td><td>False        </td><td>2088450.0 + number</td><td>486047.51 + number</td><td>ILS </td><td>2016-01-05 </td><td>2018-05-15 </td></tr>\n",
       "<tr><td>יונירום אלקטרוניקס בע\"מ             </td><td>תחזוקת מערכת האל-פסק                     </td><td>משרד האוצר  </td><td>פטור ממכרז           </td><td>False        </td><td>2339.91 + number  </td><td>1364.95 + number  </td><td>ILS </td><td>2016-01-05 </td><td>2018-05-15 </td></tr>\n",
       "<tr><td>Total                               </td><td>87                                       </td><td>            </td><td>                     </td><td>             </td><td>                  </td><td>                  </td><td>    </td><td>           </td><td>           </td></tr>\n",
       "</tbody>\n",
       "</table>"
      ],
      "text/plain": [
       "<IPython.core.display.HTML object>"
      ]
     },
     "metadata": {},
     "output_type": "display_data"
    },
    {
     "data": {
      "text/html": [
       "<h3>(contract-spending) שירותי אירוח שרתים: כל ההתקשרויות במצב הסתיים מאותה תקנה תקציבית מ-2017</h3>"
      ],
      "text/plain": [
       "<IPython.core.display.HTML object>"
      ]
     },
     "metadata": {},
     "output_type": "display_data"
    },
    {
     "data": {
      "text/html": [
       "<pre>SELECT coalesce(entity_name, supplier_name->>0) AS \"שם הספק\",\n",
       "       entity_id,\n",
       "       purpose AS \"כותרת התקשרות\",\n",
       "       publisher_name AS \"הגורם המזמין\",\n",
       "       purchase_method->>0 AS \"סוג הרכש\",\n",
       "                         contract_is_active AS \"סטטוס התקשרות\",\n",
       "                         volume AS \"סכום שאושר\",\n",
       "                         executed AS \"סכום ששולם\",\n",
       "                         currency AS \"מטבע\",\n",
       "                         order_date AS \"תאריך הזמנה\",\n",
       "                         payments->-1->>'date' AS \"תאריך עדכון\"\n",
       "FROM contract_spending\n",
       "WHERE (budget_code = '0083050502')\n",
       "  AND (NOT contract_is_active)\n",
       "  AND min_year = 2017</pre>"
      ],
      "text/plain": [
       "<IPython.core.display.HTML object>"
      ]
     },
     "metadata": {},
     "output_type": "display_data"
    },
    {
     "data": {
      "text/html": [
       "<table>\n",
       "<tbody>\n",
       "<tr><td>שם הספק         </td><td>כותרת התקשרות                    </td><td>הגורם המזמין</td><td>סוג הרכש             </td><td>סטטוס התקשרות</td><td>סכום שאושר      </td><td>סכום ששולם      </td><td>מטבע</td><td>תאריך הזמנה</td><td>תאריך עדכון</td></tr>\n",
       "<tr><td>צילומעתיק בעמ   </td><td>טונרים למדפסת                    </td><td>משרד האוצר  </td><td>תקנה 14ב - מכרז מרכזי</td><td>False        </td><td>1604.14 + number</td><td>1762.91 + number</td><td>ILS </td><td>2017-01-09 </td><td>2018-05-15 </td></tr>\n",
       "<tr><td>שטראוס  מים בע\"מ</td><td>שירות למתקני שתיה תמי 4 לשנת 2017</td><td>משרד האוצר  </td><td>תקנה 14ב - מכרז מרכזי</td><td>False        </td><td>893.41 + number </td><td>0.0 + number    </td><td>ILS </td><td>2017-01-16 </td><td>2018-05-15 </td></tr>\n",
       "<tr><td>שטראוס  מים בע\"מ</td><td>שירות למתקן שתיה תמי 4 לשנת 2017 </td><td>משרד האוצר  </td><td>תקנה 14ב - מכרז מרכזי</td><td>False        </td><td>1589.7 + number </td><td>0.0 + number    </td><td>ILS </td><td>2017-01-16 </td><td>2017-08-22 </td></tr>\n",
       "<tr><td>Total           </td><td>59                               </td><td>            </td><td>                     </td><td>             </td><td>                </td><td>                </td><td>    </td><td>           </td><td>           </td></tr>\n",
       "</tbody>\n",
       "</table>"
      ],
      "text/plain": [
       "<IPython.core.display.HTML object>"
      ]
     },
     "metadata": {},
     "output_type": "display_data"
    },
    {
     "data": {
      "text/html": [
       "<h3>(contract-spending) שירותי אירוח שרתים: כל ההתקשרויות במצב הסתיים מאותה תקנה תקציבית מ-2018</h3>"
      ],
      "text/plain": [
       "<IPython.core.display.HTML object>"
      ]
     },
     "metadata": {},
     "output_type": "display_data"
    },
    {
     "data": {
      "text/html": [
       "<pre>SELECT coalesce(entity_name, supplier_name->>0) AS \"שם הספק\",\n",
       "       entity_id,\n",
       "       purpose AS \"כותרת התקשרות\",\n",
       "       publisher_name AS \"הגורם המזמין\",\n",
       "       purchase_method->>0 AS \"סוג הרכש\",\n",
       "                         contract_is_active AS \"סטטוס התקשרות\",\n",
       "                         volume AS \"סכום שאושר\",\n",
       "                         executed AS \"סכום ששולם\",\n",
       "                         currency AS \"מטבע\",\n",
       "                         order_date AS \"תאריך הזמנה\",\n",
       "                         payments->-1->>'date' AS \"תאריך עדכון\"\n",
       "FROM contract_spending\n",
       "WHERE (budget_code = '0083050502')\n",
       "  AND (NOT contract_is_active)\n",
       "  AND min_year = 2018</pre>"
      ],
      "text/plain": [
       "<IPython.core.display.HTML object>"
      ]
     },
     "metadata": {},
     "output_type": "display_data"
    },
    {
     "data": {
      "text/html": [
       "<table>\n",
       "<tbody>\n",
       "<tr><td>שם הספק                             </td><td>כותרת התקשרות          </td><td>הגורם המזמין</td><td>סוג הרכש                 </td><td>סטטוס התקשרות</td><td>סכום שאושר      </td><td>סכום ששולם      </td><td>מטבע</td><td>תאריך הזמנה</td><td>תאריך עדכון</td></tr>\n",
       "<tr><td>בזק בינלאומי בע\"מ                   </td><td>קו תקשורת              </td><td>משרד האוצר  </td><td>פטור ממכרז               </td><td>False        </td><td>2011.23 + number</td><td>0.0 + number    </td><td>ILS </td><td>2018-02-18 </td><td>2018-05-15 </td></tr>\n",
       "<tr><td>קרביץ בעמ                           </td><td>מכרז מוצרי שתייה 7/2014</td><td>משרד האוצר  </td><td>תקנה 1ב - מכרז פומבי רגיל</td><td>False        </td><td>4771.03 + number</td><td>4771.03 + number</td><td>ILS </td><td>2018-01-08 </td><td>2018-05-15 </td></tr>\n",
       "<tr><td>גרפיטי - שיווק ציוד משרדי ונייר בע\"מ</td><td>ציוד מיחשוב            </td><td>משרד האוצר  </td><td>תקנה 14ב - מכרז מרכזי    </td><td>False        </td><td>2711.83 + number</td><td>2711.83 + number</td><td>ILS </td><td>2018-01-09 </td><td>2018-05-15 </td></tr>\n",
       "<tr><td>Total                               </td><td>23                     </td><td>            </td><td>                         </td><td>             </td><td>                </td><td>                </td><td>    </td><td>           </td><td>           </td></tr>\n",
       "</tbody>\n",
       "</table>"
      ],
      "text/plain": [
       "<IPython.core.display.HTML object>"
      ]
     },
     "metadata": {},
     "output_type": "display_data"
    },
    {
     "data": {
      "text/html": [
       "<h3>(contract-spending) שירותי אירוח שרתים: כל ההתקשרויות במצב הסתיים מאותה תקנה תקציבית מ-כל השנים</h3>"
      ],
      "text/plain": [
       "<IPython.core.display.HTML object>"
      ]
     },
     "metadata": {},
     "output_type": "display_data"
    },
    {
     "data": {
      "text/html": [
       "<pre>SELECT coalesce(entity_name, supplier_name->>0) AS \"שם הספק\",\n",
       "       entity_id,\n",
       "       purpose AS \"כותרת התקשרות\",\n",
       "       publisher_name AS \"הגורם המזמין\",\n",
       "       purchase_method->>0 AS \"סוג הרכש\",\n",
       "                         contract_is_active AS \"סטטוס התקשרות\",\n",
       "                         volume AS \"סכום שאושר\",\n",
       "                         executed AS \"סכום ששולם\",\n",
       "                         currency AS \"מטבע\",\n",
       "                         order_date AS \"תאריך הזמנה\",\n",
       "                         payments->-1->>'date' AS \"תאריך עדכון\"\n",
       "FROM contract_spending\n",
       "WHERE (budget_code = '0083050502')\n",
       "  AND (NOT contract_is_active)\n",
       "  AND min_year > 0</pre>"
      ],
      "text/plain": [
       "<IPython.core.display.HTML object>"
      ]
     },
     "metadata": {},
     "output_type": "display_data"
    },
    {
     "data": {
      "text/html": [
       "<table>\n",
       "<tbody>\n",
       "<tr><td>שם הספק                     </td><td>כותרת התקשרות                    </td><td>הגורם המזמין</td><td>סוג הרכש                 </td><td>סטטוס התקשרות</td><td>סכום שאושר        </td><td>סכום ששולם        </td><td>מטבע</td><td>תאריך הזמנה</td><td>תאריך עדכון</td></tr>\n",
       "<tr><td>שפיר הנדסה אזרחית וימית בע\"מ</td><td>חניון הלאום                      </td><td>משרד האוצר  </td><td>תקנה 1ב - מכרז פומבי רגיל</td><td>False        </td><td>6084.0 + number   </td><td>0.0 + number      </td><td>ILS </td><td>2015-02-01 </td><td>2016-11-15 </td></tr>\n",
       "<tr><td>בזק בינלאומי בע\"מ           </td><td>תחזוקת מרכזיה בנין חפציבה        </td><td>משרד האוצר  </td><td>תקנה 14ב - מכרז מרכזי    </td><td>False        </td><td>178691.29 + number</td><td>155981.26 + number</td><td>ILS </td><td>2015-01-14 </td><td>2017-05-16 </td></tr>\n",
       "<tr><td>היולט-פקרד (ישראל) בע\"מ     </td><td>שירות ותחזוקה לחדר מחשב לשנת 2015</td><td>משרד האוצר  </td><td>פטור ממכרז               </td><td>False        </td><td>396610.16 + number</td><td>399152.31 + number</td><td>ILS </td><td>2015-01-22 </td><td>2016-04-18 </td></tr>\n",
       "<tr><td>Total                       </td><td>265                              </td><td>            </td><td>                         </td><td>             </td><td>                  </td><td>                  </td><td>    </td><td>           </td><td>           </td></tr>\n",
       "</tbody>\n",
       "</table>"
      ],
      "text/plain": [
       "<IPython.core.display.HTML object>"
      ]
     },
     "metadata": {},
     "output_type": "display_data"
    },
    {
     "data": {
      "text/html": [
       "<h3>(contract-spending) שירותי אירוח שרתים: כל ההתקשרויות במצב כלשהו עם אותו הספק מ-2015</h3>"
      ],
      "text/plain": [
       "<IPython.core.display.HTML object>"
      ]
     },
     "metadata": {},
     "output_type": "display_data"
    },
    {
     "data": {
      "text/html": [
       "<pre>SELECT coalesce(entity_name, supplier_name->>0) AS \"שם הספק\",\n",
       "       entity_id,\n",
       "       purpose AS \"כותרת התקשרות\",\n",
       "       publisher_name AS \"הגורם המזמין\",\n",
       "       purchase_method->>0 AS \"סוג הרכש\",\n",
       "                         contract_is_active AS \"סטטוס התקשרות\",\n",
       "                         volume AS \"סכום שאושר\",\n",
       "                         executed AS \"סכום ששולם\",\n",
       "                         currency AS \"מטבע\",\n",
       "                         order_date AS \"תאריך הזמנה\",\n",
       "                         payments->-1->>'date' AS \"תאריך עדכון\"\n",
       "FROM contract_spending\n",
       "WHERE (entity_id = '513049759')\n",
       "  AND TRUE\n",
       "  AND min_year = 2015</pre>"
      ],
      "text/plain": [
       "<IPython.core.display.HTML object>"
      ]
     },
     "metadata": {},
     "output_type": "display_data"
    },
    {
     "data": {
      "text/html": [
       "<table>\n",
       "<tbody>\n",
       "<tr><td>שם הספק          </td><td>כותרת התקשרות                           </td><td>הגורם המזמין       </td><td>סוג הרכש             </td><td>סטטוס התקשרות</td><td>סכום שאושר        </td><td>סכום ששולם        </td><td>מטבע</td><td>תאריך הזמנה</td><td>תאריך עדכון</td></tr>\n",
       "<tr><td>אינטרנט בינת בע\"מ</td><td>אירוח מתקן נט המשפט                     </td><td>הנהלת בתי המשפט    </td><td>תקנה 14ב - מכרז מרכזי</td><td>False        </td><td>226067.4 + number </td><td>135438.69 + number</td><td>ILS </td><td>2015-02-08 </td><td>2017-08-09 </td></tr>\n",
       "<tr><td>אינטרנט בינת בע\"מ</td><td>חיבור VPN                               </td><td>משרד התרבות והספורט</td><td>פטור ממכרז           </td><td>False        </td><td>327.6 + number    </td><td>329.35 + number   </td><td>ILS </td><td>2015-04-21 </td><td>2016-11-09 </td></tr>\n",
       "<tr><td>אינטרנט בינת בע\"מ</td><td>התקנה ותחזוקה של כלובים  אתר כלים שלובים</td><td>רשות האכיפה והגבייה</td><td>תקנה 14ב - מכרז מרכזי</td><td>True         </td><td>720883.78 + number</td><td>635242.2 + number </td><td>ILS </td><td>2015-04-21 </td><td>2018-07-11 </td></tr>\n",
       "<tr><td>Total            </td><td>25                                      </td><td>                   </td><td>                     </td><td>             </td><td>                  </td><td>                  </td><td>    </td><td>           </td><td>           </td></tr>\n",
       "</tbody>\n",
       "</table>"
      ],
      "text/plain": [
       "<IPython.core.display.HTML object>"
      ]
     },
     "metadata": {},
     "output_type": "display_data"
    },
    {
     "data": {
      "text/html": [
       "<h3>(contract-spending) שירותי אירוח שרתים: כל ההתקשרויות במצב כלשהו עם אותו הספק מ-2016</h3>"
      ],
      "text/plain": [
       "<IPython.core.display.HTML object>"
      ]
     },
     "metadata": {},
     "output_type": "display_data"
    },
    {
     "data": {
      "text/html": [
       "<pre>SELECT coalesce(entity_name, supplier_name->>0) AS \"שם הספק\",\n",
       "       entity_id,\n",
       "       purpose AS \"כותרת התקשרות\",\n",
       "       publisher_name AS \"הגורם המזמין\",\n",
       "       purchase_method->>0 AS \"סוג הרכש\",\n",
       "                         contract_is_active AS \"סטטוס התקשרות\",\n",
       "                         volume AS \"סכום שאושר\",\n",
       "                         executed AS \"סכום ששולם\",\n",
       "                         currency AS \"מטבע\",\n",
       "                         order_date AS \"תאריך הזמנה\",\n",
       "                         payments->-1->>'date' AS \"תאריך עדכון\"\n",
       "FROM contract_spending\n",
       "WHERE (entity_id = '513049759')\n",
       "  AND TRUE\n",
       "  AND min_year = 2016</pre>"
      ],
      "text/plain": [
       "<IPython.core.display.HTML object>"
      ]
     },
     "metadata": {},
     "output_type": "display_data"
    },
    {
     "data": {
      "text/html": [
       "<table>\n",
       "<tbody>\n",
       "<tr><td>שם הספק          </td><td>כותרת התקשרות            </td><td>הגורם המזמין       </td><td>סוג הרכש             </td><td>סטטוס התקשרות</td><td>סכום שאושר         </td><td>סכום ששולם        </td><td>מטבע</td><td>תאריך הזמנה</td><td>תאריך עדכון</td></tr>\n",
       "<tr><td>אינטרנט בינת בע\"מ</td><td>שירותי אירוח למערכות מידע</td><td>משרד החינוך        </td><td>תקנה 14ב - מכרז מרכזי</td><td>False        </td><td>1341786.04 + number</td><td>750585.31 + number</td><td>ILS </td><td>2016-10-26 </td><td>2018-03-13 </td></tr>\n",
       "<tr><td>אינטרנט בינת בע\"מ</td><td>שרותי מיחשוב             </td><td>משרד התרבות והספורט</td><td>תקנה 14ב - מכרז מרכזי</td><td>False        </td><td>79475.76 + number  </td><td>77762.85 + number </td><td>ILS </td><td>2016-01-26 </td><td>2018-01-09 </td></tr>\n",
       "<tr><td>אינטרנט בינת בע\"מ</td><td>לשימוש המשרד לבט\"פ       </td><td>המשרד לביטחון הפנים</td><td>תקנה 14ב - מכרז מרכזי</td><td>True         </td><td>507247.69 + number </td><td>333174.4 + number </td><td>ILS </td><td>2016-03-16 </td><td>2018-06-07 </td></tr>\n",
       "<tr><td>Total            </td><td>32                       </td><td>                   </td><td>                     </td><td>             </td><td>                   </td><td>                  </td><td>    </td><td>           </td><td>           </td></tr>\n",
       "</tbody>\n",
       "</table>"
      ],
      "text/plain": [
       "<IPython.core.display.HTML object>"
      ]
     },
     "metadata": {},
     "output_type": "display_data"
    },
    {
     "data": {
      "text/html": [
       "<h3>(contract-spending) שירותי אירוח שרתים: כל ההתקשרויות במצב כלשהו עם אותו הספק מ-2017</h3>"
      ],
      "text/plain": [
       "<IPython.core.display.HTML object>"
      ]
     },
     "metadata": {},
     "output_type": "display_data"
    },
    {
     "data": {
      "text/html": [
       "<pre>SELECT coalesce(entity_name, supplier_name->>0) AS \"שם הספק\",\n",
       "       entity_id,\n",
       "       purpose AS \"כותרת התקשרות\",\n",
       "       publisher_name AS \"הגורם המזמין\",\n",
       "       purchase_method->>0 AS \"סוג הרכש\",\n",
       "                         contract_is_active AS \"סטטוס התקשרות\",\n",
       "                         volume AS \"סכום שאושר\",\n",
       "                         executed AS \"סכום ששולם\",\n",
       "                         currency AS \"מטבע\",\n",
       "                         order_date AS \"תאריך הזמנה\",\n",
       "                         payments->-1->>'date' AS \"תאריך עדכון\"\n",
       "FROM contract_spending\n",
       "WHERE (entity_id = '513049759')\n",
       "  AND TRUE\n",
       "  AND min_year = 2017</pre>"
      ],
      "text/plain": [
       "<IPython.core.display.HTML object>"
      ]
     },
     "metadata": {},
     "output_type": "display_data"
    },
    {
     "data": {
      "text/html": [
       "<table>\n",
       "<tbody>\n",
       "<tr><td>שם הספק          </td><td>כותרת התקשרות                                     </td><td>הגורם המזמין             </td><td>סוג הרכש             </td><td>סטטוס התקשרות</td><td>סכום שאושר        </td><td>סכום ששולם        </td><td>מטבע</td><td>תאריך הזמנה</td><td>תאריך עדכון</td></tr>\n",
       "<tr><td>אינטרנט בינת בע\"מ</td><td>ארונות שרתים לחדר שרתים                           </td><td>שירות התעסוקה הישראלי    </td><td>תקנה 14ב - מכרז מרכזי</td><td>True         </td><td>362459.45 + number</td><td>260566.19 + number</td><td>ILS </td><td>2017-01-30 </td><td>2018-01-03 </td></tr>\n",
       "<tr><td>אינטרנט בינת בע\"מ</td><td>תשלום חצי שנתי עבור ארונות                        </td><td>הרשות הארצית לכבאות והצלה</td><td>תקנה 14ב - מכרז מרכזי</td><td>True         </td><td>55373.76 + number </td><td>0.0 + number      </td><td>ILS </td><td>2017-12-13 </td><td>2018-07-10 </td></tr>\n",
       "<tr><td>אינטרנט בינת בע\"מ</td><td>אירוח לתשתיות DATA CENTER  המרכזי של המשרד לשוויון</td><td>המשרד לשוויון חברתי      </td><td>תקנה 14ב - מכרז מרכזי</td><td>True         </td><td>134747.5 + number </td><td>9228.96 + number  </td><td>ILS </td><td>2017-05-15 </td><td>2017-09-19 </td></tr>\n",
       "<tr><td>Total            </td><td>34                                                </td><td>                         </td><td>                     </td><td>             </td><td>                  </td><td>                  </td><td>    </td><td>           </td><td>           </td></tr>\n",
       "</tbody>\n",
       "</table>"
      ],
      "text/plain": [
       "<IPython.core.display.HTML object>"
      ]
     },
     "metadata": {},
     "output_type": "display_data"
    },
    {
     "data": {
      "text/html": [
       "<h3>(contract-spending) שירותי אירוח שרתים: כל ההתקשרויות במצב כלשהו עם אותו הספק מ-2018</h3>"
      ],
      "text/plain": [
       "<IPython.core.display.HTML object>"
      ]
     },
     "metadata": {},
     "output_type": "display_data"
    },
    {
     "data": {
      "text/html": [
       "<pre>SELECT coalesce(entity_name, supplier_name->>0) AS \"שם הספק\",\n",
       "       entity_id,\n",
       "       purpose AS \"כותרת התקשרות\",\n",
       "       publisher_name AS \"הגורם המזמין\",\n",
       "       purchase_method->>0 AS \"סוג הרכש\",\n",
       "                         contract_is_active AS \"סטטוס התקשרות\",\n",
       "                         volume AS \"סכום שאושר\",\n",
       "                         executed AS \"סכום ששולם\",\n",
       "                         currency AS \"מטבע\",\n",
       "                         order_date AS \"תאריך הזמנה\",\n",
       "                         payments->-1->>'date' AS \"תאריך עדכון\"\n",
       "FROM contract_spending\n",
       "WHERE (entity_id = '513049759')\n",
       "  AND TRUE\n",
       "  AND min_year = 2018</pre>"
      ],
      "text/plain": [
       "<IPython.core.display.HTML object>"
      ]
     },
     "metadata": {},
     "output_type": "display_data"
    },
    {
     "data": {
      "text/html": [
       "<table>\n",
       "<tbody>\n",
       "<tr><td>שם הספק          </td><td>כותרת התקשרות                                                            </td><td>הגורם המזמין       </td><td>סוג הרכש             </td><td>סטטוס התקשרות</td><td>סכום שאושר        </td><td>סכום ששולם        </td><td>מטבע</td><td>תאריך הזמנה</td><td>תאריך עדכון</td></tr>\n",
       "<tr><td>אינטרנט בינת בע\"מ</td><td>שרותיאבטחחה למערכות מיחשוב                                               </td><td>משרד התרבות והספורט</td><td>תקנה 14ב - מכרז מרכזי</td><td>True         </td><td>92720.16 + number </td><td>44727.17 + number </td><td>ILS </td><td>2018-01-28 </td><td>2018-07-23 </td></tr>\n",
       "<tr><td>אינטרנט בינת בע\"מ</td><td>רכישת שטחי DC לטובת אירוח מערך המחשוב שישמש להתקנת אתר ה DR שישרת את רשל\"</td><td>משרד המשפטים       </td><td>תקנה 14ב - מכרז מרכזי</td><td>True         </td><td>303835.66 + number</td><td>103824.04 + number</td><td>ILS </td><td>2018-02-22 </td><td>2018-07-23 </td></tr>\n",
       "<tr><td>אינטרנט בינת בע\"מ</td><td>שרותי פרסום                                                              </td><td>משרד התרבות והספורט</td><td>פטור ממכרז           </td><td>True         </td><td>292.5 + number    </td><td>292.5 + number    </td><td>ILS </td><td>2018-04-15 </td><td>2018-07-23 </td></tr>\n",
       "<tr><td>Total            </td><td>10                                                                       </td><td>                   </td><td>                     </td><td>             </td><td>                  </td><td>                  </td><td>    </td><td>           </td><td>           </td></tr>\n",
       "</tbody>\n",
       "</table>"
      ],
      "text/plain": [
       "<IPython.core.display.HTML object>"
      ]
     },
     "metadata": {},
     "output_type": "display_data"
    },
    {
     "data": {
      "text/html": [
       "<h3>(contract-spending) שירותי אירוח שרתים: כל ההתקשרויות במצב כלשהו עם אותו הספק מ-כל השנים</h3>"
      ],
      "text/plain": [
       "<IPython.core.display.HTML object>"
      ]
     },
     "metadata": {},
     "output_type": "display_data"
    },
    {
     "data": {
      "text/html": [
       "<pre>SELECT coalesce(entity_name, supplier_name->>0) AS \"שם הספק\",\n",
       "       entity_id,\n",
       "       purpose AS \"כותרת התקשרות\",\n",
       "       publisher_name AS \"הגורם המזמין\",\n",
       "       purchase_method->>0 AS \"סוג הרכש\",\n",
       "                         contract_is_active AS \"סטטוס התקשרות\",\n",
       "                         volume AS \"סכום שאושר\",\n",
       "                         executed AS \"סכום ששולם\",\n",
       "                         currency AS \"מטבע\",\n",
       "                         order_date AS \"תאריך הזמנה\",\n",
       "                         payments->-1->>'date' AS \"תאריך עדכון\"\n",
       "FROM contract_spending\n",
       "WHERE (entity_id = '513049759')\n",
       "  AND TRUE\n",
       "  AND min_year > 0</pre>"
      ],
      "text/plain": [
       "<IPython.core.display.HTML object>"
      ]
     },
     "metadata": {},
     "output_type": "display_data"
    },
    {
     "data": {
      "text/html": [
       "<table>\n",
       "<tbody>\n",
       "<tr><td>שם הספק          </td><td>כותרת התקשרות             </td><td>הגורם המזמין             </td><td>סוג הרכש             </td><td>סטטוס התקשרות</td><td>סכום שאושר        </td><td>סכום ששולם        </td><td>מטבע</td><td>תאריך הזמנה</td><td>תאריך עדכון</td></tr>\n",
       "<tr><td>אינטרנט בינת בע\"מ</td><td>ארונות שרתים לחדר שרתים   </td><td>שירות התעסוקה הישראלי    </td><td>תקנה 14ב - מכרז מרכזי</td><td>True         </td><td>362459.45 + number</td><td>260566.19 + number</td><td>ILS </td><td>2017-01-30 </td><td>2018-01-03 </td></tr>\n",
       "<tr><td>אינטרנט בינת בע\"מ</td><td>תשלום חצי שנתי עבור ארונות</td><td>הרשות הארצית לכבאות והצלה</td><td>תקנה 14ב - מכרז מרכזי</td><td>True         </td><td>55373.76 + number </td><td>0.0 + number      </td><td>ILS </td><td>2017-12-13 </td><td>2018-07-10 </td></tr>\n",
       "<tr><td>אינטרנט בינת בע\"מ</td><td>אירוח מתקן נט המשפט       </td><td>הנהלת בתי המשפט          </td><td>תקנה 14ב - מכרז מרכזי</td><td>False        </td><td>226067.4 + number </td><td>135438.69 + number</td><td>ILS </td><td>2015-02-08 </td><td>2017-08-09 </td></tr>\n",
       "<tr><td>Total            </td><td>101                       </td><td>                         </td><td>                     </td><td>             </td><td>                  </td><td>                  </td><td>    </td><td>           </td><td>           </td></tr>\n",
       "</tbody>\n",
       "</table>"
      ],
      "text/plain": [
       "<IPython.core.display.HTML object>"
      ]
     },
     "metadata": {},
     "output_type": "display_data"
    },
    {
     "data": {
      "text/html": [
       "<h3>(contract-spending) שירותי אירוח שרתים: כל ההתקשרויות במצב כלשהו עם אותו המפרסם מ-2015</h3>"
      ],
      "text/plain": [
       "<IPython.core.display.HTML object>"
      ]
     },
     "metadata": {},
     "output_type": "display_data"
    },
    {
     "data": {
      "text/html": [
       "<pre>SELECT coalesce(entity_name, supplier_name->>0) AS \"שם הספק\",\n",
       "       entity_id,\n",
       "       purpose AS \"כותרת התקשרות\",\n",
       "       publisher_name AS \"הגורם המזמין\",\n",
       "       purchase_method->>0 AS \"סוג הרכש\",\n",
       "                         contract_is_active AS \"סטטוס התקשרות\",\n",
       "                         volume AS \"סכום שאושר\",\n",
       "                         executed AS \"סכום ששולם\",\n",
       "                         currency AS \"מטבע\",\n",
       "                         order_date AS \"תאריך הזמנה\",\n",
       "                         payments->-1->>'date' AS \"תאריך עדכון\"\n",
       "FROM contract_spending\n",
       "WHERE (publisher_name = 'משרד האוצר')\n",
       "  AND TRUE\n",
       "  AND min_year = 2015</pre>"
      ],
      "text/plain": [
       "<IPython.core.display.HTML object>"
      ]
     },
     "metadata": {},
     "output_type": "display_data"
    },
    {
     "data": {
      "text/html": [
       "<table>\n",
       "<tbody>\n",
       "<tr><td>שם הספק                     </td><td>כותרת התקשרות   </td><td>הגורם המזמין</td><td>סוג הרכש                 </td><td>סטטוס התקשרות</td><td>סכום שאושר       </td><td>סכום ששולם       </td><td>מטבע</td><td>תאריך הזמנה</td><td>תאריך עדכון</td></tr>\n",
       "<tr><td>שפיר הנדסה אזרחית וימית בע\"מ</td><td>חניות-מינהל הרכש</td><td>משרד האוצר  </td><td>תקנה 1ב - מכרז פומבי רגיל</td><td>False        </td><td>92355.12 + number</td><td>98735.27 + number</td><td>ILS </td><td>2015-02-01 </td><td>2017-11-14 </td></tr>\n",
       "<tr><td>שפיר הנדסה אזרחית וימית בע\"מ</td><td>שירותי חניה     </td><td>משרד האוצר  </td><td>תקנה 1ב - מכרז פומבי רגיל</td><td>False        </td><td>232713.0 + number</td><td>21329.43 + number</td><td>ILS </td><td>2015-02-01 </td><td>2016-11-15 </td></tr>\n",
       "<tr><td>שפיר הנדסה אזרחית וימית בע\"מ</td><td>חניון הלאום     </td><td>משרד האוצר  </td><td>תקנה 1ב - מכרז פומבי רגיל</td><td>False        </td><td>91260.0 + number </td><td>0.0 + number     </td><td>ILS </td><td>2015-02-01 </td><td>2016-11-15 </td></tr>\n",
       "<tr><td>Total                       </td><td>3739            </td><td>            </td><td>                         </td><td>             </td><td>                 </td><td>                 </td><td>    </td><td>           </td><td>           </td></tr>\n",
       "</tbody>\n",
       "</table>"
      ],
      "text/plain": [
       "<IPython.core.display.HTML object>"
      ]
     },
     "metadata": {},
     "output_type": "display_data"
    },
    {
     "data": {
      "text/html": [
       "<h3>(contract-spending) שירותי אירוח שרתים: כל ההתקשרויות במצב כלשהו עם אותו המפרסם מ-2016</h3>"
      ],
      "text/plain": [
       "<IPython.core.display.HTML object>"
      ]
     },
     "metadata": {},
     "output_type": "display_data"
    },
    {
     "data": {
      "text/html": [
       "<pre>SELECT coalesce(entity_name, supplier_name->>0) AS \"שם הספק\",\n",
       "       entity_id,\n",
       "       purpose AS \"כותרת התקשרות\",\n",
       "       publisher_name AS \"הגורם המזמין\",\n",
       "       purchase_method->>0 AS \"סוג הרכש\",\n",
       "                         contract_is_active AS \"סטטוס התקשרות\",\n",
       "                         volume AS \"סכום שאושר\",\n",
       "                         executed AS \"סכום ששולם\",\n",
       "                         currency AS \"מטבע\",\n",
       "                         order_date AS \"תאריך הזמנה\",\n",
       "                         payments->-1->>'date' AS \"תאריך עדכון\"\n",
       "FROM contract_spending\n",
       "WHERE (publisher_name = 'משרד האוצר')\n",
       "  AND TRUE\n",
       "  AND min_year = 2016</pre>"
      ],
      "text/plain": [
       "<IPython.core.display.HTML object>"
      ]
     },
     "metadata": {},
     "output_type": "display_data"
    },
    {
     "data": {
      "text/html": [
       "<table>\n",
       "<tbody>\n",
       "<tr><td>שם הספק                         </td><td>כותרת התקשרות                      </td><td>הגורם המזמין</td><td>סוג הרכש                 </td><td>סטטוס התקשרות</td><td>סכום שאושר        </td><td>סכום ששולם        </td><td>מטבע</td><td>תאריך הזמנה</td><td>תאריך עדכון</td></tr>\n",
       "<tr><td>הבניין ברח' יפו 21. ירושלים בע\"מ</td><td>נקיון-גמלאות, מיכון, ב.חשכ\"ל       </td><td>משרד האוצר  </td><td>תקנה 1ב - מכרז פומבי רגיל</td><td>False        </td><td>162486.32 + number</td><td>165227.31 + number</td><td>ILS </td><td>2016-01-12 </td><td>2017-05-16 </td></tr>\n",
       "<tr><td>הבניין ברח' יפו 21. ירושלים בע\"מ</td><td>נקיון-גמלאות, מיכון, ב.חשכ\"ל       </td><td>משרד האוצר  </td><td>תקנה 1ב - מכרז פומבי רגיל</td><td>False        </td><td>18054.04 + number </td><td>18368.76 + number </td><td>ILS </td><td>2016-01-12 </td><td>2017-05-16 </td></tr>\n",
       "<tr><td>עדיף תקשורת בע\"מ                </td><td>רכישת מנוי לאתר אינטרנט ומגזין עדיף</td><td>משרד האוצר  </td><td>פטור ממכרז               </td><td>False        </td><td>14040.0 + number  </td><td>14040.0 + number  </td><td>ILS </td><td>2016-01-11 </td><td>2016-08-11 </td></tr>\n",
       "<tr><td>Total                           </td><td>4492                               </td><td>            </td><td>                         </td><td>             </td><td>                  </td><td>                  </td><td>    </td><td>           </td><td>           </td></tr>\n",
       "</tbody>\n",
       "</table>"
      ],
      "text/plain": [
       "<IPython.core.display.HTML object>"
      ]
     },
     "metadata": {},
     "output_type": "display_data"
    },
    {
     "data": {
      "text/html": [
       "<h3>(contract-spending) שירותי אירוח שרתים: כל ההתקשרויות במצב כלשהו עם אותו המפרסם מ-2017</h3>"
      ],
      "text/plain": [
       "<IPython.core.display.HTML object>"
      ]
     },
     "metadata": {},
     "output_type": "display_data"
    },
    {
     "data": {
      "text/html": [
       "<pre>SELECT coalesce(entity_name, supplier_name->>0) AS \"שם הספק\",\n",
       "       entity_id,\n",
       "       purpose AS \"כותרת התקשרות\",\n",
       "       publisher_name AS \"הגורם המזמין\",\n",
       "       purchase_method->>0 AS \"סוג הרכש\",\n",
       "                         contract_is_active AS \"סטטוס התקשרות\",\n",
       "                         volume AS \"סכום שאושר\",\n",
       "                         executed AS \"סכום ששולם\",\n",
       "                         currency AS \"מטבע\",\n",
       "                         order_date AS \"תאריך הזמנה\",\n",
       "                         payments->-1->>'date' AS \"תאריך עדכון\"\n",
       "FROM contract_spending\n",
       "WHERE (publisher_name = 'משרד האוצר')\n",
       "  AND TRUE\n",
       "  AND min_year = 2017</pre>"
      ],
      "text/plain": [
       "<IPython.core.display.HTML object>"
      ]
     },
     "metadata": {},
     "output_type": "display_data"
    },
    {
     "data": {
      "text/html": [
       "<table>\n",
       "<tbody>\n",
       "<tr><td>שם הספק                       </td><td>כותרת התקשרות                   </td><td>הגורם המזמין</td><td>סוג הרכש                 </td><td>סטטוס התקשרות</td><td>סכום שאושר        </td><td>סכום ששולם        </td><td>מטבע</td><td>תאריך הזמנה</td><td>תאריך עדכון</td></tr>\n",
       "<tr><td>משרד האוצר/הדיור הממשלתי/חשבות</td><td>עלויות שכ\"ד                     </td><td>משרד האוצר  </td><td>התקשרות עם גופים ממשלתיים</td><td>False        </td><td>167310.76 + number</td><td>195945.77 + number</td><td>ILS </td><td>2017-01-02 </td><td>2018-02-12 </td></tr>\n",
       "<tr><td>EASY TALK. INC                </td><td>EDUCATION EXPENSES FOR DELEGATES</td><td>משרד האוצר  </td><td>פטור ממכרז               </td><td>True         </td><td>3152.5 + number   </td><td>4610.11 + number  </td><td>USD </td><td>2017-01-12 </td><td>2018-02-12 </td></tr>\n",
       "<tr><td>EASY TALK. INC                </td><td>EDUCATION EXPENSES FOR DELEGATES</td><td>משרד האוצר  </td><td>פטור ממכרז               </td><td>True         </td><td>26975.0 + number  </td><td>52306.66 + number </td><td>USD </td><td>2017-01-12 </td><td>2018-02-12 </td></tr>\n",
       "<tr><td>Total                         </td><td>4944                            </td><td>            </td><td>                         </td><td>             </td><td>                  </td><td>                  </td><td>    </td><td>           </td><td>           </td></tr>\n",
       "</tbody>\n",
       "</table>"
      ],
      "text/plain": [
       "<IPython.core.display.HTML object>"
      ]
     },
     "metadata": {},
     "output_type": "display_data"
    },
    {
     "data": {
      "text/html": [
       "<h3>(contract-spending) שירותי אירוח שרתים: כל ההתקשרויות במצב כלשהו עם אותו המפרסם מ-2018</h3>"
      ],
      "text/plain": [
       "<IPython.core.display.HTML object>"
      ]
     },
     "metadata": {},
     "output_type": "display_data"
    },
    {
     "data": {
      "text/html": [
       "<pre>SELECT coalesce(entity_name, supplier_name->>0) AS \"שם הספק\",\n",
       "       entity_id,\n",
       "       purpose AS \"כותרת התקשרות\",\n",
       "       publisher_name AS \"הגורם המזמין\",\n",
       "       purchase_method->>0 AS \"סוג הרכש\",\n",
       "                         contract_is_active AS \"סטטוס התקשרות\",\n",
       "                         volume AS \"סכום שאושר\",\n",
       "                         executed AS \"סכום ששולם\",\n",
       "                         currency AS \"מטבע\",\n",
       "                         order_date AS \"תאריך הזמנה\",\n",
       "                         payments->-1->>'date' AS \"תאריך עדכון\"\n",
       "FROM contract_spending\n",
       "WHERE (publisher_name = 'משרד האוצר')\n",
       "  AND TRUE\n",
       "  AND min_year = 2018</pre>"
      ],
      "text/plain": [
       "<IPython.core.display.HTML object>"
      ]
     },
     "metadata": {},
     "output_type": "display_data"
    },
    {
     "data": {
      "text/html": [
       "<table>\n",
       "<tbody>\n",
       "<tr><td>שם הספק                     </td><td>כותרת התקשרות                                   </td><td>הגורם המזמין</td><td>סוג הרכש             </td><td>סטטוס התקשרות</td><td>סכום שאושר        </td><td>סכום ששולם      </td><td>מטבע</td><td>תאריך הזמנה</td><td>תאריך עדכון</td></tr>\n",
       "<tr><td>בזק בינלאומי בע\"מ           </td><td>קו תקשורת                                       </td><td>משרד האוצר  </td><td>פטור ממכרז           </td><td>False        </td><td>2011.23 + number  </td><td>0.0 + number    </td><td>ILS </td><td>2018-02-18 </td><td>2018-05-15 </td></tr>\n",
       "<tr><td>תפוז ייזום ופיתוח תחנות בע\"מ</td><td>שירותי חניה עבור יחידת הפיקוח על הבניה מחוז רמלה</td><td>משרד האוצר  </td><td>פטור ממכרז           </td><td>True         </td><td>72692.1 + number  </td><td>11569.0 + number</td><td>ILS </td><td>2018-02-21 </td><td>2018-05-15 </td></tr>\n",
       "<tr><td>ד.מ. (3000) הנדסה בע\"מ      </td><td>ציוד מולטימדיה                                  </td><td>משרד האוצר  </td><td>תקנה 14ב - מכרז מרכזי</td><td>False        </td><td>242023.64 + number</td><td>0.0 + number    </td><td>ILS </td><td>2018-01-07 </td><td>2018-05-15 </td></tr>\n",
       "<tr><td>Total                       </td><td>1545                                            </td><td>            </td><td>                     </td><td>             </td><td>                  </td><td>                </td><td>    </td><td>           </td><td>           </td></tr>\n",
       "</tbody>\n",
       "</table>"
      ],
      "text/plain": [
       "<IPython.core.display.HTML object>"
      ]
     },
     "metadata": {},
     "output_type": "display_data"
    },
    {
     "data": {
      "text/html": [
       "<h3>(contract-spending) שירותי אירוח שרתים: כל ההתקשרויות במצב כלשהו עם אותו המפרסם מ-כל השנים</h3>"
      ],
      "text/plain": [
       "<IPython.core.display.HTML object>"
      ]
     },
     "metadata": {},
     "output_type": "display_data"
    },
    {
     "data": {
      "text/html": [
       "<pre>SELECT coalesce(entity_name, supplier_name->>0) AS \"שם הספק\",\n",
       "       entity_id,\n",
       "       purpose AS \"כותרת התקשרות\",\n",
       "       publisher_name AS \"הגורם המזמין\",\n",
       "       purchase_method->>0 AS \"סוג הרכש\",\n",
       "                         contract_is_active AS \"סטטוס התקשרות\",\n",
       "                         volume AS \"סכום שאושר\",\n",
       "                         executed AS \"סכום ששולם\",\n",
       "                         currency AS \"מטבע\",\n",
       "                         order_date AS \"תאריך הזמנה\",\n",
       "                         payments->-1->>'date' AS \"תאריך עדכון\"\n",
       "FROM contract_spending\n",
       "WHERE (publisher_name = 'משרד האוצר')\n",
       "  AND TRUE\n",
       "  AND min_year > 0</pre>"
      ],
      "text/plain": [
       "<IPython.core.display.HTML object>"
      ]
     },
     "metadata": {},
     "output_type": "display_data"
    },
    {
     "data": {
      "text/html": [
       "<table>\n",
       "<tbody>\n",
       "<tr><td>שם הספק                     </td><td>כותרת התקשרות   </td><td>הגורם המזמין</td><td>סוג הרכש                 </td><td>סטטוס התקשרות</td><td>סכום שאושר       </td><td>סכום ששולם       </td><td>מטבע</td><td>תאריך הזמנה</td><td>תאריך עדכון</td></tr>\n",
       "<tr><td>שפיר הנדסה אזרחית וימית בע\"מ</td><td>חניות-מינהל הרכש</td><td>משרד האוצר  </td><td>תקנה 1ב - מכרז פומבי רגיל</td><td>False        </td><td>92355.12 + number</td><td>98735.27 + number</td><td>ILS </td><td>2015-02-01 </td><td>2017-11-14 </td></tr>\n",
       "<tr><td>שפיר הנדסה אזרחית וימית בע\"מ</td><td>שירותי חניה     </td><td>משרד האוצר  </td><td>תקנה 1ב - מכרז פומבי רגיל</td><td>False        </td><td>232713.0 + number</td><td>21329.43 + number</td><td>ILS </td><td>2015-02-01 </td><td>2016-11-15 </td></tr>\n",
       "<tr><td>שפיר הנדסה אזרחית וימית בע\"מ</td><td>חניון הלאום     </td><td>משרד האוצר  </td><td>תקנה 1ב - מכרז פומבי רגיל</td><td>False        </td><td>91260.0 + number </td><td>0.0 + number     </td><td>ILS </td><td>2015-02-01 </td><td>2016-11-15 </td></tr>\n",
       "<tr><td>Total                       </td><td>14724           </td><td>            </td><td>                         </td><td>             </td><td>                 </td><td>                 </td><td>    </td><td>           </td><td>           </td></tr>\n",
       "</tbody>\n",
       "</table>"
      ],
      "text/plain": [
       "<IPython.core.display.HTML object>"
      ]
     },
     "metadata": {},
     "output_type": "display_data"
    },
    {
     "data": {
      "text/html": [
       "<h3>(contract-spending) שירותי אירוח שרתים: כל ההתקשרויות במצב כלשהו מאותה תקנה תקציבית מ-2015</h3>"
      ],
      "text/plain": [
       "<IPython.core.display.HTML object>"
      ]
     },
     "metadata": {},
     "output_type": "display_data"
    },
    {
     "data": {
      "text/html": [
       "<pre>SELECT coalesce(entity_name, supplier_name->>0) AS \"שם הספק\",\n",
       "       entity_id,\n",
       "       purpose AS \"כותרת התקשרות\",\n",
       "       publisher_name AS \"הגורם המזמין\",\n",
       "       purchase_method->>0 AS \"סוג הרכש\",\n",
       "                         contract_is_active AS \"סטטוס התקשרות\",\n",
       "                         volume AS \"סכום שאושר\",\n",
       "                         executed AS \"סכום ששולם\",\n",
       "                         currency AS \"מטבע\",\n",
       "                         order_date AS \"תאריך הזמנה\",\n",
       "                         payments->-1->>'date' AS \"תאריך עדכון\"\n",
       "FROM contract_spending\n",
       "WHERE (budget_code = '0083050502')\n",
       "  AND TRUE\n",
       "  AND min_year = 2015</pre>"
      ],
      "text/plain": [
       "<IPython.core.display.HTML object>"
      ]
     },
     "metadata": {},
     "output_type": "display_data"
    },
    {
     "data": {
      "text/html": [
       "<table>\n",
       "<tbody>\n",
       "<tr><td>שם הספק                     </td><td>כותרת התקשרות                    </td><td>הגורם המזמין</td><td>סוג הרכש                 </td><td>סטטוס התקשרות</td><td>סכום שאושר        </td><td>סכום ששולם        </td><td>מטבע</td><td>תאריך הזמנה</td><td>תאריך עדכון</td></tr>\n",
       "<tr><td>שפיר הנדסה אזרחית וימית בע\"מ</td><td>חניון הלאום                      </td><td>משרד האוצר  </td><td>תקנה 1ב - מכרז פומבי רגיל</td><td>False        </td><td>6084.0 + number   </td><td>0.0 + number      </td><td>ILS </td><td>2015-02-01 </td><td>2016-11-15 </td></tr>\n",
       "<tr><td>בזק בינלאומי בע\"מ           </td><td>תחזוקת מרכזיה בנין חפציבה        </td><td>משרד האוצר  </td><td>תקנה 14ב - מכרז מרכזי    </td><td>False        </td><td>178691.29 + number</td><td>155981.26 + number</td><td>ILS </td><td>2015-01-14 </td><td>2017-05-16 </td></tr>\n",
       "<tr><td>היולט-פקרד (ישראל) בע\"מ     </td><td>שירות ותחזוקה לחדר מחשב לשנת 2015</td><td>משרד האוצר  </td><td>פטור ממכרז               </td><td>False        </td><td>396610.16 + number</td><td>399152.31 + number</td><td>ILS </td><td>2015-01-22 </td><td>2016-04-18 </td></tr>\n",
       "<tr><td>Total                       </td><td>97                               </td><td>            </td><td>                         </td><td>             </td><td>                  </td><td>                  </td><td>    </td><td>           </td><td>           </td></tr>\n",
       "</tbody>\n",
       "</table>"
      ],
      "text/plain": [
       "<IPython.core.display.HTML object>"
      ]
     },
     "metadata": {},
     "output_type": "display_data"
    },
    {
     "data": {
      "text/html": [
       "<h3>(contract-spending) שירותי אירוח שרתים: כל ההתקשרויות במצב כלשהו מאותה תקנה תקציבית מ-2016</h3>"
      ],
      "text/plain": [
       "<IPython.core.display.HTML object>"
      ]
     },
     "metadata": {},
     "output_type": "display_data"
    },
    {
     "data": {
      "text/html": [
       "<pre>SELECT coalesce(entity_name, supplier_name->>0) AS \"שם הספק\",\n",
       "       entity_id,\n",
       "       purpose AS \"כותרת התקשרות\",\n",
       "       publisher_name AS \"הגורם המזמין\",\n",
       "       purchase_method->>0 AS \"סוג הרכש\",\n",
       "                         contract_is_active AS \"סטטוס התקשרות\",\n",
       "                         volume AS \"סכום שאושר\",\n",
       "                         executed AS \"סכום ששולם\",\n",
       "                         currency AS \"מטבע\",\n",
       "                         order_date AS \"תאריך הזמנה\",\n",
       "                         payments->-1->>'date' AS \"תאריך עדכון\"\n",
       "FROM contract_spending\n",
       "WHERE (budget_code = '0083050502')\n",
       "  AND TRUE\n",
       "  AND min_year = 2016</pre>"
      ],
      "text/plain": [
       "<IPython.core.display.HTML object>"
      ]
     },
     "metadata": {},
     "output_type": "display_data"
    },
    {
     "data": {
      "text/html": [
       "<table>\n",
       "<tbody>\n",
       "<tr><td>שם הספק                             </td><td>כותרת התקשרות                            </td><td>הגורם המזמין</td><td>סוג הרכש             </td><td>סטטוס התקשרות</td><td>סכום שאושר        </td><td>סכום ששולם        </td><td>מטבע</td><td>תאריך הזמנה</td><td>תאריך עדכון</td></tr>\n",
       "<tr><td>גרפיטי - שיווק ציוד משרדי ונייר בע\"מ</td><td>נייר צילום לתפעול שוטף יחידת מרכב\"ה באוצר</td><td>משרד האוצר  </td><td>מכרז מרכזי ממוכן     </td><td>False        </td><td>3498.77 + number  </td><td>3498.77 + number  </td><td>ILS </td><td>2016-01-05 </td><td>2016-07-26 </td></tr>\n",
       "<tr><td>אלעד מערכות תוכנה בע\"מ              </td><td>שירותי מיחשוב                            </td><td>משרד האוצר  </td><td>תקנה 14ב - מכרז מרכזי</td><td>False        </td><td>2088450.0 + number</td><td>486047.51 + number</td><td>ILS </td><td>2016-01-05 </td><td>2018-05-15 </td></tr>\n",
       "<tr><td>יונירום אלקטרוניקס בע\"מ             </td><td>תחזוקת מערכת האל-פסק                     </td><td>משרד האוצר  </td><td>פטור ממכרז           </td><td>False        </td><td>2339.91 + number  </td><td>1364.95 + number  </td><td>ILS </td><td>2016-01-05 </td><td>2018-05-15 </td></tr>\n",
       "<tr><td>Total                               </td><td>106                                      </td><td>            </td><td>                     </td><td>             </td><td>                  </td><td>                  </td><td>    </td><td>           </td><td>           </td></tr>\n",
       "</tbody>\n",
       "</table>"
      ],
      "text/plain": [
       "<IPython.core.display.HTML object>"
      ]
     },
     "metadata": {},
     "output_type": "display_data"
    },
    {
     "data": {
      "text/html": [
       "<h3>(contract-spending) שירותי אירוח שרתים: כל ההתקשרויות במצב כלשהו מאותה תקנה תקציבית מ-2017</h3>"
      ],
      "text/plain": [
       "<IPython.core.display.HTML object>"
      ]
     },
     "metadata": {},
     "output_type": "display_data"
    },
    {
     "data": {
      "text/html": [
       "<pre>SELECT coalesce(entity_name, supplier_name->>0) AS \"שם הספק\",\n",
       "       entity_id,\n",
       "       purpose AS \"כותרת התקשרות\",\n",
       "       publisher_name AS \"הגורם המזמין\",\n",
       "       purchase_method->>0 AS \"סוג הרכש\",\n",
       "                         contract_is_active AS \"סטטוס התקשרות\",\n",
       "                         volume AS \"סכום שאושר\",\n",
       "                         executed AS \"סכום ששולם\",\n",
       "                         currency AS \"מטבע\",\n",
       "                         order_date AS \"תאריך הזמנה\",\n",
       "                         payments->-1->>'date' AS \"תאריך עדכון\"\n",
       "FROM contract_spending\n",
       "WHERE (budget_code = '0083050502')\n",
       "  AND TRUE\n",
       "  AND min_year = 2017</pre>"
      ],
      "text/plain": [
       "<IPython.core.display.HTML object>"
      ]
     },
     "metadata": {},
     "output_type": "display_data"
    },
    {
     "data": {
      "text/html": [
       "<table>\n",
       "<tbody>\n",
       "<tr><td>שם הספק         </td><td>כותרת התקשרות                    </td><td>הגורם המזמין</td><td>סוג הרכש             </td><td>סטטוס התקשרות</td><td>סכום שאושר      </td><td>סכום ששולם      </td><td>מטבע</td><td>תאריך הזמנה</td><td>תאריך עדכון</td></tr>\n",
       "<tr><td>צילומעתיק בעמ   </td><td>טונרים למדפסת                    </td><td>משרד האוצר  </td><td>תקנה 14ב - מכרז מרכזי</td><td>False        </td><td>1604.14 + number</td><td>1762.91 + number</td><td>ILS </td><td>2017-01-09 </td><td>2018-05-15 </td></tr>\n",
       "<tr><td>שטראוס  מים בע\"מ</td><td>שירות למתקני שתיה תמי 4 לשנת 2017</td><td>משרד האוצר  </td><td>תקנה 14ב - מכרז מרכזי</td><td>False        </td><td>893.41 + number </td><td>0.0 + number    </td><td>ILS </td><td>2017-01-16 </td><td>2018-05-15 </td></tr>\n",
       "<tr><td>שטראוס  מים בע\"מ</td><td>שירות למתקן שתיה תמי 4 לשנת 2017 </td><td>משרד האוצר  </td><td>תקנה 14ב - מכרז מרכזי</td><td>False        </td><td>1589.7 + number </td><td>0.0 + number    </td><td>ILS </td><td>2017-01-16 </td><td>2017-08-22 </td></tr>\n",
       "<tr><td>Total           </td><td>93                               </td><td>            </td><td>                     </td><td>             </td><td>                </td><td>                </td><td>    </td><td>           </td><td>           </td></tr>\n",
       "</tbody>\n",
       "</table>"
      ],
      "text/plain": [
       "<IPython.core.display.HTML object>"
      ]
     },
     "metadata": {},
     "output_type": "display_data"
    },
    {
     "data": {
      "text/html": [
       "<h3>(contract-spending) שירותי אירוח שרתים: כל ההתקשרויות במצב כלשהו מאותה תקנה תקציבית מ-2018</h3>"
      ],
      "text/plain": [
       "<IPython.core.display.HTML object>"
      ]
     },
     "metadata": {},
     "output_type": "display_data"
    },
    {
     "data": {
      "text/html": [
       "<pre>SELECT coalesce(entity_name, supplier_name->>0) AS \"שם הספק\",\n",
       "       entity_id,\n",
       "       purpose AS \"כותרת התקשרות\",\n",
       "       publisher_name AS \"הגורם המזמין\",\n",
       "       purchase_method->>0 AS \"סוג הרכש\",\n",
       "                         contract_is_active AS \"סטטוס התקשרות\",\n",
       "                         volume AS \"סכום שאושר\",\n",
       "                         executed AS \"סכום ששולם\",\n",
       "                         currency AS \"מטבע\",\n",
       "                         order_date AS \"תאריך הזמנה\",\n",
       "                         payments->-1->>'date' AS \"תאריך עדכון\"\n",
       "FROM contract_spending\n",
       "WHERE (budget_code = '0083050502')\n",
       "  AND TRUE\n",
       "  AND min_year = 2018</pre>"
      ],
      "text/plain": [
       "<IPython.core.display.HTML object>"
      ]
     },
     "metadata": {},
     "output_type": "display_data"
    },
    {
     "data": {
      "text/html": [
       "<table>\n",
       "<tbody>\n",
       "<tr><td>שם הספק                         </td><td>כותרת התקשרות                                                         </td><td>הגורם המזמין</td><td>סוג הרכש                 </td><td>סטטוס התקשרות</td><td>סכום שאושר       </td><td>סכום ששולם       </td><td>מטבע</td><td>תאריך הזמנה</td><td>תאריך עדכון</td></tr>\n",
       "<tr><td>בזק בינלאומי בע\"מ               </td><td>קו תקשורת                                                             </td><td>משרד האוצר  </td><td>פטור ממכרז               </td><td>False        </td><td>2011.23 + number </td><td>0.0 + number     </td><td>ILS </td><td>2018-02-18 </td><td>2018-05-15 </td></tr>\n",
       "<tr><td>משרד רוה\"מ/לשכת הפרסום הממשלתית </td><td>פרסום בעיתונות בגין מכרז פומבי 12/2016 לאספקת תוכנת השתלטות ליח' מרכבה</td><td>משרד האוצר  </td><td>התקשרות עם גופים ממשלתיים</td><td>True         </td><td>8327.5 + number  </td><td>0.0 + number     </td><td>ILS </td><td>2018-01-07 </td><td>2018-05-15 </td></tr>\n",
       "<tr><td>טופ-ליין יבוא ושיווק רהיטים בע\"מ</td><td>כסאות                                                                 </td><td>משרד האוצר  </td><td>תקנה 14ב - מכרז מרכזי    </td><td>True         </td><td>19324.31 + number</td><td>19324.31 + number</td><td>ILS </td><td>2018-01-07 </td><td>2018-05-15 </td></tr>\n",
       "<tr><td>Total                           </td><td>39                                                                    </td><td>            </td><td>                         </td><td>             </td><td>                 </td><td>                 </td><td>    </td><td>           </td><td>           </td></tr>\n",
       "</tbody>\n",
       "</table>"
      ],
      "text/plain": [
       "<IPython.core.display.HTML object>"
      ]
     },
     "metadata": {},
     "output_type": "display_data"
    },
    {
     "data": {
      "text/html": [
       "<h3>(contract-spending) שירותי אירוח שרתים: כל ההתקשרויות במצב כלשהו מאותה תקנה תקציבית מ-כל השנים</h3>"
      ],
      "text/plain": [
       "<IPython.core.display.HTML object>"
      ]
     },
     "metadata": {},
     "output_type": "display_data"
    },
    {
     "data": {
      "text/html": [
       "<pre>SELECT coalesce(entity_name, supplier_name->>0) AS \"שם הספק\",\n",
       "       entity_id,\n",
       "       purpose AS \"כותרת התקשרות\",\n",
       "       publisher_name AS \"הגורם המזמין\",\n",
       "       purchase_method->>0 AS \"סוג הרכש\",\n",
       "                         contract_is_active AS \"סטטוס התקשרות\",\n",
       "                         volume AS \"סכום שאושר\",\n",
       "                         executed AS \"סכום ששולם\",\n",
       "                         currency AS \"מטבע\",\n",
       "                         order_date AS \"תאריך הזמנה\",\n",
       "                         payments->-1->>'date' AS \"תאריך עדכון\"\n",
       "FROM contract_spending\n",
       "WHERE (budget_code = '0083050502')\n",
       "  AND TRUE\n",
       "  AND min_year > 0</pre>"
      ],
      "text/plain": [
       "<IPython.core.display.HTML object>"
      ]
     },
     "metadata": {},
     "output_type": "display_data"
    },
    {
     "data": {
      "text/html": [
       "<table>\n",
       "<tbody>\n",
       "<tr><td>שם הספק                     </td><td>כותרת התקשרות                    </td><td>הגורם המזמין</td><td>סוג הרכש                 </td><td>סטטוס התקשרות</td><td>סכום שאושר        </td><td>סכום ששולם        </td><td>מטבע</td><td>תאריך הזמנה</td><td>תאריך עדכון</td></tr>\n",
       "<tr><td>שפיר הנדסה אזרחית וימית בע\"מ</td><td>חניון הלאום                      </td><td>משרד האוצר  </td><td>תקנה 1ב - מכרז פומבי רגיל</td><td>False        </td><td>6084.0 + number   </td><td>0.0 + number      </td><td>ILS </td><td>2015-02-01 </td><td>2016-11-15 </td></tr>\n",
       "<tr><td>בזק בינלאומי בע\"מ           </td><td>תחזוקת מרכזיה בנין חפציבה        </td><td>משרד האוצר  </td><td>תקנה 14ב - מכרז מרכזי    </td><td>False        </td><td>178691.29 + number</td><td>155981.26 + number</td><td>ILS </td><td>2015-01-14 </td><td>2017-05-16 </td></tr>\n",
       "<tr><td>היולט-פקרד (ישראל) בע\"מ     </td><td>שירות ותחזוקה לחדר מחשב לשנת 2015</td><td>משרד האוצר  </td><td>פטור ממכרז               </td><td>False        </td><td>396610.16 + number</td><td>399152.31 + number</td><td>ILS </td><td>2015-01-22 </td><td>2016-04-18 </td></tr>\n",
       "<tr><td>Total                       </td><td>335                              </td><td>            </td><td>                         </td><td>             </td><td>                  </td><td>                  </td><td>    </td><td>           </td><td>           </td></tr>\n",
       "</tbody>\n",
       "</table>"
      ],
      "text/plain": [
       "<IPython.core.display.HTML object>"
      ]
     },
     "metadata": {},
     "output_type": "display_data"
    },
    {
     "name": "stdout",
     "output_type": "stream",
     "text": [
      "Getting https://next.obudget.org/get/contract-spending/%D7%A9%D7%99%D7%A8%D7%95%D7%AA%20%D7%91%D7%AA%D7%99%20%D7%94%D7%A1%D7%95%D7%94%D7%A8/4501041809/0052400102\n"
     ]
    },
    {
     "data": {
      "text/html": [
       "<h3>(contract-spending) הקמת מטבח וחדר אוכל סגל בב/ס שיטה: כל ההתקשרויות במצב פעיל עם אותו הספק מ-2015</h3>"
      ],
      "text/plain": [
       "<IPython.core.display.HTML object>"
      ]
     },
     "metadata": {},
     "output_type": "display_data"
    },
    {
     "data": {
      "text/html": [
       "<pre>SELECT coalesce(entity_name, supplier_name->>0) AS \"שם הספק\",\n",
       "       entity_id,\n",
       "       purpose AS \"כותרת התקשרות\",\n",
       "       publisher_name AS \"הגורם המזמין\",\n",
       "       purchase_method->>0 AS \"סוג הרכש\",\n",
       "                         contract_is_active AS \"סטטוס התקשרות\",\n",
       "                         volume AS \"סכום שאושר\",\n",
       "                         executed AS \"סכום ששולם\",\n",
       "                         currency AS \"מטבע\",\n",
       "                         order_date AS \"תאריך הזמנה\",\n",
       "                         payments->-1->>'date' AS \"תאריך עדכון\"\n",
       "FROM contract_spending\n",
       "WHERE (entity_id = '511794661')\n",
       "  AND contract_is_active\n",
       "  AND min_year = 2015</pre>"
      ],
      "text/plain": [
       "<IPython.core.display.HTML object>"
      ]
     },
     "metadata": {},
     "output_type": "display_data"
    },
    {
     "data": {
      "text/html": [
       "<table>\n",
       "<tbody>\n",
       "<tr><td>שם הספק       </td><td>כותרת התקשרות                            </td><td>הגורם המזמין   </td><td>סוג הרכש                 </td><td>סטטוס התקשרות</td><td>סכום שאושר        </td><td>סכום ששולם        </td><td>מטבע</td><td>תאריך הזמנה</td><td>תאריך עדכון</td></tr>\n",
       "<tr><td>אחים קייס בע\"מ</td><td>עבודות חשמל במסגרת פרויקט כיבוי אש בשיטה.</td><td>שירות בתי הסוהר</td><td>תקנה 1ב - מכרז פומבי רגיל</td><td>True         </td><td>122668.53 + number</td><td>115070.11 + number</td><td>ILS </td><td>2015-08-30 </td><td>2018-03-06 </td></tr>\n",
       "<tr><td>אחים קייס בע\"מ</td><td>הקמת משרדי פקא\"ל צפון במגידו.            </td><td>שירות בתי הסוהר</td><td>תקנה 1ב - מכרז פומבי רגיל</td><td>True         </td><td>368542.98 + number</td><td>362176.44 + number</td><td>ILS </td><td>2015-12-24 </td><td>2018-03-06 </td></tr>\n",
       "<tr><td>אחים קייס בע\"מ</td><td>הסבת תאים לתאי פיקוח במחוז צפון.         </td><td>שירות בתי הסוהר</td><td>תקנה 1ב - מכרז פומבי רגיל</td><td>True         </td><td>299031.77 + number</td><td>82015.67 + number </td><td>ILS </td><td>2015-12-17 </td><td>2018-03-06 </td></tr>\n",
       "<tr><td>Total         </td><td>3                                        </td><td>               </td><td>                         </td><td>             </td><td>                  </td><td>                  </td><td>    </td><td>           </td><td>           </td></tr>\n",
       "</tbody>\n",
       "</table>"
      ],
      "text/plain": [
       "<IPython.core.display.HTML object>"
      ]
     },
     "metadata": {},
     "output_type": "display_data"
    },
    {
     "data": {
      "text/html": [
       "<h3>(contract-spending) הקמת מטבח וחדר אוכל סגל בב/ס שיטה: כל ההתקשרויות במצב פעיל עם אותו הספק מ-2016</h3>"
      ],
      "text/plain": [
       "<IPython.core.display.HTML object>"
      ]
     },
     "metadata": {},
     "output_type": "display_data"
    },
    {
     "data": {
      "text/html": [
       "<pre>SELECT coalesce(entity_name, supplier_name->>0) AS \"שם הספק\",\n",
       "       entity_id,\n",
       "       purpose AS \"כותרת התקשרות\",\n",
       "       publisher_name AS \"הגורם המזמין\",\n",
       "       purchase_method->>0 AS \"סוג הרכש\",\n",
       "                         contract_is_active AS \"סטטוס התקשרות\",\n",
       "                         volume AS \"סכום שאושר\",\n",
       "                         executed AS \"סכום ששולם\",\n",
       "                         currency AS \"מטבע\",\n",
       "                         order_date AS \"תאריך הזמנה\",\n",
       "                         payments->-1->>'date' AS \"תאריך עדכון\"\n",
       "FROM contract_spending\n",
       "WHERE (entity_id = '511794661')\n",
       "  AND contract_is_active\n",
       "  AND min_year = 2016</pre>"
      ],
      "text/plain": [
       "<IPython.core.display.HTML object>"
      ]
     },
     "metadata": {},
     "output_type": "display_data"
    },
    {
     "data": {
      "text/html": [
       "<table>\n",
       "<tbody>\n",
       "<tr><td>שם הספק       </td><td>כותרת התקשרות                                     </td><td>הגורם המזמין   </td><td>סוג הרכש                 </td><td>סטטוס התקשרות</td><td>סכום שאושר         </td><td>סכום ששולם         </td><td>מטבע</td><td>תאריך הזמנה</td><td>תאריך עדכון</td></tr>\n",
       "<tr><td>אחים קייס בע\"מ</td><td>עבודות בינוי ושיפוץ מבנה מגורים 55 ו56 שערי אברהם </td><td>שירות בתי הסוהר</td><td>תקנה 1ב - מכרז פומבי רגיל</td><td>True         </td><td>4184773.19 + number</td><td>4184762.58 + number</td><td>ILS </td><td>2016-09-27 </td><td>2018-03-06 </td></tr>\n",
       "<tr><td>אחים קייס בע\"מ</td><td>הזמנה עבור שיפוץ תשתיות חשמל בב/ס שיטה , לפי מכרז </td><td>שירות בתי הסוהר</td><td>תקנה 1ב - מכרז פומבי רגיל</td><td>True         </td><td>249518.48 + number </td><td>238665.61 + number </td><td>ILS </td><td>2016-11-10 </td><td>2018-03-06 </td></tr>\n",
       "<tr><td>אחים קייס בע\"מ</td><td>החלפת לוחות חשמל באגפי נפחא, לטובת תוספת מכונות כב</td><td>שירות בתי הסוהר</td><td>תקנה 1ב - מכרז פומבי רגיל</td><td>True         </td><td>246679.03 + number </td><td>219065.59 + number </td><td>ILS </td><td>2016-01-28 </td><td>2018-03-06 </td></tr>\n",
       "<tr><td>Total         </td><td>4                                                 </td><td>               </td><td>                         </td><td>             </td><td>                   </td><td>                   </td><td>    </td><td>           </td><td>           </td></tr>\n",
       "</tbody>\n",
       "</table>"
      ],
      "text/plain": [
       "<IPython.core.display.HTML object>"
      ]
     },
     "metadata": {},
     "output_type": "display_data"
    },
    {
     "data": {
      "text/html": [
       "<h3>(contract-spending) הקמת מטבח וחדר אוכל סגל בב/ס שיטה: כל ההתקשרויות במצב פעיל עם אותו הספק מ-2017</h3>"
      ],
      "text/plain": [
       "<IPython.core.display.HTML object>"
      ]
     },
     "metadata": {},
     "output_type": "display_data"
    },
    {
     "data": {
      "text/html": [
       "<pre>SELECT coalesce(entity_name, supplier_name->>0) AS \"שם הספק\",\n",
       "       entity_id,\n",
       "       purpose AS \"כותרת התקשרות\",\n",
       "       publisher_name AS \"הגורם המזמין\",\n",
       "       purchase_method->>0 AS \"סוג הרכש\",\n",
       "                         contract_is_active AS \"סטטוס התקשרות\",\n",
       "                         volume AS \"סכום שאושר\",\n",
       "                         executed AS \"סכום ששולם\",\n",
       "                         currency AS \"מטבע\",\n",
       "                         order_date AS \"תאריך הזמנה\",\n",
       "                         payments->-1->>'date' AS \"תאריך עדכון\"\n",
       "FROM contract_spending\n",
       "WHERE (entity_id = '511794661')\n",
       "  AND contract_is_active\n",
       "  AND min_year = 2017</pre>"
      ],
      "text/plain": [
       "<IPython.core.display.HTML object>"
      ]
     },
     "metadata": {},
     "output_type": "display_data"
    },
    {
     "data": {
      "text/html": [
       "<table>\n",
       "<tbody>\n",
       "<tr><td>שם הספק       </td><td>כותרת התקשרות                                            </td><td>הגורם המזמין   </td><td>סוג הרכש                 </td><td>סטטוס התקשרות</td><td>סכום שאושר        </td><td>סכום ששולם        </td><td>מטבע</td><td>תאריך הזמנה</td><td>תאריך עדכון</td></tr>\n",
       "<tr><td>אחים קייס בע\"מ</td><td>התקנת מוני מים המתחם אשל עפ\"י הסכם 6200009937            </td><td>שירות בתי הסוהר</td><td>תקנה 1ב - מכרז פומבי רגיל</td><td>True         </td><td>599744.93 + number</td><td>456260.22 + number</td><td>ILS </td><td>2017-05-23 </td><td>2018-03-06 </td></tr>\n",
       "<tr><td>אחים קייס בע\"מ</td><td>ריצוף מדרגות כניסה למחוז צפון עפ\"י הסכם 6200009937       </td><td>שירות בתי הסוהר</td><td>תקנה 1ב - מכרז פומבי רגיל</td><td>True         </td><td>58871.07 + number </td><td>58871.07 + number </td><td>ILS </td><td>2017-06-11 </td><td>2018-03-06 </td></tr>\n",
       "<tr><td>אחים קייס בע\"מ</td><td>עבודות ביסוס מבנה רולן עבור משרדים חדשים למפקדת מחוז צפון</td><td>שירות בתי הסוהר</td><td>תקנה 1ב - מכרז פומבי רגיל</td><td>True         </td><td>36050.7 + number  </td><td>36050.71 + number </td><td>ILS </td><td>2017-08-30 </td><td>2018-03-06 </td></tr>\n",
       "<tr><td>Total         </td><td>24                                                       </td><td>               </td><td>                         </td><td>             </td><td>                  </td><td>                  </td><td>    </td><td>           </td><td>           </td></tr>\n",
       "</tbody>\n",
       "</table>"
      ],
      "text/plain": [
       "<IPython.core.display.HTML object>"
      ]
     },
     "metadata": {},
     "output_type": "display_data"
    },
    {
     "data": {
      "text/html": [
       "<h3>(contract-spending) הקמת מטבח וחדר אוכל סגל בב/ס שיטה: כל ההתקשרויות במצב פעיל עם אותו הספק מ-2018</h3>"
      ],
      "text/plain": [
       "<IPython.core.display.HTML object>"
      ]
     },
     "metadata": {},
     "output_type": "display_data"
    },
    {
     "data": {
      "text/html": [
       "<pre>SELECT coalesce(entity_name, supplier_name->>0) AS \"שם הספק\",\n",
       "       entity_id,\n",
       "       purpose AS \"כותרת התקשרות\",\n",
       "       publisher_name AS \"הגורם המזמין\",\n",
       "       purchase_method->>0 AS \"סוג הרכש\",\n",
       "                         contract_is_active AS \"סטטוס התקשרות\",\n",
       "                         volume AS \"סכום שאושר\",\n",
       "                         executed AS \"סכום ששולם\",\n",
       "                         currency AS \"מטבע\",\n",
       "                         order_date AS \"תאריך הזמנה\",\n",
       "                         payments->-1->>'date' AS \"תאריך עדכון\"\n",
       "FROM contract_spending\n",
       "WHERE (entity_id = '511794661')\n",
       "  AND contract_is_active\n",
       "  AND min_year = 2018</pre>"
      ],
      "text/plain": [
       "<IPython.core.display.HTML object>"
      ]
     },
     "metadata": {},
     "output_type": "display_data"
    },
    {
     "data": {
      "text/html": [
       "<table>\n",
       "<tbody>\n",
       "<tr><td>שם הספק       </td><td>כותרת התקשרות</td><td>הגורם המזמין             </td><td>סוג הרכש                 </td><td>סטטוס התקשרות</td><td>סכום שאושר        </td><td>סכום ששולם         </td><td>מטבע</td><td>תאריך הזמנה</td><td>תאריך עדכון</td></tr>\n",
       "<tr><td>אחים קייס בע\"מ</td><td>בנייה        </td><td>הרשות הארצית לכבאות והצלה</td><td>תקנה 1ב - מכרז פומבי רגיל</td><td>True         </td><td>5378721.5 + number</td><td>2531977.97 + number</td><td>ILS </td><td>2018-02-06 </td><td>2018-07-10 </td></tr>\n",
       "<tr><td>Total         </td><td>1            </td><td>                         </td><td>                         </td><td>             </td><td>                  </td><td>                   </td><td>    </td><td>           </td><td>           </td></tr>\n",
       "</tbody>\n",
       "</table>"
      ],
      "text/plain": [
       "<IPython.core.display.HTML object>"
      ]
     },
     "metadata": {},
     "output_type": "display_data"
    },
    {
     "data": {
      "text/html": [
       "<h3>(contract-spending) הקמת מטבח וחדר אוכל סגל בב/ס שיטה: כל ההתקשרויות במצב פעיל עם אותו הספק מ-כל השנים</h3>"
      ],
      "text/plain": [
       "<IPython.core.display.HTML object>"
      ]
     },
     "metadata": {},
     "output_type": "display_data"
    },
    {
     "data": {
      "text/html": [
       "<pre>SELECT coalesce(entity_name, supplier_name->>0) AS \"שם הספק\",\n",
       "       entity_id,\n",
       "       purpose AS \"כותרת התקשרות\",\n",
       "       publisher_name AS \"הגורם המזמין\",\n",
       "       purchase_method->>0 AS \"סוג הרכש\",\n",
       "                         contract_is_active AS \"סטטוס התקשרות\",\n",
       "                         volume AS \"סכום שאושר\",\n",
       "                         executed AS \"סכום ששולם\",\n",
       "                         currency AS \"מטבע\",\n",
       "                         order_date AS \"תאריך הזמנה\",\n",
       "                         payments->-1->>'date' AS \"תאריך עדכון\"\n",
       "FROM contract_spending\n",
       "WHERE (entity_id = '511794661')\n",
       "  AND contract_is_active\n",
       "  AND min_year > 0</pre>"
      ],
      "text/plain": [
       "<IPython.core.display.HTML object>"
      ]
     },
     "metadata": {},
     "output_type": "display_data"
    },
    {
     "data": {
      "text/html": [
       "<table>\n",
       "<tbody>\n",
       "<tr><td>שם הספק       </td><td>כותרת התקשרות                                    </td><td>הגורם המזמין   </td><td>סוג הרכש                 </td><td>סטטוס התקשרות</td><td>סכום שאושר         </td><td>סכום ששולם         </td><td>מטבע</td><td>תאריך הזמנה</td><td>תאריך עדכון</td></tr>\n",
       "<tr><td>אחים קייס בע\"מ</td><td>עבודות בינוי ושיפוץ מבנה מגורים 55 ו56 שערי אברהם</td><td>שירות בתי הסוהר</td><td>תקנה 1ב - מכרז פומבי רגיל</td><td>True         </td><td>4184773.19 + number</td><td>4184762.58 + number</td><td>ILS </td><td>2016-09-27 </td><td>2018-03-06 </td></tr>\n",
       "<tr><td>אחים קייס בע\"מ</td><td>הזמנה עבור שיפוץ תשתיות חשמל בב/ס שיטה , לפי מכרז</td><td>שירות בתי הסוהר</td><td>תקנה 1ב - מכרז פומבי רגיל</td><td>True         </td><td>249518.48 + number </td><td>238665.61 + number </td><td>ILS </td><td>2016-11-10 </td><td>2018-03-06 </td></tr>\n",
       "<tr><td>אחים קייס בע\"מ</td><td>התקנת מוני מים המתחם אשל עפ\"י הסכם 6200009937    </td><td>שירות בתי הסוהר</td><td>תקנה 1ב - מכרז פומבי רגיל</td><td>True         </td><td>599744.93 + number </td><td>456260.22 + number </td><td>ILS </td><td>2017-05-23 </td><td>2018-03-06 </td></tr>\n",
       "<tr><td>Total         </td><td>32                                               </td><td>               </td><td>                         </td><td>             </td><td>                   </td><td>                   </td><td>    </td><td>           </td><td>           </td></tr>\n",
       "</tbody>\n",
       "</table>"
      ],
      "text/plain": [
       "<IPython.core.display.HTML object>"
      ]
     },
     "metadata": {},
     "output_type": "display_data"
    },
    {
     "data": {
      "text/html": [
       "<h3>(contract-spending) הקמת מטבח וחדר אוכל סגל בב/ס שיטה: כל ההתקשרויות במצב פעיל עם אותו המפרסם מ-2015</h3>"
      ],
      "text/plain": [
       "<IPython.core.display.HTML object>"
      ]
     },
     "metadata": {},
     "output_type": "display_data"
    },
    {
     "data": {
      "text/html": [
       "<pre>SELECT coalesce(entity_name, supplier_name->>0) AS \"שם הספק\",\n",
       "       entity_id,\n",
       "       purpose AS \"כותרת התקשרות\",\n",
       "       publisher_name AS \"הגורם המזמין\",\n",
       "       purchase_method->>0 AS \"סוג הרכש\",\n",
       "                         contract_is_active AS \"סטטוס התקשרות\",\n",
       "                         volume AS \"סכום שאושר\",\n",
       "                         executed AS \"סכום ששולם\",\n",
       "                         currency AS \"מטבע\",\n",
       "                         order_date AS \"תאריך הזמנה\",\n",
       "                         payments->-1->>'date' AS \"תאריך עדכון\"\n",
       "FROM contract_spending\n",
       "WHERE (publisher_name = 'שירות בתי הסוהר')\n",
       "  AND contract_is_active\n",
       "  AND min_year = 2015</pre>"
      ],
      "text/plain": [
       "<IPython.core.display.HTML object>"
      ]
     },
     "metadata": {},
     "output_type": "display_data"
    },
    {
     "data": {
      "text/html": [
       "<table>\n",
       "<tbody>\n",
       "<tr><td>שם הספק            </td><td>כותרת התקשרות                </td><td>הגורם המזמין   </td><td>סוג הרכש                 </td><td>סטטוס התקשרות</td><td>סכום שאושר       </td><td>סכום ששולם       </td><td>מטבע</td><td>תאריך הזמנה</td><td>תאריך עדכון</td></tr>\n",
       "<tr><td>איזי פארק בע\"מ     </td><td>הטענת מכשירי איזי פארק       </td><td>שירות בתי הסוהר</td><td>פטור ממכרז               </td><td>True         </td><td>40677.97 + number</td><td>21837.85 + number</td><td>ILS </td><td>2015-01-18 </td><td>2018-03-06 </td></tr>\n",
       "<tr><td>דנאל אדיר יהושע בעמ</td><td>שירותי מטפלת סיעודית ותינוקות</td><td>שירות בתי הסוהר</td><td>תקנה 1ב - מכרז פומבי רגיל</td><td>True         </td><td>82401.46 + number</td><td>57462.17 + number</td><td>ILS </td><td>2015-01-19 </td><td>2018-03-06 </td></tr>\n",
       "<tr><td>מרכז רפואי שערי צדק</td><td>אשפוז אסירים                 </td><td>שירות בתי הסוהר</td><td>התקשרות עם גופים ממשלתיים</td><td>True         </td><td>310000.0 + number</td><td>290101.0 + number</td><td>ILS </td><td>2015-02-01 </td><td>2018-03-06 </td></tr>\n",
       "<tr><td>Total              </td><td>333                          </td><td>               </td><td>                         </td><td>             </td><td>                 </td><td>                 </td><td>    </td><td>           </td><td>           </td></tr>\n",
       "</tbody>\n",
       "</table>"
      ],
      "text/plain": [
       "<IPython.core.display.HTML object>"
      ]
     },
     "metadata": {},
     "output_type": "display_data"
    },
    {
     "data": {
      "text/html": [
       "<h3>(contract-spending) הקמת מטבח וחדר אוכל סגל בב/ס שיטה: כל ההתקשרויות במצב פעיל עם אותו המפרסם מ-2016</h3>"
      ],
      "text/plain": [
       "<IPython.core.display.HTML object>"
      ]
     },
     "metadata": {},
     "output_type": "display_data"
    },
    {
     "data": {
      "text/html": [
       "<pre>SELECT coalesce(entity_name, supplier_name->>0) AS \"שם הספק\",\n",
       "       entity_id,\n",
       "       purpose AS \"כותרת התקשרות\",\n",
       "       publisher_name AS \"הגורם המזמין\",\n",
       "       purchase_method->>0 AS \"סוג הרכש\",\n",
       "                         contract_is_active AS \"סטטוס התקשרות\",\n",
       "                         volume AS \"סכום שאושר\",\n",
       "                         executed AS \"סכום ששולם\",\n",
       "                         currency AS \"מטבע\",\n",
       "                         order_date AS \"תאריך הזמנה\",\n",
       "                         payments->-1->>'date' AS \"תאריך עדכון\"\n",
       "FROM contract_spending\n",
       "WHERE (publisher_name = 'שירות בתי הסוהר')\n",
       "  AND contract_is_active\n",
       "  AND min_year = 2016</pre>"
      ],
      "text/plain": [
       "<IPython.core.display.HTML object>"
      ]
     },
     "metadata": {},
     "output_type": "display_data"
    },
    {
     "data": {
      "text/html": [
       "<table>\n",
       "<tbody>\n",
       "<tr><td>שם הספק                          </td><td>כותרת התקשרות                              </td><td>הגורם המזמין   </td><td>סוג הרכש                 </td><td>סטטוס התקשרות</td><td>סכום שאושר       </td><td>סכום ששולם       </td><td>מטבע</td><td>תאריך הזמנה</td><td>תאריך עדכון</td></tr>\n",
       "<tr><td>תיאטרון בית ליסין בדיזינגוף (ע\"ר)</td><td>כרטיסי כניסה להצגות לחניכי קורסים בבי\"ס ניר</td><td>שירות בתי הסוהר</td><td>פטור ממכרז               </td><td>True         </td><td>30000.0 + number </td><td>27724.8 + number </td><td>ILS </td><td>2016-01-04 </td><td>2018-03-06 </td></tr>\n",
       "<tr><td>טבע תעשיות פרמצבטיות בע\"מ        </td><td>ראגנטים לביוכימיה                          </td><td>שירות בתי הסוהר</td><td>תקנה 1ב - מכרז פומבי רגיל</td><td>True         </td><td>49999.95 + number</td><td>39299.38 + number</td><td>ILS </td><td>2016-01-06 </td><td>2018-03-06 </td></tr>\n",
       "<tr><td>אלקטרה פז בע\"מ                   </td><td>חלקי חילוף לתחזוקת ציוד כיבוי אש           </td><td>שירות בתי הסוהר</td><td>תקנה 1ב - מכרז פומבי רגיל</td><td>True         </td><td>149994.0 + number</td><td>149994.0 + number</td><td>ILS </td><td>2016-01-06 </td><td>2018-03-06 </td></tr>\n",
       "<tr><td>Total                            </td><td>955                                        </td><td>               </td><td>                         </td><td>             </td><td>                 </td><td>                 </td><td>    </td><td>           </td><td>           </td></tr>\n",
       "</tbody>\n",
       "</table>"
      ],
      "text/plain": [
       "<IPython.core.display.HTML object>"
      ]
     },
     "metadata": {},
     "output_type": "display_data"
    },
    {
     "data": {
      "text/html": [
       "<h3>(contract-spending) הקמת מטבח וחדר אוכל סגל בב/ס שיטה: כל ההתקשרויות במצב פעיל עם אותו המפרסם מ-2017</h3>"
      ],
      "text/plain": [
       "<IPython.core.display.HTML object>"
      ]
     },
     "metadata": {},
     "output_type": "display_data"
    },
    {
     "data": {
      "text/html": [
       "<pre>SELECT coalesce(entity_name, supplier_name->>0) AS \"שם הספק\",\n",
       "       entity_id,\n",
       "       purpose AS \"כותרת התקשרות\",\n",
       "       publisher_name AS \"הגורם המזמין\",\n",
       "       purchase_method->>0 AS \"סוג הרכש\",\n",
       "                         contract_is_active AS \"סטטוס התקשרות\",\n",
       "                         volume AS \"סכום שאושר\",\n",
       "                         executed AS \"סכום ששולם\",\n",
       "                         currency AS \"מטבע\",\n",
       "                         order_date AS \"תאריך הזמנה\",\n",
       "                         payments->-1->>'date' AS \"תאריך עדכון\"\n",
       "FROM contract_spending\n",
       "WHERE (publisher_name = 'שירות בתי הסוהר')\n",
       "  AND contract_is_active\n",
       "  AND min_year = 2017</pre>"
      ],
      "text/plain": [
       "<IPython.core.display.HTML object>"
      ]
     },
     "metadata": {},
     "output_type": "display_data"
    },
    {
     "data": {
      "text/html": [
       "<table>\n",
       "<tbody>\n",
       "<tr><td>שם הספק                       </td><td>כותרת התקשרות                   </td><td>הגורם המזמין   </td><td>סוג הרכש  </td><td>סטטוס התקשרות</td><td>סכום שאושר       </td><td>סכום ששולם       </td><td>מטבע</td><td>תאריך הזמנה</td><td>תאריך עדכון</td></tr>\n",
       "<tr><td>דובר - מיכשור רפואי ומדעי בע\"מ</td><td>ראגנטים ובקרים לספירות דם       </td><td>שירות בתי הסוהר</td><td>פטור ממכרז</td><td>True         </td><td>29999.97 + number</td><td>25147.58 + number</td><td>ILS </td><td>2017-01-03 </td><td>2018-03-06 </td></tr>\n",
       "<tr><td>אלדן ציוד אלקטרוני בע\"מ       </td><td>הזמנה למעבדת רפואה , ציוד מתכלה.</td><td>שירות בתי הסוהר</td><td>פטור ממכרז</td><td>True         </td><td>39780.0 + number </td><td>31371.47 + number</td><td>ILS </td><td>2017-01-03 </td><td>2018-03-06 </td></tr>\n",
       "<tr><td>\"גל\" מכשירי שמיעה בע\"מ        </td><td>תיקון מכשיר שמיעה               </td><td>שירות בתי הסוהר</td><td>פטור ממכרז</td><td>True         </td><td>970.0 + number   </td><td>0.0 + number     </td><td>ILS </td><td>2017-01-04 </td><td>2018-03-06 </td></tr>\n",
       "<tr><td>Total                         </td><td>6659                            </td><td>               </td><td>          </td><td>             </td><td>                 </td><td>                 </td><td>    </td><td>           </td><td>           </td></tr>\n",
       "</tbody>\n",
       "</table>"
      ],
      "text/plain": [
       "<IPython.core.display.HTML object>"
      ]
     },
     "metadata": {},
     "output_type": "display_data"
    },
    {
     "data": {
      "text/html": [
       "<h3>(contract-spending) הקמת מטבח וחדר אוכל סגל בב/ס שיטה: כל ההתקשרויות במצב פעיל עם אותו המפרסם מ-2018</h3>"
      ],
      "text/plain": [
       "<IPython.core.display.HTML object>"
      ]
     },
     "metadata": {},
     "output_type": "display_data"
    },
    {
     "data": {
      "text/html": [
       "<pre>SELECT coalesce(entity_name, supplier_name->>0) AS \"שם הספק\",\n",
       "       entity_id,\n",
       "       purpose AS \"כותרת התקשרות\",\n",
       "       publisher_name AS \"הגורם המזמין\",\n",
       "       purchase_method->>0 AS \"סוג הרכש\",\n",
       "                         contract_is_active AS \"סטטוס התקשרות\",\n",
       "                         volume AS \"סכום שאושר\",\n",
       "                         executed AS \"סכום ששולם\",\n",
       "                         currency AS \"מטבע\",\n",
       "                         order_date AS \"תאריך הזמנה\",\n",
       "                         payments->-1->>'date' AS \"תאריך עדכון\"\n",
       "FROM contract_spending\n",
       "WHERE (publisher_name = 'שירות בתי הסוהר')\n",
       "  AND contract_is_active\n",
       "  AND min_year = 2018</pre>"
      ],
      "text/plain": [
       "<IPython.core.display.HTML object>"
      ]
     },
     "metadata": {},
     "output_type": "display_data"
    },
    {
     "data": {
      "text/html": [
       "<table>\n",
       "<tbody>\n",
       "<tr><td>Total</td><td style=\"text-align: right;\">0</td></tr>\n",
       "</tbody>\n",
       "</table>"
      ],
      "text/plain": [
       "<IPython.core.display.HTML object>"
      ]
     },
     "metadata": {},
     "output_type": "display_data"
    },
    {
     "data": {
      "text/html": [
       "<h3>(contract-spending) הקמת מטבח וחדר אוכל סגל בב/ס שיטה: כל ההתקשרויות במצב פעיל עם אותו המפרסם מ-כל השנים</h3>"
      ],
      "text/plain": [
       "<IPython.core.display.HTML object>"
      ]
     },
     "metadata": {},
     "output_type": "display_data"
    },
    {
     "data": {
      "text/html": [
       "<pre>SELECT coalesce(entity_name, supplier_name->>0) AS \"שם הספק\",\n",
       "       entity_id,\n",
       "       purpose AS \"כותרת התקשרות\",\n",
       "       publisher_name AS \"הגורם המזמין\",\n",
       "       purchase_method->>0 AS \"סוג הרכש\",\n",
       "                         contract_is_active AS \"סטטוס התקשרות\",\n",
       "                         volume AS \"סכום שאושר\",\n",
       "                         executed AS \"סכום ששולם\",\n",
       "                         currency AS \"מטבע\",\n",
       "                         order_date AS \"תאריך הזמנה\",\n",
       "                         payments->-1->>'date' AS \"תאריך עדכון\"\n",
       "FROM contract_spending\n",
       "WHERE (publisher_name = 'שירות בתי הסוהר')\n",
       "  AND contract_is_active\n",
       "  AND min_year > 0</pre>"
      ],
      "text/plain": [
       "<IPython.core.display.HTML object>"
      ]
     },
     "metadata": {},
     "output_type": "display_data"
    },
    {
     "data": {
      "text/html": [
       "<table>\n",
       "<tbody>\n",
       "<tr><td>שם הספק            </td><td>כותרת התקשרות                </td><td>הגורם המזמין   </td><td>סוג הרכש                 </td><td>סטטוס התקשרות</td><td>סכום שאושר       </td><td>סכום ששולם       </td><td>מטבע</td><td>תאריך הזמנה</td><td>תאריך עדכון</td></tr>\n",
       "<tr><td>איזי פארק בע\"מ     </td><td>הטענת מכשירי איזי פארק       </td><td>שירות בתי הסוהר</td><td>פטור ממכרז               </td><td>True         </td><td>40677.97 + number</td><td>21837.85 + number</td><td>ILS </td><td>2015-01-18 </td><td>2018-03-06 </td></tr>\n",
       "<tr><td>דנאל אדיר יהושע בעמ</td><td>שירותי מטפלת סיעודית ותינוקות</td><td>שירות בתי הסוהר</td><td>תקנה 1ב - מכרז פומבי רגיל</td><td>True         </td><td>82401.46 + number</td><td>57462.17 + number</td><td>ILS </td><td>2015-01-19 </td><td>2018-03-06 </td></tr>\n",
       "<tr><td>מרכז רפואי שערי צדק</td><td>אשפוז אסירים                 </td><td>שירות בתי הסוהר</td><td>התקשרות עם גופים ממשלתיים</td><td>True         </td><td>310000.0 + number</td><td>290101.0 + number</td><td>ILS </td><td>2015-02-01 </td><td>2018-03-06 </td></tr>\n",
       "<tr><td>Total              </td><td>7947                         </td><td>               </td><td>                         </td><td>             </td><td>                 </td><td>                 </td><td>    </td><td>           </td><td>           </td></tr>\n",
       "</tbody>\n",
       "</table>"
      ],
      "text/plain": [
       "<IPython.core.display.HTML object>"
      ]
     },
     "metadata": {},
     "output_type": "display_data"
    },
    {
     "data": {
      "text/html": [
       "<h3>(contract-spending) הקמת מטבח וחדר אוכל סגל בב/ס שיטה: כל ההתקשרויות במצב פעיל מאותה תקנה תקציבית מ-2015</h3>"
      ],
      "text/plain": [
       "<IPython.core.display.HTML object>"
      ]
     },
     "metadata": {},
     "output_type": "display_data"
    },
    {
     "data": {
      "text/html": [
       "<pre>SELECT coalesce(entity_name, supplier_name->>0) AS \"שם הספק\",\n",
       "       entity_id,\n",
       "       purpose AS \"כותרת התקשרות\",\n",
       "       publisher_name AS \"הגורם המזמין\",\n",
       "       purchase_method->>0 AS \"סוג הרכש\",\n",
       "                         contract_is_active AS \"סטטוס התקשרות\",\n",
       "                         volume AS \"סכום שאושר\",\n",
       "                         executed AS \"סכום ששולם\",\n",
       "                         currency AS \"מטבע\",\n",
       "                         order_date AS \"תאריך הזמנה\",\n",
       "                         payments->-1->>'date' AS \"תאריך עדכון\"\n",
       "FROM contract_spending\n",
       "WHERE (budget_code = '0052400102')\n",
       "  AND contract_is_active\n",
       "  AND min_year = 2015</pre>"
      ],
      "text/plain": [
       "<IPython.core.display.HTML object>"
      ]
     },
     "metadata": {},
     "output_type": "display_data"
    },
    {
     "data": {
      "text/html": [
       "<table>\n",
       "<tbody>\n",
       "<tr><td>Total</td><td style=\"text-align: right;\">0</td></tr>\n",
       "</tbody>\n",
       "</table>"
      ],
      "text/plain": [
       "<IPython.core.display.HTML object>"
      ]
     },
     "metadata": {},
     "output_type": "display_data"
    },
    {
     "data": {
      "text/html": [
       "<h3>(contract-spending) הקמת מטבח וחדר אוכל סגל בב/ס שיטה: כל ההתקשרויות במצב פעיל מאותה תקנה תקציבית מ-2016</h3>"
      ],
      "text/plain": [
       "<IPython.core.display.HTML object>"
      ]
     },
     "metadata": {},
     "output_type": "display_data"
    },
    {
     "data": {
      "text/html": [
       "<pre>SELECT coalesce(entity_name, supplier_name->>0) AS \"שם הספק\",\n",
       "       entity_id,\n",
       "       purpose AS \"כותרת התקשרות\",\n",
       "       publisher_name AS \"הגורם המזמין\",\n",
       "       purchase_method->>0 AS \"סוג הרכש\",\n",
       "                         contract_is_active AS \"סטטוס התקשרות\",\n",
       "                         volume AS \"סכום שאושר\",\n",
       "                         executed AS \"סכום ששולם\",\n",
       "                         currency AS \"מטבע\",\n",
       "                         order_date AS \"תאריך הזמנה\",\n",
       "                         payments->-1->>'date' AS \"תאריך עדכון\"\n",
       "FROM contract_spending\n",
       "WHERE (budget_code = '0052400102')\n",
       "  AND contract_is_active\n",
       "  AND min_year = 2016</pre>"
      ],
      "text/plain": [
       "<IPython.core.display.HTML object>"
      ]
     },
     "metadata": {},
     "output_type": "display_data"
    },
    {
     "data": {
      "text/html": [
       "<table>\n",
       "<tbody>\n",
       "<tr><td>Total</td><td style=\"text-align: right;\">0</td></tr>\n",
       "</tbody>\n",
       "</table>"
      ],
      "text/plain": [
       "<IPython.core.display.HTML object>"
      ]
     },
     "metadata": {},
     "output_type": "display_data"
    },
    {
     "data": {
      "text/html": [
       "<h3>(contract-spending) הקמת מטבח וחדר אוכל סגל בב/ס שיטה: כל ההתקשרויות במצב פעיל מאותה תקנה תקציבית מ-2017</h3>"
      ],
      "text/plain": [
       "<IPython.core.display.HTML object>"
      ]
     },
     "metadata": {},
     "output_type": "display_data"
    },
    {
     "data": {
      "text/html": [
       "<pre>SELECT coalesce(entity_name, supplier_name->>0) AS \"שם הספק\",\n",
       "       entity_id,\n",
       "       purpose AS \"כותרת התקשרות\",\n",
       "       publisher_name AS \"הגורם המזמין\",\n",
       "       purchase_method->>0 AS \"סוג הרכש\",\n",
       "                         contract_is_active AS \"סטטוס התקשרות\",\n",
       "                         volume AS \"סכום שאושר\",\n",
       "                         executed AS \"סכום ששולם\",\n",
       "                         currency AS \"מטבע\",\n",
       "                         order_date AS \"תאריך הזמנה\",\n",
       "                         payments->-1->>'date' AS \"תאריך עדכון\"\n",
       "FROM contract_spending\n",
       "WHERE (budget_code = '0052400102')\n",
       "  AND contract_is_active\n",
       "  AND min_year = 2017</pre>"
      ],
      "text/plain": [
       "<IPython.core.display.HTML object>"
      ]
     },
     "metadata": {},
     "output_type": "display_data"
    },
    {
     "data": {
      "text/html": [
       "<table>\n",
       "<tbody>\n",
       "<tr><td>Total</td><td style=\"text-align: right;\">0</td></tr>\n",
       "</tbody>\n",
       "</table>"
      ],
      "text/plain": [
       "<IPython.core.display.HTML object>"
      ]
     },
     "metadata": {},
     "output_type": "display_data"
    },
    {
     "data": {
      "text/html": [
       "<h3>(contract-spending) הקמת מטבח וחדר אוכל סגל בב/ס שיטה: כל ההתקשרויות במצב פעיל מאותה תקנה תקציבית מ-2018</h3>"
      ],
      "text/plain": [
       "<IPython.core.display.HTML object>"
      ]
     },
     "metadata": {},
     "output_type": "display_data"
    },
    {
     "data": {
      "text/html": [
       "<pre>SELECT coalesce(entity_name, supplier_name->>0) AS \"שם הספק\",\n",
       "       entity_id,\n",
       "       purpose AS \"כותרת התקשרות\",\n",
       "       publisher_name AS \"הגורם המזמין\",\n",
       "       purchase_method->>0 AS \"סוג הרכש\",\n",
       "                         contract_is_active AS \"סטטוס התקשרות\",\n",
       "                         volume AS \"סכום שאושר\",\n",
       "                         executed AS \"סכום ששולם\",\n",
       "                         currency AS \"מטבע\",\n",
       "                         order_date AS \"תאריך הזמנה\",\n",
       "                         payments->-1->>'date' AS \"תאריך עדכון\"\n",
       "FROM contract_spending\n",
       "WHERE (budget_code = '0052400102')\n",
       "  AND contract_is_active\n",
       "  AND min_year = 2018</pre>"
      ],
      "text/plain": [
       "<IPython.core.display.HTML object>"
      ]
     },
     "metadata": {},
     "output_type": "display_data"
    },
    {
     "data": {
      "text/html": [
       "<table>\n",
       "<tbody>\n",
       "<tr><td>Total</td><td style=\"text-align: right;\">0</td></tr>\n",
       "</tbody>\n",
       "</table>"
      ],
      "text/plain": [
       "<IPython.core.display.HTML object>"
      ]
     },
     "metadata": {},
     "output_type": "display_data"
    },
    {
     "data": {
      "text/html": [
       "<h3>(contract-spending) הקמת מטבח וחדר אוכל סגל בב/ס שיטה: כל ההתקשרויות במצב פעיל מאותה תקנה תקציבית מ-כל השנים</h3>"
      ],
      "text/plain": [
       "<IPython.core.display.HTML object>"
      ]
     },
     "metadata": {},
     "output_type": "display_data"
    },
    {
     "data": {
      "text/html": [
       "<pre>SELECT coalesce(entity_name, supplier_name->>0) AS \"שם הספק\",\n",
       "       entity_id,\n",
       "       purpose AS \"כותרת התקשרות\",\n",
       "       publisher_name AS \"הגורם המזמין\",\n",
       "       purchase_method->>0 AS \"סוג הרכש\",\n",
       "                         contract_is_active AS \"סטטוס התקשרות\",\n",
       "                         volume AS \"סכום שאושר\",\n",
       "                         executed AS \"סכום ששולם\",\n",
       "                         currency AS \"מטבע\",\n",
       "                         order_date AS \"תאריך הזמנה\",\n",
       "                         payments->-1->>'date' AS \"תאריך עדכון\"\n",
       "FROM contract_spending\n",
       "WHERE (budget_code = '0052400102')\n",
       "  AND contract_is_active\n",
       "  AND min_year > 0</pre>"
      ],
      "text/plain": [
       "<IPython.core.display.HTML object>"
      ]
     },
     "metadata": {},
     "output_type": "display_data"
    },
    {
     "data": {
      "text/html": [
       "<table>\n",
       "<tbody>\n",
       "<tr><td>Total</td><td style=\"text-align: right;\">0</td></tr>\n",
       "</tbody>\n",
       "</table>"
      ],
      "text/plain": [
       "<IPython.core.display.HTML object>"
      ]
     },
     "metadata": {},
     "output_type": "display_data"
    },
    {
     "data": {
      "text/html": [
       "<h3>(contract-spending) הקמת מטבח וחדר אוכל סגל בב/ס שיטה: כל ההתקשרויות במצב הסתיים עם אותו הספק מ-2015</h3>"
      ],
      "text/plain": [
       "<IPython.core.display.HTML object>"
      ]
     },
     "metadata": {},
     "output_type": "display_data"
    },
    {
     "data": {
      "text/html": [
       "<pre>SELECT coalesce(entity_name, supplier_name->>0) AS \"שם הספק\",\n",
       "       entity_id,\n",
       "       purpose AS \"כותרת התקשרות\",\n",
       "       publisher_name AS \"הגורם המזמין\",\n",
       "       purchase_method->>0 AS \"סוג הרכש\",\n",
       "                         contract_is_active AS \"סטטוס התקשרות\",\n",
       "                         volume AS \"סכום שאושר\",\n",
       "                         executed AS \"סכום ששולם\",\n",
       "                         currency AS \"מטבע\",\n",
       "                         order_date AS \"תאריך הזמנה\",\n",
       "                         payments->-1->>'date' AS \"תאריך עדכון\"\n",
       "FROM contract_spending\n",
       "WHERE (entity_id = '511794661')\n",
       "  AND (NOT contract_is_active)\n",
       "  AND min_year = 2015</pre>"
      ],
      "text/plain": [
       "<IPython.core.display.HTML object>"
      ]
     },
     "metadata": {},
     "output_type": "display_data"
    },
    {
     "data": {
      "text/html": [
       "<table>\n",
       "<tbody>\n",
       "<tr><td>שם הספק       </td><td>כותרת התקשרות             </td><td>הגורם המזמין   </td><td>סוג הרכש                 </td><td>סטטוס התקשרות</td><td>סכום שאושר        </td><td>סכום ששולם        </td><td>מטבע</td><td>תאריך הזמנה</td><td>תאריך עדכון</td></tr>\n",
       "<tr><td>אחים קייס בע\"מ</td><td>הזמנה מהסבה               </td><td>שירות בתי הסוהר</td><td>אחר                      </td><td>False        </td><td>441845.01 + number</td><td>441246.71 + number</td><td>ILS </td><td>2015-02-18 </td><td>2018-03-06 </td></tr>\n",
       "<tr><td>אחים קייס בע\"מ</td><td>הזמנה מהסבה               </td><td>שירות בתי הסוהר</td><td>אחר                      </td><td>False        </td><td>335541.0 + number </td><td>335321.79 + number</td><td>ILS </td><td>2015-02-18 </td><td>2018-03-06 </td></tr>\n",
       "<tr><td>אחים קייס בע\"מ</td><td>העברת כלבנים בבימ\"ר קישון.</td><td>שירות בתי הסוהר</td><td>תקנה 1ב - מכרז פומבי רגיל</td><td>False        </td><td>71668.48 + number </td><td>70278.79 + number </td><td>ILS </td><td>2015-05-21 </td><td>2017-11-21 </td></tr>\n",
       "<tr><td>Total         </td><td>15                        </td><td>               </td><td>                         </td><td>             </td><td>                  </td><td>                  </td><td>    </td><td>           </td><td>           </td></tr>\n",
       "</tbody>\n",
       "</table>"
      ],
      "text/plain": [
       "<IPython.core.display.HTML object>"
      ]
     },
     "metadata": {},
     "output_type": "display_data"
    },
    {
     "data": {
      "text/html": [
       "<h3>(contract-spending) הקמת מטבח וחדר אוכל סגל בב/ס שיטה: כל ההתקשרויות במצב הסתיים עם אותו הספק מ-2016</h3>"
      ],
      "text/plain": [
       "<IPython.core.display.HTML object>"
      ]
     },
     "metadata": {},
     "output_type": "display_data"
    },
    {
     "data": {
      "text/html": [
       "<pre>SELECT coalesce(entity_name, supplier_name->>0) AS \"שם הספק\",\n",
       "       entity_id,\n",
       "       purpose AS \"כותרת התקשרות\",\n",
       "       publisher_name AS \"הגורם המזמין\",\n",
       "       purchase_method->>0 AS \"סוג הרכש\",\n",
       "                         contract_is_active AS \"סטטוס התקשרות\",\n",
       "                         volume AS \"סכום שאושר\",\n",
       "                         executed AS \"סכום ששולם\",\n",
       "                         currency AS \"מטבע\",\n",
       "                         order_date AS \"תאריך הזמנה\",\n",
       "                         payments->-1->>'date' AS \"תאריך עדכון\"\n",
       "FROM contract_spending\n",
       "WHERE (entity_id = '511794661')\n",
       "  AND (NOT contract_is_active)\n",
       "  AND min_year = 2016</pre>"
      ],
      "text/plain": [
       "<IPython.core.display.HTML object>"
      ]
     },
     "metadata": {},
     "output_type": "display_data"
    },
    {
     "data": {
      "text/html": [
       "<table>\n",
       "<tbody>\n",
       "<tr><td>שם הספק       </td><td>כותרת התקשרות                                    </td><td>הגורם המזמין   </td><td>סוג הרכש                 </td><td>סטטוס התקשרות</td><td>סכום שאושר        </td><td>סכום ששולם        </td><td>מטבע</td><td>תאריך הזמנה</td><td>תאריך עדכון</td></tr>\n",
       "<tr><td>אחים קייס בע\"מ</td><td>עבור כריתת עצים בבימר עמקים (טבריה) איש קשר 05060</td><td>שירות בתי הסוהר</td><td>תקנה 1ב - מכרז פומבי רגיל</td><td>False        </td><td>17517.59 + number </td><td>17517.59 + number </td><td>ILS </td><td>2016-07-27 </td><td>2017-01-12 </td></tr>\n",
       "<tr><td>אחים קייס בע\"מ</td><td>שיפוץ אגף 4 בגילבוע.                             </td><td>שירות בתי הסוהר</td><td>תקנה 1ב - מכרז פומבי רגיל</td><td>False        </td><td>458708.75 + number</td><td>458169.89 + number</td><td>ILS </td><td>2016-08-01 </td><td>2017-11-21 </td></tr>\n",
       "<tr><td>אחים קייס בע\"מ</td><td>שדרוג מגדלים בשיטה.                              </td><td>שירות בתי הסוהר</td><td>תקנה 1ב - מכרז פומבי רגיל</td><td>False        </td><td>120487.89 + number</td><td>120487.77 + number</td><td>ILS </td><td>2016-03-10 </td><td>2017-01-12 </td></tr>\n",
       "<tr><td>Total         </td><td>15                                               </td><td>               </td><td>                         </td><td>             </td><td>                  </td><td>                  </td><td>    </td><td>           </td><td>           </td></tr>\n",
       "</tbody>\n",
       "</table>"
      ],
      "text/plain": [
       "<IPython.core.display.HTML object>"
      ]
     },
     "metadata": {},
     "output_type": "display_data"
    },
    {
     "data": {
      "text/html": [
       "<h3>(contract-spending) הקמת מטבח וחדר אוכל סגל בב/ס שיטה: כל ההתקשרויות במצב הסתיים עם אותו הספק מ-2017</h3>"
      ],
      "text/plain": [
       "<IPython.core.display.HTML object>"
      ]
     },
     "metadata": {},
     "output_type": "display_data"
    },
    {
     "data": {
      "text/html": [
       "<pre>SELECT coalesce(entity_name, supplier_name->>0) AS \"שם הספק\",\n",
       "       entity_id,\n",
       "       purpose AS \"כותרת התקשרות\",\n",
       "       publisher_name AS \"הגורם המזמין\",\n",
       "       purchase_method->>0 AS \"סוג הרכש\",\n",
       "                         contract_is_active AS \"סטטוס התקשרות\",\n",
       "                         volume AS \"סכום שאושר\",\n",
       "                         executed AS \"סכום ששולם\",\n",
       "                         currency AS \"מטבע\",\n",
       "                         order_date AS \"תאריך הזמנה\",\n",
       "                         payments->-1->>'date' AS \"תאריך עדכון\"\n",
       "FROM contract_spending\n",
       "WHERE (entity_id = '511794661')\n",
       "  AND (NOT contract_is_active)\n",
       "  AND min_year = 2017</pre>"
      ],
      "text/plain": [
       "<IPython.core.display.HTML object>"
      ]
     },
     "metadata": {},
     "output_type": "display_data"
    },
    {
     "data": {
      "text/html": [
       "<table>\n",
       "<tbody>\n",
       "<tr><td>שם הספק       </td><td>כותרת התקשרות                                     </td><td>הגורם המזמין   </td><td>סוג הרכש                 </td><td>סטטוס התקשרות</td><td>סכום שאושר        </td><td>סכום ששולם        </td><td>מטבע</td><td>תאריך הזמנה</td><td>תאריך עדכון</td></tr>\n",
       "<tr><td>אחים קייס בע\"מ</td><td>התקנת תשתיות ומערכת איוורור בשיטה עפ\"י הסכם 620000</td><td>שירות בתי הסוהר</td><td>תקנה 1ב - מכרז פומבי רגיל</td><td>False        </td><td>20571.85 + number </td><td>20571.84 + number </td><td>ILS </td><td>2017-05-22 </td><td>2017-11-29 </td></tr>\n",
       "<tr><td>אחים קייס בע\"מ</td><td>הזמנה עבור שיפוץ מגדלים בב/ס דמיון עפ\"י הסכם 62000</td><td>שירות בתי הסוהר</td><td>תקנה 1ב - מכרז פומבי רגיל</td><td>False        </td><td>69991.27 + number </td><td>69991.27 + number </td><td>ILS </td><td>2017-03-15 </td><td>2017-11-21 </td></tr>\n",
       "<tr><td>אחים קייס בע\"מ</td><td>פיתוח שטח - שערי אברהם                            </td><td>שירות בתי הסוהר</td><td>תקנה 1ב - מכרז פומבי רגיל</td><td>False        </td><td>700021.94 + number</td><td>700021.92 + number</td><td>ILS </td><td>2017-04-02 </td><td>2017-11-21 </td></tr>\n",
       "<tr><td>Total         </td><td>8                                                 </td><td>               </td><td>                         </td><td>             </td><td>                  </td><td>                  </td><td>    </td><td>           </td><td>           </td></tr>\n",
       "</tbody>\n",
       "</table>"
      ],
      "text/plain": [
       "<IPython.core.display.HTML object>"
      ]
     },
     "metadata": {},
     "output_type": "display_data"
    },
    {
     "data": {
      "text/html": [
       "<h3>(contract-spending) הקמת מטבח וחדר אוכל סגל בב/ס שיטה: כל ההתקשרויות במצב הסתיים עם אותו הספק מ-2018</h3>"
      ],
      "text/plain": [
       "<IPython.core.display.HTML object>"
      ]
     },
     "metadata": {},
     "output_type": "display_data"
    },
    {
     "data": {
      "text/html": [
       "<pre>SELECT coalesce(entity_name, supplier_name->>0) AS \"שם הספק\",\n",
       "       entity_id,\n",
       "       purpose AS \"כותרת התקשרות\",\n",
       "       publisher_name AS \"הגורם המזמין\",\n",
       "       purchase_method->>0 AS \"סוג הרכש\",\n",
       "                         contract_is_active AS \"סטטוס התקשרות\",\n",
       "                         volume AS \"סכום שאושר\",\n",
       "                         executed AS \"סכום ששולם\",\n",
       "                         currency AS \"מטבע\",\n",
       "                         order_date AS \"תאריך הזמנה\",\n",
       "                         payments->-1->>'date' AS \"תאריך עדכון\"\n",
       "FROM contract_spending\n",
       "WHERE (entity_id = '511794661')\n",
       "  AND (NOT contract_is_active)\n",
       "  AND min_year = 2018</pre>"
      ],
      "text/plain": [
       "<IPython.core.display.HTML object>"
      ]
     },
     "metadata": {},
     "output_type": "display_data"
    },
    {
     "data": {
      "text/html": [
       "<table>\n",
       "<tbody>\n",
       "<tr><td>Total</td><td style=\"text-align: right;\">0</td></tr>\n",
       "</tbody>\n",
       "</table>"
      ],
      "text/plain": [
       "<IPython.core.display.HTML object>"
      ]
     },
     "metadata": {},
     "output_type": "display_data"
    },
    {
     "data": {
      "text/html": [
       "<h3>(contract-spending) הקמת מטבח וחדר אוכל סגל בב/ס שיטה: כל ההתקשרויות במצב הסתיים עם אותו הספק מ-כל השנים</h3>"
      ],
      "text/plain": [
       "<IPython.core.display.HTML object>"
      ]
     },
     "metadata": {},
     "output_type": "display_data"
    },
    {
     "data": {
      "text/html": [
       "<pre>SELECT coalesce(entity_name, supplier_name->>0) AS \"שם הספק\",\n",
       "       entity_id,\n",
       "       purpose AS \"כותרת התקשרות\",\n",
       "       publisher_name AS \"הגורם המזמין\",\n",
       "       purchase_method->>0 AS \"סוג הרכש\",\n",
       "                         contract_is_active AS \"סטטוס התקשרות\",\n",
       "                         volume AS \"סכום שאושר\",\n",
       "                         executed AS \"סכום ששולם\",\n",
       "                         currency AS \"מטבע\",\n",
       "                         order_date AS \"תאריך הזמנה\",\n",
       "                         payments->-1->>'date' AS \"תאריך עדכון\"\n",
       "FROM contract_spending\n",
       "WHERE (entity_id = '511794661')\n",
       "  AND (NOT contract_is_active)\n",
       "  AND min_year > 0</pre>"
      ],
      "text/plain": [
       "<IPython.core.display.HTML object>"
      ]
     },
     "metadata": {},
     "output_type": "display_data"
    },
    {
     "data": {
      "text/html": [
       "<table>\n",
       "<tbody>\n",
       "<tr><td>שם הספק       </td><td>כותרת התקשרות                                     </td><td>הגורם המזמין   </td><td>סוג הרכש                 </td><td>סטטוס התקשרות</td><td>סכום שאושר        </td><td>סכום ששולם        </td><td>מטבע</td><td>תאריך הזמנה</td><td>תאריך עדכון</td></tr>\n",
       "<tr><td>אחים קייס בע\"מ</td><td>התקנת תשתיות ומערכת איוורור בשיטה עפ\"י הסכם 620000</td><td>שירות בתי הסוהר</td><td>תקנה 1ב - מכרז פומבי רגיל</td><td>False        </td><td>20571.85 + number </td><td>20571.84 + number </td><td>ILS </td><td>2017-05-22 </td><td>2017-11-29 </td></tr>\n",
       "<tr><td>אחים קייס בע\"מ</td><td>עבור כריתת עצים בבימר עמקים (טבריה) איש קשר 05060 </td><td>שירות בתי הסוהר</td><td>תקנה 1ב - מכרז פומבי רגיל</td><td>False        </td><td>17517.59 + number </td><td>17517.59 + number </td><td>ILS </td><td>2016-07-27 </td><td>2017-01-12 </td></tr>\n",
       "<tr><td>אחים קייס בע\"מ</td><td>שיפוץ אגף 4 בגילבוע.                              </td><td>שירות בתי הסוהר</td><td>תקנה 1ב - מכרז פומבי רגיל</td><td>False        </td><td>458708.75 + number</td><td>458169.89 + number</td><td>ILS </td><td>2016-08-01 </td><td>2017-11-21 </td></tr>\n",
       "<tr><td>Total         </td><td>38                                                </td><td>               </td><td>                         </td><td>             </td><td>                  </td><td>                  </td><td>    </td><td>           </td><td>           </td></tr>\n",
       "</tbody>\n",
       "</table>"
      ],
      "text/plain": [
       "<IPython.core.display.HTML object>"
      ]
     },
     "metadata": {},
     "output_type": "display_data"
    },
    {
     "data": {
      "text/html": [
       "<h3>(contract-spending) הקמת מטבח וחדר אוכל סגל בב/ס שיטה: כל ההתקשרויות במצב הסתיים עם אותו המפרסם מ-2015</h3>"
      ],
      "text/plain": [
       "<IPython.core.display.HTML object>"
      ]
     },
     "metadata": {},
     "output_type": "display_data"
    },
    {
     "data": {
      "text/html": [
       "<pre>SELECT coalesce(entity_name, supplier_name->>0) AS \"שם הספק\",\n",
       "       entity_id,\n",
       "       purpose AS \"כותרת התקשרות\",\n",
       "       publisher_name AS \"הגורם המזמין\",\n",
       "       purchase_method->>0 AS \"סוג הרכש\",\n",
       "                         contract_is_active AS \"סטטוס התקשרות\",\n",
       "                         volume AS \"סכום שאושר\",\n",
       "                         executed AS \"סכום ששולם\",\n",
       "                         currency AS \"מטבע\",\n",
       "                         order_date AS \"תאריך הזמנה\",\n",
       "                         payments->-1->>'date' AS \"תאריך עדכון\"\n",
       "FROM contract_spending\n",
       "WHERE (publisher_name = 'שירות בתי הסוהר')\n",
       "  AND (NOT contract_is_active)\n",
       "  AND min_year = 2015</pre>"
      ],
      "text/plain": [
       "<IPython.core.display.HTML object>"
      ]
     },
     "metadata": {},
     "output_type": "display_data"
    },
    {
     "data": {
      "text/html": [
       "<table>\n",
       "<tbody>\n",
       "<tr><td>שם הספק                     </td><td>כותרת התקשרות                </td><td>הגורם המזמין   </td><td>סוג הרכש                 </td><td>סטטוס התקשרות</td><td>סכום שאושר        </td><td>סכום ששולם       </td><td>מטבע</td><td>תאריך הזמנה</td><td>תאריך עדכון</td></tr>\n",
       "<tr><td>חברת מאזני שקל 2008  בע\"מ   </td><td>שירות מאזני שקל              </td><td>שירות בתי הסוהר</td><td>אחר                      </td><td>False        </td><td>3000.03 + number  </td><td>2407.15 + number </td><td>ILS </td><td>2015-01-12 </td><td>2017-11-21 </td></tr>\n",
       "<tr><td>טים-טק ייעוץ ארגוני בע\"מ    </td><td>שרותי חינוך ערכים והעשרה לסגל</td><td>שירות בתי הסוהר</td><td>אחר                      </td><td>False        </td><td>150000.42 + number</td><td>28605.74 + number</td><td>ILS </td><td>2015-01-18 </td><td>2017-01-12 </td></tr>\n",
       "<tr><td>משק מנופים אלגלי (1989) בע\"מ</td><td>הובלות והרכבות               </td><td>שירות בתי הסוהר</td><td>תקנה 1ב - מכרז פומבי רגיל</td><td>False        </td><td>110793.74 + number</td><td>91738.64 + number</td><td>ILS </td><td>2015-01-19 </td><td>2017-01-12 </td></tr>\n",
       "<tr><td>Total                       </td><td>2646                         </td><td>               </td><td>                         </td><td>             </td><td>                  </td><td>                 </td><td>    </td><td>           </td><td>           </td></tr>\n",
       "</tbody>\n",
       "</table>"
      ],
      "text/plain": [
       "<IPython.core.display.HTML object>"
      ]
     },
     "metadata": {},
     "output_type": "display_data"
    },
    {
     "data": {
      "text/html": [
       "<h3>(contract-spending) הקמת מטבח וחדר אוכל סגל בב/ס שיטה: כל ההתקשרויות במצב הסתיים עם אותו המפרסם מ-2016</h3>"
      ],
      "text/plain": [
       "<IPython.core.display.HTML object>"
      ]
     },
     "metadata": {},
     "output_type": "display_data"
    },
    {
     "data": {
      "text/html": [
       "<pre>SELECT coalesce(entity_name, supplier_name->>0) AS \"שם הספק\",\n",
       "       entity_id,\n",
       "       purpose AS \"כותרת התקשרות\",\n",
       "       publisher_name AS \"הגורם המזמין\",\n",
       "       purchase_method->>0 AS \"סוג הרכש\",\n",
       "                         contract_is_active AS \"סטטוס התקשרות\",\n",
       "                         volume AS \"סכום שאושר\",\n",
       "                         executed AS \"סכום ששולם\",\n",
       "                         currency AS \"מטבע\",\n",
       "                         order_date AS \"תאריך הזמנה\",\n",
       "                         payments->-1->>'date' AS \"תאריך עדכון\"\n",
       "FROM contract_spending\n",
       "WHERE (publisher_name = 'שירות בתי הסוהר')\n",
       "  AND (NOT contract_is_active)\n",
       "  AND min_year = 2016</pre>"
      ],
      "text/plain": [
       "<IPython.core.display.HTML object>"
      ]
     },
     "metadata": {},
     "output_type": "display_data"
    },
    {
     "data": {
      "text/html": [
       "<table>\n",
       "<tbody>\n",
       "<tr><td>שם הספק                </td><td>כותרת התקשרות                              </td><td>הגורם המזמין   </td><td>סוג הרכש                 </td><td>סטטוס התקשרות</td><td>סכום שאושר        </td><td>סכום ששולם        </td><td>מטבע</td><td>תאריך הזמנה</td><td>תאריך עדכון</td></tr>\n",
       "<tr><td>היולט-פקרד (ישראל) בע\"מ</td><td>אחזקת שרתים מתוצרת HP לשנת 2016            </td><td>שירות בתי הסוהר</td><td>פטור ממכרז               </td><td>False        </td><td>522407.34 + number</td><td>522410.5 + number </td><td>ILS </td><td>2016-01-03 </td><td>2017-01-12 </td></tr>\n",
       "<tr><td>מסייג'נט בע\"מ          </td><td>שירותי תחזוקת רשיונות ושעות למע' הפקס בשב\"ס</td><td>שירות בתי הסוהר</td><td>פטור ממכרז               </td><td>False        </td><td>149999.75 + number</td><td>149999.76 + number</td><td>ILS </td><td>2016-01-03 </td><td>2017-01-12 </td></tr>\n",
       "<tr><td>פורת                   </td><td>ספרים עבור המשלחת לפולין                   </td><td>שירות בתי הסוהר</td><td>תקנה 1ב - מכרז פומבי רגיל</td><td>False        </td><td>14973.78 + number </td><td>14926.75 + number </td><td>ILS </td><td>2016-01-03 </td><td>2017-01-12 </td></tr>\n",
       "<tr><td>Total                  </td><td>9554                                       </td><td>               </td><td>                         </td><td>             </td><td>                  </td><td>                  </td><td>    </td><td>           </td><td>           </td></tr>\n",
       "</tbody>\n",
       "</table>"
      ],
      "text/plain": [
       "<IPython.core.display.HTML object>"
      ]
     },
     "metadata": {},
     "output_type": "display_data"
    },
    {
     "data": {
      "text/html": [
       "<h3>(contract-spending) הקמת מטבח וחדר אוכל סגל בב/ס שיטה: כל ההתקשרויות במצב הסתיים עם אותו המפרסם מ-2017</h3>"
      ],
      "text/plain": [
       "<IPython.core.display.HTML object>"
      ]
     },
     "metadata": {},
     "output_type": "display_data"
    },
    {
     "data": {
      "text/html": [
       "<pre>SELECT coalesce(entity_name, supplier_name->>0) AS \"שם הספק\",\n",
       "       entity_id,\n",
       "       purpose AS \"כותרת התקשרות\",\n",
       "       publisher_name AS \"הגורם המזמין\",\n",
       "       purchase_method->>0 AS \"סוג הרכש\",\n",
       "                         contract_is_active AS \"סטטוס התקשרות\",\n",
       "                         volume AS \"סכום שאושר\",\n",
       "                         executed AS \"סכום ששולם\",\n",
       "                         currency AS \"מטבע\",\n",
       "                         order_date AS \"תאריך הזמנה\",\n",
       "                         payments->-1->>'date' AS \"תאריך עדכון\"\n",
       "FROM contract_spending\n",
       "WHERE (publisher_name = 'שירות בתי הסוהר')\n",
       "  AND (NOT contract_is_active)\n",
       "  AND min_year = 2017</pre>"
      ],
      "text/plain": [
       "<IPython.core.display.HTML object>"
      ]
     },
     "metadata": {},
     "output_type": "display_data"
    },
    {
     "data": {
      "text/html": [
       "<table>\n",
       "<tbody>\n",
       "<tr><td>שם הספק                     </td><td>כותרת התקשרות      </td><td>הגורם המזמין   </td><td>סוג הרכש                 </td><td>סטטוס התקשרות</td><td>סכום שאושר      </td><td>סכום ששולם      </td><td>מטבע</td><td>תאריך הזמנה</td><td>תאריך עדכון</td></tr>\n",
       "<tr><td>קשטן יגאל                   </td><td>שעת ייעוץ          </td><td>שירות בתי הסוהר</td><td>פטור ממכרז               </td><td>False        </td><td>2999.88 + number</td><td>2396.16 + number</td><td>ILS </td><td>2017-01-02 </td><td>2017-11-21 </td></tr>\n",
       "<tr><td>בית מסחר לתרופות טלפארם בע\"מ</td><td>הזמנה תרופות דחופות</td><td>שירות בתי הסוהר</td><td>תקנה 1ב - מכרז פומבי רגיל</td><td>False        </td><td>992.07 + number </td><td>0.0 + number    </td><td>ILS </td><td>2017-01-02 </td><td>2017-11-29 </td></tr>\n",
       "<tr><td>מרזבית פלסטיקה (1989) בע\"מ  </td><td>.                  </td><td>שירות בתי הסוהר</td><td>תקנה 1ב - מכרז פומבי רגיל</td><td>False        </td><td>2148.71 + number</td><td>1825.0 + number </td><td>ILS </td><td>2017-01-04 </td><td>2017-11-21 </td></tr>\n",
       "<tr><td>Total                       </td><td>6109               </td><td>               </td><td>                         </td><td>             </td><td>                </td><td>                </td><td>    </td><td>           </td><td>           </td></tr>\n",
       "</tbody>\n",
       "</table>"
      ],
      "text/plain": [
       "<IPython.core.display.HTML object>"
      ]
     },
     "metadata": {},
     "output_type": "display_data"
    },
    {
     "data": {
      "text/html": [
       "<h3>(contract-spending) הקמת מטבח וחדר אוכל סגל בב/ס שיטה: כל ההתקשרויות במצב הסתיים עם אותו המפרסם מ-2018</h3>"
      ],
      "text/plain": [
       "<IPython.core.display.HTML object>"
      ]
     },
     "metadata": {},
     "output_type": "display_data"
    },
    {
     "data": {
      "text/html": [
       "<pre>SELECT coalesce(entity_name, supplier_name->>0) AS \"שם הספק\",\n",
       "       entity_id,\n",
       "       purpose AS \"כותרת התקשרות\",\n",
       "       publisher_name AS \"הגורם המזמין\",\n",
       "       purchase_method->>0 AS \"סוג הרכש\",\n",
       "                         contract_is_active AS \"סטטוס התקשרות\",\n",
       "                         volume AS \"סכום שאושר\",\n",
       "                         executed AS \"סכום ששולם\",\n",
       "                         currency AS \"מטבע\",\n",
       "                         order_date AS \"תאריך הזמנה\",\n",
       "                         payments->-1->>'date' AS \"תאריך עדכון\"\n",
       "FROM contract_spending\n",
       "WHERE (publisher_name = 'שירות בתי הסוהר')\n",
       "  AND (NOT contract_is_active)\n",
       "  AND min_year = 2018</pre>"
      ],
      "text/plain": [
       "<IPython.core.display.HTML object>"
      ]
     },
     "metadata": {},
     "output_type": "display_data"
    },
    {
     "data": {
      "text/html": [
       "<table>\n",
       "<tbody>\n",
       "<tr><td>Total</td><td style=\"text-align: right;\">0</td></tr>\n",
       "</tbody>\n",
       "</table>"
      ],
      "text/plain": [
       "<IPython.core.display.HTML object>"
      ]
     },
     "metadata": {},
     "output_type": "display_data"
    },
    {
     "data": {
      "text/html": [
       "<h3>(contract-spending) הקמת מטבח וחדר אוכל סגל בב/ס שיטה: כל ההתקשרויות במצב הסתיים עם אותו המפרסם מ-כל השנים</h3>"
      ],
      "text/plain": [
       "<IPython.core.display.HTML object>"
      ]
     },
     "metadata": {},
     "output_type": "display_data"
    },
    {
     "data": {
      "text/html": [
       "<pre>SELECT coalesce(entity_name, supplier_name->>0) AS \"שם הספק\",\n",
       "       entity_id,\n",
       "       purpose AS \"כותרת התקשרות\",\n",
       "       publisher_name AS \"הגורם המזמין\",\n",
       "       purchase_method->>0 AS \"סוג הרכש\",\n",
       "                         contract_is_active AS \"סטטוס התקשרות\",\n",
       "                         volume AS \"סכום שאושר\",\n",
       "                         executed AS \"סכום ששולם\",\n",
       "                         currency AS \"מטבע\",\n",
       "                         order_date AS \"תאריך הזמנה\",\n",
       "                         payments->-1->>'date' AS \"תאריך עדכון\"\n",
       "FROM contract_spending\n",
       "WHERE (publisher_name = 'שירות בתי הסוהר')\n",
       "  AND (NOT contract_is_active)\n",
       "  AND min_year > 0</pre>"
      ],
      "text/plain": [
       "<IPython.core.display.HTML object>"
      ]
     },
     "metadata": {},
     "output_type": "display_data"
    },
    {
     "data": {
      "text/html": [
       "<table>\n",
       "<tbody>\n",
       "<tr><td>שם הספק                     </td><td>כותרת התקשרות                </td><td>הגורם המזמין   </td><td>סוג הרכש                 </td><td>סטטוס התקשרות</td><td>סכום שאושר        </td><td>סכום ששולם       </td><td>מטבע</td><td>תאריך הזמנה</td><td>תאריך עדכון</td></tr>\n",
       "<tr><td>חברת מאזני שקל 2008  בע\"מ   </td><td>שירות מאזני שקל              </td><td>שירות בתי הסוהר</td><td>אחר                      </td><td>False        </td><td>3000.03 + number  </td><td>2407.15 + number </td><td>ILS </td><td>2015-01-12 </td><td>2017-11-21 </td></tr>\n",
       "<tr><td>טים-טק ייעוץ ארגוני בע\"מ    </td><td>שרותי חינוך ערכים והעשרה לסגל</td><td>שירות בתי הסוהר</td><td>אחר                      </td><td>False        </td><td>150000.42 + number</td><td>28605.74 + number</td><td>ILS </td><td>2015-01-18 </td><td>2017-01-12 </td></tr>\n",
       "<tr><td>משק מנופים אלגלי (1989) בע\"מ</td><td>הובלות והרכבות               </td><td>שירות בתי הסוהר</td><td>תקנה 1ב - מכרז פומבי רגיל</td><td>False        </td><td>110793.74 + number</td><td>91738.64 + number</td><td>ILS </td><td>2015-01-19 </td><td>2017-01-12 </td></tr>\n",
       "<tr><td>Total                       </td><td>18310                        </td><td>               </td><td>                         </td><td>             </td><td>                  </td><td>                 </td><td>    </td><td>           </td><td>           </td></tr>\n",
       "</tbody>\n",
       "</table>"
      ],
      "text/plain": [
       "<IPython.core.display.HTML object>"
      ]
     },
     "metadata": {},
     "output_type": "display_data"
    },
    {
     "data": {
      "text/html": [
       "<h3>(contract-spending) הקמת מטבח וחדר אוכל סגל בב/ס שיטה: כל ההתקשרויות במצב הסתיים מאותה תקנה תקציבית מ-2015</h3>"
      ],
      "text/plain": [
       "<IPython.core.display.HTML object>"
      ]
     },
     "metadata": {},
     "output_type": "display_data"
    },
    {
     "data": {
      "text/html": [
       "<pre>SELECT coalesce(entity_name, supplier_name->>0) AS \"שם הספק\",\n",
       "       entity_id,\n",
       "       purpose AS \"כותרת התקשרות\",\n",
       "       publisher_name AS \"הגורם המזמין\",\n",
       "       purchase_method->>0 AS \"סוג הרכש\",\n",
       "                         contract_is_active AS \"סטטוס התקשרות\",\n",
       "                         volume AS \"סכום שאושר\",\n",
       "                         executed AS \"סכום ששולם\",\n",
       "                         currency AS \"מטבע\",\n",
       "                         order_date AS \"תאריך הזמנה\",\n",
       "                         payments->-1->>'date' AS \"תאריך עדכון\"\n",
       "FROM contract_spending\n",
       "WHERE (budget_code = '0052400102')\n",
       "  AND (NOT contract_is_active)\n",
       "  AND min_year = 2015</pre>"
      ],
      "text/plain": [
       "<IPython.core.display.HTML object>"
      ]
     },
     "metadata": {},
     "output_type": "display_data"
    },
    {
     "data": {
      "text/html": [
       "<table>\n",
       "<tbody>\n",
       "<tr><td>שם הספק                       </td><td>כותרת התקשרות</td><td>הגורם המזמין   </td><td>סוג הרכש</td><td>סטטוס התקשרות</td><td>סכום שאושר       </td><td>סכום ששולם      </td><td>מטבע</td><td>תאריך הזמנה</td><td>תאריך עדכון</td></tr>\n",
       "<tr><td>בינת יישום מערכות בע\"מ        </td><td>הזמנה מהסבה  </td><td>שירות בתי הסוהר</td><td>אחר     </td><td>False        </td><td>6029.47 + number </td><td>5933.0 + number </td><td>ILS </td><td>2015-02-12 </td><td>2017-01-12 </td></tr>\n",
       "<tr><td>ג'י וואן טכנולוגיות מיגון בע\"מ</td><td>הזמנה מהסבה  </td><td>שירות בתי הסוהר</td><td>אחר     </td><td>False        </td><td>83100.74 + number</td><td>62465.0 + number</td><td>ILS </td><td>2015-02-12 </td><td>2017-01-12 </td></tr>\n",
       "<tr><td>ג'י וואן טכנולוגיות מיגון בע\"מ</td><td>הזמנה מהסבה  </td><td>שירות בתי הסוהר</td><td>אחר     </td><td>False        </td><td>9371.9 + number  </td><td>9370.66 + number</td><td>ILS </td><td>2015-02-15 </td><td>2017-01-12 </td></tr>\n",
       "<tr><td>Total                         </td><td>259          </td><td>               </td><td>        </td><td>             </td><td>                 </td><td>                </td><td>    </td><td>           </td><td>           </td></tr>\n",
       "</tbody>\n",
       "</table>"
      ],
      "text/plain": [
       "<IPython.core.display.HTML object>"
      ]
     },
     "metadata": {},
     "output_type": "display_data"
    },
    {
     "data": {
      "text/html": [
       "<h3>(contract-spending) הקמת מטבח וחדר אוכל סגל בב/ס שיטה: כל ההתקשרויות במצב הסתיים מאותה תקנה תקציבית מ-2016</h3>"
      ],
      "text/plain": [
       "<IPython.core.display.HTML object>"
      ]
     },
     "metadata": {},
     "output_type": "display_data"
    },
    {
     "data": {
      "text/html": [
       "<pre>SELECT coalesce(entity_name, supplier_name->>0) AS \"שם הספק\",\n",
       "       entity_id,\n",
       "       purpose AS \"כותרת התקשרות\",\n",
       "       publisher_name AS \"הגורם המזמין\",\n",
       "       purchase_method->>0 AS \"סוג הרכש\",\n",
       "                         contract_is_active AS \"סטטוס התקשרות\",\n",
       "                         volume AS \"סכום שאושר\",\n",
       "                         executed AS \"סכום ששולם\",\n",
       "                         currency AS \"מטבע\",\n",
       "                         order_date AS \"תאריך הזמנה\",\n",
       "                         payments->-1->>'date' AS \"תאריך עדכון\"\n",
       "FROM contract_spending\n",
       "WHERE (budget_code = '0052400102')\n",
       "  AND (NOT contract_is_active)\n",
       "  AND min_year = 2016</pre>"
      ],
      "text/plain": [
       "<IPython.core.display.HTML object>"
      ]
     },
     "metadata": {},
     "output_type": "display_data"
    },
    {
     "data": {
      "text/html": [
       "<table>\n",
       "<tbody>\n",
       "<tr><td>שם הספק                         </td><td>כותרת התקשרות                                     </td><td>הגורם המזמין   </td><td>סוג הרכש                 </td><td>סטטוס התקשרות</td><td>סכום שאושר      </td><td>סכום ששולם      </td><td>מטבע</td><td>תאריך הזמנה</td><td>תאריך עדכון</td></tr>\n",
       "<tr><td>טופ-ליין יבוא ושיווק רהיטים בע\"מ</td><td>כסא מנהל מרופד בבד משופר, עם גב גבוה , משענות ידיי</td><td>שירות בתי הסוהר</td><td>תקנה 14ב - מכרז מרכזי    </td><td>False        </td><td>1910.25 + number</td><td>1910.25 + number</td><td>ILS </td><td>2016-01-06 </td><td>2017-01-12 </td></tr>\n",
       "<tr><td>מץ אלקטרוניקה (1989) בע\"מ       </td><td>טלויזיה עבור אגף 10 *- מעשיהו, איש קשר אושרי :050-</td><td>שירות בתי הסוהר</td><td>תקנה 1ב - מכרז פומבי רגיל</td><td>False        </td><td>1283.49 + number</td><td>1283.49 + number</td><td>ILS </td><td>2016-01-06 </td><td>2017-01-12 </td></tr>\n",
       "<tr><td>משרד לבטחון פנים/שרות בתי הסוהר </td><td>הרכבה עבור ריהוט לאגף 10 מעשיהו , איש קשר אושרי 05</td><td>שירות בתי הסוהר</td><td>התקשרות עם גופים ממשלתיים</td><td>False        </td><td>5545.0 + number </td><td>0.0 + number    </td><td>ILS </td><td>2016-01-07 </td><td>2017-01-12 </td></tr>\n",
       "<tr><td>Total                           </td><td>918                                               </td><td>               </td><td>                         </td><td>             </td><td>                </td><td>                </td><td>    </td><td>           </td><td>           </td></tr>\n",
       "</tbody>\n",
       "</table>"
      ],
      "text/plain": [
       "<IPython.core.display.HTML object>"
      ]
     },
     "metadata": {},
     "output_type": "display_data"
    },
    {
     "data": {
      "text/html": [
       "<h3>(contract-spending) הקמת מטבח וחדר אוכל סגל בב/ס שיטה: כל ההתקשרויות במצב הסתיים מאותה תקנה תקציבית מ-2017</h3>"
      ],
      "text/plain": [
       "<IPython.core.display.HTML object>"
      ]
     },
     "metadata": {},
     "output_type": "display_data"
    },
    {
     "data": {
      "text/html": [
       "<pre>SELECT coalesce(entity_name, supplier_name->>0) AS \"שם הספק\",\n",
       "       entity_id,\n",
       "       purpose AS \"כותרת התקשרות\",\n",
       "       publisher_name AS \"הגורם המזמין\",\n",
       "       purchase_method->>0 AS \"סוג הרכש\",\n",
       "                         contract_is_active AS \"סטטוס התקשרות\",\n",
       "                         volume AS \"סכום שאושר\",\n",
       "                         executed AS \"סכום ששולם\",\n",
       "                         currency AS \"מטבע\",\n",
       "                         order_date AS \"תאריך הזמנה\",\n",
       "                         payments->-1->>'date' AS \"תאריך עדכון\"\n",
       "FROM contract_spending\n",
       "WHERE (budget_code = '0052400102')\n",
       "  AND (NOT contract_is_active)\n",
       "  AND min_year = 2017</pre>"
      ],
      "text/plain": [
       "<IPython.core.display.HTML object>"
      ]
     },
     "metadata": {},
     "output_type": "display_data"
    },
    {
     "data": {
      "text/html": [
       "<table>\n",
       "<tbody>\n",
       "<tr><td>Total</td><td style=\"text-align: right;\">0</td></tr>\n",
       "</tbody>\n",
       "</table>"
      ],
      "text/plain": [
       "<IPython.core.display.HTML object>"
      ]
     },
     "metadata": {},
     "output_type": "display_data"
    },
    {
     "data": {
      "text/html": [
       "<h3>(contract-spending) הקמת מטבח וחדר אוכל סגל בב/ס שיטה: כל ההתקשרויות במצב הסתיים מאותה תקנה תקציבית מ-2018</h3>"
      ],
      "text/plain": [
       "<IPython.core.display.HTML object>"
      ]
     },
     "metadata": {},
     "output_type": "display_data"
    },
    {
     "data": {
      "text/html": [
       "<pre>SELECT coalesce(entity_name, supplier_name->>0) AS \"שם הספק\",\n",
       "       entity_id,\n",
       "       purpose AS \"כותרת התקשרות\",\n",
       "       publisher_name AS \"הגורם המזמין\",\n",
       "       purchase_method->>0 AS \"סוג הרכש\",\n",
       "                         contract_is_active AS \"סטטוס התקשרות\",\n",
       "                         volume AS \"סכום שאושר\",\n",
       "                         executed AS \"סכום ששולם\",\n",
       "                         currency AS \"מטבע\",\n",
       "                         order_date AS \"תאריך הזמנה\",\n",
       "                         payments->-1->>'date' AS \"תאריך עדכון\"\n",
       "FROM contract_spending\n",
       "WHERE (budget_code = '0052400102')\n",
       "  AND (NOT contract_is_active)\n",
       "  AND min_year = 2018</pre>"
      ],
      "text/plain": [
       "<IPython.core.display.HTML object>"
      ]
     },
     "metadata": {},
     "output_type": "display_data"
    },
    {
     "data": {
      "text/html": [
       "<table>\n",
       "<tbody>\n",
       "<tr><td>Total</td><td style=\"text-align: right;\">0</td></tr>\n",
       "</tbody>\n",
       "</table>"
      ],
      "text/plain": [
       "<IPython.core.display.HTML object>"
      ]
     },
     "metadata": {},
     "output_type": "display_data"
    },
    {
     "data": {
      "text/html": [
       "<h3>(contract-spending) הקמת מטבח וחדר אוכל סגל בב/ס שיטה: כל ההתקשרויות במצב הסתיים מאותה תקנה תקציבית מ-כל השנים</h3>"
      ],
      "text/plain": [
       "<IPython.core.display.HTML object>"
      ]
     },
     "metadata": {},
     "output_type": "display_data"
    },
    {
     "data": {
      "text/html": [
       "<pre>SELECT coalesce(entity_name, supplier_name->>0) AS \"שם הספק\",\n",
       "       entity_id,\n",
       "       purpose AS \"כותרת התקשרות\",\n",
       "       publisher_name AS \"הגורם המזמין\",\n",
       "       purchase_method->>0 AS \"סוג הרכש\",\n",
       "                         contract_is_active AS \"סטטוס התקשרות\",\n",
       "                         volume AS \"סכום שאושר\",\n",
       "                         executed AS \"סכום ששולם\",\n",
       "                         currency AS \"מטבע\",\n",
       "                         order_date AS \"תאריך הזמנה\",\n",
       "                         payments->-1->>'date' AS \"תאריך עדכון\"\n",
       "FROM contract_spending\n",
       "WHERE (budget_code = '0052400102')\n",
       "  AND (NOT contract_is_active)\n",
       "  AND min_year > 0</pre>"
      ],
      "text/plain": [
       "<IPython.core.display.HTML object>"
      ]
     },
     "metadata": {},
     "output_type": "display_data"
    },
    {
     "data": {
      "text/html": [
       "<table>\n",
       "<tbody>\n",
       "<tr><td>שם הספק                       </td><td>כותרת התקשרות</td><td>הגורם המזמין   </td><td>סוג הרכש</td><td>סטטוס התקשרות</td><td>סכום שאושר       </td><td>סכום ששולם      </td><td>מטבע</td><td>תאריך הזמנה</td><td>תאריך עדכון</td></tr>\n",
       "<tr><td>בינת יישום מערכות בע\"מ        </td><td>הזמנה מהסבה  </td><td>שירות בתי הסוהר</td><td>אחר     </td><td>False        </td><td>6029.47 + number </td><td>5933.0 + number </td><td>ILS </td><td>2015-02-12 </td><td>2017-01-12 </td></tr>\n",
       "<tr><td>ג'י וואן טכנולוגיות מיגון בע\"מ</td><td>הזמנה מהסבה  </td><td>שירות בתי הסוהר</td><td>אחר     </td><td>False        </td><td>83100.74 + number</td><td>62465.0 + number</td><td>ILS </td><td>2015-02-12 </td><td>2017-01-12 </td></tr>\n",
       "<tr><td>ג'י וואן טכנולוגיות מיגון בע\"מ</td><td>הזמנה מהסבה  </td><td>שירות בתי הסוהר</td><td>אחר     </td><td>False        </td><td>9371.9 + number  </td><td>9370.66 + number</td><td>ILS </td><td>2015-02-15 </td><td>2017-01-12 </td></tr>\n",
       "<tr><td>Total                         </td><td>1177         </td><td>               </td><td>        </td><td>             </td><td>                 </td><td>                </td><td>    </td><td>           </td><td>           </td></tr>\n",
       "</tbody>\n",
       "</table>"
      ],
      "text/plain": [
       "<IPython.core.display.HTML object>"
      ]
     },
     "metadata": {},
     "output_type": "display_data"
    },
    {
     "data": {
      "text/html": [
       "<h3>(contract-spending) הקמת מטבח וחדר אוכל סגל בב/ס שיטה: כל ההתקשרויות במצב כלשהו עם אותו הספק מ-2015</h3>"
      ],
      "text/plain": [
       "<IPython.core.display.HTML object>"
      ]
     },
     "metadata": {},
     "output_type": "display_data"
    },
    {
     "data": {
      "text/html": [
       "<pre>SELECT coalesce(entity_name, supplier_name->>0) AS \"שם הספק\",\n",
       "       entity_id,\n",
       "       purpose AS \"כותרת התקשרות\",\n",
       "       publisher_name AS \"הגורם המזמין\",\n",
       "       purchase_method->>0 AS \"סוג הרכש\",\n",
       "                         contract_is_active AS \"סטטוס התקשרות\",\n",
       "                         volume AS \"סכום שאושר\",\n",
       "                         executed AS \"סכום ששולם\",\n",
       "                         currency AS \"מטבע\",\n",
       "                         order_date AS \"תאריך הזמנה\",\n",
       "                         payments->-1->>'date' AS \"תאריך עדכון\"\n",
       "FROM contract_spending\n",
       "WHERE (entity_id = '511794661')\n",
       "  AND TRUE\n",
       "  AND min_year = 2015</pre>"
      ],
      "text/plain": [
       "<IPython.core.display.HTML object>"
      ]
     },
     "metadata": {},
     "output_type": "display_data"
    },
    {
     "data": {
      "text/html": [
       "<table>\n",
       "<tbody>\n",
       "<tr><td>שם הספק       </td><td>כותרת התקשרות             </td><td>הגורם המזמין   </td><td>סוג הרכש                 </td><td>סטטוס התקשרות</td><td>סכום שאושר        </td><td>סכום ששולם        </td><td>מטבע</td><td>תאריך הזמנה</td><td>תאריך עדכון</td></tr>\n",
       "<tr><td>אחים קייס בע\"מ</td><td>הזמנה מהסבה               </td><td>שירות בתי הסוהר</td><td>אחר                      </td><td>False        </td><td>441845.01 + number</td><td>441246.71 + number</td><td>ILS </td><td>2015-02-18 </td><td>2018-03-06 </td></tr>\n",
       "<tr><td>אחים קייס בע\"מ</td><td>הזמנה מהסבה               </td><td>שירות בתי הסוהר</td><td>אחר                      </td><td>False        </td><td>335541.0 + number </td><td>335321.79 + number</td><td>ILS </td><td>2015-02-18 </td><td>2018-03-06 </td></tr>\n",
       "<tr><td>אחים קייס בע\"מ</td><td>העברת כלבנים בבימ\"ר קישון.</td><td>שירות בתי הסוהר</td><td>תקנה 1ב - מכרז פומבי רגיל</td><td>False        </td><td>71668.48 + number </td><td>70278.79 + number </td><td>ILS </td><td>2015-05-21 </td><td>2017-11-21 </td></tr>\n",
       "<tr><td>Total         </td><td>18                        </td><td>               </td><td>                         </td><td>             </td><td>                  </td><td>                  </td><td>    </td><td>           </td><td>           </td></tr>\n",
       "</tbody>\n",
       "</table>"
      ],
      "text/plain": [
       "<IPython.core.display.HTML object>"
      ]
     },
     "metadata": {},
     "output_type": "display_data"
    },
    {
     "data": {
      "text/html": [
       "<h3>(contract-spending) הקמת מטבח וחדר אוכל סגל בב/ס שיטה: כל ההתקשרויות במצב כלשהו עם אותו הספק מ-2016</h3>"
      ],
      "text/plain": [
       "<IPython.core.display.HTML object>"
      ]
     },
     "metadata": {},
     "output_type": "display_data"
    },
    {
     "data": {
      "text/html": [
       "<pre>SELECT coalesce(entity_name, supplier_name->>0) AS \"שם הספק\",\n",
       "       entity_id,\n",
       "       purpose AS \"כותרת התקשרות\",\n",
       "       publisher_name AS \"הגורם המזמין\",\n",
       "       purchase_method->>0 AS \"סוג הרכש\",\n",
       "                         contract_is_active AS \"סטטוס התקשרות\",\n",
       "                         volume AS \"סכום שאושר\",\n",
       "                         executed AS \"סכום ששולם\",\n",
       "                         currency AS \"מטבע\",\n",
       "                         order_date AS \"תאריך הזמנה\",\n",
       "                         payments->-1->>'date' AS \"תאריך עדכון\"\n",
       "FROM contract_spending\n",
       "WHERE (entity_id = '511794661')\n",
       "  AND TRUE\n",
       "  AND min_year = 2016</pre>"
      ],
      "text/plain": [
       "<IPython.core.display.HTML object>"
      ]
     },
     "metadata": {},
     "output_type": "display_data"
    },
    {
     "data": {
      "text/html": [
       "<table>\n",
       "<tbody>\n",
       "<tr><td>שם הספק       </td><td>כותרת התקשרות                                    </td><td>הגורם המזמין   </td><td>סוג הרכש                 </td><td>סטטוס התקשרות</td><td>סכום שאושר         </td><td>סכום ששולם         </td><td>מטבע</td><td>תאריך הזמנה</td><td>תאריך עדכון</td></tr>\n",
       "<tr><td>אחים קייס בע\"מ</td><td>עבודות בינוי ושיפוץ מבנה מגורים 55 ו56 שערי אברהם</td><td>שירות בתי הסוהר</td><td>תקנה 1ב - מכרז פומבי רגיל</td><td>True         </td><td>4184773.19 + number</td><td>4184762.58 + number</td><td>ILS </td><td>2016-09-27 </td><td>2018-03-06 </td></tr>\n",
       "<tr><td>אחים קייס בע\"מ</td><td>עבור כריתת עצים בבימר עמקים (טבריה) איש קשר 05060</td><td>שירות בתי הסוהר</td><td>תקנה 1ב - מכרז פומבי רגיל</td><td>False        </td><td>17517.59 + number  </td><td>17517.59 + number  </td><td>ILS </td><td>2016-07-27 </td><td>2017-01-12 </td></tr>\n",
       "<tr><td>אחים קייס בע\"מ</td><td>שיפוץ אגף 4 בגילבוע.                             </td><td>שירות בתי הסוהר</td><td>תקנה 1ב - מכרז פומבי רגיל</td><td>False        </td><td>458708.75 + number </td><td>458169.89 + number </td><td>ILS </td><td>2016-08-01 </td><td>2017-11-21 </td></tr>\n",
       "<tr><td>Total         </td><td>19                                               </td><td>               </td><td>                         </td><td>             </td><td>                   </td><td>                   </td><td>    </td><td>           </td><td>           </td></tr>\n",
       "</tbody>\n",
       "</table>"
      ],
      "text/plain": [
       "<IPython.core.display.HTML object>"
      ]
     },
     "metadata": {},
     "output_type": "display_data"
    },
    {
     "data": {
      "text/html": [
       "<h3>(contract-spending) הקמת מטבח וחדר אוכל סגל בב/ס שיטה: כל ההתקשרויות במצב כלשהו עם אותו הספק מ-2017</h3>"
      ],
      "text/plain": [
       "<IPython.core.display.HTML object>"
      ]
     },
     "metadata": {},
     "output_type": "display_data"
    },
    {
     "data": {
      "text/html": [
       "<pre>SELECT coalesce(entity_name, supplier_name->>0) AS \"שם הספק\",\n",
       "       entity_id,\n",
       "       purpose AS \"כותרת התקשרות\",\n",
       "       publisher_name AS \"הגורם המזמין\",\n",
       "       purchase_method->>0 AS \"סוג הרכש\",\n",
       "                         contract_is_active AS \"סטטוס התקשרות\",\n",
       "                         volume AS \"סכום שאושר\",\n",
       "                         executed AS \"סכום ששולם\",\n",
       "                         currency AS \"מטבע\",\n",
       "                         order_date AS \"תאריך הזמנה\",\n",
       "                         payments->-1->>'date' AS \"תאריך עדכון\"\n",
       "FROM contract_spending\n",
       "WHERE (entity_id = '511794661')\n",
       "  AND TRUE\n",
       "  AND min_year = 2017</pre>"
      ],
      "text/plain": [
       "<IPython.core.display.HTML object>"
      ]
     },
     "metadata": {},
     "output_type": "display_data"
    },
    {
     "data": {
      "text/html": [
       "<table>\n",
       "<tbody>\n",
       "<tr><td>שם הספק       </td><td>כותרת התקשרות                                     </td><td>הגורם המזמין   </td><td>סוג הרכש                 </td><td>סטטוס התקשרות</td><td>סכום שאושר        </td><td>סכום ששולם        </td><td>מטבע</td><td>תאריך הזמנה</td><td>תאריך עדכון</td></tr>\n",
       "<tr><td>אחים קייס בע\"מ</td><td>התקנת תשתיות ומערכת איוורור בשיטה עפ\"י הסכם 620000</td><td>שירות בתי הסוהר</td><td>תקנה 1ב - מכרז פומבי רגיל</td><td>False        </td><td>20571.85 + number </td><td>20571.84 + number </td><td>ILS </td><td>2017-05-22 </td><td>2017-11-29 </td></tr>\n",
       "<tr><td>אחים קייס בע\"מ</td><td>התקנת מוני מים המתחם אשל עפ\"י הסכם 6200009937     </td><td>שירות בתי הסוהר</td><td>תקנה 1ב - מכרז פומבי רגיל</td><td>True         </td><td>599744.93 + number</td><td>456260.22 + number</td><td>ILS </td><td>2017-05-23 </td><td>2018-03-06 </td></tr>\n",
       "<tr><td>אחים קייס בע\"מ</td><td>ריצוף מדרגות כניסה למחוז צפון עפ\"י הסכם 6200009937</td><td>שירות בתי הסוהר</td><td>תקנה 1ב - מכרז פומבי רגיל</td><td>True         </td><td>58871.07 + number </td><td>58871.07 + number </td><td>ILS </td><td>2017-06-11 </td><td>2018-03-06 </td></tr>\n",
       "<tr><td>Total         </td><td>32                                                </td><td>               </td><td>                         </td><td>             </td><td>                  </td><td>                  </td><td>    </td><td>           </td><td>           </td></tr>\n",
       "</tbody>\n",
       "</table>"
      ],
      "text/plain": [
       "<IPython.core.display.HTML object>"
      ]
     },
     "metadata": {},
     "output_type": "display_data"
    },
    {
     "data": {
      "text/html": [
       "<h3>(contract-spending) הקמת מטבח וחדר אוכל סגל בב/ס שיטה: כל ההתקשרויות במצב כלשהו עם אותו הספק מ-2018</h3>"
      ],
      "text/plain": [
       "<IPython.core.display.HTML object>"
      ]
     },
     "metadata": {},
     "output_type": "display_data"
    },
    {
     "data": {
      "text/html": [
       "<pre>SELECT coalesce(entity_name, supplier_name->>0) AS \"שם הספק\",\n",
       "       entity_id,\n",
       "       purpose AS \"כותרת התקשרות\",\n",
       "       publisher_name AS \"הגורם המזמין\",\n",
       "       purchase_method->>0 AS \"סוג הרכש\",\n",
       "                         contract_is_active AS \"סטטוס התקשרות\",\n",
       "                         volume AS \"סכום שאושר\",\n",
       "                         executed AS \"סכום ששולם\",\n",
       "                         currency AS \"מטבע\",\n",
       "                         order_date AS \"תאריך הזמנה\",\n",
       "                         payments->-1->>'date' AS \"תאריך עדכון\"\n",
       "FROM contract_spending\n",
       "WHERE (entity_id = '511794661')\n",
       "  AND TRUE\n",
       "  AND min_year = 2018</pre>"
      ],
      "text/plain": [
       "<IPython.core.display.HTML object>"
      ]
     },
     "metadata": {},
     "output_type": "display_data"
    },
    {
     "data": {
      "text/html": [
       "<table>\n",
       "<tbody>\n",
       "<tr><td>שם הספק       </td><td>כותרת התקשרות</td><td>הגורם המזמין             </td><td>סוג הרכש                 </td><td>סטטוס התקשרות</td><td>סכום שאושר        </td><td>סכום ששולם         </td><td>מטבע</td><td>תאריך הזמנה</td><td>תאריך עדכון</td></tr>\n",
       "<tr><td>אחים קייס בע\"מ</td><td>בנייה        </td><td>הרשות הארצית לכבאות והצלה</td><td>תקנה 1ב - מכרז פומבי רגיל</td><td>True         </td><td>5378721.5 + number</td><td>2531977.97 + number</td><td>ILS </td><td>2018-02-06 </td><td>2018-07-10 </td></tr>\n",
       "<tr><td>Total         </td><td>1            </td><td>                         </td><td>                         </td><td>             </td><td>                  </td><td>                   </td><td>    </td><td>           </td><td>           </td></tr>\n",
       "</tbody>\n",
       "</table>"
      ],
      "text/plain": [
       "<IPython.core.display.HTML object>"
      ]
     },
     "metadata": {},
     "output_type": "display_data"
    },
    {
     "data": {
      "text/html": [
       "<h3>(contract-spending) הקמת מטבח וחדר אוכל סגל בב/ס שיטה: כל ההתקשרויות במצב כלשהו עם אותו הספק מ-כל השנים</h3>"
      ],
      "text/plain": [
       "<IPython.core.display.HTML object>"
      ]
     },
     "metadata": {},
     "output_type": "display_data"
    },
    {
     "data": {
      "text/html": [
       "<pre>SELECT coalesce(entity_name, supplier_name->>0) AS \"שם הספק\",\n",
       "       entity_id,\n",
       "       purpose AS \"כותרת התקשרות\",\n",
       "       publisher_name AS \"הגורם המזמין\",\n",
       "       purchase_method->>0 AS \"סוג הרכש\",\n",
       "                         contract_is_active AS \"סטטוס התקשרות\",\n",
       "                         volume AS \"סכום שאושר\",\n",
       "                         executed AS \"סכום ששולם\",\n",
       "                         currency AS \"מטבע\",\n",
       "                         order_date AS \"תאריך הזמנה\",\n",
       "                         payments->-1->>'date' AS \"תאריך עדכון\"\n",
       "FROM contract_spending\n",
       "WHERE (entity_id = '511794661')\n",
       "  AND TRUE\n",
       "  AND min_year > 0</pre>"
      ],
      "text/plain": [
       "<IPython.core.display.HTML object>"
      ]
     },
     "metadata": {},
     "output_type": "display_data"
    },
    {
     "data": {
      "text/html": [
       "<table>\n",
       "<tbody>\n",
       "<tr><td>שם הספק       </td><td>כותרת התקשרות                                     </td><td>הגורם המזמין   </td><td>סוג הרכש                 </td><td>סטטוס התקשרות</td><td>סכום שאושר         </td><td>סכום ששולם         </td><td>מטבע</td><td>תאריך הזמנה</td><td>תאריך עדכון</td></tr>\n",
       "<tr><td>אחים קייס בע\"מ</td><td>התקנת תשתיות ומערכת איוורור בשיטה עפ\"י הסכם 620000</td><td>שירות בתי הסוהר</td><td>תקנה 1ב - מכרז פומבי רגיל</td><td>False        </td><td>20571.85 + number  </td><td>20571.84 + number  </td><td>ILS </td><td>2017-05-22 </td><td>2017-11-29 </td></tr>\n",
       "<tr><td>אחים קייס בע\"מ</td><td>עבודות בינוי ושיפוץ מבנה מגורים 55 ו56 שערי אברהם </td><td>שירות בתי הסוהר</td><td>תקנה 1ב - מכרז פומבי רגיל</td><td>True         </td><td>4184773.19 + number</td><td>4184762.58 + number</td><td>ILS </td><td>2016-09-27 </td><td>2018-03-06 </td></tr>\n",
       "<tr><td>אחים קייס בע\"מ</td><td>עבור כריתת עצים בבימר עמקים (טבריה) איש קשר 05060 </td><td>שירות בתי הסוהר</td><td>תקנה 1ב - מכרז פומבי רגיל</td><td>False        </td><td>17517.59 + number  </td><td>17517.59 + number  </td><td>ILS </td><td>2016-07-27 </td><td>2017-01-12 </td></tr>\n",
       "<tr><td>Total         </td><td>70                                                </td><td>               </td><td>                         </td><td>             </td><td>                   </td><td>                   </td><td>    </td><td>           </td><td>           </td></tr>\n",
       "</tbody>\n",
       "</table>"
      ],
      "text/plain": [
       "<IPython.core.display.HTML object>"
      ]
     },
     "metadata": {},
     "output_type": "display_data"
    },
    {
     "data": {
      "text/html": [
       "<h3>(contract-spending) הקמת מטבח וחדר אוכל סגל בב/ס שיטה: כל ההתקשרויות במצב כלשהו עם אותו המפרסם מ-2015</h3>"
      ],
      "text/plain": [
       "<IPython.core.display.HTML object>"
      ]
     },
     "metadata": {},
     "output_type": "display_data"
    },
    {
     "data": {
      "text/html": [
       "<pre>SELECT coalesce(entity_name, supplier_name->>0) AS \"שם הספק\",\n",
       "       entity_id,\n",
       "       purpose AS \"כותרת התקשרות\",\n",
       "       publisher_name AS \"הגורם המזמין\",\n",
       "       purchase_method->>0 AS \"סוג הרכש\",\n",
       "                         contract_is_active AS \"סטטוס התקשרות\",\n",
       "                         volume AS \"סכום שאושר\",\n",
       "                         executed AS \"סכום ששולם\",\n",
       "                         currency AS \"מטבע\",\n",
       "                         order_date AS \"תאריך הזמנה\",\n",
       "                         payments->-1->>'date' AS \"תאריך עדכון\"\n",
       "FROM contract_spending\n",
       "WHERE (publisher_name = 'שירות בתי הסוהר')\n",
       "  AND TRUE\n",
       "  AND min_year = 2015</pre>"
      ],
      "text/plain": [
       "<IPython.core.display.HTML object>"
      ]
     },
     "metadata": {},
     "output_type": "display_data"
    },
    {
     "data": {
      "text/html": [
       "<table>\n",
       "<tbody>\n",
       "<tr><td>שם הספק                  </td><td>כותרת התקשרות                </td><td>הגורם המזמין   </td><td>סוג הרכש  </td><td>סטטוס התקשרות</td><td>סכום שאושר        </td><td>סכום ששולם       </td><td>מטבע</td><td>תאריך הזמנה</td><td>תאריך עדכון</td></tr>\n",
       "<tr><td>חברת מאזני שקל 2008  בע\"מ</td><td>שירות מאזני שקל              </td><td>שירות בתי הסוהר</td><td>אחר       </td><td>False        </td><td>3000.03 + number  </td><td>2407.15 + number </td><td>ILS </td><td>2015-01-12 </td><td>2017-11-21 </td></tr>\n",
       "<tr><td>טים-טק ייעוץ ארגוני בע\"מ </td><td>שרותי חינוך ערכים והעשרה לסגל</td><td>שירות בתי הסוהר</td><td>אחר       </td><td>False        </td><td>150000.42 + number</td><td>28605.74 + number</td><td>ILS </td><td>2015-01-18 </td><td>2017-01-12 </td></tr>\n",
       "<tr><td>איזי פארק בע\"מ           </td><td>הטענת מכשירי איזי פארק       </td><td>שירות בתי הסוהר</td><td>פטור ממכרז</td><td>True         </td><td>40677.97 + number </td><td>21837.85 + number</td><td>ILS </td><td>2015-01-18 </td><td>2018-03-06 </td></tr>\n",
       "<tr><td>Total                    </td><td>2979                         </td><td>               </td><td>          </td><td>             </td><td>                  </td><td>                 </td><td>    </td><td>           </td><td>           </td></tr>\n",
       "</tbody>\n",
       "</table>"
      ],
      "text/plain": [
       "<IPython.core.display.HTML object>"
      ]
     },
     "metadata": {},
     "output_type": "display_data"
    },
    {
     "data": {
      "text/html": [
       "<h3>(contract-spending) הקמת מטבח וחדר אוכל סגל בב/ס שיטה: כל ההתקשרויות במצב כלשהו עם אותו המפרסם מ-2016</h3>"
      ],
      "text/plain": [
       "<IPython.core.display.HTML object>"
      ]
     },
     "metadata": {},
     "output_type": "display_data"
    },
    {
     "data": {
      "text/html": [
       "<pre>SELECT coalesce(entity_name, supplier_name->>0) AS \"שם הספק\",\n",
       "       entity_id,\n",
       "       purpose AS \"כותרת התקשרות\",\n",
       "       publisher_name AS \"הגורם המזמין\",\n",
       "       purchase_method->>0 AS \"סוג הרכש\",\n",
       "                         contract_is_active AS \"סטטוס התקשרות\",\n",
       "                         volume AS \"סכום שאושר\",\n",
       "                         executed AS \"סכום ששולם\",\n",
       "                         currency AS \"מטבע\",\n",
       "                         order_date AS \"תאריך הזמנה\",\n",
       "                         payments->-1->>'date' AS \"תאריך עדכון\"\n",
       "FROM contract_spending\n",
       "WHERE (publisher_name = 'שירות בתי הסוהר')\n",
       "  AND TRUE\n",
       "  AND min_year = 2016</pre>"
      ],
      "text/plain": [
       "<IPython.core.display.HTML object>"
      ]
     },
     "metadata": {},
     "output_type": "display_data"
    },
    {
     "data": {
      "text/html": [
       "<table>\n",
       "<tbody>\n",
       "<tr><td>שם הספק                </td><td>כותרת התקשרות                              </td><td>הגורם המזמין   </td><td>סוג הרכש                 </td><td>סטטוס התקשרות</td><td>סכום שאושר        </td><td>סכום ששולם        </td><td>מטבע</td><td>תאריך הזמנה</td><td>תאריך עדכון</td></tr>\n",
       "<tr><td>היולט-פקרד (ישראל) בע\"מ</td><td>אחזקת שרתים מתוצרת HP לשנת 2016            </td><td>שירות בתי הסוהר</td><td>פטור ממכרז               </td><td>False        </td><td>522407.34 + number</td><td>522410.5 + number </td><td>ILS </td><td>2016-01-03 </td><td>2017-01-12 </td></tr>\n",
       "<tr><td>מסייג'נט בע\"מ          </td><td>שירותי תחזוקת רשיונות ושעות למע' הפקס בשב\"ס</td><td>שירות בתי הסוהר</td><td>פטור ממכרז               </td><td>False        </td><td>149999.75 + number</td><td>149999.76 + number</td><td>ILS </td><td>2016-01-03 </td><td>2017-01-12 </td></tr>\n",
       "<tr><td>פורת                   </td><td>ספרים עבור המשלחת לפולין                   </td><td>שירות בתי הסוהר</td><td>תקנה 1ב - מכרז פומבי רגיל</td><td>False        </td><td>14973.78 + number </td><td>14926.75 + number </td><td>ILS </td><td>2016-01-03 </td><td>2017-01-12 </td></tr>\n",
       "<tr><td>Total                  </td><td>10509                                      </td><td>               </td><td>                         </td><td>             </td><td>                  </td><td>                  </td><td>    </td><td>           </td><td>           </td></tr>\n",
       "</tbody>\n",
       "</table>"
      ],
      "text/plain": [
       "<IPython.core.display.HTML object>"
      ]
     },
     "metadata": {},
     "output_type": "display_data"
    },
    {
     "data": {
      "text/html": [
       "<h3>(contract-spending) הקמת מטבח וחדר אוכל סגל בב/ס שיטה: כל ההתקשרויות במצב כלשהו עם אותו המפרסם מ-2017</h3>"
      ],
      "text/plain": [
       "<IPython.core.display.HTML object>"
      ]
     },
     "metadata": {},
     "output_type": "display_data"
    },
    {
     "data": {
      "text/html": [
       "<pre>SELECT coalesce(entity_name, supplier_name->>0) AS \"שם הספק\",\n",
       "       entity_id,\n",
       "       purpose AS \"כותרת התקשרות\",\n",
       "       publisher_name AS \"הגורם המזמין\",\n",
       "       purchase_method->>0 AS \"סוג הרכש\",\n",
       "                         contract_is_active AS \"סטטוס התקשרות\",\n",
       "                         volume AS \"סכום שאושר\",\n",
       "                         executed AS \"סכום ששולם\",\n",
       "                         currency AS \"מטבע\",\n",
       "                         order_date AS \"תאריך הזמנה\",\n",
       "                         payments->-1->>'date' AS \"תאריך עדכון\"\n",
       "FROM contract_spending\n",
       "WHERE (publisher_name = 'שירות בתי הסוהר')\n",
       "  AND TRUE\n",
       "  AND min_year = 2017</pre>"
      ],
      "text/plain": [
       "<IPython.core.display.HTML object>"
      ]
     },
     "metadata": {},
     "output_type": "display_data"
    },
    {
     "data": {
      "text/html": [
       "<table>\n",
       "<tbody>\n",
       "<tr><td>שם הספק                       </td><td>כותרת התקשרות            </td><td>הגורם המזמין   </td><td>סוג הרכש                 </td><td>סטטוס התקשרות</td><td>סכום שאושר       </td><td>סכום ששולם       </td><td>מטבע</td><td>תאריך הזמנה</td><td>תאריך עדכון</td></tr>\n",
       "<tr><td>קשטן יגאל                     </td><td>שעת ייעוץ                </td><td>שירות בתי הסוהר</td><td>פטור ממכרז               </td><td>False        </td><td>2999.88 + number </td><td>2396.16 + number </td><td>ILS </td><td>2017-01-02 </td><td>2017-11-21 </td></tr>\n",
       "<tr><td>בית מסחר לתרופות טלפארם בע\"מ  </td><td>הזמנה תרופות דחופות      </td><td>שירות בתי הסוהר</td><td>תקנה 1ב - מכרז פומבי רגיל</td><td>False        </td><td>992.07 + number  </td><td>0.0 + number     </td><td>ILS </td><td>2017-01-02 </td><td>2017-11-29 </td></tr>\n",
       "<tr><td>דובר - מיכשור רפואי ומדעי בע\"מ</td><td>ראגנטים ובקרים לספירות דם</td><td>שירות בתי הסוהר</td><td>פטור ממכרז               </td><td>True         </td><td>29999.97 + number</td><td>25147.58 + number</td><td>ILS </td><td>2017-01-03 </td><td>2018-03-06 </td></tr>\n",
       "<tr><td>Total                         </td><td>12768                    </td><td>               </td><td>                         </td><td>             </td><td>                 </td><td>                 </td><td>    </td><td>           </td><td>           </td></tr>\n",
       "</tbody>\n",
       "</table>"
      ],
      "text/plain": [
       "<IPython.core.display.HTML object>"
      ]
     },
     "metadata": {},
     "output_type": "display_data"
    },
    {
     "data": {
      "text/html": [
       "<h3>(contract-spending) הקמת מטבח וחדר אוכל סגל בב/ס שיטה: כל ההתקשרויות במצב כלשהו עם אותו המפרסם מ-2018</h3>"
      ],
      "text/plain": [
       "<IPython.core.display.HTML object>"
      ]
     },
     "metadata": {},
     "output_type": "display_data"
    },
    {
     "data": {
      "text/html": [
       "<pre>SELECT coalesce(entity_name, supplier_name->>0) AS \"שם הספק\",\n",
       "       entity_id,\n",
       "       purpose AS \"כותרת התקשרות\",\n",
       "       publisher_name AS \"הגורם המזמין\",\n",
       "       purchase_method->>0 AS \"סוג הרכש\",\n",
       "                         contract_is_active AS \"סטטוס התקשרות\",\n",
       "                         volume AS \"סכום שאושר\",\n",
       "                         executed AS \"סכום ששולם\",\n",
       "                         currency AS \"מטבע\",\n",
       "                         order_date AS \"תאריך הזמנה\",\n",
       "                         payments->-1->>'date' AS \"תאריך עדכון\"\n",
       "FROM contract_spending\n",
       "WHERE (publisher_name = 'שירות בתי הסוהר')\n",
       "  AND TRUE\n",
       "  AND min_year = 2018</pre>"
      ],
      "text/plain": [
       "<IPython.core.display.HTML object>"
      ]
     },
     "metadata": {},
     "output_type": "display_data"
    },
    {
     "data": {
      "text/html": [
       "<table>\n",
       "<tbody>\n",
       "<tr><td>Total</td><td style=\"text-align: right;\">0</td></tr>\n",
       "</tbody>\n",
       "</table>"
      ],
      "text/plain": [
       "<IPython.core.display.HTML object>"
      ]
     },
     "metadata": {},
     "output_type": "display_data"
    },
    {
     "data": {
      "text/html": [
       "<h3>(contract-spending) הקמת מטבח וחדר אוכל סגל בב/ס שיטה: כל ההתקשרויות במצב כלשהו עם אותו המפרסם מ-כל השנים</h3>"
      ],
      "text/plain": [
       "<IPython.core.display.HTML object>"
      ]
     },
     "metadata": {},
     "output_type": "display_data"
    },
    {
     "data": {
      "text/html": [
       "<pre>SELECT coalesce(entity_name, supplier_name->>0) AS \"שם הספק\",\n",
       "       entity_id,\n",
       "       purpose AS \"כותרת התקשרות\",\n",
       "       publisher_name AS \"הגורם המזמין\",\n",
       "       purchase_method->>0 AS \"סוג הרכש\",\n",
       "                         contract_is_active AS \"סטטוס התקשרות\",\n",
       "                         volume AS \"סכום שאושר\",\n",
       "                         executed AS \"סכום ששולם\",\n",
       "                         currency AS \"מטבע\",\n",
       "                         order_date AS \"תאריך הזמנה\",\n",
       "                         payments->-1->>'date' AS \"תאריך עדכון\"\n",
       "FROM contract_spending\n",
       "WHERE (publisher_name = 'שירות בתי הסוהר')\n",
       "  AND TRUE\n",
       "  AND min_year > 0</pre>"
      ],
      "text/plain": [
       "<IPython.core.display.HTML object>"
      ]
     },
     "metadata": {},
     "output_type": "display_data"
    },
    {
     "data": {
      "text/html": [
       "<table>\n",
       "<tbody>\n",
       "<tr><td>שם הספק                  </td><td>כותרת התקשרות                </td><td>הגורם המזמין   </td><td>סוג הרכש  </td><td>סטטוס התקשרות</td><td>סכום שאושר        </td><td>סכום ששולם       </td><td>מטבע</td><td>תאריך הזמנה</td><td>תאריך עדכון</td></tr>\n",
       "<tr><td>חברת מאזני שקל 2008  בע\"מ</td><td>שירות מאזני שקל              </td><td>שירות בתי הסוהר</td><td>אחר       </td><td>False        </td><td>3000.03 + number  </td><td>2407.15 + number </td><td>ILS </td><td>2015-01-12 </td><td>2017-11-21 </td></tr>\n",
       "<tr><td>טים-טק ייעוץ ארגוני בע\"מ </td><td>שרותי חינוך ערכים והעשרה לסגל</td><td>שירות בתי הסוהר</td><td>אחר       </td><td>False        </td><td>150000.42 + number</td><td>28605.74 + number</td><td>ILS </td><td>2015-01-18 </td><td>2017-01-12 </td></tr>\n",
       "<tr><td>איזי פארק בע\"מ           </td><td>הטענת מכשירי איזי פארק       </td><td>שירות בתי הסוהר</td><td>פטור ממכרז</td><td>True         </td><td>40677.97 + number </td><td>21837.85 + number</td><td>ILS </td><td>2015-01-18 </td><td>2018-03-06 </td></tr>\n",
       "<tr><td>Total                    </td><td>26257                        </td><td>               </td><td>          </td><td>             </td><td>                  </td><td>                 </td><td>    </td><td>           </td><td>           </td></tr>\n",
       "</tbody>\n",
       "</table>"
      ],
      "text/plain": [
       "<IPython.core.display.HTML object>"
      ]
     },
     "metadata": {},
     "output_type": "display_data"
    },
    {
     "data": {
      "text/html": [
       "<h3>(contract-spending) הקמת מטבח וחדר אוכל סגל בב/ס שיטה: כל ההתקשרויות במצב כלשהו מאותה תקנה תקציבית מ-2015</h3>"
      ],
      "text/plain": [
       "<IPython.core.display.HTML object>"
      ]
     },
     "metadata": {},
     "output_type": "display_data"
    },
    {
     "data": {
      "text/html": [
       "<pre>SELECT coalesce(entity_name, supplier_name->>0) AS \"שם הספק\",\n",
       "       entity_id,\n",
       "       purpose AS \"כותרת התקשרות\",\n",
       "       publisher_name AS \"הגורם המזמין\",\n",
       "       purchase_method->>0 AS \"סוג הרכש\",\n",
       "                         contract_is_active AS \"סטטוס התקשרות\",\n",
       "                         volume AS \"סכום שאושר\",\n",
       "                         executed AS \"סכום ששולם\",\n",
       "                         currency AS \"מטבע\",\n",
       "                         order_date AS \"תאריך הזמנה\",\n",
       "                         payments->-1->>'date' AS \"תאריך עדכון\"\n",
       "FROM contract_spending\n",
       "WHERE (budget_code = '0052400102')\n",
       "  AND TRUE\n",
       "  AND min_year = 2015</pre>"
      ],
      "text/plain": [
       "<IPython.core.display.HTML object>"
      ]
     },
     "metadata": {},
     "output_type": "display_data"
    },
    {
     "data": {
      "text/html": [
       "<table>\n",
       "<tbody>\n",
       "<tr><td>שם הספק                       </td><td>כותרת התקשרות</td><td>הגורם המזמין   </td><td>סוג הרכש</td><td>סטטוס התקשרות</td><td>סכום שאושר       </td><td>סכום ששולם      </td><td>מטבע</td><td>תאריך הזמנה</td><td>תאריך עדכון</td></tr>\n",
       "<tr><td>בינת יישום מערכות בע\"מ        </td><td>הזמנה מהסבה  </td><td>שירות בתי הסוהר</td><td>אחר     </td><td>False        </td><td>6029.47 + number </td><td>5933.0 + number </td><td>ILS </td><td>2015-02-12 </td><td>2017-01-12 </td></tr>\n",
       "<tr><td>ג'י וואן טכנולוגיות מיגון בע\"מ</td><td>הזמנה מהסבה  </td><td>שירות בתי הסוהר</td><td>אחר     </td><td>False        </td><td>83100.74 + number</td><td>62465.0 + number</td><td>ILS </td><td>2015-02-12 </td><td>2017-01-12 </td></tr>\n",
       "<tr><td>ג'י וואן טכנולוגיות מיגון בע\"מ</td><td>הזמנה מהסבה  </td><td>שירות בתי הסוהר</td><td>אחר     </td><td>False        </td><td>9371.9 + number  </td><td>9370.66 + number</td><td>ILS </td><td>2015-02-15 </td><td>2017-01-12 </td></tr>\n",
       "<tr><td>Total                         </td><td>259          </td><td>               </td><td>        </td><td>             </td><td>                 </td><td>                </td><td>    </td><td>           </td><td>           </td></tr>\n",
       "</tbody>\n",
       "</table>"
      ],
      "text/plain": [
       "<IPython.core.display.HTML object>"
      ]
     },
     "metadata": {},
     "output_type": "display_data"
    },
    {
     "data": {
      "text/html": [
       "<h3>(contract-spending) הקמת מטבח וחדר אוכל סגל בב/ס שיטה: כל ההתקשרויות במצב כלשהו מאותה תקנה תקציבית מ-2016</h3>"
      ],
      "text/plain": [
       "<IPython.core.display.HTML object>"
      ]
     },
     "metadata": {},
     "output_type": "display_data"
    },
    {
     "data": {
      "text/html": [
       "<pre>SELECT coalesce(entity_name, supplier_name->>0) AS \"שם הספק\",\n",
       "       entity_id,\n",
       "       purpose AS \"כותרת התקשרות\",\n",
       "       publisher_name AS \"הגורם המזמין\",\n",
       "       purchase_method->>0 AS \"סוג הרכש\",\n",
       "                         contract_is_active AS \"סטטוס התקשרות\",\n",
       "                         volume AS \"סכום שאושר\",\n",
       "                         executed AS \"סכום ששולם\",\n",
       "                         currency AS \"מטבע\",\n",
       "                         order_date AS \"תאריך הזמנה\",\n",
       "                         payments->-1->>'date' AS \"תאריך עדכון\"\n",
       "FROM contract_spending\n",
       "WHERE (budget_code = '0052400102')\n",
       "  AND TRUE\n",
       "  AND min_year = 2016</pre>"
      ],
      "text/plain": [
       "<IPython.core.display.HTML object>"
      ]
     },
     "metadata": {},
     "output_type": "display_data"
    },
    {
     "data": {
      "text/html": [
       "<table>\n",
       "<tbody>\n",
       "<tr><td>שם הספק                         </td><td>כותרת התקשרות                                     </td><td>הגורם המזמין   </td><td>סוג הרכש                 </td><td>סטטוס התקשרות</td><td>סכום שאושר      </td><td>סכום ששולם      </td><td>מטבע</td><td>תאריך הזמנה</td><td>תאריך עדכון</td></tr>\n",
       "<tr><td>טופ-ליין יבוא ושיווק רהיטים בע\"מ</td><td>כסא מנהל מרופד בבד משופר, עם גב גבוה , משענות ידיי</td><td>שירות בתי הסוהר</td><td>תקנה 14ב - מכרז מרכזי    </td><td>False        </td><td>1910.25 + number</td><td>1910.25 + number</td><td>ILS </td><td>2016-01-06 </td><td>2017-01-12 </td></tr>\n",
       "<tr><td>מץ אלקטרוניקה (1989) בע\"מ       </td><td>טלויזיה עבור אגף 10 *- מעשיהו, איש קשר אושרי :050-</td><td>שירות בתי הסוהר</td><td>תקנה 1ב - מכרז פומבי רגיל</td><td>False        </td><td>1283.49 + number</td><td>1283.49 + number</td><td>ILS </td><td>2016-01-06 </td><td>2017-01-12 </td></tr>\n",
       "<tr><td>משרד לבטחון פנים/שרות בתי הסוהר </td><td>הרכבה עבור ריהוט לאגף 10 מעשיהו , איש קשר אושרי 05</td><td>שירות בתי הסוהר</td><td>התקשרות עם גופים ממשלתיים</td><td>False        </td><td>5545.0 + number </td><td>0.0 + number    </td><td>ILS </td><td>2016-01-07 </td><td>2017-01-12 </td></tr>\n",
       "<tr><td>Total                           </td><td>918                                               </td><td>               </td><td>                         </td><td>             </td><td>                </td><td>                </td><td>    </td><td>           </td><td>           </td></tr>\n",
       "</tbody>\n",
       "</table>"
      ],
      "text/plain": [
       "<IPython.core.display.HTML object>"
      ]
     },
     "metadata": {},
     "output_type": "display_data"
    },
    {
     "data": {
      "text/html": [
       "<h3>(contract-spending) הקמת מטבח וחדר אוכל סגל בב/ס שיטה: כל ההתקשרויות במצב כלשהו מאותה תקנה תקציבית מ-2017</h3>"
      ],
      "text/plain": [
       "<IPython.core.display.HTML object>"
      ]
     },
     "metadata": {},
     "output_type": "display_data"
    },
    {
     "data": {
      "text/html": [
       "<pre>SELECT coalesce(entity_name, supplier_name->>0) AS \"שם הספק\",\n",
       "       entity_id,\n",
       "       purpose AS \"כותרת התקשרות\",\n",
       "       publisher_name AS \"הגורם המזמין\",\n",
       "       purchase_method->>0 AS \"סוג הרכש\",\n",
       "                         contract_is_active AS \"סטטוס התקשרות\",\n",
       "                         volume AS \"סכום שאושר\",\n",
       "                         executed AS \"סכום ששולם\",\n",
       "                         currency AS \"מטבע\",\n",
       "                         order_date AS \"תאריך הזמנה\",\n",
       "                         payments->-1->>'date' AS \"תאריך עדכון\"\n",
       "FROM contract_spending\n",
       "WHERE (budget_code = '0052400102')\n",
       "  AND TRUE\n",
       "  AND min_year = 2017</pre>"
      ],
      "text/plain": [
       "<IPython.core.display.HTML object>"
      ]
     },
     "metadata": {},
     "output_type": "display_data"
    },
    {
     "data": {
      "text/html": [
       "<table>\n",
       "<tbody>\n",
       "<tr><td>Total</td><td style=\"text-align: right;\">0</td></tr>\n",
       "</tbody>\n",
       "</table>"
      ],
      "text/plain": [
       "<IPython.core.display.HTML object>"
      ]
     },
     "metadata": {},
     "output_type": "display_data"
    },
    {
     "data": {
      "text/html": [
       "<h3>(contract-spending) הקמת מטבח וחדר אוכל סגל בב/ס שיטה: כל ההתקשרויות במצב כלשהו מאותה תקנה תקציבית מ-2018</h3>"
      ],
      "text/plain": [
       "<IPython.core.display.HTML object>"
      ]
     },
     "metadata": {},
     "output_type": "display_data"
    },
    {
     "data": {
      "text/html": [
       "<pre>SELECT coalesce(entity_name, supplier_name->>0) AS \"שם הספק\",\n",
       "       entity_id,\n",
       "       purpose AS \"כותרת התקשרות\",\n",
       "       publisher_name AS \"הגורם המזמין\",\n",
       "       purchase_method->>0 AS \"סוג הרכש\",\n",
       "                         contract_is_active AS \"סטטוס התקשרות\",\n",
       "                         volume AS \"סכום שאושר\",\n",
       "                         executed AS \"סכום ששולם\",\n",
       "                         currency AS \"מטבע\",\n",
       "                         order_date AS \"תאריך הזמנה\",\n",
       "                         payments->-1->>'date' AS \"תאריך עדכון\"\n",
       "FROM contract_spending\n",
       "WHERE (budget_code = '0052400102')\n",
       "  AND TRUE\n",
       "  AND min_year = 2018</pre>"
      ],
      "text/plain": [
       "<IPython.core.display.HTML object>"
      ]
     },
     "metadata": {},
     "output_type": "display_data"
    },
    {
     "data": {
      "text/html": [
       "<table>\n",
       "<tbody>\n",
       "<tr><td>Total</td><td style=\"text-align: right;\">0</td></tr>\n",
       "</tbody>\n",
       "</table>"
      ],
      "text/plain": [
       "<IPython.core.display.HTML object>"
      ]
     },
     "metadata": {},
     "output_type": "display_data"
    },
    {
     "data": {
      "text/html": [
       "<h3>(contract-spending) הקמת מטבח וחדר אוכל סגל בב/ס שיטה: כל ההתקשרויות במצב כלשהו מאותה תקנה תקציבית מ-כל השנים</h3>"
      ],
      "text/plain": [
       "<IPython.core.display.HTML object>"
      ]
     },
     "metadata": {},
     "output_type": "display_data"
    },
    {
     "data": {
      "text/html": [
       "<pre>SELECT coalesce(entity_name, supplier_name->>0) AS \"שם הספק\",\n",
       "       entity_id,\n",
       "       purpose AS \"כותרת התקשרות\",\n",
       "       publisher_name AS \"הגורם המזמין\",\n",
       "       purchase_method->>0 AS \"סוג הרכש\",\n",
       "                         contract_is_active AS \"סטטוס התקשרות\",\n",
       "                         volume AS \"סכום שאושר\",\n",
       "                         executed AS \"סכום ששולם\",\n",
       "                         currency AS \"מטבע\",\n",
       "                         order_date AS \"תאריך הזמנה\",\n",
       "                         payments->-1->>'date' AS \"תאריך עדכון\"\n",
       "FROM contract_spending\n",
       "WHERE (budget_code = '0052400102')\n",
       "  AND TRUE\n",
       "  AND min_year > 0</pre>"
      ],
      "text/plain": [
       "<IPython.core.display.HTML object>"
      ]
     },
     "metadata": {},
     "output_type": "display_data"
    },
    {
     "data": {
      "text/html": [
       "<table>\n",
       "<tbody>\n",
       "<tr><td>שם הספק                       </td><td>כותרת התקשרות</td><td>הגורם המזמין   </td><td>סוג הרכש</td><td>סטטוס התקשרות</td><td>סכום שאושר       </td><td>סכום ששולם      </td><td>מטבע</td><td>תאריך הזמנה</td><td>תאריך עדכון</td></tr>\n",
       "<tr><td>בינת יישום מערכות בע\"מ        </td><td>הזמנה מהסבה  </td><td>שירות בתי הסוהר</td><td>אחר     </td><td>False        </td><td>6029.47 + number </td><td>5933.0 + number </td><td>ILS </td><td>2015-02-12 </td><td>2017-01-12 </td></tr>\n",
       "<tr><td>ג'י וואן טכנולוגיות מיגון בע\"מ</td><td>הזמנה מהסבה  </td><td>שירות בתי הסוהר</td><td>אחר     </td><td>False        </td><td>83100.74 + number</td><td>62465.0 + number</td><td>ILS </td><td>2015-02-12 </td><td>2017-01-12 </td></tr>\n",
       "<tr><td>ג'י וואן טכנולוגיות מיגון בע\"מ</td><td>הזמנה מהסבה  </td><td>שירות בתי הסוהר</td><td>אחר     </td><td>False        </td><td>9371.9 + number  </td><td>9370.66 + number</td><td>ILS </td><td>2015-02-15 </td><td>2017-01-12 </td></tr>\n",
       "<tr><td>Total                         </td><td>1177         </td><td>               </td><td>        </td><td>             </td><td>                 </td><td>                </td><td>    </td><td>           </td><td>           </td></tr>\n",
       "</tbody>\n",
       "</table>"
      ],
      "text/plain": [
       "<IPython.core.display.HTML object>"
      ]
     },
     "metadata": {},
     "output_type": "display_data"
    },
    {
     "name": "stdout",
     "output_type": "stream",
     "text": [
      "('org', 'app/descriptors/org/questions.json')\n",
      "Getting https://next.obudget.org/get/org/company/520039710\n"
     ]
    },
    {
     "data": {
      "text/html": [
       "<h3>(org) טלדור מערכות מחשבים (1986) בע\"מ (חברה פרטית): התקנות מהן הארגון קיבל תמיכות, לפי סה״כ כספים עבור בקשות שאושרו ב כל השנים</h3>"
      ],
      "text/plain": [
       "<IPython.core.display.HTML object>"
      ]
     },
     "metadata": {},
     "output_type": "display_data"
    },
    {
     "data": {
      "text/html": [
       "<pre>SELECT SUPPORT_TITLE AS \"נושא\",\n",
       "       budget_code,\n",
       "       budget_code \"מספר תקנה\",\n",
       "       sum(amount_approved) AS \"סה״כ אושר\",\n",
       "       sum(amount_paid) AS \"סה״כ שולם\",\n",
       "       min(year_requested) || '-' || max(year_requested) AS \"תקופה\"\n",
       "FROM raw_supports\n",
       "WHERE year_requested >0\n",
       "  AND entity_id='520039710'\n",
       "GROUP BY 1,\n",
       "         2,\n",
       "         3\n",
       "ORDER BY 3 DESC nulls LAST</pre>"
      ],
      "text/plain": [
       "<IPython.core.display.HTML object>"
      ]
     },
     "metadata": {},
     "output_type": "display_data"
    },
    {
     "data": {
      "text/html": [
       "<table>\n",
       "<tbody>\n",
       "<tr><td>נושא                                    </td><td>מספר תקנה                                          </td><td>סה״כ אושר          </td><td>סה״כ שולם          </td><td>תקופה    </td></tr>\n",
       "<tr><td>אנשים עם מוגבלות  -מימון התאמות במקום הע</td><td>0036420103 + search_term(budget_code) + budget_code</td><td>0.0 + number       </td><td>9894418.48 + number</td><td>2014-2014</td></tr>\n",
       "<tr><td>מימון התאמות במקום  העבודה              </td><td>0036420103 + search_term(budget_code) + budget_code</td><td>24753140.0 + number</td><td>8872968.73 + number</td><td>2013-2014</td></tr>\n",
       "<tr><td>פעולות לעידוד תעסוקת  אנשים עם מוגבלות  </td><td>0036420101 + search_term(budget_code) + budget_code</td><td>3102881.05 + number</td><td>83560.86 + number  </td><td>2012-2012</td></tr>\n",
       "<tr><td>Total                                   </td><td>5                                                  </td><td>                   </td><td>                   </td><td>         </td></tr>\n",
       "</tbody>\n",
       "</table>"
      ],
      "text/plain": [
       "<IPython.core.display.HTML object>"
      ]
     },
     "metadata": {},
     "output_type": "display_data"
    },
    {
     "data": {
      "text/html": [
       "<h3>(org) טלדור מערכות מחשבים (1986) בע\"מ (חברה פרטית): התקנות מהן הארגון קיבל תמיכות, לפי סה״כ כספים עבור בקשות שאושרו ב 2008</h3>"
      ],
      "text/plain": [
       "<IPython.core.display.HTML object>"
      ]
     },
     "metadata": {},
     "output_type": "display_data"
    },
    {
     "data": {
      "text/html": [
       "<pre>SELECT SUPPORT_TITLE AS \"נושא\",\n",
       "       budget_code,\n",
       "       budget_code \"מספר תקנה\",\n",
       "       sum(amount_approved) AS \"סה״כ אושר\",\n",
       "       sum(amount_paid) AS \"סה״כ שולם\",\n",
       "       min(year_requested) || '-' || max(year_requested) AS \"תקופה\"\n",
       "FROM raw_supports\n",
       "WHERE year_requested =2008\n",
       "  AND entity_id='520039710'\n",
       "GROUP BY 1,\n",
       "         2,\n",
       "         3\n",
       "ORDER BY 3 DESC nulls LAST</pre>"
      ],
      "text/plain": [
       "<IPython.core.display.HTML object>"
      ]
     },
     "metadata": {},
     "output_type": "display_data"
    },
    {
     "data": {
      "text/html": [
       "<table>\n",
       "<tbody>\n",
       "<tr><td>Total</td><td style=\"text-align: right;\">0</td></tr>\n",
       "</tbody>\n",
       "</table>"
      ],
      "text/plain": [
       "<IPython.core.display.HTML object>"
      ]
     },
     "metadata": {},
     "output_type": "display_data"
    },
    {
     "data": {
      "text/html": [
       "<h3>(org) טלדור מערכות מחשבים (1986) בע\"מ (חברה פרטית): התקנות מהן הארגון קיבל תמיכות, לפי סה״כ כספים עבור בקשות שאושרו ב 2009</h3>"
      ],
      "text/plain": [
       "<IPython.core.display.HTML object>"
      ]
     },
     "metadata": {},
     "output_type": "display_data"
    },
    {
     "data": {
      "text/html": [
       "<pre>SELECT SUPPORT_TITLE AS \"נושא\",\n",
       "       budget_code,\n",
       "       budget_code \"מספר תקנה\",\n",
       "       sum(amount_approved) AS \"סה״כ אושר\",\n",
       "       sum(amount_paid) AS \"סה״כ שולם\",\n",
       "       min(year_requested) || '-' || max(year_requested) AS \"תקופה\"\n",
       "FROM raw_supports\n",
       "WHERE year_requested =2009\n",
       "  AND entity_id='520039710'\n",
       "GROUP BY 1,\n",
       "         2,\n",
       "         3\n",
       "ORDER BY 3 DESC nulls LAST</pre>"
      ],
      "text/plain": [
       "<IPython.core.display.HTML object>"
      ]
     },
     "metadata": {},
     "output_type": "display_data"
    },
    {
     "data": {
      "text/html": [
       "<table>\n",
       "<tbody>\n",
       "<tr><td>Total</td><td style=\"text-align: right;\">0</td></tr>\n",
       "</tbody>\n",
       "</table>"
      ],
      "text/plain": [
       "<IPython.core.display.HTML object>"
      ]
     },
     "metadata": {},
     "output_type": "display_data"
    },
    {
     "data": {
      "text/html": [
       "<h3>(org) טלדור מערכות מחשבים (1986) בע\"מ (חברה פרטית): התקנות מהן הארגון קיבל תמיכות, לפי סה״כ כספים עבור בקשות שאושרו ב 2010</h3>"
      ],
      "text/plain": [
       "<IPython.core.display.HTML object>"
      ]
     },
     "metadata": {},
     "output_type": "display_data"
    },
    {
     "data": {
      "text/html": [
       "<pre>SELECT SUPPORT_TITLE AS \"נושא\",\n",
       "       budget_code,\n",
       "       budget_code \"מספר תקנה\",\n",
       "       sum(amount_approved) AS \"סה״כ אושר\",\n",
       "       sum(amount_paid) AS \"סה״כ שולם\",\n",
       "       min(year_requested) || '-' || max(year_requested) AS \"תקופה\"\n",
       "FROM raw_supports\n",
       "WHERE year_requested =2010\n",
       "  AND entity_id='520039710'\n",
       "GROUP BY 1,\n",
       "         2,\n",
       "         3\n",
       "ORDER BY 3 DESC nulls LAST</pre>"
      ],
      "text/plain": [
       "<IPython.core.display.HTML object>"
      ]
     },
     "metadata": {},
     "output_type": "display_data"
    },
    {
     "data": {
      "text/html": [
       "<table>\n",
       "<tbody>\n",
       "<tr><td>Total</td><td style=\"text-align: right;\">0</td></tr>\n",
       "</tbody>\n",
       "</table>"
      ],
      "text/plain": [
       "<IPython.core.display.HTML object>"
      ]
     },
     "metadata": {},
     "output_type": "display_data"
    },
    {
     "data": {
      "text/html": [
       "<h3>(org) טלדור מערכות מחשבים (1986) בע\"מ (חברה פרטית): התקנות מהן הארגון קיבל תמיכות, לפי סה״כ כספים עבור בקשות שאושרו ב 2011</h3>"
      ],
      "text/plain": [
       "<IPython.core.display.HTML object>"
      ]
     },
     "metadata": {},
     "output_type": "display_data"
    },
    {
     "data": {
      "text/html": [
       "<pre>SELECT SUPPORT_TITLE AS \"נושא\",\n",
       "       budget_code,\n",
       "       budget_code \"מספר תקנה\",\n",
       "       sum(amount_approved) AS \"סה״כ אושר\",\n",
       "       sum(amount_paid) AS \"סה״כ שולם\",\n",
       "       min(year_requested) || '-' || max(year_requested) AS \"תקופה\"\n",
       "FROM raw_supports\n",
       "WHERE year_requested =2011\n",
       "  AND entity_id='520039710'\n",
       "GROUP BY 1,\n",
       "         2,\n",
       "         3\n",
       "ORDER BY 3 DESC nulls LAST</pre>"
      ],
      "text/plain": [
       "<IPython.core.display.HTML object>"
      ]
     },
     "metadata": {},
     "output_type": "display_data"
    },
    {
     "data": {
      "text/html": [
       "<table>\n",
       "<tbody>\n",
       "<tr><td>Total</td><td style=\"text-align: right;\">0</td></tr>\n",
       "</tbody>\n",
       "</table>"
      ],
      "text/plain": [
       "<IPython.core.display.HTML object>"
      ]
     },
     "metadata": {},
     "output_type": "display_data"
    },
    {
     "data": {
      "text/html": [
       "<h3>(org) טלדור מערכות מחשבים (1986) בע\"מ (חברה פרטית): התקנות מהן הארגון קיבל תמיכות, לפי סה״כ כספים עבור בקשות שאושרו ב 2012</h3>"
      ],
      "text/plain": [
       "<IPython.core.display.HTML object>"
      ]
     },
     "metadata": {},
     "output_type": "display_data"
    },
    {
     "data": {
      "text/html": [
       "<pre>SELECT SUPPORT_TITLE AS \"נושא\",\n",
       "       budget_code,\n",
       "       budget_code \"מספר תקנה\",\n",
       "       sum(amount_approved) AS \"סה״כ אושר\",\n",
       "       sum(amount_paid) AS \"סה״כ שולם\",\n",
       "       min(year_requested) || '-' || max(year_requested) AS \"תקופה\"\n",
       "FROM raw_supports\n",
       "WHERE year_requested =2012\n",
       "  AND entity_id='520039710'\n",
       "GROUP BY 1,\n",
       "         2,\n",
       "         3\n",
       "ORDER BY 3 DESC nulls LAST</pre>"
      ],
      "text/plain": [
       "<IPython.core.display.HTML object>"
      ]
     },
     "metadata": {},
     "output_type": "display_data"
    },
    {
     "data": {
      "text/html": [
       "<table>\n",
       "<tbody>\n",
       "<tr><td>נושא                                  </td><td>מספר תקנה                                          </td><td>סה״כ אושר          </td><td>סה״כ שולם         </td><td>תקופה    </td></tr>\n",
       "<tr><td>פעולות לעידוד תעסוקת  אנשים עם מוגבלות</td><td>0036420101 + search_term(budget_code) + budget_code</td><td>3102881.05 + number</td><td>83560.86 + number </td><td>2012-2012</td></tr>\n",
       "<tr><td>שילוב מוגבלים בשוק  העבודה            </td><td>0036140125 + search_term(budget_code) + budget_code</td><td>0.0 + number       </td><td>2679355.8 + number</td><td>2012-2012</td></tr>\n",
       "<tr><td>Total                                 </td><td>2                                                  </td><td>                   </td><td>                  </td><td>         </td></tr>\n",
       "</tbody>\n",
       "</table>"
      ],
      "text/plain": [
       "<IPython.core.display.HTML object>"
      ]
     },
     "metadata": {},
     "output_type": "display_data"
    },
    {
     "data": {
      "text/html": [
       "<h3>(org) טלדור מערכות מחשבים (1986) בע\"מ (חברה פרטית): התקנות מהן הארגון קיבל תמיכות, לפי סה״כ כספים עבור בקשות שאושרו ב 2013</h3>"
      ],
      "text/plain": [
       "<IPython.core.display.HTML object>"
      ]
     },
     "metadata": {},
     "output_type": "display_data"
    },
    {
     "data": {
      "text/html": [
       "<pre>SELECT SUPPORT_TITLE AS \"נושא\",\n",
       "       budget_code,\n",
       "       budget_code \"מספר תקנה\",\n",
       "       sum(amount_approved) AS \"סה״כ אושר\",\n",
       "       sum(amount_paid) AS \"סה״כ שולם\",\n",
       "       min(year_requested) || '-' || max(year_requested) AS \"תקופה\"\n",
       "FROM raw_supports\n",
       "WHERE year_requested =2013\n",
       "  AND entity_id='520039710'\n",
       "GROUP BY 1,\n",
       "         2,\n",
       "         3\n",
       "ORDER BY 3 DESC nulls LAST</pre>"
      ],
      "text/plain": [
       "<IPython.core.display.HTML object>"
      ]
     },
     "metadata": {},
     "output_type": "display_data"
    },
    {
     "data": {
      "text/html": [
       "<table>\n",
       "<tbody>\n",
       "<tr><td>נושא                      </td><td>מספר תקנה                                          </td><td>סה״כ אושר         </td><td>סה״כ שולם          </td><td>תקופה    </td></tr>\n",
       "<tr><td>מימון התאמות במקום  העבודה</td><td>0036420103 + search_term(budget_code) + budget_code</td><td>9200000.0 + number</td><td>6672498.11 + number</td><td>2013-2013</td></tr>\n",
       "<tr><td>תפעול המשרד               </td><td>0036300201 + search_term(budget_code) + budget_code</td><td>330000.0 + number </td><td>None + number      </td><td>2013-2013</td></tr>\n",
       "<tr><td>Total                     </td><td>2                                                  </td><td>                  </td><td>                   </td><td>         </td></tr>\n",
       "</tbody>\n",
       "</table>"
      ],
      "text/plain": [
       "<IPython.core.display.HTML object>"
      ]
     },
     "metadata": {},
     "output_type": "display_data"
    },
    {
     "data": {
      "text/html": [
       "<h3>(org) טלדור מערכות מחשבים (1986) בע\"מ (חברה פרטית): התקנות מהן הארגון קיבל תמיכות, לפי סה״כ כספים עבור בקשות שאושרו ב 2014</h3>"
      ],
      "text/plain": [
       "<IPython.core.display.HTML object>"
      ]
     },
     "metadata": {},
     "output_type": "display_data"
    },
    {
     "data": {
      "text/html": [
       "<pre>SELECT SUPPORT_TITLE AS \"נושא\",\n",
       "       budget_code,\n",
       "       budget_code \"מספר תקנה\",\n",
       "       sum(amount_approved) AS \"סה״כ אושר\",\n",
       "       sum(amount_paid) AS \"סה״כ שולם\",\n",
       "       min(year_requested) || '-' || max(year_requested) AS \"תקופה\"\n",
       "FROM raw_supports\n",
       "WHERE year_requested =2014\n",
       "  AND entity_id='520039710'\n",
       "GROUP BY 1,\n",
       "         2,\n",
       "         3\n",
       "ORDER BY 3 DESC nulls LAST</pre>"
      ],
      "text/plain": [
       "<IPython.core.display.HTML object>"
      ]
     },
     "metadata": {},
     "output_type": "display_data"
    },
    {
     "data": {
      "text/html": [
       "<table>\n",
       "<tbody>\n",
       "<tr><td>נושא                                    </td><td>מספר תקנה                                          </td><td>סה״כ אושר          </td><td>סה״כ שולם          </td><td>תקופה    </td></tr>\n",
       "<tr><td>אנשים עם מוגבלות  -מימון התאמות במקום הע</td><td>0036420103 + search_term(budget_code) + budget_code</td><td>0.0 + number       </td><td>9894418.48 + number</td><td>2014-2014</td></tr>\n",
       "<tr><td>מימון התאמות במקום  העבודה              </td><td>0036420103 + search_term(budget_code) + budget_code</td><td>15553140.0 + number</td><td>2200470.62 + number</td><td>2014-2014</td></tr>\n",
       "<tr><td>Total                                   </td><td>2                                                  </td><td>                   </td><td>                   </td><td>         </td></tr>\n",
       "</tbody>\n",
       "</table>"
      ],
      "text/plain": [
       "<IPython.core.display.HTML object>"
      ]
     },
     "metadata": {},
     "output_type": "display_data"
    },
    {
     "data": {
      "text/html": [
       "<h3>(org) טלדור מערכות מחשבים (1986) בע\"מ (חברה פרטית): התקנות מהן הארגון קיבל תמיכות, לפי סה״כ כספים עבור בקשות שאושרו ב 2015</h3>"
      ],
      "text/plain": [
       "<IPython.core.display.HTML object>"
      ]
     },
     "metadata": {},
     "output_type": "display_data"
    },
    {
     "data": {
      "text/html": [
       "<pre>SELECT SUPPORT_TITLE AS \"נושא\",\n",
       "       budget_code,\n",
       "       budget_code \"מספר תקנה\",\n",
       "       sum(amount_approved) AS \"סה״כ אושר\",\n",
       "       sum(amount_paid) AS \"סה״כ שולם\",\n",
       "       min(year_requested) || '-' || max(year_requested) AS \"תקופה\"\n",
       "FROM raw_supports\n",
       "WHERE year_requested =2015\n",
       "  AND entity_id='520039710'\n",
       "GROUP BY 1,\n",
       "         2,\n",
       "         3\n",
       "ORDER BY 3 DESC nulls LAST</pre>"
      ],
      "text/plain": [
       "<IPython.core.display.HTML object>"
      ]
     },
     "metadata": {},
     "output_type": "display_data"
    },
    {
     "data": {
      "text/html": [
       "<table>\n",
       "<tbody>\n",
       "<tr><td>Total</td><td style=\"text-align: right;\">0</td></tr>\n",
       "</tbody>\n",
       "</table>"
      ],
      "text/plain": [
       "<IPython.core.display.HTML object>"
      ]
     },
     "metadata": {},
     "output_type": "display_data"
    },
    {
     "data": {
      "text/html": [
       "<h3>(org) טלדור מערכות מחשבים (1986) בע\"מ (חברה פרטית): התקנות מהן הארגון קיבל תמיכות, לפי סה״כ כספים עבור בקשות שאושרו ב 2016</h3>"
      ],
      "text/plain": [
       "<IPython.core.display.HTML object>"
      ]
     },
     "metadata": {},
     "output_type": "display_data"
    },
    {
     "data": {
      "text/html": [
       "<pre>SELECT SUPPORT_TITLE AS \"נושא\",\n",
       "       budget_code,\n",
       "       budget_code \"מספר תקנה\",\n",
       "       sum(amount_approved) AS \"סה״כ אושר\",\n",
       "       sum(amount_paid) AS \"סה״כ שולם\",\n",
       "       min(year_requested) || '-' || max(year_requested) AS \"תקופה\"\n",
       "FROM raw_supports\n",
       "WHERE year_requested =2016\n",
       "  AND entity_id='520039710'\n",
       "GROUP BY 1,\n",
       "         2,\n",
       "         3\n",
       "ORDER BY 3 DESC nulls LAST</pre>"
      ],
      "text/plain": [
       "<IPython.core.display.HTML object>"
      ]
     },
     "metadata": {},
     "output_type": "display_data"
    },
    {
     "data": {
      "text/html": [
       "<table>\n",
       "<tbody>\n",
       "<tr><td>Total</td><td style=\"text-align: right;\">0</td></tr>\n",
       "</tbody>\n",
       "</table>"
      ],
      "text/plain": [
       "<IPython.core.display.HTML object>"
      ]
     },
     "metadata": {},
     "output_type": "display_data"
    },
    {
     "data": {
      "text/html": [
       "<h3>(org) טלדור מערכות מחשבים (1986) בע\"מ (חברה פרטית): התקנות מהן הארגון קיבל תמיכות, לפי סה״כ כספים עבור בקשות שאושרו ב 2017</h3>"
      ],
      "text/plain": [
       "<IPython.core.display.HTML object>"
      ]
     },
     "metadata": {},
     "output_type": "display_data"
    },
    {
     "data": {
      "text/html": [
       "<pre>SELECT SUPPORT_TITLE AS \"נושא\",\n",
       "       budget_code,\n",
       "       budget_code \"מספר תקנה\",\n",
       "       sum(amount_approved) AS \"סה״כ אושר\",\n",
       "       sum(amount_paid) AS \"סה״כ שולם\",\n",
       "       min(year_requested) || '-' || max(year_requested) AS \"תקופה\"\n",
       "FROM raw_supports\n",
       "WHERE year_requested =2017\n",
       "  AND entity_id='520039710'\n",
       "GROUP BY 1,\n",
       "         2,\n",
       "         3\n",
       "ORDER BY 3 DESC nulls LAST</pre>"
      ],
      "text/plain": [
       "<IPython.core.display.HTML object>"
      ]
     },
     "metadata": {},
     "output_type": "display_data"
    },
    {
     "data": {
      "text/html": [
       "<table>\n",
       "<tbody>\n",
       "<tr><td>Total</td><td style=\"text-align: right;\">0</td></tr>\n",
       "</tbody>\n",
       "</table>"
      ],
      "text/plain": [
       "<IPython.core.display.HTML object>"
      ]
     },
     "metadata": {},
     "output_type": "display_data"
    },
    {
     "data": {
      "text/html": [
       "<h3>(org) טלדור מערכות מחשבים (1986) בע\"מ (חברה פרטית): התקנות מהן הארגון קיבל תמיכות, לפי סה״כ כספים עבור בקשות שאושרו ב 2018</h3>"
      ],
      "text/plain": [
       "<IPython.core.display.HTML object>"
      ]
     },
     "metadata": {},
     "output_type": "display_data"
    },
    {
     "data": {
      "text/html": [
       "<pre>SELECT SUPPORT_TITLE AS \"נושא\",\n",
       "       budget_code,\n",
       "       budget_code \"מספר תקנה\",\n",
       "       sum(amount_approved) AS \"סה״כ אושר\",\n",
       "       sum(amount_paid) AS \"סה״כ שולם\",\n",
       "       min(year_requested) || '-' || max(year_requested) AS \"תקופה\"\n",
       "FROM raw_supports\n",
       "WHERE year_requested =2018\n",
       "  AND entity_id='520039710'\n",
       "GROUP BY 1,\n",
       "         2,\n",
       "         3\n",
       "ORDER BY 3 DESC nulls LAST</pre>"
      ],
      "text/plain": [
       "<IPython.core.display.HTML object>"
      ]
     },
     "metadata": {},
     "output_type": "display_data"
    },
    {
     "data": {
      "text/html": [
       "<table>\n",
       "<tbody>\n",
       "<tr><td>Total</td><td style=\"text-align: right;\">0</td></tr>\n",
       "</tbody>\n",
       "</table>"
      ],
      "text/plain": [
       "<IPython.core.display.HTML object>"
      ]
     },
     "metadata": {},
     "output_type": "display_data"
    },
    {
     "data": {
      "text/html": [
       "<h3>(org) טלדור מערכות מחשבים (1986) בע\"מ (חברה פרטית): התקנות מהן הארגון קיבל תמיכות, לפי סה״כ כספים עבור בקשות שאושרו ב 2019</h3>"
      ],
      "text/plain": [
       "<IPython.core.display.HTML object>"
      ]
     },
     "metadata": {},
     "output_type": "display_data"
    },
    {
     "data": {
      "text/html": [
       "<pre>SELECT SUPPORT_TITLE AS \"נושא\",\n",
       "       budget_code,\n",
       "       budget_code \"מספר תקנה\",\n",
       "       sum(amount_approved) AS \"סה״כ אושר\",\n",
       "       sum(amount_paid) AS \"סה״כ שולם\",\n",
       "       min(year_requested) || '-' || max(year_requested) AS \"תקופה\"\n",
       "FROM raw_supports\n",
       "WHERE year_requested =2019\n",
       "  AND entity_id='520039710'\n",
       "GROUP BY 1,\n",
       "         2,\n",
       "         3\n",
       "ORDER BY 3 DESC nulls LAST</pre>"
      ],
      "text/plain": [
       "<IPython.core.display.HTML object>"
      ]
     },
     "metadata": {},
     "output_type": "display_data"
    },
    {
     "data": {
      "text/html": [
       "<table>\n",
       "<tbody>\n",
       "<tr><td>Total</td><td style=\"text-align: right;\">0</td></tr>\n",
       "</tbody>\n",
       "</table>"
      ],
      "text/plain": [
       "<IPython.core.display.HTML object>"
      ]
     },
     "metadata": {},
     "output_type": "display_data"
    },
    {
     "name": "stdout",
     "output_type": "stream",
     "text": [
      "Getting https://next.obudget.org/get/org/company/520039710\n"
     ]
    },
    {
     "data": {
      "text/html": [
       "<h3>(org) טלדור מערכות מחשבים (1986) בע\"מ (חברה פרטית):  פירוט כלל התמיכות שאושרו לארגון ב כל השנים</h3>"
      ],
      "text/plain": [
       "<IPython.core.display.HTML object>"
      ]
     },
     "metadata": {},
     "output_type": "display_data"
    },
    {
     "data": {
      "text/html": [
       "<pre>SELECT year_requested AS \"שנה\",\n",
       "       supporting_ministry AS \"משרד\",\n",
       "       request_type AS \"סוג תמיכה\",\n",
       "       support_title AS \"נושא\",\n",
       "       'supports/' || budget_code || '/' || year_requested || '/' || recipient || '/' || request_type AS item_id,\n",
       "       sum(amount_approved) AS \"סה״כ אושר\",\n",
       "       sum(amount_paid) AS \"סה״כ שולם\"\n",
       "FROM raw_supports\n",
       "WHERE year_requested >0\n",
       "  AND entity_id='520039710'\n",
       "GROUP BY 1,\n",
       "         2,\n",
       "         3,\n",
       "         4,\n",
       "         5</pre>"
      ],
      "text/plain": [
       "<IPython.core.display.HTML object>"
      ]
     },
     "metadata": {},
     "output_type": "display_data"
    },
    {
     "data": {
      "text/html": [
       "<table>\n",
       "<tbody>\n",
       "<tr><td>נושא                                                       </td><td>משרד                     </td><td>סוג תמיכה      </td><td>שנה </td><td>סה״כ אושר          </td><td>סה״כ שולם          </td></tr>\n",
       "<tr><td>פעולות לעידוד תעסוקת  אנשים עם מוגבלות + item_link(item_id)</td><td>משרד הרווחה - זרוע העבודה</td><td>תמיכה  דרך מוסד</td><td>2012</td><td>3102881.05 + number</td><td>83560.86 + number  </td></tr>\n",
       "<tr><td>שילוב מוגבלים בשוק  העבודה + item_link(item_id)            </td><td>משרד הרווחה - זרוע העבודה</td><td>תמיכה  דרך מוסד</td><td>2012</td><td>0.0 + number       </td><td>2679355.8 + number </td></tr>\n",
       "<tr><td>מימון התאמות במקום  העבודה + item_link(item_id)            </td><td>משרד הרווחה - זרוע העבודה</td><td>תמיכה  דרך מוסד</td><td>2013</td><td>9200000.0 + number </td><td>6672498.11 + number</td></tr>\n",
       "<tr><td>Total                                                      </td><td>6                        </td><td>               </td><td>    </td><td>                   </td><td>                   </td></tr>\n",
       "</tbody>\n",
       "</table>"
      ],
      "text/plain": [
       "<IPython.core.display.HTML object>"
      ]
     },
     "metadata": {},
     "output_type": "display_data"
    },
    {
     "data": {
      "text/html": [
       "<h3>(org) טלדור מערכות מחשבים (1986) בע\"מ (חברה פרטית):  פירוט כלל התמיכות שאושרו לארגון ב 2008</h3>"
      ],
      "text/plain": [
       "<IPython.core.display.HTML object>"
      ]
     },
     "metadata": {},
     "output_type": "display_data"
    },
    {
     "data": {
      "text/html": [
       "<pre>SELECT year_requested AS \"שנה\",\n",
       "       supporting_ministry AS \"משרד\",\n",
       "       request_type AS \"סוג תמיכה\",\n",
       "       support_title AS \"נושא\",\n",
       "       'supports/' || budget_code || '/' || year_requested || '/' || recipient || '/' || request_type AS item_id,\n",
       "       sum(amount_approved) AS \"סה״כ אושר\",\n",
       "       sum(amount_paid) AS \"סה״כ שולם\"\n",
       "FROM raw_supports\n",
       "WHERE year_requested =2008\n",
       "  AND entity_id='520039710'\n",
       "GROUP BY 1,\n",
       "         2,\n",
       "         3,\n",
       "         4,\n",
       "         5</pre>"
      ],
      "text/plain": [
       "<IPython.core.display.HTML object>"
      ]
     },
     "metadata": {},
     "output_type": "display_data"
    },
    {
     "data": {
      "text/html": [
       "<table>\n",
       "<tbody>\n",
       "<tr><td>Total</td><td style=\"text-align: right;\">0</td></tr>\n",
       "</tbody>\n",
       "</table>"
      ],
      "text/plain": [
       "<IPython.core.display.HTML object>"
      ]
     },
     "metadata": {},
     "output_type": "display_data"
    },
    {
     "data": {
      "text/html": [
       "<h3>(org) טלדור מערכות מחשבים (1986) בע\"מ (חברה פרטית):  פירוט כלל התמיכות שאושרו לארגון ב 2009</h3>"
      ],
      "text/plain": [
       "<IPython.core.display.HTML object>"
      ]
     },
     "metadata": {},
     "output_type": "display_data"
    },
    {
     "data": {
      "text/html": [
       "<pre>SELECT year_requested AS \"שנה\",\n",
       "       supporting_ministry AS \"משרד\",\n",
       "       request_type AS \"סוג תמיכה\",\n",
       "       support_title AS \"נושא\",\n",
       "       'supports/' || budget_code || '/' || year_requested || '/' || recipient || '/' || request_type AS item_id,\n",
       "       sum(amount_approved) AS \"סה״כ אושר\",\n",
       "       sum(amount_paid) AS \"סה״כ שולם\"\n",
       "FROM raw_supports\n",
       "WHERE year_requested =2009\n",
       "  AND entity_id='520039710'\n",
       "GROUP BY 1,\n",
       "         2,\n",
       "         3,\n",
       "         4,\n",
       "         5</pre>"
      ],
      "text/plain": [
       "<IPython.core.display.HTML object>"
      ]
     },
     "metadata": {},
     "output_type": "display_data"
    },
    {
     "data": {
      "text/html": [
       "<table>\n",
       "<tbody>\n",
       "<tr><td>Total</td><td style=\"text-align: right;\">0</td></tr>\n",
       "</tbody>\n",
       "</table>"
      ],
      "text/plain": [
       "<IPython.core.display.HTML object>"
      ]
     },
     "metadata": {},
     "output_type": "display_data"
    },
    {
     "data": {
      "text/html": [
       "<h3>(org) טלדור מערכות מחשבים (1986) בע\"מ (חברה פרטית):  פירוט כלל התמיכות שאושרו לארגון ב 2010</h3>"
      ],
      "text/plain": [
       "<IPython.core.display.HTML object>"
      ]
     },
     "metadata": {},
     "output_type": "display_data"
    },
    {
     "data": {
      "text/html": [
       "<pre>SELECT year_requested AS \"שנה\",\n",
       "       supporting_ministry AS \"משרד\",\n",
       "       request_type AS \"סוג תמיכה\",\n",
       "       support_title AS \"נושא\",\n",
       "       'supports/' || budget_code || '/' || year_requested || '/' || recipient || '/' || request_type AS item_id,\n",
       "       sum(amount_approved) AS \"סה״כ אושר\",\n",
       "       sum(amount_paid) AS \"סה״כ שולם\"\n",
       "FROM raw_supports\n",
       "WHERE year_requested =2010\n",
       "  AND entity_id='520039710'\n",
       "GROUP BY 1,\n",
       "         2,\n",
       "         3,\n",
       "         4,\n",
       "         5</pre>"
      ],
      "text/plain": [
       "<IPython.core.display.HTML object>"
      ]
     },
     "metadata": {},
     "output_type": "display_data"
    },
    {
     "data": {
      "text/html": [
       "<table>\n",
       "<tbody>\n",
       "<tr><td>Total</td><td style=\"text-align: right;\">0</td></tr>\n",
       "</tbody>\n",
       "</table>"
      ],
      "text/plain": [
       "<IPython.core.display.HTML object>"
      ]
     },
     "metadata": {},
     "output_type": "display_data"
    },
    {
     "data": {
      "text/html": [
       "<h3>(org) טלדור מערכות מחשבים (1986) בע\"מ (חברה פרטית):  פירוט כלל התמיכות שאושרו לארגון ב 2011</h3>"
      ],
      "text/plain": [
       "<IPython.core.display.HTML object>"
      ]
     },
     "metadata": {},
     "output_type": "display_data"
    },
    {
     "data": {
      "text/html": [
       "<pre>SELECT year_requested AS \"שנה\",\n",
       "       supporting_ministry AS \"משרד\",\n",
       "       request_type AS \"סוג תמיכה\",\n",
       "       support_title AS \"נושא\",\n",
       "       'supports/' || budget_code || '/' || year_requested || '/' || recipient || '/' || request_type AS item_id,\n",
       "       sum(amount_approved) AS \"סה״כ אושר\",\n",
       "       sum(amount_paid) AS \"סה״כ שולם\"\n",
       "FROM raw_supports\n",
       "WHERE year_requested =2011\n",
       "  AND entity_id='520039710'\n",
       "GROUP BY 1,\n",
       "         2,\n",
       "         3,\n",
       "         4,\n",
       "         5</pre>"
      ],
      "text/plain": [
       "<IPython.core.display.HTML object>"
      ]
     },
     "metadata": {},
     "output_type": "display_data"
    },
    {
     "data": {
      "text/html": [
       "<table>\n",
       "<tbody>\n",
       "<tr><td>Total</td><td style=\"text-align: right;\">0</td></tr>\n",
       "</tbody>\n",
       "</table>"
      ],
      "text/plain": [
       "<IPython.core.display.HTML object>"
      ]
     },
     "metadata": {},
     "output_type": "display_data"
    },
    {
     "data": {
      "text/html": [
       "<h3>(org) טלדור מערכות מחשבים (1986) בע\"מ (חברה פרטית):  פירוט כלל התמיכות שאושרו לארגון ב 2012</h3>"
      ],
      "text/plain": [
       "<IPython.core.display.HTML object>"
      ]
     },
     "metadata": {},
     "output_type": "display_data"
    },
    {
     "data": {
      "text/html": [
       "<pre>SELECT year_requested AS \"שנה\",\n",
       "       supporting_ministry AS \"משרד\",\n",
       "       request_type AS \"סוג תמיכה\",\n",
       "       support_title AS \"נושא\",\n",
       "       'supports/' || budget_code || '/' || year_requested || '/' || recipient || '/' || request_type AS item_id,\n",
       "       sum(amount_approved) AS \"סה״כ אושר\",\n",
       "       sum(amount_paid) AS \"סה״כ שולם\"\n",
       "FROM raw_supports\n",
       "WHERE year_requested =2012\n",
       "  AND entity_id='520039710'\n",
       "GROUP BY 1,\n",
       "         2,\n",
       "         3,\n",
       "         4,\n",
       "         5</pre>"
      ],
      "text/plain": [
       "<IPython.core.display.HTML object>"
      ]
     },
     "metadata": {},
     "output_type": "display_data"
    },
    {
     "data": {
      "text/html": [
       "<table>\n",
       "<tbody>\n",
       "<tr><td>נושא                                                       </td><td>משרד                     </td><td>סוג תמיכה      </td><td>שנה </td><td>סה״כ אושר          </td><td>סה״כ שולם         </td></tr>\n",
       "<tr><td>פעולות לעידוד תעסוקת  אנשים עם מוגבלות + item_link(item_id)</td><td>משרד הרווחה - זרוע העבודה</td><td>תמיכה  דרך מוסד</td><td>2012</td><td>3102881.05 + number</td><td>83560.86 + number </td></tr>\n",
       "<tr><td>שילוב מוגבלים בשוק  העבודה + item_link(item_id)            </td><td>משרד הרווחה - זרוע העבודה</td><td>תמיכה  דרך מוסד</td><td>2012</td><td>0.0 + number       </td><td>2679355.8 + number</td></tr>\n",
       "<tr><td>Total                                                      </td><td>2                        </td><td>               </td><td>    </td><td>                   </td><td>                  </td></tr>\n",
       "</tbody>\n",
       "</table>"
      ],
      "text/plain": [
       "<IPython.core.display.HTML object>"
      ]
     },
     "metadata": {},
     "output_type": "display_data"
    },
    {
     "data": {
      "text/html": [
       "<h3>(org) טלדור מערכות מחשבים (1986) בע\"מ (חברה פרטית):  פירוט כלל התמיכות שאושרו לארגון ב 2013</h3>"
      ],
      "text/plain": [
       "<IPython.core.display.HTML object>"
      ]
     },
     "metadata": {},
     "output_type": "display_data"
    },
    {
     "data": {
      "text/html": [
       "<pre>SELECT year_requested AS \"שנה\",\n",
       "       supporting_ministry AS \"משרד\",\n",
       "       request_type AS \"סוג תמיכה\",\n",
       "       support_title AS \"נושא\",\n",
       "       'supports/' || budget_code || '/' || year_requested || '/' || recipient || '/' || request_type AS item_id,\n",
       "       sum(amount_approved) AS \"סה״כ אושר\",\n",
       "       sum(amount_paid) AS \"סה״כ שולם\"\n",
       "FROM raw_supports\n",
       "WHERE year_requested =2013\n",
       "  AND entity_id='520039710'\n",
       "GROUP BY 1,\n",
       "         2,\n",
       "         3,\n",
       "         4,\n",
       "         5</pre>"
      ],
      "text/plain": [
       "<IPython.core.display.HTML object>"
      ]
     },
     "metadata": {},
     "output_type": "display_data"
    },
    {
     "data": {
      "text/html": [
       "<table>\n",
       "<tbody>\n",
       "<tr><td>נושא                                           </td><td>משרד                     </td><td>סוג תמיכה      </td><td>שנה </td><td>סה״כ אושר         </td><td>סה״כ שולם          </td></tr>\n",
       "<tr><td>מימון התאמות במקום  העבודה + item_link(item_id)</td><td>משרד הרווחה - זרוע העבודה</td><td>תמיכה  דרך מוסד</td><td>2013</td><td>9200000.0 + number</td><td>6672498.11 + number</td></tr>\n",
       "<tr><td>תפעול המשרד + item_link(item_id)               </td><td>משרד הרווחה - זרוע העבודה</td><td>תמיכה  דרך מוסד</td><td>2013</td><td>330000.0 + number </td><td>None + number      </td></tr>\n",
       "<tr><td>Total                                          </td><td>2                        </td><td>               </td><td>    </td><td>                  </td><td>                   </td></tr>\n",
       "</tbody>\n",
       "</table>"
      ],
      "text/plain": [
       "<IPython.core.display.HTML object>"
      ]
     },
     "metadata": {},
     "output_type": "display_data"
    },
    {
     "data": {
      "text/html": [
       "<h3>(org) טלדור מערכות מחשבים (1986) בע\"מ (חברה פרטית):  פירוט כלל התמיכות שאושרו לארגון ב 2014</h3>"
      ],
      "text/plain": [
       "<IPython.core.display.HTML object>"
      ]
     },
     "metadata": {},
     "output_type": "display_data"
    },
    {
     "data": {
      "text/html": [
       "<pre>SELECT year_requested AS \"שנה\",\n",
       "       supporting_ministry AS \"משרד\",\n",
       "       request_type AS \"סוג תמיכה\",\n",
       "       support_title AS \"נושא\",\n",
       "       'supports/' || budget_code || '/' || year_requested || '/' || recipient || '/' || request_type AS item_id,\n",
       "       sum(amount_approved) AS \"סה״כ אושר\",\n",
       "       sum(amount_paid) AS \"סה״כ שולם\"\n",
       "FROM raw_supports\n",
       "WHERE year_requested =2014\n",
       "  AND entity_id='520039710'\n",
       "GROUP BY 1,\n",
       "         2,\n",
       "         3,\n",
       "         4,\n",
       "         5</pre>"
      ],
      "text/plain": [
       "<IPython.core.display.HTML object>"
      ]
     },
     "metadata": {},
     "output_type": "display_data"
    },
    {
     "data": {
      "text/html": [
       "<table>\n",
       "<tbody>\n",
       "<tr><td>נושא                                                         </td><td>משרד                     </td><td>סוג תמיכה      </td><td>שנה </td><td>סה״כ אושר          </td><td>סה״כ שולם          </td></tr>\n",
       "<tr><td>אנשים עם מוגבלות  -מימון התאמות במקום הע + item_link(item_id)</td><td>משרד הרווחה - זרוע העבודה</td><td>תמיכה  דרך מוסד</td><td>2014</td><td>0.0 + number       </td><td>9894418.48 + number</td></tr>\n",
       "<tr><td>מימון התאמות במקום  העבודה + item_link(item_id)              </td><td>משרד הרווחה - זרוע העבודה</td><td>תמיכה  דרך מוסד</td><td>2014</td><td>15553140.0 + number</td><td>2200470.62 + number</td></tr>\n",
       "<tr><td>Total                                                        </td><td>2                        </td><td>               </td><td>    </td><td>                   </td><td>                   </td></tr>\n",
       "</tbody>\n",
       "</table>"
      ],
      "text/plain": [
       "<IPython.core.display.HTML object>"
      ]
     },
     "metadata": {},
     "output_type": "display_data"
    },
    {
     "data": {
      "text/html": [
       "<h3>(org) טלדור מערכות מחשבים (1986) בע\"מ (חברה פרטית):  פירוט כלל התמיכות שאושרו לארגון ב 2015</h3>"
      ],
      "text/plain": [
       "<IPython.core.display.HTML object>"
      ]
     },
     "metadata": {},
     "output_type": "display_data"
    },
    {
     "data": {
      "text/html": [
       "<pre>SELECT year_requested AS \"שנה\",\n",
       "       supporting_ministry AS \"משרד\",\n",
       "       request_type AS \"סוג תמיכה\",\n",
       "       support_title AS \"נושא\",\n",
       "       'supports/' || budget_code || '/' || year_requested || '/' || recipient || '/' || request_type AS item_id,\n",
       "       sum(amount_approved) AS \"סה״כ אושר\",\n",
       "       sum(amount_paid) AS \"סה״כ שולם\"\n",
       "FROM raw_supports\n",
       "WHERE year_requested =2015\n",
       "  AND entity_id='520039710'\n",
       "GROUP BY 1,\n",
       "         2,\n",
       "         3,\n",
       "         4,\n",
       "         5</pre>"
      ],
      "text/plain": [
       "<IPython.core.display.HTML object>"
      ]
     },
     "metadata": {},
     "output_type": "display_data"
    },
    {
     "data": {
      "text/html": [
       "<table>\n",
       "<tbody>\n",
       "<tr><td>Total</td><td style=\"text-align: right;\">0</td></tr>\n",
       "</tbody>\n",
       "</table>"
      ],
      "text/plain": [
       "<IPython.core.display.HTML object>"
      ]
     },
     "metadata": {},
     "output_type": "display_data"
    },
    {
     "data": {
      "text/html": [
       "<h3>(org) טלדור מערכות מחשבים (1986) בע\"מ (חברה פרטית):  פירוט כלל התמיכות שאושרו לארגון ב 2016</h3>"
      ],
      "text/plain": [
       "<IPython.core.display.HTML object>"
      ]
     },
     "metadata": {},
     "output_type": "display_data"
    },
    {
     "data": {
      "text/html": [
       "<pre>SELECT year_requested AS \"שנה\",\n",
       "       supporting_ministry AS \"משרד\",\n",
       "       request_type AS \"סוג תמיכה\",\n",
       "       support_title AS \"נושא\",\n",
       "       'supports/' || budget_code || '/' || year_requested || '/' || recipient || '/' || request_type AS item_id,\n",
       "       sum(amount_approved) AS \"סה״כ אושר\",\n",
       "       sum(amount_paid) AS \"סה״כ שולם\"\n",
       "FROM raw_supports\n",
       "WHERE year_requested =2016\n",
       "  AND entity_id='520039710'\n",
       "GROUP BY 1,\n",
       "         2,\n",
       "         3,\n",
       "         4,\n",
       "         5</pre>"
      ],
      "text/plain": [
       "<IPython.core.display.HTML object>"
      ]
     },
     "metadata": {},
     "output_type": "display_data"
    },
    {
     "data": {
      "text/html": [
       "<table>\n",
       "<tbody>\n",
       "<tr><td>Total</td><td style=\"text-align: right;\">0</td></tr>\n",
       "</tbody>\n",
       "</table>"
      ],
      "text/plain": [
       "<IPython.core.display.HTML object>"
      ]
     },
     "metadata": {},
     "output_type": "display_data"
    },
    {
     "data": {
      "text/html": [
       "<h3>(org) טלדור מערכות מחשבים (1986) בע\"מ (חברה פרטית):  פירוט כלל התמיכות שאושרו לארגון ב 2017</h3>"
      ],
      "text/plain": [
       "<IPython.core.display.HTML object>"
      ]
     },
     "metadata": {},
     "output_type": "display_data"
    },
    {
     "data": {
      "text/html": [
       "<pre>SELECT year_requested AS \"שנה\",\n",
       "       supporting_ministry AS \"משרד\",\n",
       "       request_type AS \"סוג תמיכה\",\n",
       "       support_title AS \"נושא\",\n",
       "       'supports/' || budget_code || '/' || year_requested || '/' || recipient || '/' || request_type AS item_id,\n",
       "       sum(amount_approved) AS \"סה״כ אושר\",\n",
       "       sum(amount_paid) AS \"סה״כ שולם\"\n",
       "FROM raw_supports\n",
       "WHERE year_requested =2017\n",
       "  AND entity_id='520039710'\n",
       "GROUP BY 1,\n",
       "         2,\n",
       "         3,\n",
       "         4,\n",
       "         5</pre>"
      ],
      "text/plain": [
       "<IPython.core.display.HTML object>"
      ]
     },
     "metadata": {},
     "output_type": "display_data"
    },
    {
     "data": {
      "text/html": [
       "<table>\n",
       "<tbody>\n",
       "<tr><td>Total</td><td style=\"text-align: right;\">0</td></tr>\n",
       "</tbody>\n",
       "</table>"
      ],
      "text/plain": [
       "<IPython.core.display.HTML object>"
      ]
     },
     "metadata": {},
     "output_type": "display_data"
    },
    {
     "data": {
      "text/html": [
       "<h3>(org) טלדור מערכות מחשבים (1986) בע\"מ (חברה פרטית):  פירוט כלל התמיכות שאושרו לארגון ב 2018</h3>"
      ],
      "text/plain": [
       "<IPython.core.display.HTML object>"
      ]
     },
     "metadata": {},
     "output_type": "display_data"
    },
    {
     "data": {
      "text/html": [
       "<pre>SELECT year_requested AS \"שנה\",\n",
       "       supporting_ministry AS \"משרד\",\n",
       "       request_type AS \"סוג תמיכה\",\n",
       "       support_title AS \"נושא\",\n",
       "       'supports/' || budget_code || '/' || year_requested || '/' || recipient || '/' || request_type AS item_id,\n",
       "       sum(amount_approved) AS \"סה״כ אושר\",\n",
       "       sum(amount_paid) AS \"סה״כ שולם\"\n",
       "FROM raw_supports\n",
       "WHERE year_requested =2018\n",
       "  AND entity_id='520039710'\n",
       "GROUP BY 1,\n",
       "         2,\n",
       "         3,\n",
       "         4,\n",
       "         5</pre>"
      ],
      "text/plain": [
       "<IPython.core.display.HTML object>"
      ]
     },
     "metadata": {},
     "output_type": "display_data"
    },
    {
     "data": {
      "text/html": [
       "<table>\n",
       "<tbody>\n",
       "<tr><td>Total</td><td style=\"text-align: right;\">0</td></tr>\n",
       "</tbody>\n",
       "</table>"
      ],
      "text/plain": [
       "<IPython.core.display.HTML object>"
      ]
     },
     "metadata": {},
     "output_type": "display_data"
    },
    {
     "data": {
      "text/html": [
       "<h3>(org) טלדור מערכות מחשבים (1986) בע\"מ (חברה פרטית):  פירוט כלל התמיכות שאושרו לארגון ב 2019</h3>"
      ],
      "text/plain": [
       "<IPython.core.display.HTML object>"
      ]
     },
     "metadata": {},
     "output_type": "display_data"
    },
    {
     "data": {
      "text/html": [
       "<pre>SELECT year_requested AS \"שנה\",\n",
       "       supporting_ministry AS \"משרד\",\n",
       "       request_type AS \"סוג תמיכה\",\n",
       "       support_title AS \"נושא\",\n",
       "       'supports/' || budget_code || '/' || year_requested || '/' || recipient || '/' || request_type AS item_id,\n",
       "       sum(amount_approved) AS \"סה״כ אושר\",\n",
       "       sum(amount_paid) AS \"סה״כ שולם\"\n",
       "FROM raw_supports\n",
       "WHERE year_requested =2019\n",
       "  AND entity_id='520039710'\n",
       "GROUP BY 1,\n",
       "         2,\n",
       "         3,\n",
       "         4,\n",
       "         5</pre>"
      ],
      "text/plain": [
       "<IPython.core.display.HTML object>"
      ]
     },
     "metadata": {},
     "output_type": "display_data"
    },
    {
     "data": {
      "text/html": [
       "<table>\n",
       "<tbody>\n",
       "<tr><td>Total</td><td style=\"text-align: right;\">0</td></tr>\n",
       "</tbody>\n",
       "</table>"
      ],
      "text/plain": [
       "<IPython.core.display.HTML object>"
      ]
     },
     "metadata": {},
     "output_type": "display_data"
    },
    {
     "name": "stdout",
     "output_type": "stream",
     "text": [
      "Getting https://next.obudget.org/get/org/company/520039710\n"
     ]
    },
    {
     "data": {
      "text/html": [
       "<h3>(org) טלדור מערכות מחשבים (1986) בע\"מ (חברה פרטית):  כלל הפטורים והמכרזים ממכרז עם הארגון</h3>"
      ],
      "text/plain": [
       "<IPython.core.display.HTML object>"
      ]
     },
     "metadata": {},
     "output_type": "display_data"
    },
    {
     "data": {
      "text/html": [
       "<pre>SELECT tender_type AS \"סוג הליך הרכש\",\n",
       "       page_title AS \"כותרת\",\n",
       "       regulation AS \"תקנהֿ\",\n",
       "       publisher AS \"מפרסם\",\n",
       "       volume AS \"היקף\",\n",
       "       description AS \"תיאור\",\n",
       "       'tenders/' || tender_type || '/' || publication_id || '/' || tender_id AS item_id,\n",
       "       claim_date AS \"מועד סיום התהליך\",\n",
       "       start_date AS \"תחילת ההתקשרות\",\n",
       "       end_date AS \"סיום ההתקשרות\",\n",
       "FROM procurement_tenders_processed\n",
       "WHERE entity_id='520039710'</pre>"
      ],
      "text/plain": [
       "<IPython.core.display.HTML object>"
      ]
     },
     "metadata": {},
     "output_type": "display_data"
    },
    {
     "ename": "ValueError",
     "evalue": "b'<!DOCTYPE HTML PUBLIC \"-//W3C//DTD HTML 3.2 Final//EN\">\\n<title>500 Internal Server Error</title>\\n<h1>Internal Server Error</h1>\\n<p>The server encountered an internal error and was unable to complete your request.  Either the server is overloaded or there is an error in the application.</p>\\n'",
     "output_type": "error",
     "traceback": [
      "\u001b[0;31m---------------------------------------------------------------------------\u001b[0m",
      "\u001b[0;31mValueError\u001b[0m                                Traceback (most recent call last)",
      "\u001b[0;32m<ipython-input-33-ff2e8fc65302>\u001b[0m in \u001b[0;36m<module>\u001b[0;34m()\u001b[0m\n\u001b[1;32m     35\u001b[0m                     \u001b[0mofs\u001b[0m \u001b[0;34m=\u001b[0m \u001b[0mofs\u001b[0m \u001b[0;34m+\u001b[0m \u001b[0mm\u001b[0m\u001b[0;34m.\u001b[0m\u001b[0mstart\u001b[0m\u001b[0;34m(\u001b[0m\u001b[0;34m)\u001b[0m\u001b[0;34m+\u001b[0m\u001b[0;36m1\u001b[0m\u001b[0;34m\u001b[0m\u001b[0m\n\u001b[1;32m     36\u001b[0m             \u001b[0mdisplay\u001b[0m\u001b[0;34m(\u001b[0m\u001b[0mHTML\u001b[0m\u001b[0;34m(\u001b[0m\u001b[0;34m'<pre>{}</pre>'\u001b[0m\u001b[0;34m.\u001b[0m\u001b[0mformat\u001b[0m\u001b[0;34m(\u001b[0m\u001b[0msqlparse\u001b[0m\u001b[0;34m.\u001b[0m\u001b[0mformat\u001b[0m\u001b[0;34m(\u001b[0m\u001b[0mupdated_query\u001b[0m\u001b[0;34m,\u001b[0m \u001b[0mreindent\u001b[0m\u001b[0;34m=\u001b[0m\u001b[0;32mTrue\u001b[0m\u001b[0;34m,\u001b[0m \u001b[0mkeyword_case\u001b[0m\u001b[0;34m=\u001b[0m\u001b[0;34m'upper'\u001b[0m\u001b[0;34m)\u001b[0m\u001b[0;34m)\u001b[0m\u001b[0;34m)\u001b[0m\u001b[0;34m)\u001b[0m\u001b[0;34m\u001b[0m\u001b[0m\n\u001b[0;32m---> 37\u001b[0;31m             \u001b[0mdisplay\u001b[0m\u001b[0;34m(\u001b[0m\u001b[0mHTML\u001b[0m\u001b[0;34m(\u001b[0m\u001b[0mtabulate\u001b[0m\u001b[0;34m.\u001b[0m\u001b[0mtabulate\u001b[0m\u001b[0;34m(\u001b[0m\u001b[0mget_table\u001b[0m\u001b[0;34m(\u001b[0m\u001b[0mupdated_query\u001b[0m\u001b[0;34m,\u001b[0m \u001b[0mheaders\u001b[0m\u001b[0;34m,\u001b[0m \u001b[0mformatters\u001b[0m\u001b[0;34m)\u001b[0m\u001b[0;34m,\u001b[0m \u001b[0mtablefmt\u001b[0m\u001b[0;34m=\u001b[0m\u001b[0;34m'html'\u001b[0m\u001b[0;34m)\u001b[0m\u001b[0;34m)\u001b[0m\u001b[0;34m)\u001b[0m\u001b[0;34m\u001b[0m\u001b[0m\n\u001b[0m",
      "\u001b[0;32m<ipython-input-3-179b27b4dce3>\u001b[0m in \u001b[0;36mget_table\u001b[0;34m(query, headers, formatters)\u001b[0m\n\u001b[1;32m      2\u001b[0m     \u001b[0mresp\u001b[0m \u001b[0;34m=\u001b[0m \u001b[0mrequests\u001b[0m\u001b[0;34m.\u001b[0m\u001b[0mget\u001b[0m\u001b[0;34m(\u001b[0m\u001b[0;34m'https://next.obudget.org/api/query'\u001b[0m\u001b[0;34m,\u001b[0m \u001b[0mparams\u001b[0m\u001b[0;34m=\u001b[0m\u001b[0;34m{\u001b[0m\u001b[0;34m'query'\u001b[0m\u001b[0;34m:\u001b[0m \u001b[0mquery\u001b[0m\u001b[0;34m}\u001b[0m\u001b[0;34m)\u001b[0m\u001b[0;34m\u001b[0m\u001b[0m\n\u001b[1;32m      3\u001b[0m     \u001b[0;32mif\u001b[0m \u001b[0mresp\u001b[0m\u001b[0;34m.\u001b[0m\u001b[0mstatus_code\u001b[0m \u001b[0;34m!=\u001b[0m \u001b[0;36m200\u001b[0m\u001b[0;34m:\u001b[0m\u001b[0;34m\u001b[0m\u001b[0m\n\u001b[0;32m----> 4\u001b[0;31m         \u001b[0;32mraise\u001b[0m \u001b[0mValueError\u001b[0m\u001b[0;34m(\u001b[0m\u001b[0mresp\u001b[0m\u001b[0;34m.\u001b[0m\u001b[0mcontent\u001b[0m\u001b[0;34m)\u001b[0m\u001b[0;34m\u001b[0m\u001b[0m\n\u001b[0m\u001b[1;32m      5\u001b[0m     \u001b[0mtable\u001b[0m \u001b[0;34m=\u001b[0m \u001b[0mresp\u001b[0m\u001b[0;34m.\u001b[0m\u001b[0mjson\u001b[0m\u001b[0;34m(\u001b[0m\u001b[0;34m)\u001b[0m\u001b[0;34m\u001b[0m\u001b[0m\n\u001b[1;32m      6\u001b[0m     \u001b[0mrows\u001b[0m \u001b[0;34m=\u001b[0m \u001b[0mtable\u001b[0m\u001b[0;34m[\u001b[0m\u001b[0;34m'rows'\u001b[0m\u001b[0;34m]\u001b[0m\u001b[0;34m\u001b[0m\u001b[0m\n",
      "\u001b[0;31mValueError\u001b[0m: b'<!DOCTYPE HTML PUBLIC \"-//W3C//DTD HTML 3.2 Final//EN\">\\n<title>500 Internal Server Error</title>\\n<h1>Internal Server Error</h1>\\n<p>The server encountered an internal error and was unable to complete your request.  Either the server is overloaded or there is an error in the application.</p>\\n'"
     ]
    }
   ],
   "source": [
    "skip = {'budget'}\n",
    "params_re = re.compile('(:[a-z_]+)')\n",
    "for kind, q in parsed_questions():\n",
    "    pass\n",
    "print('---------------------')\n",
    "for kind, q in parsed_questions():\n",
    "    if kind in skip: continue\n",
    "    text = q['text']\n",
    "    query = q['query']\n",
    "    if isinstance(query, list):\n",
    "        query = ' '.join(query)\n",
    "    headers = q.get('headers', [])\n",
    "    headers, formatters = parse_headers(headers)\n",
    "    doc_ids = dict(DOC_IDS)[kind]\n",
    "    for doc_id in doc_ids:\n",
    "        doc = get_doc_id(doc_id)\n",
    "        for p in parameters(q):\n",
    "            params = {}\n",
    "            updated_text = q['text']\n",
    "            updated_query = query\n",
    "            params.update(doc)\n",
    "            for name, (disp, val) in p:\n",
    "                params[name] = val\n",
    "                updated_text = updated_text.replace('<'+name+'>', disp)\n",
    "            display(HTML('<h3>({}) {}: {}</h3>'.format(kind, doc['page_title'], updated_text)))\n",
    "            ofs = 0\n",
    "            while True:\n",
    "                m = params_re.search(updated_query[ofs:])\n",
    "                if m is None: break\n",
    "                key = m.groups(0)[0][1:]\n",
    "                if key in params:\n",
    "                    updated_query = updated_query[:(m.start()+ofs)] + str(params[key]) + updated_query[(m.end()+ofs):]\n",
    "                else:\n",
    "                    print('skipping parameter', key)\n",
    "                    ofs = ofs + m.start()+1\n",
    "            display(HTML('<pre>{}</pre>'.format(sqlparse.format(updated_query, reindent=True, keyword_case='upper'))))\n",
    "            display(HTML(tabulate.tabulate(get_table(updated_query, headers, formatters), tablefmt='html')))\n"
   ]
  },
  {
   "cell_type": "code",
   "execution_count": null,
   "metadata": {
    "collapsed": false,
    "deletable": true,
    "editable": true,
    "scrolled": true
   },
   "outputs": [],
   "source": []
  },
  {
   "cell_type": "code",
   "execution_count": null,
   "metadata": {
    "collapsed": true,
    "deletable": true,
    "editable": true
   },
   "outputs": [],
   "source": []
  },
  {
   "cell_type": "code",
   "execution_count": null,
   "metadata": {
    "collapsed": true,
    "deletable": true,
    "editable": true
   },
   "outputs": [],
   "source": []
  }
 ],
 "metadata": {
  "kernelspec": {
   "display_name": "Python 3",
   "language": "python",
   "name": "python3"
  },
  "language_info": {
   "codemirror_mode": {
    "name": "ipython",
    "version": 3
   },
   "file_extension": ".py",
   "mimetype": "text/x-python",
   "name": "python",
   "nbconvert_exporter": "python",
   "pygments_lexer": "ipython3",
   "version": "3.6.1"
  }
 },
 "nbformat": 4,
 "nbformat_minor": 2
}
