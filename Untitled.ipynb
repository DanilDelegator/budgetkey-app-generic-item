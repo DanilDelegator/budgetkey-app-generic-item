{
 "cells": [
  {
   "cell_type": "code",
   "execution_count": 2,
   "metadata": {
    "collapsed": false
   },
   "outputs": [],
   "source": [
    "import json\n",
    "import csv\n",
    "infile='/Users/adam/Downloads/obudget_course1_cycle2_student_state_from_block-v1_obudget+course1+cycle2+type@freetextresponse+block@83a87e3f5eec492fa99605bf867fd5c8_2018-01-25-1912.csv'\n",
    "r=csv.reader(open(infile))\n",
    "next(r)\n",
    "with open('results.csv', 'w') as f: csv.writer(f).writerows([n, json.loads(a)['student_answer']] for n, a in r)\n"
   ]
  },
  {
   "cell_type": "code",
   "execution_count": null,
   "metadata": {
    "collapsed": true
   },
   "outputs": [],
   "source": []
  }
 ],
 "metadata": {
  "kernelspec": {
   "display_name": "Python 3",
   "language": "python",
   "name": "python3"
  },
  "language_info": {
   "codemirror_mode": {
    "name": "ipython",
    "version": 3
   },
   "file_extension": ".py",
   "mimetype": "text/x-python",
   "name": "python",
   "nbconvert_exporter": "python",
   "pygments_lexer": "ipython3",
   "version": "3.6.1"
  }
 },
 "nbformat": 4,
 "nbformat_minor": 2
}
