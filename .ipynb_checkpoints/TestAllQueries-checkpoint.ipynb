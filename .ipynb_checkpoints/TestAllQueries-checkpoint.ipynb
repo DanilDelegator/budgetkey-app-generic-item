{
 "cells": [
  {
   "cell_type": "code",
   "execution_count": 88,
   "metadata": {
    "collapsed": false,
    "deletable": true,
    "editable": true
   },
   "outputs": [],
   "source": [
    "import json\n",
    "import os\n",
    "import itertools\n",
    "import requests\n",
    "import sqlparse\n",
    "import re\n",
    "from IPython.display import HTML, display\n",
    "import tabulate\n",
    "import urllib.parse"
   ]
  },
  {
   "cell_type": "code",
   "execution_count": 89,
   "metadata": {
    "collapsed": true,
    "deletable": true,
    "editable": true
   },
   "outputs": [],
   "source": [
    "def get_doc_id(doc_id):\n",
    "    doc_id = urllib.parse.quote(doc_id)\n",
    "    url = 'https://next.obudget.org/get/'+doc_id\n",
    "    print('Getting', url)\n",
    "    ret = requests.get(url).json()['value']\n",
    "    assert 'page_title' in ret, repr(ret)\n",
    "    return ret"
   ]
  },
  {
   "cell_type": "code",
   "execution_count": 90,
   "metadata": {
    "collapsed": true,
    "deletable": true,
    "editable": true
   },
   "outputs": [],
   "source": [
    "def get_table(query, headers, formatters):\n",
    "    table = requests.get('https://next.obudget.org/api/query', params={'query': query}).json()\n",
    "    rows = table['rows']\n",
    "    ret = []\n",
    "    if len(rows)>0:\n",
    "        ret.append(headers)\n",
    "        ret.extend([[f(x) for f in formatters] for x in rows][:3])\n",
    "    return ret + [['Total', table['total']]]"
   ]
  },
  {
   "cell_type": "code",
   "execution_count": 91,
   "metadata": {
    "collapsed": false,
    "deletable": true,
    "editable": true
   },
   "outputs": [],
   "source": [
    "def questions():\n",
    "    base = 'app/descriptors'\n",
    "    tgt = re.compile('questions.*\\.json')\n",
    "    for root, dirs, fnames in os.walk(base):\n",
    "        for f in fnames:\n",
    "            if tgt.match(f):\n",
    "                yield root.replace(base + '/', ''), os.path.join(root, f)"
   ]
  },
  {
   "cell_type": "code",
   "execution_count": 92,
   "metadata": {
    "collapsed": false,
    "deletable": true,
    "editable": true
   },
   "outputs": [],
   "source": [
    "def parsed_questions():\n",
    "    for q in questions():\n",
    "        print(q)\n",
    "        qq = json.load(open(q[1]))\n",
    "        for qqq in qq:\n",
    "            yield q[0], qqq"
   ]
  },
  {
   "cell_type": "code",
   "execution_count": 93,
   "metadata": {
    "collapsed": false,
    "deletable": true,
    "editable": true
   },
   "outputs": [],
   "source": [
    "def parameters(q):\n",
    "    p = q.get('parameters', {})\n",
    "    keys = p.keys()\n",
    "    values = [list(p[k].items()) for k in keys]\n",
    "    return (zip(keys, prod) for prod in itertools.product(*values))"
   ]
  },
  {
   "cell_type": "code",
   "execution_count": 94,
   "metadata": {
    "collapsed": true,
    "deletable": true,
    "editable": true
   },
   "outputs": [],
   "source": [
    "DOC_IDS = {\n",
    "    'budget':[\n",
    "        'budget/C1/2019',\n",
    "        'budget/C222/2019',        \n",
    "        'budget/0020/2019',\n",
    "        'budget/0000/2019',\n",
    "        'budget/002043/2019',\n",
    "        'budget/00204301/2019',\n",
    "        'budget/0020430101/2019',\n",
    "    ],\n",
    "    'supports': [\n",
    "        'supports/0020460604/2016/עירית רחובות/הקצבות'\n",
    "    ],\n",
    "    'org': [\n",
    "        'org/company/520039710'\n",
    "    ],\n",
    "    'contract-spending': [\n",
    "        'contract-spending/4501218324/0033060240',\n",
    "        'contract-spending/4501252882/0020400228',\n",
    "    ],\n",
    "    'budget-changes': [\n",
    "        'national-budget-changes/2015/26-004'\n",
    "    ],\n",
    "    'tenders/exemptions': [\n",
    "        'tenders/exemptions/31252/none'\n",
    "    ]\n",
    "}"
   ]
  },
  {
   "cell_type": "code",
   "execution_count": 95,
   "metadata": {
    "collapsed": true
   },
   "outputs": [],
   "source": [
    "def formatter(mod, h):\n",
    "    def _f(x, row):\n",
    "        return str(x) + ' + ' + mod\n",
    "    return _f"
   ]
  },
  {
   "cell_type": "code",
   "execution_count": 96,
   "metadata": {
    "collapsed": true
   },
   "outputs": [],
   "source": [
    "def compose(f, g):\n",
    "    def _f(x, row):\n",
    "        return g(f(x, row), row)\n",
    "    return _f"
   ]
  },
  {
   "cell_type": "code",
   "execution_count": 97,
   "metadata": {
    "collapsed": true
   },
   "outputs": [],
   "source": [
    "def getter(h):\n",
    "    hdr = h\n",
    "    def _f(x, row):\n",
    "        return row[hdr]\n",
    "    return _f"
   ]
  },
  {
   "cell_type": "code",
   "execution_count": 98,
   "metadata": {
    "collapsed": true
   },
   "outputs": [],
   "source": [
    "def wrapper(f):\n",
    "    def _f(row):\n",
    "        return f('', row)\n",
    "    return _f"
   ]
  },
  {
   "cell_type": "code",
   "execution_count": 99,
   "metadata": {
    "collapsed": false
   },
   "outputs": [],
   "source": [
    "PARAM = re.compile(':([a-z()_]+)$')\n",
    "\n",
    "def parse_headers(headers):\n",
    "    _headers = []\n",
    "    _formatters = []\n",
    "    for h in headers:\n",
    "        matches = PARAM.findall(h)\n",
    "        funcs = []\n",
    "        while len(matches)>0:\n",
    "            mod = matches[0]\n",
    "            h = h[:-(len(mod)+1)]\n",
    "            funcs.append(formatter(mod, h))\n",
    "            matches = PARAM.findall(h)\n",
    "        f = getter(h)\n",
    "        for g in funcs:\n",
    "            f = compose(f, g)\n",
    "        k = wrapper(f)\n",
    "        _formatters.append(k)\n",
    "        _headers.append(h)\n",
    "    return _headers, _formatters\n",
    "        \n",
    "    "
   ]
  },
  {
   "cell_type": "code",
   "execution_count": 100,
   "metadata": {
    "collapsed": false,
    "deletable": true,
    "editable": true,
    "scrolled": false
   },
   "outputs": [
    {
     "name": "stdout",
     "output_type": "stream",
     "text": [
      "('budget', 'app/descriptors/budget/questions.json')\n",
      "Getting https://next.obudget.org/get/budget/C1/2019\n"
     ]
    },
    {
     "data": {
      "text/html": [
       "<h3>(budget) None - בטחון וסדר ציבורי: היסטוריה תקציבית לסעיף זה</h3>"
      ],
      "text/plain": [
       "<IPython.core.display.HTML object>"
      ]
     },
     "metadata": {},
     "output_type": "display_data"
    },
    {
     "name": "stdout",
     "output_type": "stream",
     "text": [
      "skipping parameter json\n",
      "skipping parameter json\n",
      "skipping parameter json\n"
     ]
    },
    {
     "data": {
      "text/html": [
       "<pre>SELECT d.key AS \"שנה\", (d.value::json)->>'net_allocated' AS \"תקציב מקורי\", (d.value::json)->>'net_revised' AS \"תקציב אחרי שינויים\", (d.value::json)->>'net_executed' AS \"ביצוע בפועל\"\n",
       "FROM\n",
       "  (SELECT *\n",
       "   FROM budget\n",
       "   WHERE code='C1'\n",
       "     AND YEAR=2019) AS budget_\n",
       "JOIN jsonb_each_text(budget_.history) d ON TRUE</pre>"
      ],
      "text/plain": [
       "<IPython.core.display.HTML object>"
      ]
     },
     "metadata": {},
     "output_type": "display_data"
    },
    {
     "data": {
      "text/html": [
       "<table>\n",
       "<tbody>\n",
       "<tr><td>שנה  </td><td>תקציב מקורי                       </td><td>תקציב אחרי שינויים                       </td><td>ביצוע בפועל                       </td></tr>\n",
       "<tr><td>1997 </td><td>34950827000.0 + number תקציב מקורי</td><td>42229942000.0 + number תקציב אחרי שינויים</td><td>37875516939.0 + number ביצוע בפועל</td></tr>\n",
       "<tr><td>1998 </td><td>37689039000.0 + number תקציב מקורי</td><td>45537812000.0 + number תקציב אחרי שינויים</td><td>41255396783.0 + number ביצוע בפועל</td></tr>\n",
       "<tr><td>1999 </td><td>39973799000.0 + number תקציב מקורי</td><td>48339068000.0 + number תקציב אחרי שינויים</td><td>43656479170.0 + number ביצוע בפועל</td></tr>\n",
       "<tr><td>Total</td><td>22                                </td><td>                                         </td><td>                                  </td></tr>\n",
       "</tbody>\n",
       "</table>"
      ],
      "text/plain": [
       "<IPython.core.display.HTML object>"
      ]
     },
     "metadata": {},
     "output_type": "display_data"
    },
    {
     "name": "stdout",
     "output_type": "stream",
     "text": [
      "Getting https://next.obudget.org/get/budget/C222/2019\n"
     ]
    },
    {
     "data": {
      "text/html": [
       "<h3>(budget) 22 - שירותים חברתיים / חינוך: היסטוריה תקציבית לסעיף זה</h3>"
      ],
      "text/plain": [
       "<IPython.core.display.HTML object>"
      ]
     },
     "metadata": {},
     "output_type": "display_data"
    },
    {
     "name": "stdout",
     "output_type": "stream",
     "text": [
      "skipping parameter json\n",
      "skipping parameter json\n",
      "skipping parameter json\n"
     ]
    },
    {
     "data": {
      "text/html": [
       "<pre>SELECT d.key AS \"שנה\", (d.value::json)->>'net_allocated' AS \"תקציב מקורי\", (d.value::json)->>'net_revised' AS \"תקציב אחרי שינויים\", (d.value::json)->>'net_executed' AS \"ביצוע בפועל\"\n",
       "FROM\n",
       "  (SELECT *\n",
       "   FROM budget\n",
       "   WHERE code='C222'\n",
       "     AND YEAR=2019) AS budget_\n",
       "JOIN jsonb_each_text(budget_.history) d ON TRUE</pre>"
      ],
      "text/plain": [
       "<IPython.core.display.HTML object>"
      ]
     },
     "metadata": {},
     "output_type": "display_data"
    },
    {
     "data": {
      "text/html": [
       "<table>\n",
       "<tbody>\n",
       "<tr><td>שנה  </td><td>תקציב מקורי                       </td><td>תקציב אחרי שינויים                       </td><td>ביצוע בפועל                       </td></tr>\n",
       "<tr><td>1997 </td><td>18588030000.0 + number תקציב מקורי</td><td>18719226000.0 + number תקציב אחרי שינויים</td><td>17705614860.0 + number ביצוע בפועל</td></tr>\n",
       "<tr><td>1998 </td><td>20232520000.0 + number תקציב מקורי</td><td>20549089000.0 + number תקציב אחרי שינויים</td><td>18930503119.0 + number ביצוע בפועל</td></tr>\n",
       "<tr><td>1999 </td><td>20660849000.0 + number תקציב מקורי</td><td>21397237000.0 + number תקציב אחרי שינויים</td><td>20662263678.0 + number ביצוע בפועל</td></tr>\n",
       "<tr><td>Total</td><td>22                                </td><td>                                         </td><td>                                  </td></tr>\n",
       "</tbody>\n",
       "</table>"
      ],
      "text/plain": [
       "<IPython.core.display.HTML object>"
      ]
     },
     "metadata": {},
     "output_type": "display_data"
    },
    {
     "name": "stdout",
     "output_type": "stream",
     "text": [
      "Getting https://next.obudget.org/get/budget/0020/2019\n"
     ]
    },
    {
     "data": {
      "text/html": [
       "<h3>(budget) 20 - משרד החינוך: היסטוריה תקציבית לסעיף זה</h3>"
      ],
      "text/plain": [
       "<IPython.core.display.HTML object>"
      ]
     },
     "metadata": {},
     "output_type": "display_data"
    },
    {
     "name": "stdout",
     "output_type": "stream",
     "text": [
      "skipping parameter json\n",
      "skipping parameter json\n",
      "skipping parameter json\n"
     ]
    },
    {
     "data": {
      "text/html": [
       "<pre>SELECT d.key AS \"שנה\", (d.value::json)->>'net_allocated' AS \"תקציב מקורי\", (d.value::json)->>'net_revised' AS \"תקציב אחרי שינויים\", (d.value::json)->>'net_executed' AS \"ביצוע בפועל\"\n",
       "FROM\n",
       "  (SELECT *\n",
       "   FROM budget\n",
       "   WHERE code='0020'\n",
       "     AND YEAR=2019) AS budget_\n",
       "JOIN jsonb_each_text(budget_.history) d ON TRUE</pre>"
      ],
      "text/plain": [
       "<IPython.core.display.HTML object>"
      ]
     },
     "metadata": {},
     "output_type": "display_data"
    },
    {
     "data": {
      "text/html": [
       "<table>\n",
       "<tbody>\n",
       "<tr><td>שנה  </td><td>תקציב מקורי                       </td><td>תקציב אחרי שינויים                       </td><td>ביצוע בפועל                       </td></tr>\n",
       "<tr><td>1997 </td><td>17998587000.0 + number תקציב מקורי</td><td>18079238000.0 + number תקציב אחרי שינויים</td><td>17176380244.0 + number ביצוע בפועל</td></tr>\n",
       "<tr><td>1998 </td><td>19588376000.0 + number תקציב מקורי</td><td>19835506000.0 + number תקציב אחרי שינויים</td><td>18516602605.0 + number ביצוע בפועל</td></tr>\n",
       "<tr><td>1999 </td><td>20085909000.0 + number תקציב מקורי</td><td>20643414000.0 + number תקציב אחרי שינויים</td><td>20236285667.0 + number ביצוע בפועל</td></tr>\n",
       "<tr><td>Total</td><td>22                                </td><td>                                         </td><td>                                  </td></tr>\n",
       "</tbody>\n",
       "</table>"
      ],
      "text/plain": [
       "<IPython.core.display.HTML object>"
      ]
     },
     "metadata": {},
     "output_type": "display_data"
    },
    {
     "name": "stdout",
     "output_type": "stream",
     "text": [
      "Getting https://next.obudget.org/get/budget/0000/2019\n"
     ]
    },
    {
     "data": {
      "text/html": [
       "<h3>(budget) 00 - הכנסות המדינה: היסטוריה תקציבית לסעיף זה</h3>"
      ],
      "text/plain": [
       "<IPython.core.display.HTML object>"
      ]
     },
     "metadata": {},
     "output_type": "display_data"
    },
    {
     "name": "stdout",
     "output_type": "stream",
     "text": [
      "skipping parameter json\n",
      "skipping parameter json\n",
      "skipping parameter json\n"
     ]
    },
    {
     "data": {
      "text/html": [
       "<pre>SELECT d.key AS \"שנה\", (d.value::json)->>'net_allocated' AS \"תקציב מקורי\", (d.value::json)->>'net_revised' AS \"תקציב אחרי שינויים\", (d.value::json)->>'net_executed' AS \"ביצוע בפועל\"\n",
       "FROM\n",
       "  (SELECT *\n",
       "   FROM budget\n",
       "   WHERE code='0000'\n",
       "     AND YEAR=2019) AS budget_\n",
       "JOIN jsonb_each_text(budget_.history) d ON TRUE</pre>"
      ],
      "text/plain": [
       "<IPython.core.display.HTML object>"
      ]
     },
     "metadata": {},
     "output_type": "display_data"
    },
    {
     "data": {
      "text/html": [
       "<table>\n",
       "<tbody>\n",
       "<tr><td>שנה  </td><td>תקציב מקורי                        </td><td>תקציב אחרי שינויים                        </td><td>ביצוע בפועל                        </td></tr>\n",
       "<tr><td>1997 </td><td>189953447000.0 + number תקציב מקורי</td><td>189953447000.0 + number תקציב אחרי שינויים</td><td>180343411795.0 + number ביצוע בפועל</td></tr>\n",
       "<tr><td>1998 </td><td>207727617000.0 + number תקציב מקורי</td><td>207727617000.0 + number תקציב אחרי שינויים</td><td>203762197990.0 + number ביצוע בפועל</td></tr>\n",
       "<tr><td>1999 </td><td>214975294000.0 + number תקציב מקורי</td><td>214975294000.0 + number תקציב אחרי שינויים</td><td>205154162213.0 + number ביצוע בפועל</td></tr>\n",
       "<tr><td>Total</td><td>22                                 </td><td>                                          </td><td>                                   </td></tr>\n",
       "</tbody>\n",
       "</table>"
      ],
      "text/plain": [
       "<IPython.core.display.HTML object>"
      ]
     },
     "metadata": {},
     "output_type": "display_data"
    },
    {
     "name": "stdout",
     "output_type": "stream",
     "text": [
      "Getting https://next.obudget.org/get/budget/002043/2019\n"
     ]
    },
    {
     "data": {
      "text/html": [
       "<h3>(budget) 20.43 - יסודי וחטיבות-ביניים: היסטוריה תקציבית לסעיף זה</h3>"
      ],
      "text/plain": [
       "<IPython.core.display.HTML object>"
      ]
     },
     "metadata": {},
     "output_type": "display_data"
    },
    {
     "name": "stdout",
     "output_type": "stream",
     "text": [
      "skipping parameter json\n",
      "skipping parameter json\n",
      "skipping parameter json\n"
     ]
    },
    {
     "data": {
      "text/html": [
       "<pre>SELECT d.key AS \"שנה\", (d.value::json)->>'net_allocated' AS \"תקציב מקורי\", (d.value::json)->>'net_revised' AS \"תקציב אחרי שינויים\", (d.value::json)->>'net_executed' AS \"ביצוע בפועל\"\n",
       "FROM\n",
       "  (SELECT *\n",
       "   FROM budget\n",
       "   WHERE code='002043'\n",
       "     AND YEAR=2019) AS budget_\n",
       "JOIN jsonb_each_text(budget_.history) d ON TRUE</pre>"
      ],
      "text/plain": [
       "<IPython.core.display.HTML object>"
      ]
     },
     "metadata": {},
     "output_type": "display_data"
    },
    {
     "data": {
      "text/html": [
       "<table>\n",
       "<tbody>\n",
       "<tr><td>שנה  </td><td>תקציב מקורי                       </td><td>תקציב אחרי שינויים                       </td><td>ביצוע בפועל                       </td></tr>\n",
       "<tr><td>2015 </td><td>14566516000.0 + number תקציב מקורי</td><td>14723330000.0 + number תקציב אחרי שינויים</td><td>14536312050.0 + number ביצוע בפועל</td></tr>\n",
       "<tr><td>2016 </td><td>14298038000.0 + number תקציב מקורי</td><td>15302527000.0 + number תקציב אחרי שינויים</td><td>15176428523.0 + number ביצוע בפועל</td></tr>\n",
       "<tr><td>2017 </td><td>14670822000.0 + number תקציב מקורי</td><td>16371704000.0 + number תקציב אחרי שינויים</td><td>None + number ביצוע בפועל         </td></tr>\n",
       "<tr><td>Total</td><td>4                                 </td><td>                                         </td><td>                                  </td></tr>\n",
       "</tbody>\n",
       "</table>"
      ],
      "text/plain": [
       "<IPython.core.display.HTML object>"
      ]
     },
     "metadata": {},
     "output_type": "display_data"
    },
    {
     "name": "stdout",
     "output_type": "stream",
     "text": [
      "Getting https://next.obudget.org/get/budget/00204301/2019\n"
     ]
    },
    {
     "data": {
      "text/html": [
       "<h3>(budget) 20.43.01 - חינוך רשמי: היסטוריה תקציבית לסעיף זה</h3>"
      ],
      "text/plain": [
       "<IPython.core.display.HTML object>"
      ]
     },
     "metadata": {},
     "output_type": "display_data"
    },
    {
     "name": "stdout",
     "output_type": "stream",
     "text": [
      "skipping parameter json\n",
      "skipping parameter json\n",
      "skipping parameter json\n"
     ]
    },
    {
     "data": {
      "text/html": [
       "<pre>SELECT d.key AS \"שנה\", (d.value::json)->>'net_allocated' AS \"תקציב מקורי\", (d.value::json)->>'net_revised' AS \"תקציב אחרי שינויים\", (d.value::json)->>'net_executed' AS \"ביצוע בפועל\"\n",
       "FROM\n",
       "  (SELECT *\n",
       "   FROM budget\n",
       "   WHERE code='00204301'\n",
       "     AND YEAR=2019) AS budget_\n",
       "JOIN jsonb_each_text(budget_.history) d ON TRUE</pre>"
      ],
      "text/plain": [
       "<IPython.core.display.HTML object>"
      ]
     },
     "metadata": {},
     "output_type": "display_data"
    },
    {
     "data": {
      "text/html": [
       "<table>\n",
       "<tbody>\n",
       "<tr><td>שנה  </td><td>תקציב מקורי                   </td><td>תקציב אחרי שינויים                    </td><td>ביצוע בפועל                   </td></tr>\n",
       "<tr><td>1997 </td><td>2307000.0 + number תקציב מקורי</td><td>3872000.0 + number תקציב אחרי שינויים </td><td>5450209.0 + number ביצוע בפועל</td></tr>\n",
       "<tr><td>1998 </td><td>2464000.0 + number תקציב מקורי</td><td>2252000.0 + number תקציב אחרי שינויים </td><td>233388.0 + number ביצוע בפועל </td></tr>\n",
       "<tr><td>1999 </td><td>83000.0 + number תקציב מקורי  </td><td>-1398000.0 + number תקציב אחרי שינויים</td><td>962523.0 + number ביצוע בפועל </td></tr>\n",
       "<tr><td>Total</td><td>22                            </td><td>                                      </td><td>                              </td></tr>\n",
       "</tbody>\n",
       "</table>"
      ],
      "text/plain": [
       "<IPython.core.display.HTML object>"
      ]
     },
     "metadata": {},
     "output_type": "display_data"
    },
    {
     "name": "stdout",
     "output_type": "stream",
     "text": [
      "Getting https://next.obudget.org/get/budget/0020430101/2019\n"
     ]
    },
    {
     "data": {
      "text/html": [
       "<h3>(budget) 20.43.01.01 - שעות תקן ביסודי: היסטוריה תקציבית לסעיף זה</h3>"
      ],
      "text/plain": [
       "<IPython.core.display.HTML object>"
      ]
     },
     "metadata": {},
     "output_type": "display_data"
    },
    {
     "name": "stdout",
     "output_type": "stream",
     "text": [
      "skipping parameter json\n",
      "skipping parameter json\n",
      "skipping parameter json\n"
     ]
    },
    {
     "data": {
      "text/html": [
       "<pre>SELECT d.key AS \"שנה\", (d.value::json)->>'net_allocated' AS \"תקציב מקורי\", (d.value::json)->>'net_revised' AS \"תקציב אחרי שינויים\", (d.value::json)->>'net_executed' AS \"ביצוע בפועל\"\n",
       "FROM\n",
       "  (SELECT *\n",
       "   FROM budget\n",
       "   WHERE code='0020430101'\n",
       "     AND YEAR=2019) AS budget_\n",
       "JOIN jsonb_each_text(budget_.history) d ON TRUE</pre>"
      ],
      "text/plain": [
       "<IPython.core.display.HTML object>"
      ]
     },
     "metadata": {},
     "output_type": "display_data"
    },
    {
     "data": {
      "text/html": [
       "<table>\n",
       "<tbody>\n",
       "<tr><td>שנה  </td><td>תקציב מקורי                    </td><td>תקציב אחרי שינויים                    </td><td>ביצוע בפועל                    </td></tr>\n",
       "<tr><td>2001 </td><td>29100000.0 + number תקציב מקורי</td><td>30900000.0 + number תקציב אחרי שינויים</td><td>30900000.0 + number ביצוע בפועל</td></tr>\n",
       "<tr><td>2002 </td><td>30657000.0 + number תקציב מקורי</td><td>30657000.0 + number תקציב אחרי שינויים</td><td>26824875.0 + number ביצוע בפועל</td></tr>\n",
       "<tr><td>2003 </td><td>31298000.0 + number תקציב מקורי</td><td>31298000.0 + number תקציב אחרי שינויים</td><td>31288982.0 + number ביצוע בפועל</td></tr>\n",
       "<tr><td>Total</td><td>18                             </td><td>                                      </td><td>                               </td></tr>\n",
       "</tbody>\n",
       "</table>"
      ],
      "text/plain": [
       "<IPython.core.display.HTML object>"
      ]
     },
     "metadata": {},
     "output_type": "display_data"
    },
    {
     "name": "stdout",
     "output_type": "stream",
     "text": [
      "('budget', 'app/descriptors/budget/questions.spending.json')\n",
      "Getting https://next.obudget.org/get/budget/C1/2019\n"
     ]
    },
    {
     "data": {
      "text/html": [
       "<h3>(budget) None - בטחון וסדר ציבורי:  כלל התמיכות מתקציב זה ש שולמו ב כל השנים</h3>"
      ],
      "text/plain": [
       "<IPython.core.display.HTML object>"
      ]
     },
     "metadata": {},
     "output_type": "display_data"
    },
    {
     "data": {
      "text/html": [
       "<pre>SELECT year_paid AS \"שנה\",\n",
       "       supporting_ministry AS \"משרד\",\n",
       "       request_type AS \"סוג תמיכה\",\n",
       "       support_title AS \"נושא\",\n",
       "       'supports/' || budget_code || '/' || year_requested || '/' || recipient || '/' || request_type AS item_id,\n",
       "       entity_name AS \"מקבל התמיכה\",\n",
       "       'org/' || entity_kind || '/' || entity_id AS entity_item_id,\n",
       "       sum(amount_paid) AS \"סה״כ שולם\"\n",
       "FROM raw_supports\n",
       "WHERE year_paid >0\n",
       "  AND budget_code LIKE 'C1%%'\n",
       "GROUP BY 1,\n",
       "         2,\n",
       "         3,\n",
       "         4,\n",
       "         5\n",
       "ORDER BY year_paid DESC</pre>"
      ],
      "text/plain": [
       "<IPython.core.display.HTML object>"
      ]
     },
     "metadata": {},
     "output_type": "display_data"
    },
    {
     "ename": "JSONDecodeError",
     "evalue": "Expecting value: line 1 column 1 (char 0)",
     "output_type": "error",
     "traceback": [
      "\u001b[0;31m---------------------------------------------------------------------------\u001b[0m",
      "\u001b[0;31mJSONDecodeError\u001b[0m                           Traceback (most recent call last)",
      "\u001b[0;32m<ipython-input-100-e83d32dc15af>\u001b[0m in \u001b[0;36m<module>\u001b[0;34m()\u001b[0m\n\u001b[1;32m     30\u001b[0m                     \u001b[0mofs\u001b[0m \u001b[0;34m=\u001b[0m \u001b[0mofs\u001b[0m \u001b[0;34m+\u001b[0m \u001b[0mm\u001b[0m\u001b[0;34m.\u001b[0m\u001b[0mstart\u001b[0m\u001b[0;34m(\u001b[0m\u001b[0;34m)\u001b[0m\u001b[0;34m+\u001b[0m\u001b[0;36m1\u001b[0m\u001b[0;34m\u001b[0m\u001b[0m\n\u001b[1;32m     31\u001b[0m             \u001b[0mdisplay\u001b[0m\u001b[0;34m(\u001b[0m\u001b[0mHTML\u001b[0m\u001b[0;34m(\u001b[0m\u001b[0;34m'<pre>{}</pre>'\u001b[0m\u001b[0;34m.\u001b[0m\u001b[0mformat\u001b[0m\u001b[0;34m(\u001b[0m\u001b[0msqlparse\u001b[0m\u001b[0;34m.\u001b[0m\u001b[0mformat\u001b[0m\u001b[0;34m(\u001b[0m\u001b[0mupdated_query\u001b[0m\u001b[0;34m,\u001b[0m \u001b[0mreindent\u001b[0m\u001b[0;34m=\u001b[0m\u001b[0;32mTrue\u001b[0m\u001b[0;34m,\u001b[0m \u001b[0mkeyword_case\u001b[0m\u001b[0;34m=\u001b[0m\u001b[0;34m'upper'\u001b[0m\u001b[0;34m)\u001b[0m\u001b[0;34m)\u001b[0m\u001b[0;34m)\u001b[0m\u001b[0;34m)\u001b[0m\u001b[0;34m\u001b[0m\u001b[0m\n\u001b[0;32m---> 32\u001b[0;31m             \u001b[0mdisplay\u001b[0m\u001b[0;34m(\u001b[0m\u001b[0mHTML\u001b[0m\u001b[0;34m(\u001b[0m\u001b[0mtabulate\u001b[0m\u001b[0;34m.\u001b[0m\u001b[0mtabulate\u001b[0m\u001b[0;34m(\u001b[0m\u001b[0mget_table\u001b[0m\u001b[0;34m(\u001b[0m\u001b[0mupdated_query\u001b[0m\u001b[0;34m,\u001b[0m \u001b[0mheaders\u001b[0m\u001b[0;34m,\u001b[0m \u001b[0mformatters\u001b[0m\u001b[0;34m)\u001b[0m\u001b[0;34m,\u001b[0m \u001b[0mtablefmt\u001b[0m\u001b[0;34m=\u001b[0m\u001b[0;34m'html'\u001b[0m\u001b[0;34m)\u001b[0m\u001b[0;34m)\u001b[0m\u001b[0;34m)\u001b[0m\u001b[0;34m\u001b[0m\u001b[0m\n\u001b[0m",
      "\u001b[0;32m<ipython-input-90-b4dd1419c47c>\u001b[0m in \u001b[0;36mget_table\u001b[0;34m(query, headers, formatters)\u001b[0m\n\u001b[1;32m      1\u001b[0m \u001b[0;32mdef\u001b[0m \u001b[0mget_table\u001b[0m\u001b[0;34m(\u001b[0m\u001b[0mquery\u001b[0m\u001b[0;34m,\u001b[0m \u001b[0mheaders\u001b[0m\u001b[0;34m,\u001b[0m \u001b[0mformatters\u001b[0m\u001b[0;34m)\u001b[0m\u001b[0;34m:\u001b[0m\u001b[0;34m\u001b[0m\u001b[0m\n\u001b[0;32m----> 2\u001b[0;31m     \u001b[0mtable\u001b[0m \u001b[0;34m=\u001b[0m \u001b[0mrequests\u001b[0m\u001b[0;34m.\u001b[0m\u001b[0mget\u001b[0m\u001b[0;34m(\u001b[0m\u001b[0;34m'https://next.obudget.org/api/query'\u001b[0m\u001b[0;34m,\u001b[0m \u001b[0mparams\u001b[0m\u001b[0;34m=\u001b[0m\u001b[0;34m{\u001b[0m\u001b[0;34m'query'\u001b[0m\u001b[0;34m:\u001b[0m \u001b[0mquery\u001b[0m\u001b[0;34m}\u001b[0m\u001b[0;34m)\u001b[0m\u001b[0;34m.\u001b[0m\u001b[0mjson\u001b[0m\u001b[0;34m(\u001b[0m\u001b[0;34m)\u001b[0m\u001b[0;34m\u001b[0m\u001b[0m\n\u001b[0m\u001b[1;32m      3\u001b[0m     \u001b[0mrows\u001b[0m \u001b[0;34m=\u001b[0m \u001b[0mtable\u001b[0m\u001b[0;34m[\u001b[0m\u001b[0;34m'rows'\u001b[0m\u001b[0;34m]\u001b[0m\u001b[0;34m\u001b[0m\u001b[0m\n\u001b[1;32m      4\u001b[0m     \u001b[0mret\u001b[0m \u001b[0;34m=\u001b[0m \u001b[0;34m[\u001b[0m\u001b[0;34m]\u001b[0m\u001b[0;34m\u001b[0m\u001b[0m\n\u001b[1;32m      5\u001b[0m     \u001b[0;32mif\u001b[0m \u001b[0mlen\u001b[0m\u001b[0;34m(\u001b[0m\u001b[0mrows\u001b[0m\u001b[0;34m)\u001b[0m\u001b[0;34m>\u001b[0m\u001b[0;36m0\u001b[0m\u001b[0;34m:\u001b[0m\u001b[0;34m\u001b[0m\u001b[0m\n",
      "\u001b[0;32m/Users/adam/.pyenv/versions/3.6.1/lib/python3.6/site-packages/requests/models.py\u001b[0m in \u001b[0;36mjson\u001b[0;34m(self, **kwargs)\u001b[0m\n\u001b[1;32m    890\u001b[0m                     \u001b[0;31m# used.\u001b[0m\u001b[0;34m\u001b[0m\u001b[0;34m\u001b[0m\u001b[0m\n\u001b[1;32m    891\u001b[0m                     \u001b[0;32mpass\u001b[0m\u001b[0;34m\u001b[0m\u001b[0m\n\u001b[0;32m--> 892\u001b[0;31m         \u001b[0;32mreturn\u001b[0m \u001b[0mcomplexjson\u001b[0m\u001b[0;34m.\u001b[0m\u001b[0mloads\u001b[0m\u001b[0;34m(\u001b[0m\u001b[0mself\u001b[0m\u001b[0;34m.\u001b[0m\u001b[0mtext\u001b[0m\u001b[0;34m,\u001b[0m \u001b[0;34m**\u001b[0m\u001b[0mkwargs\u001b[0m\u001b[0;34m)\u001b[0m\u001b[0;34m\u001b[0m\u001b[0m\n\u001b[0m\u001b[1;32m    893\u001b[0m \u001b[0;34m\u001b[0m\u001b[0m\n\u001b[1;32m    894\u001b[0m     \u001b[0;34m@\u001b[0m\u001b[0mproperty\u001b[0m\u001b[0;34m\u001b[0m\u001b[0m\n",
      "\u001b[0;32m/Users/adam/.pyenv/versions/3.6.1/lib/python3.6/site-packages/simplejson/__init__.py\u001b[0m in \u001b[0;36mloads\u001b[0;34m(s, encoding, cls, object_hook, parse_float, parse_int, parse_constant, object_pairs_hook, use_decimal, **kw)\u001b[0m\n\u001b[1;32m    516\u001b[0m             \u001b[0mparse_constant\u001b[0m \u001b[0;32mis\u001b[0m \u001b[0;32mNone\u001b[0m \u001b[0;32mand\u001b[0m \u001b[0mobject_pairs_hook\u001b[0m \u001b[0;32mis\u001b[0m \u001b[0;32mNone\u001b[0m\u001b[0;34m\u001b[0m\u001b[0m\n\u001b[1;32m    517\u001b[0m             and not use_decimal and not kw):\n\u001b[0;32m--> 518\u001b[0;31m         \u001b[0;32mreturn\u001b[0m \u001b[0m_default_decoder\u001b[0m\u001b[0;34m.\u001b[0m\u001b[0mdecode\u001b[0m\u001b[0;34m(\u001b[0m\u001b[0ms\u001b[0m\u001b[0;34m)\u001b[0m\u001b[0;34m\u001b[0m\u001b[0m\n\u001b[0m\u001b[1;32m    519\u001b[0m     \u001b[0;32mif\u001b[0m \u001b[0mcls\u001b[0m \u001b[0;32mis\u001b[0m \u001b[0;32mNone\u001b[0m\u001b[0;34m:\u001b[0m\u001b[0;34m\u001b[0m\u001b[0m\n\u001b[1;32m    520\u001b[0m         \u001b[0mcls\u001b[0m \u001b[0;34m=\u001b[0m \u001b[0mJSONDecoder\u001b[0m\u001b[0;34m\u001b[0m\u001b[0m\n",
      "\u001b[0;32m/Users/adam/.pyenv/versions/3.6.1/lib/python3.6/site-packages/simplejson/decoder.py\u001b[0m in \u001b[0;36mdecode\u001b[0;34m(self, s, _w, _PY3)\u001b[0m\n\u001b[1;32m    368\u001b[0m         \u001b[0;32mif\u001b[0m \u001b[0m_PY3\u001b[0m \u001b[0;32mand\u001b[0m \u001b[0misinstance\u001b[0m\u001b[0;34m(\u001b[0m\u001b[0ms\u001b[0m\u001b[0;34m,\u001b[0m \u001b[0mbinary_type\u001b[0m\u001b[0;34m)\u001b[0m\u001b[0;34m:\u001b[0m\u001b[0;34m\u001b[0m\u001b[0m\n\u001b[1;32m    369\u001b[0m             \u001b[0ms\u001b[0m \u001b[0;34m=\u001b[0m \u001b[0ms\u001b[0m\u001b[0;34m.\u001b[0m\u001b[0mdecode\u001b[0m\u001b[0;34m(\u001b[0m\u001b[0mself\u001b[0m\u001b[0;34m.\u001b[0m\u001b[0mencoding\u001b[0m\u001b[0;34m)\u001b[0m\u001b[0;34m\u001b[0m\u001b[0m\n\u001b[0;32m--> 370\u001b[0;31m         \u001b[0mobj\u001b[0m\u001b[0;34m,\u001b[0m \u001b[0mend\u001b[0m \u001b[0;34m=\u001b[0m \u001b[0mself\u001b[0m\u001b[0;34m.\u001b[0m\u001b[0mraw_decode\u001b[0m\u001b[0;34m(\u001b[0m\u001b[0ms\u001b[0m\u001b[0;34m)\u001b[0m\u001b[0;34m\u001b[0m\u001b[0m\n\u001b[0m\u001b[1;32m    371\u001b[0m         \u001b[0mend\u001b[0m \u001b[0;34m=\u001b[0m \u001b[0m_w\u001b[0m\u001b[0;34m(\u001b[0m\u001b[0ms\u001b[0m\u001b[0;34m,\u001b[0m \u001b[0mend\u001b[0m\u001b[0;34m)\u001b[0m\u001b[0;34m.\u001b[0m\u001b[0mend\u001b[0m\u001b[0;34m(\u001b[0m\u001b[0;34m)\u001b[0m\u001b[0;34m\u001b[0m\u001b[0m\n\u001b[1;32m    372\u001b[0m         \u001b[0;32mif\u001b[0m \u001b[0mend\u001b[0m \u001b[0;34m!=\u001b[0m \u001b[0mlen\u001b[0m\u001b[0;34m(\u001b[0m\u001b[0ms\u001b[0m\u001b[0;34m)\u001b[0m\u001b[0;34m:\u001b[0m\u001b[0;34m\u001b[0m\u001b[0m\n",
      "\u001b[0;32m/Users/adam/.pyenv/versions/3.6.1/lib/python3.6/site-packages/simplejson/decoder.py\u001b[0m in \u001b[0;36mraw_decode\u001b[0;34m(self, s, idx, _w, _PY3)\u001b[0m\n\u001b[1;32m    398\u001b[0m             \u001b[0;32melif\u001b[0m \u001b[0mord0\u001b[0m \u001b[0;34m==\u001b[0m \u001b[0;36m0xef\u001b[0m \u001b[0;32mand\u001b[0m \u001b[0ms\u001b[0m\u001b[0;34m[\u001b[0m\u001b[0midx\u001b[0m\u001b[0;34m:\u001b[0m\u001b[0midx\u001b[0m \u001b[0;34m+\u001b[0m \u001b[0;36m3\u001b[0m\u001b[0;34m]\u001b[0m \u001b[0;34m==\u001b[0m \u001b[0;34m'\\xef\\xbb\\xbf'\u001b[0m\u001b[0;34m:\u001b[0m\u001b[0;34m\u001b[0m\u001b[0m\n\u001b[1;32m    399\u001b[0m                 \u001b[0midx\u001b[0m \u001b[0;34m+=\u001b[0m \u001b[0;36m3\u001b[0m\u001b[0;34m\u001b[0m\u001b[0m\n\u001b[0;32m--> 400\u001b[0;31m         \u001b[0;32mreturn\u001b[0m \u001b[0mself\u001b[0m\u001b[0;34m.\u001b[0m\u001b[0mscan_once\u001b[0m\u001b[0;34m(\u001b[0m\u001b[0ms\u001b[0m\u001b[0;34m,\u001b[0m \u001b[0midx\u001b[0m\u001b[0;34m=\u001b[0m\u001b[0m_w\u001b[0m\u001b[0;34m(\u001b[0m\u001b[0ms\u001b[0m\u001b[0;34m,\u001b[0m \u001b[0midx\u001b[0m\u001b[0;34m)\u001b[0m\u001b[0;34m.\u001b[0m\u001b[0mend\u001b[0m\u001b[0;34m(\u001b[0m\u001b[0;34m)\u001b[0m\u001b[0;34m)\u001b[0m\u001b[0;34m\u001b[0m\u001b[0m\n\u001b[0m",
      "\u001b[0;31mJSONDecodeError\u001b[0m: Expecting value: line 1 column 1 (char 0)"
     ]
    }
   ],
   "source": [
    "params_re = re.compile('(:[a-z_]+)')\n",
    "for kind, q in parsed_questions():\n",
    "    text = q['text']\n",
    "    query = q['query']\n",
    "    if isinstance(query, list):\n",
    "        query = ' '.join(query)\n",
    "    headers = q.get('headers', [])\n",
    "    headers, formatters = parse_headers(headers)\n",
    "    doc_ids = DOC_IDS[kind]\n",
    "    for doc_id in doc_ids:\n",
    "        doc = get_doc_id(doc_id)\n",
    "        for p in parameters(q):\n",
    "            params = {}\n",
    "            updated_text = q['text']\n",
    "            updated_query = query\n",
    "            params.update(doc)\n",
    "            for name, (disp, val) in p:\n",
    "                params[name] = val\n",
    "                updated_text = updated_text.replace('<'+name+'>', disp)\n",
    "            display(HTML('<h3>({}) {}: {}</h3>'.format(kind, doc['page_title'], updated_text)))\n",
    "            ofs = 0\n",
    "            while True:\n",
    "                m = params_re.search(updated_query[ofs:])\n",
    "                if m is None: break\n",
    "                key = m.groups(0)[0][1:]\n",
    "                if key in params:\n",
    "                    updated_query = updated_query[:(m.start()+ofs)] + str(params[key]) + updated_query[(m.end()+ofs):]\n",
    "                else:\n",
    "                    print('skipping parameter', key)\n",
    "                    ofs = ofs + m.start()+1\n",
    "            display(HTML('<pre>{}</pre>'.format(sqlparse.format(updated_query, reindent=True, keyword_case='upper'))))\n",
    "            display(HTML(tabulate.tabulate(get_table(updated_query, headers, formatters), tablefmt='html')))\n"
   ]
  },
  {
   "cell_type": "code",
   "execution_count": null,
   "metadata": {
    "collapsed": false,
    "deletable": true,
    "editable": true,
    "scrolled": true
   },
   "outputs": [],
   "source": []
  },
  {
   "cell_type": "code",
   "execution_count": null,
   "metadata": {
    "collapsed": true
   },
   "outputs": [],
   "source": []
  }
 ],
 "metadata": {
  "kernelspec": {
   "display_name": "Python 3",
   "language": "python",
   "name": "python3"
  },
  "language_info": {
   "codemirror_mode": {
    "name": "ipython",
    "version": 3
   },
   "file_extension": ".py",
   "mimetype": "text/x-python",
   "name": "python",
   "nbconvert_exporter": "python",
   "pygments_lexer": "ipython3",
   "version": "3.6.1"
  }
 },
 "nbformat": 4,
 "nbformat_minor": 2
}
