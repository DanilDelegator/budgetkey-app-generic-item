{
 "cells": [
  {
   "cell_type": "code",
   "execution_count": 1,
   "metadata": {
    "collapsed": false,
    "deletable": true,
    "editable": true
   },
   "outputs": [],
   "source": [
    "import json\n",
    "import os\n",
    "import itertools\n",
    "import requests\n",
    "import sqlparse\n",
    "import re\n",
    "from IPython.display import HTML, display\n",
    "import tabulate\n",
    "import urllib.parse"
   ]
  },
  {
   "cell_type": "code",
   "execution_count": 2,
   "metadata": {
    "collapsed": true,
    "deletable": true,
    "editable": true
   },
   "outputs": [],
   "source": [
    "def get_doc_id(doc_id):\n",
    "    doc_id = urllib.parse.quote(doc_id)\n",
    "    url = 'https://next.obudget.org/get/'+doc_id\n",
    "    print('Getting', url)\n",
    "    ret = requests.get(url).json()['value']\n",
    "    assert 'page_title' in ret, repr(ret)\n",
    "    return ret"
   ]
  },
  {
   "cell_type": "code",
   "execution_count": 3,
   "metadata": {
    "collapsed": false,
    "deletable": true,
    "editable": true
   },
   "outputs": [],
   "source": [
    "def get_table(query, headers, formatters):\n",
    "    resp = requests.get('https://next.obudget.org/api/query', params={'query': query})\n",
    "    if resp.status_code != 200:\n",
    "        raise ValueError(resp.content)\n",
    "    table = resp.json()\n",
    "    rows = table['rows']\n",
    "    ret = []\n",
    "    if len(rows)>0:\n",
    "        ret.append(headers)\n",
    "        ret.extend([[f(x) for f in formatters] for x in rows][:3])\n",
    "    return ret + [['Total', table['total']]]"
   ]
  },
  {
   "cell_type": "code",
   "execution_count": 4,
   "metadata": {
    "collapsed": false,
    "deletable": true,
    "editable": true
   },
   "outputs": [],
   "source": [
    "def questions():\n",
    "    base = 'app/descriptors'\n",
    "    tgt = re.compile('questions.*\\.json')\n",
    "    for root, dirs, fnames in os.walk(base):\n",
    "        for f in fnames:\n",
    "            if tgt.match(f):\n",
    "                yield root.replace(base + '/', ''), os.path.join(root, f)"
   ]
  },
  {
   "cell_type": "code",
   "execution_count": 5,
   "metadata": {
    "collapsed": false,
    "deletable": true,
    "editable": true
   },
   "outputs": [],
   "source": [
    "def parsed_questions():\n",
    "    for q in questions():\n",
    "        print(q)\n",
    "        qq = json.load(open(q[1]))\n",
    "        for qqq in qq:\n",
    "            yield q[0], qqq"
   ]
  },
  {
   "cell_type": "code",
   "execution_count": 6,
   "metadata": {
    "collapsed": false,
    "deletable": true,
    "editable": true
   },
   "outputs": [],
   "source": [
    "def parameters(q):\n",
    "    p = q.get('parameters', {})\n",
    "    keys = p.keys()\n",
    "    values = [list(p[k].items()) for k in keys]\n",
    "    return (zip(keys, prod) for prod in itertools.product(*values))"
   ]
  },
  {
   "cell_type": "code",
   "execution_count": 15,
   "metadata": {
    "collapsed": false,
    "deletable": true,
    "editable": true
   },
   "outputs": [],
   "source": [
    "DOC_IDS = [\n",
    "    ('budget', [\n",
    "        'budget/C1/2019',\n",
    "        'budget/C222/2019',        \n",
    "        'budget/0020/2019',\n",
    "        'budget/0000/2019',\n",
    "        'budget/002043/2019',\n",
    "        'budget/00204301/2019',\n",
    "        'budget/0020430101/2019',\n",
    "    ]),\n",
    "    ('supports', [\n",
    "        'supports/0020460604/2016/עירית רחובות/הקצבות'\n",
    "    ]),\n",
    "    ('org', [\n",
    "        'org/company/520039710'\n",
    "    ]),\n",
    "    ('contract-spending', [\n",
    "        'contract-spending/משרד האוצר/4501287236/0083050502',\n",
    "        'contract-spending/שירות בתי הסוהר/4501041809/0052400102',\n",
    "    ]),\n",
    "    ('budget-changes', [\n",
    "        'national-budget-changes/2015/26-004'\n",
    "    ]),\n",
    "    ('tenders/exemptions', [\n",
    "        'tenders/exemptions/31252/none'\n",
    "    ])\n",
    "]"
   ]
  },
  {
   "cell_type": "code",
   "execution_count": 16,
   "metadata": {
    "collapsed": true,
    "deletable": true,
    "editable": true
   },
   "outputs": [],
   "source": [
    "def formatter(mod, h):\n",
    "    def _f(x, row):\n",
    "        return str(x) + ' + ' + mod\n",
    "    return _f"
   ]
  },
  {
   "cell_type": "code",
   "execution_count": 17,
   "metadata": {
    "collapsed": true,
    "deletable": true,
    "editable": true
   },
   "outputs": [],
   "source": [
    "def compose(f, g):\n",
    "    def _f(x, row):\n",
    "        return g(f(x, row), row)\n",
    "    return _f"
   ]
  },
  {
   "cell_type": "code",
   "execution_count": 18,
   "metadata": {
    "collapsed": true,
    "deletable": true,
    "editable": true
   },
   "outputs": [],
   "source": [
    "def getter(h):\n",
    "    hdr = h\n",
    "    def _f(x, row):\n",
    "        return row[hdr]\n",
    "    return _f"
   ]
  },
  {
   "cell_type": "code",
   "execution_count": 19,
   "metadata": {
    "collapsed": true,
    "deletable": true,
    "editable": true
   },
   "outputs": [],
   "source": [
    "def wrapper(f):\n",
    "    def _f(row):\n",
    "        return f('', row)\n",
    "    return _f"
   ]
  },
  {
   "cell_type": "code",
   "execution_count": 20,
   "metadata": {
    "collapsed": false,
    "deletable": true,
    "editable": true
   },
   "outputs": [],
   "source": [
    "PARAM = re.compile(':([a-z()_]+)$')\n",
    "\n",
    "def parse_headers(headers):\n",
    "    _headers = []\n",
    "    _formatters = []\n",
    "    for h in headers:\n",
    "        matches = PARAM.findall(h)\n",
    "        funcs = []\n",
    "        while len(matches)>0:\n",
    "            mod = matches[0]\n",
    "            h = h[:-(len(mod)+1)]\n",
    "            funcs.append(formatter(mod, h))\n",
    "            matches = PARAM.findall(h)\n",
    "        f = getter(h)\n",
    "        for g in funcs:\n",
    "            f = compose(f, g)\n",
    "        k = wrapper(f)\n",
    "        _formatters.append(k)\n",
    "        _headers.append(h)\n",
    "    return _headers, _formatters\n",
    "        \n",
    "    "
   ]
  },
  {
   "cell_type": "code",
   "execution_count": 21,
   "metadata": {
    "collapsed": false,
    "deletable": true,
    "editable": true,
    "scrolled": false
   },
   "outputs": [
    {
     "name": "stdout",
     "output_type": "stream",
     "text": [
      "('budget', 'app/descriptors/budget/questions.json')\n",
      "('budget', 'app/descriptors/budget/questions.spending.json')\n",
      "('budget-changes', 'app/descriptors/budget-changes/questions.json')\n",
      "('contract-spending', 'app/descriptors/contract-spending/questions.json')\n",
      "('org', 'app/descriptors/org/questions.json')\n",
      "('people', 'app/descriptors/people/questions.json')\n",
      "('reports/ngo-activity-report', 'app/descriptors/reports/ngo-activity-report/questions.json')\n",
      "('reports/ngo-district-report', 'app/descriptors/reports/ngo-district-report/questions.json')\n",
      "('supports', 'app/descriptors/supports/questions.json')\n",
      "('tenders/central', 'app/descriptors/tenders/central/questions.json')\n",
      "('tenders/exemptions', 'app/descriptors/tenders/exemptions/questions.json')\n",
      "('tenders/office', 'app/descriptors/tenders/office/questions.json')\n",
      "('tenders.old/central', 'app/descriptors/tenders.old/central/questions.json')\n",
      "('tenders.old/exemptions', 'app/descriptors/tenders.old/exemptions/questions.json')\n",
      "('tenders.old/office', 'app/descriptors/tenders.old/office/questions.json')\n",
      "---------------------\n",
      "('budget', 'app/descriptors/budget/questions.json')\n",
      "('budget', 'app/descriptors/budget/questions.spending.json')\n",
      "('budget-changes', 'app/descriptors/budget-changes/questions.json')\n",
      "('contract-spending', 'app/descriptors/contract-spending/questions.json')\n",
      "Getting https://next.obudget.org/get/contract-spending/%D7%9E%D7%A9%D7%A8%D7%93%2520%D7%94%D7%90%D7%95%D7%A6%D7%A8/4501287236/0083050502\n"
     ]
    },
    {
     "ename": "JSONDecodeError",
     "evalue": "Expecting value: line 1 column 1 (char 0)",
     "output_type": "error",
     "traceback": [
      "\u001b[0;31m---------------------------------------------------------------------------\u001b[0m",
      "\u001b[0;31mJSONDecodeError\u001b[0m                           Traceback (most recent call last)",
      "\u001b[0;32m<ipython-input-21-ff2e8fc65302>\u001b[0m in \u001b[0;36m<module>\u001b[0;34m()\u001b[0m\n\u001b[1;32m     14\u001b[0m     \u001b[0mdoc_ids\u001b[0m \u001b[0;34m=\u001b[0m \u001b[0mdict\u001b[0m\u001b[0;34m(\u001b[0m\u001b[0mDOC_IDS\u001b[0m\u001b[0;34m)\u001b[0m\u001b[0;34m[\u001b[0m\u001b[0mkind\u001b[0m\u001b[0;34m]\u001b[0m\u001b[0;34m\u001b[0m\u001b[0m\n\u001b[1;32m     15\u001b[0m     \u001b[0;32mfor\u001b[0m \u001b[0mdoc_id\u001b[0m \u001b[0;32min\u001b[0m \u001b[0mdoc_ids\u001b[0m\u001b[0;34m:\u001b[0m\u001b[0;34m\u001b[0m\u001b[0m\n\u001b[0;32m---> 16\u001b[0;31m         \u001b[0mdoc\u001b[0m \u001b[0;34m=\u001b[0m \u001b[0mget_doc_id\u001b[0m\u001b[0;34m(\u001b[0m\u001b[0mdoc_id\u001b[0m\u001b[0;34m)\u001b[0m\u001b[0;34m\u001b[0m\u001b[0m\n\u001b[0m\u001b[1;32m     17\u001b[0m         \u001b[0;32mfor\u001b[0m \u001b[0mp\u001b[0m \u001b[0;32min\u001b[0m \u001b[0mparameters\u001b[0m\u001b[0;34m(\u001b[0m\u001b[0mq\u001b[0m\u001b[0;34m)\u001b[0m\u001b[0;34m:\u001b[0m\u001b[0;34m\u001b[0m\u001b[0m\n\u001b[1;32m     18\u001b[0m             \u001b[0mparams\u001b[0m \u001b[0;34m=\u001b[0m \u001b[0;34m{\u001b[0m\u001b[0;34m}\u001b[0m\u001b[0;34m\u001b[0m\u001b[0m\n",
      "\u001b[0;32m<ipython-input-2-b02a936ca4d7>\u001b[0m in \u001b[0;36mget_doc_id\u001b[0;34m(doc_id)\u001b[0m\n\u001b[1;32m      3\u001b[0m     \u001b[0murl\u001b[0m \u001b[0;34m=\u001b[0m \u001b[0;34m'https://next.obudget.org/get/'\u001b[0m\u001b[0;34m+\u001b[0m\u001b[0mdoc_id\u001b[0m\u001b[0;34m\u001b[0m\u001b[0m\n\u001b[1;32m      4\u001b[0m     \u001b[0mprint\u001b[0m\u001b[0;34m(\u001b[0m\u001b[0;34m'Getting'\u001b[0m\u001b[0;34m,\u001b[0m \u001b[0murl\u001b[0m\u001b[0;34m)\u001b[0m\u001b[0;34m\u001b[0m\u001b[0m\n\u001b[0;32m----> 5\u001b[0;31m     \u001b[0mret\u001b[0m \u001b[0;34m=\u001b[0m \u001b[0mrequests\u001b[0m\u001b[0;34m.\u001b[0m\u001b[0mget\u001b[0m\u001b[0;34m(\u001b[0m\u001b[0murl\u001b[0m\u001b[0;34m)\u001b[0m\u001b[0;34m.\u001b[0m\u001b[0mjson\u001b[0m\u001b[0;34m(\u001b[0m\u001b[0;34m)\u001b[0m\u001b[0;34m[\u001b[0m\u001b[0;34m'value'\u001b[0m\u001b[0;34m]\u001b[0m\u001b[0;34m\u001b[0m\u001b[0m\n\u001b[0m\u001b[1;32m      6\u001b[0m     \u001b[0;32massert\u001b[0m \u001b[0;34m'page_title'\u001b[0m \u001b[0;32min\u001b[0m \u001b[0mret\u001b[0m\u001b[0;34m,\u001b[0m \u001b[0mrepr\u001b[0m\u001b[0;34m(\u001b[0m\u001b[0mret\u001b[0m\u001b[0;34m)\u001b[0m\u001b[0;34m\u001b[0m\u001b[0m\n\u001b[1;32m      7\u001b[0m     \u001b[0;32mreturn\u001b[0m \u001b[0mret\u001b[0m\u001b[0;34m\u001b[0m\u001b[0m\n",
      "\u001b[0;32m/Users/adam/.pyenv/versions/3.6.1/lib/python3.6/site-packages/requests/models.py\u001b[0m in \u001b[0;36mjson\u001b[0;34m(self, **kwargs)\u001b[0m\n\u001b[1;32m    894\u001b[0m                     \u001b[0;31m# used.\u001b[0m\u001b[0;34m\u001b[0m\u001b[0;34m\u001b[0m\u001b[0m\n\u001b[1;32m    895\u001b[0m                     \u001b[0;32mpass\u001b[0m\u001b[0;34m\u001b[0m\u001b[0m\n\u001b[0;32m--> 896\u001b[0;31m         \u001b[0;32mreturn\u001b[0m \u001b[0mcomplexjson\u001b[0m\u001b[0;34m.\u001b[0m\u001b[0mloads\u001b[0m\u001b[0;34m(\u001b[0m\u001b[0mself\u001b[0m\u001b[0;34m.\u001b[0m\u001b[0mtext\u001b[0m\u001b[0;34m,\u001b[0m \u001b[0;34m**\u001b[0m\u001b[0mkwargs\u001b[0m\u001b[0;34m)\u001b[0m\u001b[0;34m\u001b[0m\u001b[0m\n\u001b[0m\u001b[1;32m    897\u001b[0m \u001b[0;34m\u001b[0m\u001b[0m\n\u001b[1;32m    898\u001b[0m     \u001b[0;34m@\u001b[0m\u001b[0mproperty\u001b[0m\u001b[0;34m\u001b[0m\u001b[0m\n",
      "\u001b[0;32m/Users/adam/.pyenv/versions/3.6.1/lib/python3.6/site-packages/simplejson/__init__.py\u001b[0m in \u001b[0;36mloads\u001b[0;34m(s, encoding, cls, object_hook, parse_float, parse_int, parse_constant, object_pairs_hook, use_decimal, **kw)\u001b[0m\n\u001b[1;32m    516\u001b[0m             \u001b[0mparse_constant\u001b[0m \u001b[0;32mis\u001b[0m \u001b[0;32mNone\u001b[0m \u001b[0;32mand\u001b[0m \u001b[0mobject_pairs_hook\u001b[0m \u001b[0;32mis\u001b[0m \u001b[0;32mNone\u001b[0m\u001b[0;34m\u001b[0m\u001b[0m\n\u001b[1;32m    517\u001b[0m             and not use_decimal and not kw):\n\u001b[0;32m--> 518\u001b[0;31m         \u001b[0;32mreturn\u001b[0m \u001b[0m_default_decoder\u001b[0m\u001b[0;34m.\u001b[0m\u001b[0mdecode\u001b[0m\u001b[0;34m(\u001b[0m\u001b[0ms\u001b[0m\u001b[0;34m)\u001b[0m\u001b[0;34m\u001b[0m\u001b[0m\n\u001b[0m\u001b[1;32m    519\u001b[0m     \u001b[0;32mif\u001b[0m \u001b[0mcls\u001b[0m \u001b[0;32mis\u001b[0m \u001b[0;32mNone\u001b[0m\u001b[0;34m:\u001b[0m\u001b[0;34m\u001b[0m\u001b[0m\n\u001b[1;32m    520\u001b[0m         \u001b[0mcls\u001b[0m \u001b[0;34m=\u001b[0m \u001b[0mJSONDecoder\u001b[0m\u001b[0;34m\u001b[0m\u001b[0m\n",
      "\u001b[0;32m/Users/adam/.pyenv/versions/3.6.1/lib/python3.6/site-packages/simplejson/decoder.py\u001b[0m in \u001b[0;36mdecode\u001b[0;34m(self, s, _w, _PY3)\u001b[0m\n\u001b[1;32m    368\u001b[0m         \u001b[0;32mif\u001b[0m \u001b[0m_PY3\u001b[0m \u001b[0;32mand\u001b[0m \u001b[0misinstance\u001b[0m\u001b[0;34m(\u001b[0m\u001b[0ms\u001b[0m\u001b[0;34m,\u001b[0m \u001b[0mbinary_type\u001b[0m\u001b[0;34m)\u001b[0m\u001b[0;34m:\u001b[0m\u001b[0;34m\u001b[0m\u001b[0m\n\u001b[1;32m    369\u001b[0m             \u001b[0ms\u001b[0m \u001b[0;34m=\u001b[0m \u001b[0ms\u001b[0m\u001b[0;34m.\u001b[0m\u001b[0mdecode\u001b[0m\u001b[0;34m(\u001b[0m\u001b[0mself\u001b[0m\u001b[0;34m.\u001b[0m\u001b[0mencoding\u001b[0m\u001b[0;34m)\u001b[0m\u001b[0;34m\u001b[0m\u001b[0m\n\u001b[0;32m--> 370\u001b[0;31m         \u001b[0mobj\u001b[0m\u001b[0;34m,\u001b[0m \u001b[0mend\u001b[0m \u001b[0;34m=\u001b[0m \u001b[0mself\u001b[0m\u001b[0;34m.\u001b[0m\u001b[0mraw_decode\u001b[0m\u001b[0;34m(\u001b[0m\u001b[0ms\u001b[0m\u001b[0;34m)\u001b[0m\u001b[0;34m\u001b[0m\u001b[0m\n\u001b[0m\u001b[1;32m    371\u001b[0m         \u001b[0mend\u001b[0m \u001b[0;34m=\u001b[0m \u001b[0m_w\u001b[0m\u001b[0;34m(\u001b[0m\u001b[0ms\u001b[0m\u001b[0;34m,\u001b[0m \u001b[0mend\u001b[0m\u001b[0;34m)\u001b[0m\u001b[0;34m.\u001b[0m\u001b[0mend\u001b[0m\u001b[0;34m(\u001b[0m\u001b[0;34m)\u001b[0m\u001b[0;34m\u001b[0m\u001b[0m\n\u001b[1;32m    372\u001b[0m         \u001b[0;32mif\u001b[0m \u001b[0mend\u001b[0m \u001b[0;34m!=\u001b[0m \u001b[0mlen\u001b[0m\u001b[0;34m(\u001b[0m\u001b[0ms\u001b[0m\u001b[0;34m)\u001b[0m\u001b[0;34m:\u001b[0m\u001b[0;34m\u001b[0m\u001b[0m\n",
      "\u001b[0;32m/Users/adam/.pyenv/versions/3.6.1/lib/python3.6/site-packages/simplejson/decoder.py\u001b[0m in \u001b[0;36mraw_decode\u001b[0;34m(self, s, idx, _w, _PY3)\u001b[0m\n\u001b[1;32m    398\u001b[0m             \u001b[0;32melif\u001b[0m \u001b[0mord0\u001b[0m \u001b[0;34m==\u001b[0m \u001b[0;36m0xef\u001b[0m \u001b[0;32mand\u001b[0m \u001b[0ms\u001b[0m\u001b[0;34m[\u001b[0m\u001b[0midx\u001b[0m\u001b[0;34m:\u001b[0m\u001b[0midx\u001b[0m \u001b[0;34m+\u001b[0m \u001b[0;36m3\u001b[0m\u001b[0;34m]\u001b[0m \u001b[0;34m==\u001b[0m \u001b[0;34m'\\xef\\xbb\\xbf'\u001b[0m\u001b[0;34m:\u001b[0m\u001b[0;34m\u001b[0m\u001b[0m\n\u001b[1;32m    399\u001b[0m                 \u001b[0midx\u001b[0m \u001b[0;34m+=\u001b[0m \u001b[0;36m3\u001b[0m\u001b[0;34m\u001b[0m\u001b[0m\n\u001b[0;32m--> 400\u001b[0;31m         \u001b[0;32mreturn\u001b[0m \u001b[0mself\u001b[0m\u001b[0;34m.\u001b[0m\u001b[0mscan_once\u001b[0m\u001b[0;34m(\u001b[0m\u001b[0ms\u001b[0m\u001b[0;34m,\u001b[0m \u001b[0midx\u001b[0m\u001b[0;34m=\u001b[0m\u001b[0m_w\u001b[0m\u001b[0;34m(\u001b[0m\u001b[0ms\u001b[0m\u001b[0;34m,\u001b[0m \u001b[0midx\u001b[0m\u001b[0;34m)\u001b[0m\u001b[0;34m.\u001b[0m\u001b[0mend\u001b[0m\u001b[0;34m(\u001b[0m\u001b[0;34m)\u001b[0m\u001b[0;34m)\u001b[0m\u001b[0;34m\u001b[0m\u001b[0m\n\u001b[0m",
      "\u001b[0;31mJSONDecodeError\u001b[0m: Expecting value: line 1 column 1 (char 0)"
     ]
    }
   ],
   "source": [
    "skip = {'budget'}\n",
    "params_re = re.compile('(:[a-z_]+)')\n",
    "for kind, q in parsed_questions():\n",
    "    pass\n",
    "print('---------------------')\n",
    "for kind, q in parsed_questions():\n",
    "    if kind in skip: continue\n",
    "    text = q['text']\n",
    "    query = q['query']\n",
    "    if isinstance(query, list):\n",
    "        query = ' '.join(query)\n",
    "    headers = q.get('headers', [])\n",
    "    headers, formatters = parse_headers(headers)\n",
    "    doc_ids = dict(DOC_IDS)[kind]\n",
    "    for doc_id in doc_ids:\n",
    "        doc = get_doc_id(doc_id)\n",
    "        for p in parameters(q):\n",
    "            params = {}\n",
    "            updated_text = q['text']\n",
    "            updated_query = query\n",
    "            params.update(doc)\n",
    "            for name, (disp, val) in p:\n",
    "                params[name] = val\n",
    "                updated_text = updated_text.replace('<'+name+'>', disp)\n",
    "            display(HTML('<h3>({}) {}: {}</h3>'.format(kind, doc['page_title'], updated_text)))\n",
    "            ofs = 0\n",
    "            while True:\n",
    "                m = params_re.search(updated_query[ofs:])\n",
    "                if m is None: break\n",
    "                key = m.groups(0)[0][1:]\n",
    "                if key in params:\n",
    "                    updated_query = updated_query[:(m.start()+ofs)] + str(params[key]) + updated_query[(m.end()+ofs):]\n",
    "                else:\n",
    "                    print('skipping parameter', key)\n",
    "                    ofs = ofs + m.start()+1\n",
    "            display(HTML('<pre>{}</pre>'.format(sqlparse.format(updated_query, reindent=True, keyword_case='upper'))))\n",
    "            display(HTML(tabulate.tabulate(get_table(updated_query, headers, formatters), tablefmt='html')))\n"
   ]
  },
  {
   "cell_type": "code",
   "execution_count": null,
   "metadata": {
    "collapsed": false,
    "deletable": true,
    "editable": true,
    "scrolled": true
   },
   "outputs": [],
   "source": []
  },
  {
   "cell_type": "code",
   "execution_count": null,
   "metadata": {
    "collapsed": true,
    "deletable": true,
    "editable": true
   },
   "outputs": [],
   "source": []
  },
  {
   "cell_type": "code",
   "execution_count": null,
   "metadata": {
    "collapsed": true,
    "deletable": true,
    "editable": true
   },
   "outputs": [],
   "source": []
  }
 ],
 "metadata": {
  "kernelspec": {
   "display_name": "Python 3",
   "language": "python",
   "name": "python3"
  },
  "language_info": {
   "codemirror_mode": {
    "name": "ipython",
    "version": 3
   },
   "file_extension": ".py",
   "mimetype": "text/x-python",
   "name": "python",
   "nbconvert_exporter": "python",
   "pygments_lexer": "ipython3",
   "version": "3.6.1"
  }
 },
 "nbformat": 4,
 "nbformat_minor": 2
}
